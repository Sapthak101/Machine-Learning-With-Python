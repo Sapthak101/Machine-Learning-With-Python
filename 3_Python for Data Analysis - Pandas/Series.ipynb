{
 "cells": [
  {
   "cell_type": "code",
   "execution_count": 2,
   "metadata": {},
   "outputs": [
    {
     "name": "stdout",
     "output_type": "stream",
     "text": [
      "0    10\n",
      "1    20\n",
      "2    30\n",
      "dtype: int64\n",
      "a     10\n",
      "10    20\n",
      "c     30\n",
      "dtype: int64\n",
      "a     10\n",
      "10    20\n",
      "c     30\n",
      "dtype: int64\n",
      "0      <built-in function sum>\n",
      "1    <built-in function print>\n",
      "2      <built-in function len>\n",
      "dtype: object\n"
     ]
    }
   ],
   "source": [
    "import numpy as np\n",
    "import pandas as pd\n",
    " \n",
    "labels=['a', 10, 'c'] #['a', 'b', 'c']\n",
    "my_data=[10, 20, 30]\n",
    "arr=np.array(my_data) #for the the element datatype should be homogeneous \n",
    "d={'a':10, 'b': 20, 'c':30}\n",
    "\n",
    "print(pd.Series(data=my_data))\n",
    "print(pd.Series(data=my_data, index=labels))\n",
    "print(pd.Series(my_data, labels))\n",
    "#difference bewteen series and dictionaries is that a dictionary can store heterogeneous data and index\n",
    "#but Series can store homogeneous data and heterogenoous labels \n",
    "pd.Series(arr) #passing a numpy array\n",
    "pd.Series(arr, labels) #passing a numpy array with the labels\n",
    "pd.Series(d) #passing a dictionary with the correct datatype ordering\n",
    "pd.Series(data=labels)\n",
    "print(pd.Series(data=[sum, print, len])) #cannot be done with the numpy array\n",
    "#the difference between a numPy array and a Pandas series is that the Pandas series elements can be accesed by labels"
   ]
  },
  {
   "cell_type": "code",
   "execution_count": 6,
   "metadata": {},
   "outputs": [
    {
     "name": "stdout",
     "output_type": "stream",
     "text": [
      "USA        1\n",
      "Germany    2\n",
      "USSR       3\n",
      "Japan      4\n",
      "dtype: int64\n"
     ]
    }
   ],
   "source": [
    "print(pd.Series([1,2,3,4], ['USA', 'Germany', 'USSR', 'Japan']))\n",
    "ser1=pd.Series([1,2,3,4], ['USA', 'Germany', 'USSR', 'Japan'])"
   ]
  },
  {
   "cell_type": "code",
   "execution_count": 7,
   "metadata": {},
   "outputs": [
    {
     "name": "stdout",
     "output_type": "stream",
     "text": [
      "USA        1\n",
      "Germany    2\n",
      "Italy      3\n",
      "Japan      4\n",
      "dtype: int64\n"
     ]
    }
   ],
   "source": [
    "ser2=pd.Series([1,2,3,4], ['USA', 'Germany', 'Italy', 'Japan'])\n",
    "print(ser2)"
   ]
  },
  {
   "cell_type": "code",
   "execution_count": 8,
   "metadata": {},
   "outputs": [
    {
     "name": "stdout",
     "output_type": "stream",
     "text": [
      "1\n"
     ]
    }
   ],
   "source": [
    "#accesing the Pandas Series\n",
    "print(ser2['USA'])"
   ]
  },
  {
   "cell_type": "code",
   "execution_count": 9,
   "metadata": {},
   "outputs": [
    {
     "name": "stdout",
     "output_type": "stream",
     "text": [
      "a\n"
     ]
    }
   ],
   "source": [
    "ser3=pd.Series(data=labels)\n",
    "print(ser3[0])"
   ]
  },
  {
   "cell_type": "code",
   "execution_count": 10,
   "metadata": {},
   "outputs": [
    {
     "name": "stdout",
     "output_type": "stream",
     "text": [
      "Germany    4.0\n",
      "Italy      NaN\n",
      "Japan      8.0\n",
      "USA        2.0\n",
      "USSR       NaN\n",
      "dtype: float64\n"
     ]
    }
   ],
   "source": [
    "ser4=ser1+ser2\n",
    "print(ser4) #if indexing matching is found value added otherwise written as a null, and values addtion of integers converted to a float, by default float conversion\n",
    "#in numpy or pandas based object while performing an operation it is automatically converted to floats"
   ]
  },
  {
   "cell_type": "code",
   "execution_count": null,
   "metadata": {},
   "outputs": [],
   "source": []
  }
 ],
 "metadata": {
  "kernelspec": {
   "display_name": "Python 3",
   "language": "python",
   "name": "python3"
  },
  "language_info": {
   "codemirror_mode": {
    "name": "ipython",
    "version": 3
   },
   "file_extension": ".py",
   "mimetype": "text/x-python",
   "name": "python",
   "nbconvert_exporter": "python",
   "pygments_lexer": "ipython3",
   "version": "3.10.7"
  },
  "orig_nbformat": 4,
  "vscode": {
   "interpreter": {
    "hash": "d3e10ef16274dd72e574b8fa73b58450b957d8421a2901baded3cca26fcf5dda"
   }
  }
 },
 "nbformat": 4,
 "nbformat_minor": 2
}
