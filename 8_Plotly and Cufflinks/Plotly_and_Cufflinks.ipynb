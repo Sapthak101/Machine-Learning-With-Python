{
 "cells": [
  {
   "cell_type": "code",
   "execution_count": 1,
   "metadata": {},
   "outputs": [
    {
     "name": "stdout",
     "output_type": "stream",
     "text": [
      "5.14.1\n"
     ]
    },
    {
     "data": {
      "text/html": [
       "        <script type=\"text/javascript\">\n",
       "        window.PlotlyConfig = {MathJaxConfig: 'local'};\n",
       "        if (window.MathJax && window.MathJax.Hub && window.MathJax.Hub.Config) {window.MathJax.Hub.Config({SVG: {font: \"STIX-Web\"}});}\n",
       "        if (typeof require !== 'undefined') {\n",
       "        require.undef(\"plotly\");\n",
       "        requirejs.config({\n",
       "            paths: {\n",
       "                'plotly': ['https://cdn.plot.ly/plotly-2.20.0.min']\n",
       "            }\n",
       "        });\n",
       "        require(['plotly'], function(Plotly) {\n",
       "            window._Plotly = Plotly;\n",
       "        });\n",
       "        }\n",
       "        </script>\n",
       "        "
      ]
     },
     "metadata": {},
     "output_type": "display_data"
    },
    {
     "data": {
      "text/html": [
       "        <script type=\"text/javascript\">\n",
       "        window.PlotlyConfig = {MathJaxConfig: 'local'};\n",
       "        if (window.MathJax && window.MathJax.Hub && window.MathJax.Hub.Config) {window.MathJax.Hub.Config({SVG: {font: \"STIX-Web\"}});}\n",
       "        if (typeof require !== 'undefined') {\n",
       "        require.undef(\"plotly\");\n",
       "        requirejs.config({\n",
       "            paths: {\n",
       "                'plotly': ['https://cdn.plot.ly/plotly-2.20.0.min']\n",
       "            }\n",
       "        });\n",
       "        require(['plotly'], function(Plotly) {\n",
       "            window._Plotly = Plotly;\n",
       "        });\n",
       "        }\n",
       "        </script>\n",
       "        "
      ]
     },
     "metadata": {},
     "output_type": "display_data"
    }
   ],
   "source": [
    "import plotly\n",
    "\n",
    "import pandas as pd\n",
    "\n",
    "import numpy as np\n",
    "\n",
    "from plotly import __version__\n",
    "\n",
    "print(__version__)\n",
    "\n",
    "import cufflinks as cf\n",
    "import chart_studio.plotly as py\n",
    "%matplotlib inline\n",
    "\n",
    "from plotly.offline import download_plotlyjs, init_notebook_mode, plot, iplot\n",
    "#connectes the javascript to the notoebook, plotly connects the pandas and the pythin to the interactive javascript library\n",
    "init_notebook_mode(connected=True)\n",
    "\n",
    "cf.go_offline()\n",
    "\n"
   ]
  },
  {
   "cell_type": "code",
   "execution_count": 2,
   "metadata": {},
   "outputs": [
    {
     "data": {
      "text/html": [
       "<div>\n",
       "<style scoped>\n",
       "    .dataframe tbody tr th:only-of-type {\n",
       "        vertical-align: middle;\n",
       "    }\n",
       "\n",
       "    .dataframe tbody tr th {\n",
       "        vertical-align: top;\n",
       "    }\n",
       "\n",
       "    .dataframe thead th {\n",
       "        text-align: right;\n",
       "    }\n",
       "</style>\n",
       "<table border=\"1\" class=\"dataframe\">\n",
       "  <thead>\n",
       "    <tr style=\"text-align: right;\">\n",
       "      <th></th>\n",
       "      <th>A</th>\n",
       "      <th>B</th>\n",
       "      <th>C</th>\n",
       "      <th>D</th>\n",
       "    </tr>\n",
       "  </thead>\n",
       "  <tbody>\n",
       "    <tr>\n",
       "      <th>0</th>\n",
       "      <td>-0.213790</td>\n",
       "      <td>0.150345</td>\n",
       "      <td>-0.106918</td>\n",
       "      <td>1.355355</td>\n",
       "    </tr>\n",
       "    <tr>\n",
       "      <th>1</th>\n",
       "      <td>-0.288123</td>\n",
       "      <td>-0.598719</td>\n",
       "      <td>3.213836</td>\n",
       "      <td>-1.124063</td>\n",
       "    </tr>\n",
       "    <tr>\n",
       "      <th>2</th>\n",
       "      <td>1.687032</td>\n",
       "      <td>-0.645463</td>\n",
       "      <td>1.297808</td>\n",
       "      <td>-0.539633</td>\n",
       "    </tr>\n",
       "    <tr>\n",
       "      <th>3</th>\n",
       "      <td>-1.059681</td>\n",
       "      <td>-0.615483</td>\n",
       "      <td>-0.213201</td>\n",
       "      <td>-0.892273</td>\n",
       "    </tr>\n",
       "    <tr>\n",
       "      <th>4</th>\n",
       "      <td>0.705668</td>\n",
       "      <td>-0.769947</td>\n",
       "      <td>-0.904014</td>\n",
       "      <td>1.974083</td>\n",
       "    </tr>\n",
       "  </tbody>\n",
       "</table>\n",
       "</div>"
      ],
      "text/plain": [
       "          A         B         C         D\n",
       "0 -0.213790  0.150345 -0.106918  1.355355\n",
       "1 -0.288123 -0.598719  3.213836 -1.124063\n",
       "2  1.687032 -0.645463  1.297808 -0.539633\n",
       "3 -1.059681 -0.615483 -0.213201 -0.892273\n",
       "4  0.705668 -0.769947 -0.904014  1.974083"
      ]
     },
     "execution_count": 2,
     "metadata": {},
     "output_type": "execute_result"
    }
   ],
   "source": [
    "df = pd.DataFrame(np.random.randn(100,4), columns='A B C D'.split())\n",
    "df.head()"
   ]
  },
  {
   "cell_type": "code",
   "execution_count": 3,
   "metadata": {},
   "outputs": [
    {
     "data": {
      "text/html": [
       "<div>\n",
       "<style scoped>\n",
       "    .dataframe tbody tr th:only-of-type {\n",
       "        vertical-align: middle;\n",
       "    }\n",
       "\n",
       "    .dataframe tbody tr th {\n",
       "        vertical-align: top;\n",
       "    }\n",
       "\n",
       "    .dataframe thead th {\n",
       "        text-align: right;\n",
       "    }\n",
       "</style>\n",
       "<table border=\"1\" class=\"dataframe\">\n",
       "  <thead>\n",
       "    <tr style=\"text-align: right;\">\n",
       "      <th></th>\n",
       "      <th>Category</th>\n",
       "      <th>Values</th>\n",
       "    </tr>\n",
       "  </thead>\n",
       "  <tbody>\n",
       "    <tr>\n",
       "      <th>0</th>\n",
       "      <td>A</td>\n",
       "      <td>32</td>\n",
       "    </tr>\n",
       "    <tr>\n",
       "      <th>1</th>\n",
       "      <td>B</td>\n",
       "      <td>43</td>\n",
       "    </tr>\n",
       "    <tr>\n",
       "      <th>2</th>\n",
       "      <td>C</td>\n",
       "      <td>53</td>\n",
       "    </tr>\n",
       "  </tbody>\n",
       "</table>\n",
       "</div>"
      ],
      "text/plain": [
       "  Category  Values\n",
       "0        A      32\n",
       "1        B      43\n",
       "2        C      53"
      ]
     },
     "execution_count": 3,
     "metadata": {},
     "output_type": "execute_result"
    }
   ],
   "source": [
    "df2 = pd.DataFrame({'Category': ['A', 'B', 'C'], 'Values': [32,43,53]})\n",
    "\n",
    "df2\n"
   ]
  },
  {
   "cell_type": "code",
   "execution_count": 4,
   "metadata": {},
   "outputs": [
    {
     "data": {
      "text/plain": [
       "<Axes: >"
      ]
     },
     "execution_count": 4,
     "metadata": {},
     "output_type": "execute_result"
    },
    {
     "data": {
      "image/png": "[encoded data removed]",
      "text/plain": [
       "<Figure size 640x480 with 1 Axes>"
      ]
     },
     "metadata": {},
     "output_type": "display_data"
    }
   ],
   "source": [
    "df.plot()"
   ]
  },
  {
   "cell_type": "code",
   "execution_count": 5,
   "metadata": {},
   "outputs": [
    {
     "data": {
      "application/vnd.plotly.v1+json": {
       "config": {
        "linkText": "Export to plot.ly",
        "plotlyServerURL": "https://plot.ly",
        "showLink": true
       },
       "data": [
        {
         "line": {
          "color": "rgba(255, 153, 51, 1.0)",
          "dash": "solid",
          "shape": "linear",
          "width": 1.3
         },
         "mode": "lines",
         "name": "A",
         "text": "",
         "type": "scatter",
         "x": [
          0,
          1,
          2,
          3,
          4,
          5,
          6,
          7,
          8,
          9,
          10,
          11,
          12,
          13,
          14,
          15,
          16,
          17,
          18,
          19,
          20,
          21,
          22,
          23,
          24,
          25,
          26,
          27,
          28,
          29,
          30,
          31,
          32,
          33,
          34,
          35,
          36,
          37,
          38,
          39,
          40,
          41,
          42,
          43,
          44,
          45,
          46,
          47,
          48,
          49,
          50,
          51,
          52,
          53,
          54,
          55,
          56,
          57,
          58,
          59,
          60,
          61,
          62,
          63,
          64,
          65,
          66,
          67,
          68,
          69,
          70,
          71,
          72,
          73,
          74,
          75,
          76,
          77,
          78,
          79,
          80,
          81,
          82,
          83,
          84,
          85,
          86,
          87,
          88,
          89,
          90,
          91,
          92,
          93,
          94,
          95,
          96,
          97,
          98,
          99
         ],
         "y": [
          -0.21379038518686702,
          -0.2881234631694882,
          1.687031818981887,
          -1.0596805811366479,
          0.7056676453490747,
          -0.4928626434402184,
          0.33850678897844294,
          -1.1365532012393156,
          2.22191453283817,
          -1.3620857175620513,
          0.36896946879329245,
          0.4221536206989755,
          0.7281899107947287,
          -1.2377215311367844,
          -0.183857315020409,
          1.3878751024535392,
          -2.080665743096919,
          -1.644286250149681,
          0.6294408878087343,
          0.05543719194135943,
          0.38834850232706086,
          1.2385439904392541,
          0.7616814777089003,
          0.8100604469178284,
          -1.7357899124307927,
          0.5857940744331279,
          1.0852758495254575,
          -0.11451233355760886,
          -0.24564066981188823,
          0.5006503012279303,
          0.5497048414245632,
          2.7014575844254614,
          -0.28998640157069633,
          -0.13092688042405312,
          -1.0299743551366851,
          1.54532700344482,
          0.34570948137873997,
          0.03885334864587458,
          1.1495393347403176,
          1.2978444015505215,
          -0.15445587968137264,
          -0.9263861080879959,
          0.5069877878414278,
          -0.769378432702959,
          0.7899966811807752,
          -0.08734253876202357,
          -1.1407746455308567,
          -0.6168329084831372,
          0.20420394854844057,
          0.49021555757100205,
          -0.8019838933435394,
          -0.32006526913236216,
          -0.6739698696991888,
          -1.3362987248492733,
          -2.164522947216624,
          0.4584620676832864,
          0.6388705433591992,
          -0.48759310113111154,
          -0.4719391278616287,
          -1.4620591867932493,
          -0.18449217672530127,
          0.9439585270731953,
          0.4083408634321457,
          -0.988046557778806,
          0.16985453583959337,
          -1.438367478015253,
          -1.4100586880513233,
          -3.283065964351943,
          -1.8373487018263062,
          0.6488219286367138,
          0.28681820553897286,
          -0.7388386037590581,
          -0.5556428204242388,
          0.10030613571566298,
          1.5958673135642134,
          -0.1966594175392532,
          -0.9481083918396167,
          -1.5561738064875823,
          -0.6626995687127948,
          1.45914060730763,
          0.16378886187091027,
          1.0029633116313403,
          -0.58101803188326,
          0.09260704461129005,
          0.06351215987658128,
          -0.4144809318389637,
          0.8353564916883307,
          3.041369189044577,
          -0.8265909477797487,
          0.891030887375596,
          1.6581945064521428,
          -1.4545588655614945,
          0.9539117184819081,
          -0.15726287638775388,
          0.5002980790781194,
          -0.0004703239994698021,
          -1.133054159083484,
          -0.6238091479318407,
          -0.6549182319149431,
          -0.7418217369776801
         ]
        },
        {
         "line": {
          "color": "rgba(55, 128, 191, 1.0)",
          "dash": "solid",
          "shape": "linear",
          "width": 1.3
         },
         "mode": "lines",
         "name": "B",
         "text": "",
         "type": "scatter",
         "x": [
          0,
          1,
          2,
          3,
          4,
          5,
          6,
          7,
          8,
          9,
          10,
          11,
          12,
          13,
          14,
          15,
          16,
          17,
          18,
          19,
          20,
          21,
          22,
          23,
          24,
          25,
          26,
          27,
          28,
          29,
          30,
          31,
          32,
          33,
          34,
          35,
          36,
          37,
          38,
          39,
          40,
          41,
          42,
          43,
          44,
          45,
          46,
          47,
          48,
          49,
          50,
          51,
          52,
          53,
          54,
          55,
          56,
          57,
          58,
          59,
          60,
          61,
          62,
          63,
          64,
          65,
          66,
          67,
          68,
          69,
          70,
          71,
          72,
          73,
          74,
          75,
          76,
          77,
          78,
          79,
          80,
          81,
          82,
          83,
          84,
          85,
          86,
          87,
          88,
          89,
          90,
          91,
          92,
          93,
          94,
          95,
          96,
          97,
          98,
          99
         ],
         "y": [
          0.15034521125234812,
          -0.5987186933728933,
          -0.6454634726357826,
          -0.6154832554047287,
          -0.769946615156794,
          -0.46191050231649566,
          0.05418022249124648,
          0.24197012189315253,
          1.3704318070389399,
          -1.115033967499207,
          -1.2561117558758135,
          -0.5752846426550058,
          -0.9310407812666132,
          -2.1313187338220825,
          -0.5258905353326198,
          -0.16921425212822583,
          -1.3402012277342281,
          0.8022221150923157,
          0.049028277142209815,
          2.0690285587876134,
          0.5901836499759278,
          0.5396360288585632,
          -0.9593170791098355,
          0.4703911795691247,
          -0.4088123868488733,
          -1.326522270762869,
          -0.4084516440752073,
          -0.21319177515630341,
          2.307192586560415,
          1.0279567709067112,
          1.3338803194915425,
          0.16950998713838028,
          0.4858789788510932,
          0.24110923216718624,
          1.9734967149972131,
          0.6219676407877484,
          0.07216010818714264,
          0.34036775803353736,
          0.3567623257427925,
          1.804130564330238,
          -0.4737804697504568,
          0.8695343627683411,
          -0.006651033966893561,
          -0.11901735621976775,
          -0.7789256367705151,
          1.0165590301846146,
          0.9673266086320613,
          1.3137958888935721,
          0.36431032413354375,
          1.0861186090802795,
          -0.5726383103479533,
          -0.1849084907144906,
          -0.44175252280494004,
          0.9311539502453478,
          0.019643606477361283,
          -0.7791451371204415,
          -1.2443704323676485,
          1.105468883927629,
          0.6262128820712691,
          0.5687334826194494,
          -0.9707670383730175,
          -1.1585829210383136,
          -1.9045091938104632,
          -0.16042897577663945,
          0.6024331394633871,
          -1.6103613623712325,
          -0.8494704182172462,
          -0.9019684366085758,
          -1.8460626219175116,
          0.9263616990924344,
          -0.08112674148248719,
          0.9925241445851437,
          -1.850684056918012,
          1.2555877550144339,
          1.0695245173103791,
          -0.09686194616054787,
          -0.9948039975413361,
          1.4853596684487107,
          -0.42393031979417733,
          -0.32579590265781827,
          -0.38559679609455516,
          -0.811761939096358,
          -0.15304642689703257,
          -1.0276461159200796,
          1.0986671255402287,
          0.5756542873871213,
          -0.5089669029678521,
          0.6667525593133969,
          0.4005815962155018,
          -1.2073886458765648,
          -0.42237563008840584,
          -0.5497516070594975,
          0.44406995134671673,
          -0.1946653293506403,
          0.3843043086821584,
          -0.8135642169019233,
          0.25627669360680666,
          -0.09427557436239774,
          0.35951103527697625,
          0.27612998716883735
         ]
        },
        {
         "line": {
          "color": "rgba(50, 171, 96, 1.0)",
          "dash": "solid",
          "shape": "linear",
          "width": 1.3
         },
         "mode": "lines",
         "name": "C",
         "text": "",
         "type": "scatter",
         "x": [
          0,
          1,
          2,
          3,
          4,
          5,
          6,
          7,
          8,
          9,
          10,
          11,
          12,
          13,
          14,
          15,
          16,
          17,
          18,
          19,
          20,
          21,
          22,
          23,
          24,
          25,
          26,
          27,
          28,
          29,
          30,
          31,
          32,
          33,
          34,
          35,
          36,
          37,
          38,
          39,
          40,
          41,
          42,
          43,
          44,
          45,
          46,
          47,
          48,
          49,
          50,
          51,
          52,
          53,
          54,
          55,
          56,
          57,
          58,
          59,
          60,
          61,
          62,
          63,
          64,
          65,
          66,
          67,
          68,
          69,
          70,
          71,
          72,
          73,
          74,
          75,
          76,
          77,
          78,
          79,
          80,
          81,
          82,
          83,
          84,
          85,
          86,
          87,
          88,
          89,
          90,
          91,
          92,
          93,
          94,
          95,
          96,
          97,
          98,
          99
         ],
         "y": [
          -0.10691782983046799,
          3.213836439897871,
          1.2978082789858894,
          -0.2132013525646534,
          -0.9040138874289834,
          0.2731855557952521,
          0.5069523872609897,
          0.670617736198417,
          -1.1743232586293297,
          0.8169069115658851,
          -0.9381661918713972,
          -0.11743599563896334,
          0.030574307381110662,
          0.9992368794011388,
          -1.1342817466024522,
          -1.4747415330443328,
          0.21566441103743766,
          0.5079266331393273,
          -0.5358732115778295,
          1.261339082566491,
          -2.1300452650189987,
          -0.995411213994776,
          1.9767921069853125,
          -0.3908938441178726,
          -0.25478638039418544,
          0.10390697649010927,
          -0.9503449147906309,
          0.9875722221567064,
          1.670549649547061,
          0.7035151206648657,
          0.9184323065189156,
          0.29770891586312104,
          0.6506557683455222,
          0.17053643176001723,
          0.6804438931044237,
          0.4932723214902657,
          1.2347891992445115,
          -0.3978565793074171,
          -1.5496430282812044,
          -1.8543687365114545,
          0.408182424198848,
          -0.4402301420762824,
          0.6842267494964466,
          -0.6622453208822038,
          0.5810889637042475,
          1.9147818661373415,
          0.4516539777254524,
          1.3709926943774824,
          0.9281354908429335,
          0.020204498068766168,
          -0.9561170722569972,
          -0.5179923255194684,
          0.47545633040082713,
          -1.017902345044926,
          0.6898993582818461,
          -0.12915471787438948,
          -0.3835149194244746,
          0.5612838956527909,
          0.54850587615578,
          2.0261455642496786,
          -0.027886581173396575,
          0.5548739587380417,
          1.924949773021305,
          -0.15397819153408687,
          -0.9759536918595715,
          -0.4600445383349833,
          1.5313101024682811,
          0.6015086060815795,
          0.49704216723255523,
          2.3589012264613722,
          -1.9031159441549437,
          0.3380015510445511,
          1.7556826732171869,
          0.8529256832086678,
          0.20633060655570418,
          -0.006909374509238595,
          0.6296199138820421,
          0.551666873902677,
          -0.006526424574607722,
          1.54746310955499,
          -1.5505731511062761,
          -1.076355721825828,
          0.24578050070296467,
          0.1633771476926186,
          1.281234682815011,
          -0.5813099626740817,
          -0.5518020320284768,
          0.14517427814953116,
          0.6983537069770014,
          0.9668480592497467,
          -2.3412922624431345,
          -0.49306061459438527,
          -0.701546685677908,
          0.07657938731609544,
          0.935369411346959,
          0.4734696027899289,
          -0.26402742260355355,
          2.3391538612873934,
          0.3893064307437836,
          -0.8043557448996405
         ]
        },
        {
         "line": {
          "color": "rgba(128, 0, 128, 1.0)",
          "dash": "solid",
          "shape": "linear",
          "width": 1.3
         },
         "mode": "lines",
         "name": "D",
         "text": "",
         "type": "scatter",
         "x": [
          0,
          1,
          2,
          3,
          4,
          5,
          6,
          7,
          8,
          9,
          10,
          11,
          12,
          13,
          14,
          15,
          16,
          17,
          18,
          19,
          20,
          21,
          22,
          23,
          24,
          25,
          26,
          27,
          28,
          29,
          30,
          31,
          32,
          33,
          34,
          35,
          36,
          37,
          38,
          39,
          40,
          41,
          42,
          43,
          44,
          45,
          46,
          47,
          48,
          49,
          50,
          51,
          52,
          53,
          54,
          55,
          56,
          57,
          58,
          59,
          60,
          61,
          62,
          63,
          64,
          65,
          66,
          67,
          68,
          69,
          70,
          71,
          72,
          73,
          74,
          75,
          76,
          77,
          78,
          79,
          80,
          81,
          82,
          83,
          84,
          85,
          86,
          87,
          88,
          89,
          90,
          91,
          92,
          93,
          94,
          95,
          96,
          97,
          98,
          99
         ],
         "y": [
          1.3553549360142652,
          -1.1240629400486926,
          -0.5396325265939028,
          -0.8922731485912241,
          1.9740825797260029,
          1.4335969468595193,
          0.8378377603067806,
          -1.3755932827022783,
          1.5807523225249667,
          -1.3660631719105356,
          0.24790658011434308,
          0.72437974484164,
          -1.2301547485526418,
          1.4353900554789392,
          0.9647790417481343,
          -1.5124768271563436,
          -1.1744931171213997,
          -2.0005167156998023,
          -1.2853003556657685,
          -0.7242855341362265,
          1.0717369190304742,
          1.403436298657791,
          0.34718712336454977,
          -0.7382611909665026,
          1.287880377123517,
          0.45288293740440927,
          1.856253152669832,
          0.06044462654630291,
          -0.35899502155411894,
          0.6229255957407726,
          -1.0193120035718861,
          2.088829859563428,
          -0.2694806539381207,
          -1.1089107610511553,
          -1.554626500748827,
          0.13415464697007337,
          -0.9514024414600591,
          -1.703723398682606,
          0.5041395184642052,
          0.9182165009161256,
          -0.16175008699604418,
          0.7298086959702409,
          -1.7307711250064093,
          0.40133463732840047,
          -0.8315507359619237,
          0.22298205696938378,
          1.6027609055014562,
          0.630966863989992,
          1.3850867427226057,
          0.7488458383350989,
          0.5084258928294056,
          -0.17680915051756851,
          1.0922068913444805,
          1.1327299453261297,
          0.4196930971235217,
          -1.4601343934416078,
          -0.24832971144271526,
          0.0687004743713472,
          -0.2540444755751119,
          -1.6773241014528344,
          -0.35990393608504223,
          -0.6596716005978259,
          3.152981796335251,
          1.2345979144558863,
          0.426875789986511,
          -0.6108533270888533,
          -0.2440924861901595,
          -1.2337060019712072,
          0.2323690666974735,
          0.5313598624883571,
          -0.06812014249606121,
          1.544918719379879,
          0.5730618501766528,
          -0.64535258341819,
          -0.30685957172527745,
          0.7369314973583256,
          0.354542752701916,
          -0.26174334657150145,
          -0.30638465671797666,
          0.5783975067642048,
          0.7890785878016994,
          0.9571204412458787,
          -0.6299453993479587,
          -1.3449081494177275,
          1.5843173761593803,
          0.44991751120347606,
          -0.11496213960656726,
          -0.6452187231854206,
          1.3834847920554316,
          0.5081137776847046,
          1.1232685815029115,
          -0.9840267395496939,
          0.25851966301842133,
          0.6173146759605749,
          -0.7328735241100314,
          0.6961936363738751,
          -2.1436809279718636,
          1.7285813499972267,
          -0.5187557435286976,
          -0.39462456759511333
         ]
        }
       ],
       "layout": {
        "legend": {
         "bgcolor": "#F5F6F9",
         "font": {
          "color": "#4D5663"
         }
        },
        "paper_bgcolor": "#F5F6F9",
        "plot_bgcolor": "#F5F6F9",
        "template": {
         "data": {
          "bar": [
           {
            "error_x": {
             "color": "#2a3f5f"
            },
            "error_y": {
             "color": "#2a3f5f"
            },
            "marker": {
             "line": {
              "color": "#E5ECF6",
              "width": 0.5
             },
             "pattern": {
              "fillmode": "overlay",
              "size": 10,
              "solidity": 0.2
             }
            },
            "type": "bar"
           }
          ],
          "barpolar": [
           {
            "marker": {
             "line": {
              "color": "#E5ECF6",
              "width": 0.5
             },
             "pattern": {
              "fillmode": "overlay",
              "size": 10,
              "solidity": 0.2
             }
            },
            "type": "barpolar"
           }
          ],
          "carpet": [
           {
            "aaxis": {
             "endlinecolor": "#2a3f5f",
             "gridcolor": "white",
             "linecolor": "white",
             "minorgridcolor": "white",
             "startlinecolor": "#2a3f5f"
            },
            "baxis": {
             "endlinecolor": "#2a3f5f",
             "gridcolor": "white",
             "linecolor": "white",
             "minorgridcolor": "white",
             "startlinecolor": "#2a3f5f"
            },
            "type": "carpet"
           }
          ],
          "choropleth": [
           {
            "colorbar": {
             "outlinewidth": 0,
             "ticks": ""
            },
            "type": "choropleth"
           }
          ],
          "contour": [
           {
            "colorbar": {
             "outlinewidth": 0,
             "ticks": ""
            },
            "colorscale": [
             [
              0,
              "#0d0887"
             ],
             [
              0.1111111111111111,
              "#46039f"
             ],
             [
              0.2222222222222222,
              "#7201a8"
             ],
             [
              0.3333333333333333,
              "#9c179e"
             ],
             [
              0.4444444444444444,
              "#bd3786"
             ],
             [
              0.5555555555555556,
              "#d8576b"
             ],
             [
              0.6666666666666666,
              "#ed7953"
             ],
             [
              0.7777777777777778,
              "#fb9f3a"
             ],
             [
              0.8888888888888888,
              "#fdca26"
             ],
             [
              1,
              "#f0f921"
             ]
            ],
            "type": "contour"
           }
          ],
          "contourcarpet": [
           {
            "colorbar": {
             "outlinewidth": 0,
             "ticks": ""
            },
            "type": "contourcarpet"
           }
          ],
          "heatmap": [
           {
            "colorbar": {
             "outlinewidth": 0,
             "ticks": ""
            },
            "colorscale": [
             [
              0,
              "#0d0887"
             ],
             [
              0.1111111111111111,
              "#46039f"
             ],
             [
              0.2222222222222222,
              "#7201a8"
             ],
             [
              0.3333333333333333,
              "#9c179e"
             ],
             [
              0.4444444444444444,
              "#bd3786"
             ],
             [
              0.5555555555555556,
              "#d8576b"
             ],
             [
              0.6666666666666666,
              "#ed7953"
             ],
             [
              0.7777777777777778,
              "#fb9f3a"
             ],
             [
              0.8888888888888888,
              "#fdca26"
             ],
             [
              1,
              "#f0f921"
             ]
            ],
            "type": "heatmap"
           }
          ],
          "heatmapgl": [
           {
            "colorbar": {
             "outlinewidth": 0,
             "ticks": ""
            },
            "colorscale": [
             [
              0,
              "#0d0887"
             ],
             [
              0.1111111111111111,
              "#46039f"
             ],
             [
              0.2222222222222222,
              "#7201a8"
             ],
             [
              0.3333333333333333,
              "#9c179e"
             ],
             [
              0.4444444444444444,
              "#bd3786"
             ],
             [
              0.5555555555555556,
              "#d8576b"
             ],
             [
              0.6666666666666666,
              "#ed7953"
             ],
             [
              0.7777777777777778,
              "#fb9f3a"
             ],
             [
              0.8888888888888888,
              "#fdca26"
             ],
             [
              1,
              "#f0f921"
             ]
            ],
            "type": "heatmapgl"
           }
          ],
          "histogram": [
           {
            "marker": {
             "pattern": {
              "fillmode": "overlay",
              "size": 10,
              "solidity": 0.2
             }
            },
            "type": "histogram"
           }
          ],
          "histogram2d": [
           {
            "colorbar": {
             "outlinewidth": 0,
             "ticks": ""
            },
            "colorscale": [
             [
              0,
              "#0d0887"
             ],
             [
              0.1111111111111111,
              "#46039f"
             ],
             [
              0.2222222222222222,
              "#7201a8"
             ],
             [
              0.3333333333333333,
              "#9c179e"
             ],
             [
              0.4444444444444444,
              "#bd3786"
             ],
             [
              0.5555555555555556,
              "#d8576b"
             ],
             [
              0.6666666666666666,
              "#ed7953"
             ],
             [
              0.7777777777777778,
              "#fb9f3a"
             ],
             [
              0.8888888888888888,
              "#fdca26"
             ],
             [
              1,
              "#f0f921"
             ]
            ],
            "type": "histogram2d"
           }
          ],
          "histogram2dcontour": [
           {
            "colorbar": {
             "outlinewidth": 0,
             "ticks": ""
            },
            "colorscale": [
             [
              0,
              "#0d0887"
             ],
             [
              0.1111111111111111,
              "#46039f"
             ],
             [
              0.2222222222222222,
              "#7201a8"
             ],
             [
              0.3333333333333333,
              "#9c179e"
             ],
             [
              0.4444444444444444,
              "#bd3786"
             ],
             [
              0.5555555555555556,
              "#d8576b"
             ],
             [
              0.6666666666666666,
              "#ed7953"
             ],
             [
              0.7777777777777778,
              "#fb9f3a"
             ],
             [
              0.8888888888888888,
              "#fdca26"
             ],
             [
              1,
              "#f0f921"
             ]
            ],
            "type": "histogram2dcontour"
           }
          ],
          "mesh3d": [
           {
            "colorbar": {
             "outlinewidth": 0,
             "ticks": ""
            },
            "type": "mesh3d"
           }
          ],
          "parcoords": [
           {
            "line": {
             "colorbar": {
              "outlinewidth": 0,
              "ticks": ""
             }
            },
            "type": "parcoords"
           }
          ],
          "pie": [
           {
            "automargin": true,
            "type": "pie"
           }
          ],
          "scatter": [
           {
            "fillpattern": {
             "fillmode": "overlay",
             "size": 10,
             "solidity": 0.2
            },
            "type": "scatter"
           }
          ],
          "scatter3d": [
           {
            "line": {
             "colorbar": {
              "outlinewidth": 0,
              "ticks": ""
             }
            },
            "marker": {
             "colorbar": {
              "outlinewidth": 0,
              "ticks": ""
             }
            },
            "type": "scatter3d"
           }
          ],
          "scattercarpet": [
           {
            "marker": {
             "colorbar": {
              "outlinewidth": 0,
              "ticks": ""
             }
            },
            "type": "scattercarpet"
           }
          ],
          "scattergeo": [
           {
            "marker": {
             "colorbar": {
              "outlinewidth": 0,
              "ticks": ""
             }
            },
            "type": "scattergeo"
           }
          ],
          "scattergl": [
           {
            "marker": {
             "colorbar": {
              "outlinewidth": 0,
              "ticks": ""
             }
            },
            "type": "scattergl"
           }
          ],
          "scattermapbox": [
           {
            "marker": {
             "colorbar": {
              "outlinewidth": 0,
              "ticks": ""
             }
            },
            "type": "scattermapbox"
           }
          ],
          "scatterpolar": [
           {
            "marker": {
             "colorbar": {
              "outlinewidth": 0,
              "ticks": ""
             }
            },
            "type": "scatterpolar"
           }
          ],
          "scatterpolargl": [
           {
            "marker": {
             "colorbar": {
              "outlinewidth": 0,
              "ticks": ""
             }
            },
            "type": "scatterpolargl"
           }
          ],
          "scatterternary": [
           {
            "marker": {
             "colorbar": {
              "outlinewidth": 0,
              "ticks": ""
             }
            },
            "type": "scatterternary"
           }
          ],
          "surface": [
           {
            "colorbar": {
             "outlinewidth": 0,
             "ticks": ""
            },
            "colorscale": [
             [
              0,
              "#0d0887"
             ],
             [
              0.1111111111111111,
              "#46039f"
             ],
             [
              0.2222222222222222,
              "#7201a8"
             ],
             [
              0.3333333333333333,
              "#9c179e"
             ],
             [
              0.4444444444444444,
              "#bd3786"
             ],
             [
              0.5555555555555556,
              "#d8576b"
             ],
             [
              0.6666666666666666,
              "#ed7953"
             ],
             [
              0.7777777777777778,
              "#fb9f3a"
             ],
             [
              0.8888888888888888,
              "#fdca26"
             ],
             [
              1,
              "#f0f921"
             ]
            ],
            "type": "surface"
           }
          ],
          "table": [
           {
            "cells": {
             "fill": {
              "color": "#EBF0F8"
             },
             "line": {
              "color": "white"
             }
            },
            "header": {
             "fill": {
              "color": "#C8D4E3"
             },
             "line": {
              "color": "white"
             }
            },
            "type": "table"
           }
          ]
         },
         "layout": {
          "annotationdefaults": {
           "arrowcolor": "#2a3f5f",
           "arrowhead": 0,
           "arrowwidth": 1
          },
          "autotypenumbers": "strict",
          "coloraxis": {
           "colorbar": {
            "outlinewidth": 0,
            "ticks": ""
           }
          },
          "colorscale": {
           "diverging": [
            [
             0,
             "#8e0152"
            ],
            [
             0.1,
             "#c51b7d"
            ],
            [
             0.2,
             "#de77ae"
            ],
            [
             0.3,
             "#f1b6da"
            ],
            [
             0.4,
             "#fde0ef"
            ],
            [
             0.5,
             "#f7f7f7"
            ],
            [
             0.6,
             "#e6f5d0"
            ],
            [
             0.7,
             "#b8e186"
            ],
            [
             0.8,
             "#7fbc41"
            ],
            [
             0.9,
             "#4d9221"
            ],
            [
             1,
             "#276419"
            ]
           ],
           "sequential": [
            [
             0,
             "#0d0887"
            ],
            [
             0.1111111111111111,
             "#46039f"
            ],
            [
             0.2222222222222222,
             "#7201a8"
            ],
            [
             0.3333333333333333,
             "#9c179e"
            ],
            [
             0.4444444444444444,
             "#bd3786"
            ],
            [
             0.5555555555555556,
             "#d8576b"
            ],
            [
             0.6666666666666666,
             "#ed7953"
            ],
            [
             0.7777777777777778,
             "#fb9f3a"
            ],
            [
             0.8888888888888888,
             "#fdca26"
            ],
            [
             1,
             "#f0f921"
            ]
           ],
           "sequentialminus": [
            [
             0,
             "#0d0887"
            ],
            [
             0.1111111111111111,
             "#46039f"
            ],
            [
             0.2222222222222222,
             "#7201a8"
            ],
            [
             0.3333333333333333,
             "#9c179e"
            ],
            [
             0.4444444444444444,
             "#bd3786"
            ],
            [
             0.5555555555555556,
             "#d8576b"
            ],
            [
             0.6666666666666666,
             "#ed7953"
            ],
            [
             0.7777777777777778,
             "#fb9f3a"
            ],
            [
             0.8888888888888888,
             "#fdca26"
            ],
            [
             1,
             "#f0f921"
            ]
           ]
          },
          "colorway": [
           "#636efa",
           "#EF553B",
           "#00cc96",
           "#ab63fa",
           "#FFA15A",
           "#19d3f3",
           "#FF6692",
           "#B6E880",
           "#FF97FF",
           "#FECB52"
          ],
          "font": {
           "color": "#2a3f5f"
          },
          "geo": {
           "bgcolor": "white",
           "lakecolor": "white",
           "landcolor": "#E5ECF6",
           "showlakes": true,
           "showland": true,
           "subunitcolor": "white"
          },
          "hoverlabel": {
           "align": "left"
          },
          "hovermode": "closest",
          "mapbox": {
           "style": "light"
          },
          "paper_bgcolor": "white",
          "plot_bgcolor": "#E5ECF6",
          "polar": {
           "angularaxis": {
            "gridcolor": "white",
            "linecolor": "white",
            "ticks": ""
           },
           "bgcolor": "#E5ECF6",
           "radialaxis": {
            "gridcolor": "white",
            "linecolor": "white",
            "ticks": ""
           }
          },
          "scene": {
           "xaxis": {
            "backgroundcolor": "#E5ECF6",
            "gridcolor": "white",
            "gridwidth": 2,
            "linecolor": "white",
            "showbackground": true,
            "ticks": "",
            "zerolinecolor": "white"
           },
           "yaxis": {
            "backgroundcolor": "#E5ECF6",
            "gridcolor": "white",
            "gridwidth": 2,
            "linecolor": "white",
            "showbackground": true,
            "ticks": "",
            "zerolinecolor": "white"
           },
           "zaxis": {
            "backgroundcolor": "#E5ECF6",
            "gridcolor": "white",
            "gridwidth": 2,
            "linecolor": "white",
            "showbackground": true,
            "ticks": "",
            "zerolinecolor": "white"
           }
          },
          "shapedefaults": {
           "line": {
            "color": "#2a3f5f"
           }
          },
          "ternary": {
           "aaxis": {
            "gridcolor": "white",
            "linecolor": "white",
            "ticks": ""
           },
           "baxis": {
            "gridcolor": "white",
            "linecolor": "white",
            "ticks": ""
           },
           "bgcolor": "#E5ECF6",
           "caxis": {
            "gridcolor": "white",
            "linecolor": "white",
            "ticks": ""
           }
          },
          "title": {
           "x": 0.05
          },
          "xaxis": {
           "automargin": true,
           "gridcolor": "white",
           "linecolor": "white",
           "ticks": "",
           "title": {
            "standoff": 15
           },
           "zerolinecolor": "white",
           "zerolinewidth": 2
          },
          "yaxis": {
           "automargin": true,
           "gridcolor": "white",
           "linecolor": "white",
           "ticks": "",
           "title": {
            "standoff": 15
           },
           "zerolinecolor": "white",
           "zerolinewidth": 2
          }
         }
        },
        "title": {
         "font": {
          "color": "#4D5663"
         }
        },
        "xaxis": {
         "gridcolor": "#E1E5ED",
         "showgrid": true,
         "tickfont": {
          "color": "#4D5663"
         },
         "title": {
          "font": {
           "color": "#4D5663"
          },
          "text": ""
         },
         "zerolinecolor": "#E1E5ED"
        },
        "yaxis": {
         "gridcolor": "#E1E5ED",
         "showgrid": true,
         "tickfont": {
          "color": "#4D5663"
         },
         "title": {
          "font": {
           "color": "#4D5663"
          },
          "text": ""
         },
         "zerolinecolor": "#E1E5ED"
        }
       }
      },
      "text/html": [
       "<div>                            <div id=\"afba90ce-5c4f-4d65-a47c-3f3fbd7a6c5f\" class=\"plotly-graph-div\" style=\"height:525px; width:100%;\"></div>            <script type=\"text/javascript\">                require([\"plotly\"], function(Plotly) {                    window.PLOTLYENV=window.PLOTLYENV || {};\n",
       "                    window.PLOTLYENV.BASE_URL='https://plot.ly';                                    if (document.getElementById(\"afba90ce-5c4f-4d65-a47c-3f3fbd7a6c5f\")) {                    Plotly.newPlot(                        \"afba90ce-5c4f-4d65-a47c-3f3fbd7a6c5f\",                        [{\"line\":{\"color\":\"rgba(255, 153, 51, 1.0)\",\"dash\":\"solid\",\"shape\":\"linear\",\"width\":1.3},\"mode\":\"lines\",\"name\":\"A\",\"text\":\"\",\"x\":[0,1,2,3,4,5,6,7,8,9,10,11,12,13,14,15,16,17,18,19,20,21,22,23,24,25,26,27,28,29,30,31,32,33,34,35,36,37,38,39,40,41,42,43,44,45,46,47,48,49,50,51,52,53,54,55,56,57,58,59,60,61,62,63,64,65,66,67,68,69,70,71,72,73,74,75,76,77,78,79,80,81,82,83,84,85,86,87,88,89,90,91,92,93,94,95,96,97,98,99],\"y\":[-0.21379038518686702,-0.2881234631694882,1.687031818981887,-1.0596805811366479,0.7056676453490747,-0.4928626434402184,0.33850678897844294,-1.1365532012393156,2.22191453283817,-1.3620857175620513,0.36896946879329245,0.4221536206989755,0.7281899107947287,-1.2377215311367844,-0.183857315020409,1.3878751024535392,-2.080665743096919,-1.644286250149681,0.6294408878087343,0.05543719194135943,0.38834850232706086,1.2385439904392541,0.7616814777089003,0.8100604469178284,-1.7357899124307927,0.5857940744331279,1.0852758495254575,-0.11451233355760886,-0.24564066981188823,0.5006503012279303,0.5497048414245632,2.7014575844254614,-0.28998640157069633,-0.13092688042405312,-1.0299743551366851,1.54532700344482,0.34570948137873997,0.03885334864587458,1.1495393347403176,1.2978444015505215,-0.15445587968137264,-0.9263861080879959,0.5069877878414278,-0.769378432702959,0.7899966811807752,-0.08734253876202357,-1.1407746455308567,-0.6168329084831372,0.20420394854844057,0.49021555757100205,-0.8019838933435394,-0.32006526913236216,-0.6739698696991888,-1.3362987248492733,-2.164522947216624,0.4584620676832864,0.6388705433591992,-0.48759310113111154,-0.4719391278616287,-1.4620591867932493,-0.18449217672530127,0.9439585270731953,0.4083408634321457,-0.988046557778806,0.16985453583959337,-1.438367478015253,-1.4100586880513233,-3.283065964351943,-1.8373487018263062,0.6488219286367138,0.28681820553897286,-0.7388386037590581,-0.5556428204242388,0.10030613571566298,1.5958673135642134,-0.1966594175392532,-0.9481083918396167,-1.5561738064875823,-0.6626995687127948,1.45914060730763,0.16378886187091027,1.0029633116313403,-0.58101803188326,0.09260704461129005,0.06351215987658128,-0.4144809318389637,0.8353564916883307,3.041369189044577,-0.8265909477797487,0.891030887375596,1.6581945064521428,-1.4545588655614945,0.9539117184819081,-0.15726287638775388,0.5002980790781194,-0.0004703239994698021,-1.133054159083484,-0.6238091479318407,-0.6549182319149431,-0.7418217369776801],\"type\":\"scatter\"},{\"line\":{\"color\":\"rgba(55, 128, 191, 1.0)\",\"dash\":\"solid\",\"shape\":\"linear\",\"width\":1.3},\"mode\":\"lines\",\"name\":\"B\",\"text\":\"\",\"x\":[0,1,2,3,4,5,6,7,8,9,10,11,12,13,14,15,16,17,18,19,20,21,22,23,24,25,26,27,28,29,30,31,32,33,34,35,36,37,38,39,40,41,42,43,44,45,46,47,48,49,50,51,52,53,54,55,56,57,58,59,60,61,62,63,64,65,66,67,68,69,70,71,72,73,74,75,76,77,78,79,80,81,82,83,84,85,86,87,88,89,90,91,92,93,94,95,96,97,98,99],\"y\":[0.15034521125234812,-0.5987186933728933,-0.6454634726357826,-0.6154832554047287,-0.769946615156794,-0.46191050231649566,0.05418022249124648,0.24197012189315253,1.3704318070389399,-1.115033967499207,-1.2561117558758135,-0.5752846426550058,-0.9310407812666132,-2.1313187338220825,-0.5258905353326198,-0.16921425212822583,-1.3402012277342281,0.8022221150923157,0.049028277142209815,2.0690285587876134,0.5901836499759278,0.5396360288585632,-0.9593170791098355,0.4703911795691247,-0.4088123868488733,-1.326522270762869,-0.4084516440752073,-0.21319177515630341,2.307192586560415,1.0279567709067112,1.3338803194915425,0.16950998713838028,0.4858789788510932,0.24110923216718624,1.9734967149972131,0.6219676407877484,0.07216010818714264,0.34036775803353736,0.3567623257427925,1.804130564330238,-0.4737804697504568,0.8695343627683411,-0.006651033966893561,-0.11901735621976775,-0.7789256367705151,1.0165590301846146,0.9673266086320613,1.3137958888935721,0.36431032413354375,1.0861186090802795,-0.5726383103479533,-0.1849084907144906,-0.44175252280494004,0.9311539502453478,0.019643606477361283,-0.7791451371204415,-1.2443704323676485,1.105468883927629,0.6262128820712691,0.5687334826194494,-0.9707670383730175,-1.1585829210383136,-1.9045091938104632,-0.16042897577663945,0.6024331394633871,-1.6103613623712325,-0.8494704182172462,-0.9019684366085758,-1.8460626219175116,0.9263616990924344,-0.08112674148248719,0.9925241445851437,-1.850684056918012,1.2555877550144339,1.0695245173103791,-0.09686194616054787,-0.9948039975413361,1.4853596684487107,-0.42393031979417733,-0.32579590265781827,-0.38559679609455516,-0.811761939096358,-0.15304642689703257,-1.0276461159200796,1.0986671255402287,0.5756542873871213,-0.5089669029678521,0.6667525593133969,0.4005815962155018,-1.2073886458765648,-0.42237563008840584,-0.5497516070594975,0.44406995134671673,-0.1946653293506403,0.3843043086821584,-0.8135642169019233,0.25627669360680666,-0.09427557436239774,0.35951103527697625,0.27612998716883735],\"type\":\"scatter\"},{\"line\":{\"color\":\"rgba(50, 171, 96, 1.0)\",\"dash\":\"solid\",\"shape\":\"linear\",\"width\":1.3},\"mode\":\"lines\",\"name\":\"C\",\"text\":\"\",\"x\":[0,1,2,3,4,5,6,7,8,9,10,11,12,13,14,15,16,17,18,19,20,21,22,23,24,25,26,27,28,29,30,31,32,33,34,35,36,37,38,39,40,41,42,43,44,45,46,47,48,49,50,51,52,53,54,55,56,57,58,59,60,61,62,63,64,65,66,67,68,69,70,71,72,73,74,75,76,77,78,79,80,81,82,83,84,85,86,87,88,89,90,91,92,93,94,95,96,97,98,99],\"y\":[-0.10691782983046799,3.213836439897871,1.2978082789858894,-0.2132013525646534,-0.9040138874289834,0.2731855557952521,0.5069523872609897,0.670617736198417,-1.1743232586293297,0.8169069115658851,-0.9381661918713972,-0.11743599563896334,0.030574307381110662,0.9992368794011388,-1.1342817466024522,-1.4747415330443328,0.21566441103743766,0.5079266331393273,-0.5358732115778295,1.261339082566491,-2.1300452650189987,-0.995411213994776,1.9767921069853125,-0.3908938441178726,-0.25478638039418544,0.10390697649010927,-0.9503449147906309,0.9875722221567064,1.670549649547061,0.7035151206648657,0.9184323065189156,0.29770891586312104,0.6506557683455222,0.17053643176001723,0.6804438931044237,0.4932723214902657,1.2347891992445115,-0.3978565793074171,-1.5496430282812044,-1.8543687365114545,0.408182424198848,-0.4402301420762824,0.6842267494964466,-0.6622453208822038,0.5810889637042475,1.9147818661373415,0.4516539777254524,1.3709926943774824,0.9281354908429335,0.020204498068766168,-0.9561170722569972,-0.5179923255194684,0.47545633040082713,-1.017902345044926,0.6898993582818461,-0.12915471787438948,-0.3835149194244746,0.5612838956527909,0.54850587615578,2.0261455642496786,-0.027886581173396575,0.5548739587380417,1.924949773021305,-0.15397819153408687,-0.9759536918595715,-0.4600445383349833,1.5313101024682811,0.6015086060815795,0.49704216723255523,2.3589012264613722,-1.9031159441549437,0.3380015510445511,1.7556826732171869,0.8529256832086678,0.20633060655570418,-0.006909374509238595,0.6296199138820421,0.551666873902677,-0.006526424574607722,1.54746310955499,-1.5505731511062761,-1.076355721825828,0.24578050070296467,0.1633771476926186,1.281234682815011,-0.5813099626740817,-0.5518020320284768,0.14517427814953116,0.6983537069770014,0.9668480592497467,-2.3412922624431345,-0.49306061459438527,-0.701546685677908,0.07657938731609544,0.935369411346959,0.4734696027899289,-0.26402742260355355,2.3391538612873934,0.3893064307437836,-0.8043557448996405],\"type\":\"scatter\"},{\"line\":{\"color\":\"rgba(128, 0, 128, 1.0)\",\"dash\":\"solid\",\"shape\":\"linear\",\"width\":1.3},\"mode\":\"lines\",\"name\":\"D\",\"text\":\"\",\"x\":[0,1,2,3,4,5,6,7,8,9,10,11,12,13,14,15,16,17,18,19,20,21,22,23,24,25,26,27,28,29,30,31,32,33,34,35,36,37,38,39,40,41,42,43,44,45,46,47,48,49,50,51,52,53,54,55,56,57,58,59,60,61,62,63,64,65,66,67,68,69,70,71,72,73,74,75,76,77,78,79,80,81,82,83,84,85,86,87,88,89,90,91,92,93,94,95,96,97,98,99],\"y\":[1.3553549360142652,-1.1240629400486926,-0.5396325265939028,-0.8922731485912241,1.9740825797260029,1.4335969468595193,0.8378377603067806,-1.3755932827022783,1.5807523225249667,-1.3660631719105356,0.24790658011434308,0.72437974484164,-1.2301547485526418,1.4353900554789392,0.9647790417481343,-1.5124768271563436,-1.1744931171213997,-2.0005167156998023,-1.2853003556657685,-0.7242855341362265,1.0717369190304742,1.403436298657791,0.34718712336454977,-0.7382611909665026,1.287880377123517,0.45288293740440927,1.856253152669832,0.06044462654630291,-0.35899502155411894,0.6229255957407726,-1.0193120035718861,2.088829859563428,-0.2694806539381207,-1.1089107610511553,-1.554626500748827,0.13415464697007337,-0.9514024414600591,-1.703723398682606,0.5041395184642052,0.9182165009161256,-0.16175008699604418,0.7298086959702409,-1.7307711250064093,0.40133463732840047,-0.8315507359619237,0.22298205696938378,1.6027609055014562,0.630966863989992,1.3850867427226057,0.7488458383350989,0.5084258928294056,-0.17680915051756851,1.0922068913444805,1.1327299453261297,0.4196930971235217,-1.4601343934416078,-0.24832971144271526,0.0687004743713472,-0.2540444755751119,-1.6773241014528344,-0.35990393608504223,-0.6596716005978259,3.152981796335251,1.2345979144558863,0.426875789986511,-0.6108533270888533,-0.2440924861901595,-1.2337060019712072,0.2323690666974735,0.5313598624883571,-0.06812014249606121,1.544918719379879,0.5730618501766528,-0.64535258341819,-0.30685957172527745,0.7369314973583256,0.354542752701916,-0.26174334657150145,-0.30638465671797666,0.5783975067642048,0.7890785878016994,0.9571204412458787,-0.6299453993479587,-1.3449081494177275,1.5843173761593803,0.44991751120347606,-0.11496213960656726,-0.6452187231854206,1.3834847920554316,0.5081137776847046,1.1232685815029115,-0.9840267395496939,0.25851966301842133,0.6173146759605749,-0.7328735241100314,0.6961936363738751,-2.1436809279718636,1.7285813499972267,-0.5187557435286976,-0.39462456759511333],\"type\":\"scatter\"}],                        {\"legend\":{\"bgcolor\":\"#F5F6F9\",\"font\":{\"color\":\"#4D5663\"}},\"paper_bgcolor\":\"#F5F6F9\",\"plot_bgcolor\":\"#F5F6F9\",\"template\":{\"data\":{\"barpolar\":[{\"marker\":{\"line\":{\"color\":\"#E5ECF6\",\"width\":0.5},\"pattern\":{\"fillmode\":\"overlay\",\"size\":10,\"solidity\":0.2}},\"type\":\"barpolar\"}],\"bar\":[{\"error_x\":{\"color\":\"#2a3f5f\"},\"error_y\":{\"color\":\"#2a3f5f\"},\"marker\":{\"line\":{\"color\":\"#E5ECF6\",\"width\":0.5},\"pattern\":{\"fillmode\":\"overlay\",\"size\":10,\"solidity\":0.2}},\"type\":\"bar\"}],\"carpet\":[{\"aaxis\":{\"endlinecolor\":\"#2a3f5f\",\"gridcolor\":\"white\",\"linecolor\":\"white\",\"minorgridcolor\":\"white\",\"startlinecolor\":\"#2a3f5f\"},\"baxis\":{\"endlinecolor\":\"#2a3f5f\",\"gridcolor\":\"white\",\"linecolor\":\"white\",\"minorgridcolor\":\"white\",\"startlinecolor\":\"#2a3f5f\"},\"type\":\"carpet\"}],\"choropleth\":[{\"colorbar\":{\"outlinewidth\":0,\"ticks\":\"\"},\"type\":\"choropleth\"}],\"contourcarpet\":[{\"colorbar\":{\"outlinewidth\":0,\"ticks\":\"\"},\"type\":\"contourcarpet\"}],\"contour\":[{\"colorbar\":{\"outlinewidth\":0,\"ticks\":\"\"},\"colorscale\":[[0.0,\"#0d0887\"],[0.1111111111111111,\"#46039f\"],[0.2222222222222222,\"#7201a8\"],[0.3333333333333333,\"#9c179e\"],[0.4444444444444444,\"#bd3786\"],[0.5555555555555556,\"#d8576b\"],[0.6666666666666666,\"#ed7953\"],[0.7777777777777778,\"#fb9f3a\"],[0.8888888888888888,\"#fdca26\"],[1.0,\"#f0f921\"]],\"type\":\"contour\"}],\"heatmapgl\":[{\"colorbar\":{\"outlinewidth\":0,\"ticks\":\"\"},\"colorscale\":[[0.0,\"#0d0887\"],[0.1111111111111111,\"#46039f\"],[0.2222222222222222,\"#7201a8\"],[0.3333333333333333,\"#9c179e\"],[0.4444444444444444,\"#bd3786\"],[0.5555555555555556,\"#d8576b\"],[0.6666666666666666,\"#ed7953\"],[0.7777777777777778,\"#fb9f3a\"],[0.8888888888888888,\"#fdca26\"],[1.0,\"#f0f921\"]],\"type\":\"heatmapgl\"}],\"heatmap\":[{\"colorbar\":{\"outlinewidth\":0,\"ticks\":\"\"},\"colorscale\":[[0.0,\"#0d0887\"],[0.1111111111111111,\"#46039f\"],[0.2222222222222222,\"#7201a8\"],[0.3333333333333333,\"#9c179e\"],[0.4444444444444444,\"#bd3786\"],[0.5555555555555556,\"#d8576b\"],[0.6666666666666666,\"#ed7953\"],[0.7777777777777778,\"#fb9f3a\"],[0.8888888888888888,\"#fdca26\"],[1.0,\"#f0f921\"]],\"type\":\"heatmap\"}],\"histogram2dcontour\":[{\"colorbar\":{\"outlinewidth\":0,\"ticks\":\"\"},\"colorscale\":[[0.0,\"#0d0887\"],[0.1111111111111111,\"#46039f\"],[0.2222222222222222,\"#7201a8\"],[0.3333333333333333,\"#9c179e\"],[0.4444444444444444,\"#bd3786\"],[0.5555555555555556,\"#d8576b\"],[0.6666666666666666,\"#ed7953\"],[0.7777777777777778,\"#fb9f3a\"],[0.8888888888888888,\"#fdca26\"],[1.0,\"#f0f921\"]],\"type\":\"histogram2dcontour\"}],\"histogram2d\":[{\"colorbar\":{\"outlinewidth\":0,\"ticks\":\"\"},\"colorscale\":[[0.0,\"#0d0887\"],[0.1111111111111111,\"#46039f\"],[0.2222222222222222,\"#7201a8\"],[0.3333333333333333,\"#9c179e\"],[0.4444444444444444,\"#bd3786\"],[0.5555555555555556,\"#d8576b\"],[0.6666666666666666,\"#ed7953\"],[0.7777777777777778,\"#fb9f3a\"],[0.8888888888888888,\"#fdca26\"],[1.0,\"#f0f921\"]],\"type\":\"histogram2d\"}],\"histogram\":[{\"marker\":{\"pattern\":{\"fillmode\":\"overlay\",\"size\":10,\"solidity\":0.2}},\"type\":\"histogram\"}],\"mesh3d\":[{\"colorbar\":{\"outlinewidth\":0,\"ticks\":\"\"},\"type\":\"mesh3d\"}],\"parcoords\":[{\"line\":{\"colorbar\":{\"outlinewidth\":0,\"ticks\":\"\"}},\"type\":\"parcoords\"}],\"pie\":[{\"automargin\":true,\"type\":\"pie\"}],\"scatter3d\":[{\"line\":{\"colorbar\":{\"outlinewidth\":0,\"ticks\":\"\"}},\"marker\":{\"colorbar\":{\"outlinewidth\":0,\"ticks\":\"\"}},\"type\":\"scatter3d\"}],\"scattercarpet\":[{\"marker\":{\"colorbar\":{\"outlinewidth\":0,\"ticks\":\"\"}},\"type\":\"scattercarpet\"}],\"scattergeo\":[{\"marker\":{\"colorbar\":{\"outlinewidth\":0,\"ticks\":\"\"}},\"type\":\"scattergeo\"}],\"scattergl\":[{\"marker\":{\"colorbar\":{\"outlinewidth\":0,\"ticks\":\"\"}},\"type\":\"scattergl\"}],\"scattermapbox\":[{\"marker\":{\"colorbar\":{\"outlinewidth\":0,\"ticks\":\"\"}},\"type\":\"scattermapbox\"}],\"scatterpolargl\":[{\"marker\":{\"colorbar\":{\"outlinewidth\":0,\"ticks\":\"\"}},\"type\":\"scatterpolargl\"}],\"scatterpolar\":[{\"marker\":{\"colorbar\":{\"outlinewidth\":0,\"ticks\":\"\"}},\"type\":\"scatterpolar\"}],\"scatter\":[{\"fillpattern\":{\"fillmode\":\"overlay\",\"size\":10,\"solidity\":0.2},\"type\":\"scatter\"}],\"scatterternary\":[{\"marker\":{\"colorbar\":{\"outlinewidth\":0,\"ticks\":\"\"}},\"type\":\"scatterternary\"}],\"surface\":[{\"colorbar\":{\"outlinewidth\":0,\"ticks\":\"\"},\"colorscale\":[[0.0,\"#0d0887\"],[0.1111111111111111,\"#46039f\"],[0.2222222222222222,\"#7201a8\"],[0.3333333333333333,\"#9c179e\"],[0.4444444444444444,\"#bd3786\"],[0.5555555555555556,\"#d8576b\"],[0.6666666666666666,\"#ed7953\"],[0.7777777777777778,\"#fb9f3a\"],[0.8888888888888888,\"#fdca26\"],[1.0,\"#f0f921\"]],\"type\":\"surface\"}],\"table\":[{\"cells\":{\"fill\":{\"color\":\"#EBF0F8\"},\"line\":{\"color\":\"white\"}},\"header\":{\"fill\":{\"color\":\"#C8D4E3\"},\"line\":{\"color\":\"white\"}},\"type\":\"table\"}]},\"layout\":{\"annotationdefaults\":{\"arrowcolor\":\"#2a3f5f\",\"arrowhead\":0,\"arrowwidth\":1},\"autotypenumbers\":\"strict\",\"coloraxis\":{\"colorbar\":{\"outlinewidth\":0,\"ticks\":\"\"}},\"colorscale\":{\"diverging\":[[0,\"#8e0152\"],[0.1,\"#c51b7d\"],[0.2,\"#de77ae\"],[0.3,\"#f1b6da\"],[0.4,\"#fde0ef\"],[0.5,\"#f7f7f7\"],[0.6,\"#e6f5d0\"],[0.7,\"#b8e186\"],[0.8,\"#7fbc41\"],[0.9,\"#4d9221\"],[1,\"#276419\"]],\"sequential\":[[0.0,\"#0d0887\"],[0.1111111111111111,\"#46039f\"],[0.2222222222222222,\"#7201a8\"],[0.3333333333333333,\"#9c179e\"],[0.4444444444444444,\"#bd3786\"],[0.5555555555555556,\"#d8576b\"],[0.6666666666666666,\"#ed7953\"],[0.7777777777777778,\"#fb9f3a\"],[0.8888888888888888,\"#fdca26\"],[1.0,\"#f0f921\"]],\"sequentialminus\":[[0.0,\"#0d0887\"],[0.1111111111111111,\"#46039f\"],[0.2222222222222222,\"#7201a8\"],[0.3333333333333333,\"#9c179e\"],[0.4444444444444444,\"#bd3786\"],[0.5555555555555556,\"#d8576b\"],[0.6666666666666666,\"#ed7953\"],[0.7777777777777778,\"#fb9f3a\"],[0.8888888888888888,\"#fdca26\"],[1.0,\"#f0f921\"]]},\"colorway\":[\"#636efa\",\"#EF553B\",\"#00cc96\",\"#ab63fa\",\"#FFA15A\",\"#19d3f3\",\"#FF6692\",\"#B6E880\",\"#FF97FF\",\"#FECB52\"],\"font\":{\"color\":\"#2a3f5f\"},\"geo\":{\"bgcolor\":\"white\",\"lakecolor\":\"white\",\"landcolor\":\"#E5ECF6\",\"showlakes\":true,\"showland\":true,\"subunitcolor\":\"white\"},\"hoverlabel\":{\"align\":\"left\"},\"hovermode\":\"closest\",\"mapbox\":{\"style\":\"light\"},\"paper_bgcolor\":\"white\",\"plot_bgcolor\":\"#E5ECF6\",\"polar\":{\"angularaxis\":{\"gridcolor\":\"white\",\"linecolor\":\"white\",\"ticks\":\"\"},\"bgcolor\":\"#E5ECF6\",\"radialaxis\":{\"gridcolor\":\"white\",\"linecolor\":\"white\",\"ticks\":\"\"}},\"scene\":{\"xaxis\":{\"backgroundcolor\":\"#E5ECF6\",\"gridcolor\":\"white\",\"gridwidth\":2,\"linecolor\":\"white\",\"showbackground\":true,\"ticks\":\"\",\"zerolinecolor\":\"white\"},\"yaxis\":{\"backgroundcolor\":\"#E5ECF6\",\"gridcolor\":\"white\",\"gridwidth\":2,\"linecolor\":\"white\",\"showbackground\":true,\"ticks\":\"\",\"zerolinecolor\":\"white\"},\"zaxis\":{\"backgroundcolor\":\"#E5ECF6\",\"gridcolor\":\"white\",\"gridwidth\":2,\"linecolor\":\"white\",\"showbackground\":true,\"ticks\":\"\",\"zerolinecolor\":\"white\"}},\"shapedefaults\":{\"line\":{\"color\":\"#2a3f5f\"}},\"ternary\":{\"aaxis\":{\"gridcolor\":\"white\",\"linecolor\":\"white\",\"ticks\":\"\"},\"baxis\":{\"gridcolor\":\"white\",\"linecolor\":\"white\",\"ticks\":\"\"},\"bgcolor\":\"#E5ECF6\",\"caxis\":{\"gridcolor\":\"white\",\"linecolor\":\"white\",\"ticks\":\"\"}},\"title\":{\"x\":0.05},\"xaxis\":{\"automargin\":true,\"gridcolor\":\"white\",\"linecolor\":\"white\",\"ticks\":\"\",\"title\":{\"standoff\":15},\"zerolinecolor\":\"white\",\"zerolinewidth\":2},\"yaxis\":{\"automargin\":true,\"gridcolor\":\"white\",\"linecolor\":\"white\",\"ticks\":\"\",\"title\":{\"standoff\":15},\"zerolinecolor\":\"white\",\"zerolinewidth\":2}}},\"title\":{\"font\":{\"color\":\"#4D5663\"}},\"xaxis\":{\"gridcolor\":\"#E1E5ED\",\"showgrid\":true,\"tickfont\":{\"color\":\"#4D5663\"},\"title\":{\"font\":{\"color\":\"#4D5663\"},\"text\":\"\"},\"zerolinecolor\":\"#E1E5ED\"},\"yaxis\":{\"gridcolor\":\"#E1E5ED\",\"showgrid\":true,\"tickfont\":{\"color\":\"#4D5663\"},\"title\":{\"font\":{\"color\":\"#4D5663\"},\"text\":\"\"},\"zerolinecolor\":\"#E1E5ED\"}},                        {\"showLink\": true, \"linkText\": \"Export to plot.ly\", \"plotlyServerURL\": \"https://plot.ly\", \"responsive\": true}                    ).then(function(){\n",
       "                            \n",
       "var gd = document.getElementById('afba90ce-5c4f-4d65-a47c-3f3fbd7a6c5f');\n",
       "var x = new MutationObserver(function (mutations, observer) {{\n",
       "        var display = window.getComputedStyle(gd).display;\n",
       "        if (!display || display === 'none') {{\n",
       "            console.log([gd, 'removed!']);\n",
       "            Plotly.purge(gd);\n",
       "            observer.disconnect();\n",
       "        }}\n",
       "}});\n",
       "\n",
       "// Listen for the removal of the full notebook cells\n",
       "var notebookContainer = gd.closest('#notebook-container');\n",
       "if (notebookContainer) {{\n",
       "    x.observe(notebookContainer, {childList: true});\n",
       "}}\n",
       "\n",
       "// Listen for the clearing of the current output cell\n",
       "var outputEl = gd.closest('.output');\n",
       "if (outputEl) {{\n",
       "    x.observe(outputEl, {childList: true});\n",
       "}}\n",
       "\n",
       "                        })                };                });            </script>        </div>"
      ]
     },
     "metadata": {},
     "output_type": "display_data"
    }
   ],
   "source": [
    "%matplotlib inline\n",
    "df.iplot(asFigure=True) \n",
    "df.iplot()"
   ]
  },
  {
   "cell_type": "code",
   "execution_count": 6,
   "metadata": {},
   "outputs": [
    {
     "data": {
      "application/vnd.plotly.v1+json": {
       "config": {
        "linkText": "Export to plot.ly",
        "plotlyServerURL": "https://plot.ly",
        "showLink": true
       },
       "data": [
        {
         "line": {
          "color": "rgba(255, 153, 51, 1.0)",
          "dash": "solid",
          "shape": "linear",
          "width": 1.3
         },
         "marker": {
          "size": 20,
          "symbol": "circle"
         },
         "mode": "markers",
         "name": "B",
         "text": "",
         "type": "scatter",
         "x": [
          -0.21379038518686702,
          -0.2881234631694882,
          1.687031818981887,
          -1.0596805811366479,
          0.7056676453490747,
          -0.4928626434402184,
          0.33850678897844294,
          -1.1365532012393156,
          2.22191453283817,
          -1.3620857175620513,
          0.36896946879329245,
          0.4221536206989755,
          0.7281899107947287,
          -1.2377215311367844,
          -0.183857315020409,
          1.3878751024535392,
          -2.080665743096919,
          -1.644286250149681,
          0.6294408878087343,
          0.05543719194135943,
          0.38834850232706086,
          1.2385439904392541,
          0.7616814777089003,
          0.8100604469178284,
          -1.7357899124307927,
          0.5857940744331279,
          1.0852758495254575,
          -0.11451233355760886,
          -0.24564066981188823,
          0.5006503012279303,
          0.5497048414245632,
          2.7014575844254614,
          -0.28998640157069633,
          -0.13092688042405312,
          -1.0299743551366851,
          1.54532700344482,
          0.34570948137873997,
          0.03885334864587458,
          1.1495393347403176,
          1.2978444015505215,
          -0.15445587968137264,
          -0.9263861080879959,
          0.5069877878414278,
          -0.769378432702959,
          0.7899966811807752,
          -0.08734253876202357,
          -1.1407746455308567,
          -0.6168329084831372,
          0.20420394854844057,
          0.49021555757100205,
          -0.8019838933435394,
          -0.32006526913236216,
          -0.6739698696991888,
          -1.3362987248492733,
          -2.164522947216624,
          0.4584620676832864,
          0.6388705433591992,
          -0.48759310113111154,
          -0.4719391278616287,
          -1.4620591867932493,
          -0.18449217672530127,
          0.9439585270731953,
          0.4083408634321457,
          -0.988046557778806,
          0.16985453583959337,
          -1.438367478015253,
          -1.4100586880513233,
          -3.283065964351943,
          -1.8373487018263062,
          0.6488219286367138,
          0.28681820553897286,
          -0.7388386037590581,
          -0.5556428204242388,
          0.10030613571566298,
          1.5958673135642134,
          -0.1966594175392532,
          -0.9481083918396167,
          -1.5561738064875823,
          -0.6626995687127948,
          1.45914060730763,
          0.16378886187091027,
          1.0029633116313403,
          -0.58101803188326,
          0.09260704461129005,
          0.06351215987658128,
          -0.4144809318389637,
          0.8353564916883307,
          3.041369189044577,
          -0.8265909477797487,
          0.891030887375596,
          1.6581945064521428,
          -1.4545588655614945,
          0.9539117184819081,
          -0.15726287638775388,
          0.5002980790781194,
          -0.0004703239994698021,
          -1.133054159083484,
          -0.6238091479318407,
          -0.6549182319149431,
          -0.7418217369776801
         ],
         "y": [
          0.15034521125234812,
          -0.5987186933728933,
          -0.6454634726357826,
          -0.6154832554047287,
          -0.769946615156794,
          -0.46191050231649566,
          0.05418022249124648,
          0.24197012189315253,
          1.3704318070389399,
          -1.115033967499207,
          -1.2561117558758135,
          -0.5752846426550058,
          -0.9310407812666132,
          -2.1313187338220825,
          -0.5258905353326198,
          -0.16921425212822583,
          -1.3402012277342281,
          0.8022221150923157,
          0.049028277142209815,
          2.0690285587876134,
          0.5901836499759278,
          0.5396360288585632,
          -0.9593170791098355,
          0.4703911795691247,
          -0.4088123868488733,
          -1.326522270762869,
          -0.4084516440752073,
          -0.21319177515630341,
          2.307192586560415,
          1.0279567709067112,
          1.3338803194915425,
          0.16950998713838028,
          0.4858789788510932,
          0.24110923216718624,
          1.9734967149972131,
          0.6219676407877484,
          0.07216010818714264,
          0.34036775803353736,
          0.3567623257427925,
          1.804130564330238,
          -0.4737804697504568,
          0.8695343627683411,
          -0.006651033966893561,
          -0.11901735621976775,
          -0.7789256367705151,
          1.0165590301846146,
          0.9673266086320613,
          1.3137958888935721,
          0.36431032413354375,
          1.0861186090802795,
          -0.5726383103479533,
          -0.1849084907144906,
          -0.44175252280494004,
          0.9311539502453478,
          0.019643606477361283,
          -0.7791451371204415,
          -1.2443704323676485,
          1.105468883927629,
          0.6262128820712691,
          0.5687334826194494,
          -0.9707670383730175,
          -1.1585829210383136,
          -1.9045091938104632,
          -0.16042897577663945,
          0.6024331394633871,
          -1.6103613623712325,
          -0.8494704182172462,
          -0.9019684366085758,
          -1.8460626219175116,
          0.9263616990924344,
          -0.08112674148248719,
          0.9925241445851437,
          -1.850684056918012,
          1.2555877550144339,
          1.0695245173103791,
          -0.09686194616054787,
          -0.9948039975413361,
          1.4853596684487107,
          -0.42393031979417733,
          -0.32579590265781827,
          -0.38559679609455516,
          -0.811761939096358,
          -0.15304642689703257,
          -1.0276461159200796,
          1.0986671255402287,
          0.5756542873871213,
          -0.5089669029678521,
          0.6667525593133969,
          0.4005815962155018,
          -1.2073886458765648,
          -0.42237563008840584,
          -0.5497516070594975,
          0.44406995134671673,
          -0.1946653293506403,
          0.3843043086821584,
          -0.8135642169019233,
          0.25627669360680666,
          -0.09427557436239774,
          0.35951103527697625,
          0.27612998716883735
         ]
        }
       ],
       "layout": {
        "legend": {
         "bgcolor": "#F5F6F9",
         "font": {
          "color": "#4D5663"
         }
        },
        "paper_bgcolor": "#F5F6F9",
        "plot_bgcolor": "#F5F6F9",
        "template": {
         "data": {
          "bar": [
           {
            "error_x": {
             "color": "#2a3f5f"
            },
            "error_y": {
             "color": "#2a3f5f"
            },
            "marker": {
             "line": {
              "color": "#E5ECF6",
              "width": 0.5
             },
             "pattern": {
              "fillmode": "overlay",
              "size": 10,
              "solidity": 0.2
             }
            },
            "type": "bar"
           }
          ],
          "barpolar": [
           {
            "marker": {
             "line": {
              "color": "#E5ECF6",
              "width": 0.5
             },
             "pattern": {
              "fillmode": "overlay",
              "size": 10,
              "solidity": 0.2
             }
            },
            "type": "barpolar"
           }
          ],
          "carpet": [
           {
            "aaxis": {
             "endlinecolor": "#2a3f5f",
             "gridcolor": "white",
             "linecolor": "white",
             "minorgridcolor": "white",
             "startlinecolor": "#2a3f5f"
            },
            "baxis": {
             "endlinecolor": "#2a3f5f",
             "gridcolor": "white",
             "linecolor": "white",
             "minorgridcolor": "white",
             "startlinecolor": "#2a3f5f"
            },
            "type": "carpet"
           }
          ],
          "choropleth": [
           {
            "colorbar": {
             "outlinewidth": 0,
             "ticks": ""
            },
            "type": "choropleth"
           }
          ],
          "contour": [
           {
            "colorbar": {
             "outlinewidth": 0,
             "ticks": ""
            },
            "colorscale": [
             [
              0,
              "#0d0887"
             ],
             [
              0.1111111111111111,
              "#46039f"
             ],
             [
              0.2222222222222222,
              "#7201a8"
             ],
             [
              0.3333333333333333,
              "#9c179e"
             ],
             [
              0.4444444444444444,
              "#bd3786"
             ],
             [
              0.5555555555555556,
              "#d8576b"
             ],
             [
              0.6666666666666666,
              "#ed7953"
             ],
             [
              0.7777777777777778,
              "#fb9f3a"
             ],
             [
              0.8888888888888888,
              "#fdca26"
             ],
             [
              1,
              "#f0f921"
             ]
            ],
            "type": "contour"
           }
          ],
          "contourcarpet": [
           {
            "colorbar": {
             "outlinewidth": 0,
             "ticks": ""
            },
            "type": "contourcarpet"
           }
          ],
          "heatmap": [
           {
            "colorbar": {
             "outlinewidth": 0,
             "ticks": ""
            },
            "colorscale": [
             [
              0,
              "#0d0887"
             ],
             [
              0.1111111111111111,
              "#46039f"
             ],
             [
              0.2222222222222222,
              "#7201a8"
             ],
             [
              0.3333333333333333,
              "#9c179e"
             ],
             [
              0.4444444444444444,
              "#bd3786"
             ],
             [
              0.5555555555555556,
              "#d8576b"
             ],
             [
              0.6666666666666666,
              "#ed7953"
             ],
             [
              0.7777777777777778,
              "#fb9f3a"
             ],
             [
              0.8888888888888888,
              "#fdca26"
             ],
             [
              1,
              "#f0f921"
             ]
            ],
            "type": "heatmap"
           }
          ],
          "heatmapgl": [
           {
            "colorbar": {
             "outlinewidth": 0,
             "ticks": ""
            },
            "colorscale": [
             [
              0,
              "#0d0887"
             ],
             [
              0.1111111111111111,
              "#46039f"
             ],
             [
              0.2222222222222222,
              "#7201a8"
             ],
             [
              0.3333333333333333,
              "#9c179e"
             ],
             [
              0.4444444444444444,
              "#bd3786"
             ],
             [
              0.5555555555555556,
              "#d8576b"
             ],
             [
              0.6666666666666666,
              "#ed7953"
             ],
             [
              0.7777777777777778,
              "#fb9f3a"
             ],
             [
              0.8888888888888888,
              "#fdca26"
             ],
             [
              1,
              "#f0f921"
             ]
            ],
            "type": "heatmapgl"
           }
          ],
          "histogram": [
           {
            "marker": {
             "pattern": {
              "fillmode": "overlay",
              "size": 10,
              "solidity": 0.2
             }
            },
            "type": "histogram"
           }
          ],
          "histogram2d": [
           {
            "colorbar": {
             "outlinewidth": 0,
             "ticks": ""
            },
            "colorscale": [
             [
              0,
              "#0d0887"
             ],
             [
              0.1111111111111111,
              "#46039f"
             ],
             [
              0.2222222222222222,
              "#7201a8"
             ],
             [
              0.3333333333333333,
              "#9c179e"
             ],
             [
              0.4444444444444444,
              "#bd3786"
             ],
             [
              0.5555555555555556,
              "#d8576b"
             ],
             [
              0.6666666666666666,
              "#ed7953"
             ],
             [
              0.7777777777777778,
              "#fb9f3a"
             ],
             [
              0.8888888888888888,
              "#fdca26"
             ],
             [
              1,
              "#f0f921"
             ]
            ],
            "type": "histogram2d"
           }
          ],
          "histogram2dcontour": [
           {
            "colorbar": {
             "outlinewidth": 0,
             "ticks": ""
            },
            "colorscale": [
             [
              0,
              "#0d0887"
             ],
             [
              0.1111111111111111,
              "#46039f"
             ],
             [
              0.2222222222222222,
              "#7201a8"
             ],
             [
              0.3333333333333333,
              "#9c179e"
             ],
             [
              0.4444444444444444,
              "#bd3786"
             ],
             [
              0.5555555555555556,
              "#d8576b"
             ],
             [
              0.6666666666666666,
              "#ed7953"
             ],
             [
              0.7777777777777778,
              "#fb9f3a"
             ],
             [
              0.8888888888888888,
              "#fdca26"
             ],
             [
              1,
              "#f0f921"
             ]
            ],
            "type": "histogram2dcontour"
           }
          ],
          "mesh3d": [
           {
            "colorbar": {
             "outlinewidth": 0,
             "ticks": ""
            },
            "type": "mesh3d"
           }
          ],
          "parcoords": [
           {
            "line": {
             "colorbar": {
              "outlinewidth": 0,
              "ticks": ""
             }
            },
            "type": "parcoords"
           }
          ],
          "pie": [
           {
            "automargin": true,
            "type": "pie"
           }
          ],
          "scatter": [
           {
            "fillpattern": {
             "fillmode": "overlay",
             "size": 10,
             "solidity": 0.2
            },
            "type": "scatter"
           }
          ],
          "scatter3d": [
           {
            "line": {
             "colorbar": {
              "outlinewidth": 0,
              "ticks": ""
             }
            },
            "marker": {
             "colorbar": {
              "outlinewidth": 0,
              "ticks": ""
             }
            },
            "type": "scatter3d"
           }
          ],
          "scattercarpet": [
           {
            "marker": {
             "colorbar": {
              "outlinewidth": 0,
              "ticks": ""
             }
            },
            "type": "scattercarpet"
           }
          ],
          "scattergeo": [
           {
            "marker": {
             "colorbar": {
              "outlinewidth": 0,
              "ticks": ""
             }
            },
            "type": "scattergeo"
           }
          ],
          "scattergl": [
           {
            "marker": {
             "colorbar": {
              "outlinewidth": 0,
              "ticks": ""
             }
            },
            "type": "scattergl"
           }
          ],
          "scattermapbox": [
           {
            "marker": {
             "colorbar": {
              "outlinewidth": 0,
              "ticks": ""
             }
            },
            "type": "scattermapbox"
           }
          ],
          "scatterpolar": [
           {
            "marker": {
             "colorbar": {
              "outlinewidth": 0,
              "ticks": ""
             }
            },
            "type": "scatterpolar"
           }
          ],
          "scatterpolargl": [
           {
            "marker": {
             "colorbar": {
              "outlinewidth": 0,
              "ticks": ""
             }
            },
            "type": "scatterpolargl"
           }
          ],
          "scatterternary": [
           {
            "marker": {
             "colorbar": {
              "outlinewidth": 0,
              "ticks": ""
             }
            },
            "type": "scatterternary"
           }
          ],
          "surface": [
           {
            "colorbar": {
             "outlinewidth": 0,
             "ticks": ""
            },
            "colorscale": [
             [
              0,
              "#0d0887"
             ],
             [
              0.1111111111111111,
              "#46039f"
             ],
             [
              0.2222222222222222,
              "#7201a8"
             ],
             [
              0.3333333333333333,
              "#9c179e"
             ],
             [
              0.4444444444444444,
              "#bd3786"
             ],
             [
              0.5555555555555556,
              "#d8576b"
             ],
             [
              0.6666666666666666,
              "#ed7953"
             ],
             [
              0.7777777777777778,
              "#fb9f3a"
             ],
             [
              0.8888888888888888,
              "#fdca26"
             ],
             [
              1,
              "#f0f921"
             ]
            ],
            "type": "surface"
           }
          ],
          "table": [
           {
            "cells": {
             "fill": {
              "color": "#EBF0F8"
             },
             "line": {
              "color": "white"
             }
            },
            "header": {
             "fill": {
              "color": "#C8D4E3"
             },
             "line": {
              "color": "white"
             }
            },
            "type": "table"
           }
          ]
         },
         "layout": {
          "annotationdefaults": {
           "arrowcolor": "#2a3f5f",
           "arrowhead": 0,
           "arrowwidth": 1
          },
          "autotypenumbers": "strict",
          "coloraxis": {
           "colorbar": {
            "outlinewidth": 0,
            "ticks": ""
           }
          },
          "colorscale": {
           "diverging": [
            [
             0,
             "#8e0152"
            ],
            [
             0.1,
             "#c51b7d"
            ],
            [
             0.2,
             "#de77ae"
            ],
            [
             0.3,
             "#f1b6da"
            ],
            [
             0.4,
             "#fde0ef"
            ],
            [
             0.5,
             "#f7f7f7"
            ],
            [
             0.6,
             "#e6f5d0"
            ],
            [
             0.7,
             "#b8e186"
            ],
            [
             0.8,
             "#7fbc41"
            ],
            [
             0.9,
             "#4d9221"
            ],
            [
             1,
             "#276419"
            ]
           ],
           "sequential": [
            [
             0,
             "#0d0887"
            ],
            [
             0.1111111111111111,
             "#46039f"
            ],
            [
             0.2222222222222222,
             "#7201a8"
            ],
            [
             0.3333333333333333,
             "#9c179e"
            ],
            [
             0.4444444444444444,
             "#bd3786"
            ],
            [
             0.5555555555555556,
             "#d8576b"
            ],
            [
             0.6666666666666666,
             "#ed7953"
            ],
            [
             0.7777777777777778,
             "#fb9f3a"
            ],
            [
             0.8888888888888888,
             "#fdca26"
            ],
            [
             1,
             "#f0f921"
            ]
           ],
           "sequentialminus": [
            [
             0,
             "#0d0887"
            ],
            [
             0.1111111111111111,
             "#46039f"
            ],
            [
             0.2222222222222222,
             "#7201a8"
            ],
            [
             0.3333333333333333,
             "#9c179e"
            ],
            [
             0.4444444444444444,
             "#bd3786"
            ],
            [
             0.5555555555555556,
             "#d8576b"
            ],
            [
             0.6666666666666666,
             "#ed7953"
            ],
            [
             0.7777777777777778,
             "#fb9f3a"
            ],
            [
             0.8888888888888888,
             "#fdca26"
            ],
            [
             1,
             "#f0f921"
            ]
           ]
          },
          "colorway": [
           "#636efa",
           "#EF553B",
           "#00cc96",
           "#ab63fa",
           "#FFA15A",
           "#19d3f3",
           "#FF6692",
           "#B6E880",
           "#FF97FF",
           "#FECB52"
          ],
          "font": {
           "color": "#2a3f5f"
          },
          "geo": {
           "bgcolor": "white",
           "lakecolor": "white",
           "landcolor": "#E5ECF6",
           "showlakes": true,
           "showland": true,
           "subunitcolor": "white"
          },
          "hoverlabel": {
           "align": "left"
          },
          "hovermode": "closest",
          "mapbox": {
           "style": "light"
          },
          "paper_bgcolor": "white",
          "plot_bgcolor": "#E5ECF6",
          "polar": {
           "angularaxis": {
            "gridcolor": "white",
            "linecolor": "white",
            "ticks": ""
           },
           "bgcolor": "#E5ECF6",
           "radialaxis": {
            "gridcolor": "white",
            "linecolor": "white",
            "ticks": ""
           }
          },
          "scene": {
           "xaxis": {
            "backgroundcolor": "#E5ECF6",
            "gridcolor": "white",
            "gridwidth": 2,
            "linecolor": "white",
            "showbackground": true,
            "ticks": "",
            "zerolinecolor": "white"
           },
           "yaxis": {
            "backgroundcolor": "#E5ECF6",
            "gridcolor": "white",
            "gridwidth": 2,
            "linecolor": "white",
            "showbackground": true,
            "ticks": "",
            "zerolinecolor": "white"
           },
           "zaxis": {
            "backgroundcolor": "#E5ECF6",
            "gridcolor": "white",
            "gridwidth": 2,
            "linecolor": "white",
            "showbackground": true,
            "ticks": "",
            "zerolinecolor": "white"
           }
          },
          "shapedefaults": {
           "line": {
            "color": "#2a3f5f"
           }
          },
          "ternary": {
           "aaxis": {
            "gridcolor": "white",
            "linecolor": "white",
            "ticks": ""
           },
           "baxis": {
            "gridcolor": "white",
            "linecolor": "white",
            "ticks": ""
           },
           "bgcolor": "#E5ECF6",
           "caxis": {
            "gridcolor": "white",
            "linecolor": "white",
            "ticks": ""
           }
          },
          "title": {
           "x": 0.05
          },
          "xaxis": {
           "automargin": true,
           "gridcolor": "white",
           "linecolor": "white",
           "ticks": "",
           "title": {
            "standoff": 15
           },
           "zerolinecolor": "white",
           "zerolinewidth": 2
          },
          "yaxis": {
           "automargin": true,
           "gridcolor": "white",
           "linecolor": "white",
           "ticks": "",
           "title": {
            "standoff": 15
           },
           "zerolinecolor": "white",
           "zerolinewidth": 2
          }
         }
        },
        "title": {
         "font": {
          "color": "#4D5663"
         }
        },
        "xaxis": {
         "gridcolor": "#E1E5ED",
         "showgrid": true,
         "tickfont": {
          "color": "#4D5663"
         },
         "title": {
          "font": {
           "color": "#4D5663"
          },
          "text": ""
         },
         "zerolinecolor": "#E1E5ED"
        },
        "yaxis": {
         "gridcolor": "#E1E5ED",
         "showgrid": true,
         "tickfont": {
          "color": "#4D5663"
         },
         "title": {
          "font": {
           "color": "#4D5663"
          },
          "text": ""
         },
         "zerolinecolor": "#E1E5ED"
        }
       }
      },
      "text/html": [
       "<div>                            <div id=\"6520701b-5300-4fc1-b645-53614e545823\" class=\"plotly-graph-div\" style=\"height:525px; width:100%;\"></div>            <script type=\"text/javascript\">                require([\"plotly\"], function(Plotly) {                    window.PLOTLYENV=window.PLOTLYENV || {};\n",
       "                    window.PLOTLYENV.BASE_URL='https://plot.ly';                                    if (document.getElementById(\"6520701b-5300-4fc1-b645-53614e545823\")) {                    Plotly.newPlot(                        \"6520701b-5300-4fc1-b645-53614e545823\",                        [{\"line\":{\"color\":\"rgba(255, 153, 51, 1.0)\",\"dash\":\"solid\",\"shape\":\"linear\",\"width\":1.3},\"marker\":{\"size\":20,\"symbol\":\"circle\"},\"mode\":\"markers\",\"name\":\"B\",\"text\":\"\",\"x\":[-0.21379038518686702,-0.2881234631694882,1.687031818981887,-1.0596805811366479,0.7056676453490747,-0.4928626434402184,0.33850678897844294,-1.1365532012393156,2.22191453283817,-1.3620857175620513,0.36896946879329245,0.4221536206989755,0.7281899107947287,-1.2377215311367844,-0.183857315020409,1.3878751024535392,-2.080665743096919,-1.644286250149681,0.6294408878087343,0.05543719194135943,0.38834850232706086,1.2385439904392541,0.7616814777089003,0.8100604469178284,-1.7357899124307927,0.5857940744331279,1.0852758495254575,-0.11451233355760886,-0.24564066981188823,0.5006503012279303,0.5497048414245632,2.7014575844254614,-0.28998640157069633,-0.13092688042405312,-1.0299743551366851,1.54532700344482,0.34570948137873997,0.03885334864587458,1.1495393347403176,1.2978444015505215,-0.15445587968137264,-0.9263861080879959,0.5069877878414278,-0.769378432702959,0.7899966811807752,-0.08734253876202357,-1.1407746455308567,-0.6168329084831372,0.20420394854844057,0.49021555757100205,-0.8019838933435394,-0.32006526913236216,-0.6739698696991888,-1.3362987248492733,-2.164522947216624,0.4584620676832864,0.6388705433591992,-0.48759310113111154,-0.4719391278616287,-1.4620591867932493,-0.18449217672530127,0.9439585270731953,0.4083408634321457,-0.988046557778806,0.16985453583959337,-1.438367478015253,-1.4100586880513233,-3.283065964351943,-1.8373487018263062,0.6488219286367138,0.28681820553897286,-0.7388386037590581,-0.5556428204242388,0.10030613571566298,1.5958673135642134,-0.1966594175392532,-0.9481083918396167,-1.5561738064875823,-0.6626995687127948,1.45914060730763,0.16378886187091027,1.0029633116313403,-0.58101803188326,0.09260704461129005,0.06351215987658128,-0.4144809318389637,0.8353564916883307,3.041369189044577,-0.8265909477797487,0.891030887375596,1.6581945064521428,-1.4545588655614945,0.9539117184819081,-0.15726287638775388,0.5002980790781194,-0.0004703239994698021,-1.133054159083484,-0.6238091479318407,-0.6549182319149431,-0.7418217369776801],\"y\":[0.15034521125234812,-0.5987186933728933,-0.6454634726357826,-0.6154832554047287,-0.769946615156794,-0.46191050231649566,0.05418022249124648,0.24197012189315253,1.3704318070389399,-1.115033967499207,-1.2561117558758135,-0.5752846426550058,-0.9310407812666132,-2.1313187338220825,-0.5258905353326198,-0.16921425212822583,-1.3402012277342281,0.8022221150923157,0.049028277142209815,2.0690285587876134,0.5901836499759278,0.5396360288585632,-0.9593170791098355,0.4703911795691247,-0.4088123868488733,-1.326522270762869,-0.4084516440752073,-0.21319177515630341,2.307192586560415,1.0279567709067112,1.3338803194915425,0.16950998713838028,0.4858789788510932,0.24110923216718624,1.9734967149972131,0.6219676407877484,0.07216010818714264,0.34036775803353736,0.3567623257427925,1.804130564330238,-0.4737804697504568,0.8695343627683411,-0.006651033966893561,-0.11901735621976775,-0.7789256367705151,1.0165590301846146,0.9673266086320613,1.3137958888935721,0.36431032413354375,1.0861186090802795,-0.5726383103479533,-0.1849084907144906,-0.44175252280494004,0.9311539502453478,0.019643606477361283,-0.7791451371204415,-1.2443704323676485,1.105468883927629,0.6262128820712691,0.5687334826194494,-0.9707670383730175,-1.1585829210383136,-1.9045091938104632,-0.16042897577663945,0.6024331394633871,-1.6103613623712325,-0.8494704182172462,-0.9019684366085758,-1.8460626219175116,0.9263616990924344,-0.08112674148248719,0.9925241445851437,-1.850684056918012,1.2555877550144339,1.0695245173103791,-0.09686194616054787,-0.9948039975413361,1.4853596684487107,-0.42393031979417733,-0.32579590265781827,-0.38559679609455516,-0.811761939096358,-0.15304642689703257,-1.0276461159200796,1.0986671255402287,0.5756542873871213,-0.5089669029678521,0.6667525593133969,0.4005815962155018,-1.2073886458765648,-0.42237563008840584,-0.5497516070594975,0.44406995134671673,-0.1946653293506403,0.3843043086821584,-0.8135642169019233,0.25627669360680666,-0.09427557436239774,0.35951103527697625,0.27612998716883735],\"type\":\"scatter\"}],                        {\"legend\":{\"bgcolor\":\"#F5F6F9\",\"font\":{\"color\":\"#4D5663\"}},\"paper_bgcolor\":\"#F5F6F9\",\"plot_bgcolor\":\"#F5F6F9\",\"template\":{\"data\":{\"barpolar\":[{\"marker\":{\"line\":{\"color\":\"#E5ECF6\",\"width\":0.5},\"pattern\":{\"fillmode\":\"overlay\",\"size\":10,\"solidity\":0.2}},\"type\":\"barpolar\"}],\"bar\":[{\"error_x\":{\"color\":\"#2a3f5f\"},\"error_y\":{\"color\":\"#2a3f5f\"},\"marker\":{\"line\":{\"color\":\"#E5ECF6\",\"width\":0.5},\"pattern\":{\"fillmode\":\"overlay\",\"size\":10,\"solidity\":0.2}},\"type\":\"bar\"}],\"carpet\":[{\"aaxis\":{\"endlinecolor\":\"#2a3f5f\",\"gridcolor\":\"white\",\"linecolor\":\"white\",\"minorgridcolor\":\"white\",\"startlinecolor\":\"#2a3f5f\"},\"baxis\":{\"endlinecolor\":\"#2a3f5f\",\"gridcolor\":\"white\",\"linecolor\":\"white\",\"minorgridcolor\":\"white\",\"startlinecolor\":\"#2a3f5f\"},\"type\":\"carpet\"}],\"choropleth\":[{\"colorbar\":{\"outlinewidth\":0,\"ticks\":\"\"},\"type\":\"choropleth\"}],\"contourcarpet\":[{\"colorbar\":{\"outlinewidth\":0,\"ticks\":\"\"},\"type\":\"contourcarpet\"}],\"contour\":[{\"colorbar\":{\"outlinewidth\":0,\"ticks\":\"\"},\"colorscale\":[[0.0,\"#0d0887\"],[0.1111111111111111,\"#46039f\"],[0.2222222222222222,\"#7201a8\"],[0.3333333333333333,\"#9c179e\"],[0.4444444444444444,\"#bd3786\"],[0.5555555555555556,\"#d8576b\"],[0.6666666666666666,\"#ed7953\"],[0.7777777777777778,\"#fb9f3a\"],[0.8888888888888888,\"#fdca26\"],[1.0,\"#f0f921\"]],\"type\":\"contour\"}],\"heatmapgl\":[{\"colorbar\":{\"outlinewidth\":0,\"ticks\":\"\"},\"colorscale\":[[0.0,\"#0d0887\"],[0.1111111111111111,\"#46039f\"],[0.2222222222222222,\"#7201a8\"],[0.3333333333333333,\"#9c179e\"],[0.4444444444444444,\"#bd3786\"],[0.5555555555555556,\"#d8576b\"],[0.6666666666666666,\"#ed7953\"],[0.7777777777777778,\"#fb9f3a\"],[0.8888888888888888,\"#fdca26\"],[1.0,\"#f0f921\"]],\"type\":\"heatmapgl\"}],\"heatmap\":[{\"colorbar\":{\"outlinewidth\":0,\"ticks\":\"\"},\"colorscale\":[[0.0,\"#0d0887\"],[0.1111111111111111,\"#46039f\"],[0.2222222222222222,\"#7201a8\"],[0.3333333333333333,\"#9c179e\"],[0.4444444444444444,\"#bd3786\"],[0.5555555555555556,\"#d8576b\"],[0.6666666666666666,\"#ed7953\"],[0.7777777777777778,\"#fb9f3a\"],[0.8888888888888888,\"#fdca26\"],[1.0,\"#f0f921\"]],\"type\":\"heatmap\"}],\"histogram2dcontour\":[{\"colorbar\":{\"outlinewidth\":0,\"ticks\":\"\"},\"colorscale\":[[0.0,\"#0d0887\"],[0.1111111111111111,\"#46039f\"],[0.2222222222222222,\"#7201a8\"],[0.3333333333333333,\"#9c179e\"],[0.4444444444444444,\"#bd3786\"],[0.5555555555555556,\"#d8576b\"],[0.6666666666666666,\"#ed7953\"],[0.7777777777777778,\"#fb9f3a\"],[0.8888888888888888,\"#fdca26\"],[1.0,\"#f0f921\"]],\"type\":\"histogram2dcontour\"}],\"histogram2d\":[{\"colorbar\":{\"outlinewidth\":0,\"ticks\":\"\"},\"colorscale\":[[0.0,\"#0d0887\"],[0.1111111111111111,\"#46039f\"],[0.2222222222222222,\"#7201a8\"],[0.3333333333333333,\"#9c179e\"],[0.4444444444444444,\"#bd3786\"],[0.5555555555555556,\"#d8576b\"],[0.6666666666666666,\"#ed7953\"],[0.7777777777777778,\"#fb9f3a\"],[0.8888888888888888,\"#fdca26\"],[1.0,\"#f0f921\"]],\"type\":\"histogram2d\"}],\"histogram\":[{\"marker\":{\"pattern\":{\"fillmode\":\"overlay\",\"size\":10,\"solidity\":0.2}},\"type\":\"histogram\"}],\"mesh3d\":[{\"colorbar\":{\"outlinewidth\":0,\"ticks\":\"\"},\"type\":\"mesh3d\"}],\"parcoords\":[{\"line\":{\"colorbar\":{\"outlinewidth\":0,\"ticks\":\"\"}},\"type\":\"parcoords\"}],\"pie\":[{\"automargin\":true,\"type\":\"pie\"}],\"scatter3d\":[{\"line\":{\"colorbar\":{\"outlinewidth\":0,\"ticks\":\"\"}},\"marker\":{\"colorbar\":{\"outlinewidth\":0,\"ticks\":\"\"}},\"type\":\"scatter3d\"}],\"scattercarpet\":[{\"marker\":{\"colorbar\":{\"outlinewidth\":0,\"ticks\":\"\"}},\"type\":\"scattercarpet\"}],\"scattergeo\":[{\"marker\":{\"colorbar\":{\"outlinewidth\":0,\"ticks\":\"\"}},\"type\":\"scattergeo\"}],\"scattergl\":[{\"marker\":{\"colorbar\":{\"outlinewidth\":0,\"ticks\":\"\"}},\"type\":\"scattergl\"}],\"scattermapbox\":[{\"marker\":{\"colorbar\":{\"outlinewidth\":0,\"ticks\":\"\"}},\"type\":\"scattermapbox\"}],\"scatterpolargl\":[{\"marker\":{\"colorbar\":{\"outlinewidth\":0,\"ticks\":\"\"}},\"type\":\"scatterpolargl\"}],\"scatterpolar\":[{\"marker\":{\"colorbar\":{\"outlinewidth\":0,\"ticks\":\"\"}},\"type\":\"scatterpolar\"}],\"scatter\":[{\"fillpattern\":{\"fillmode\":\"overlay\",\"size\":10,\"solidity\":0.2},\"type\":\"scatter\"}],\"scatterternary\":[{\"marker\":{\"colorbar\":{\"outlinewidth\":0,\"ticks\":\"\"}},\"type\":\"scatterternary\"}],\"surface\":[{\"colorbar\":{\"outlinewidth\":0,\"ticks\":\"\"},\"colorscale\":[[0.0,\"#0d0887\"],[0.1111111111111111,\"#46039f\"],[0.2222222222222222,\"#7201a8\"],[0.3333333333333333,\"#9c179e\"],[0.4444444444444444,\"#bd3786\"],[0.5555555555555556,\"#d8576b\"],[0.6666666666666666,\"#ed7953\"],[0.7777777777777778,\"#fb9f3a\"],[0.8888888888888888,\"#fdca26\"],[1.0,\"#f0f921\"]],\"type\":\"surface\"}],\"table\":[{\"cells\":{\"fill\":{\"color\":\"#EBF0F8\"},\"line\":{\"color\":\"white\"}},\"header\":{\"fill\":{\"color\":\"#C8D4E3\"},\"line\":{\"color\":\"white\"}},\"type\":\"table\"}]},\"layout\":{\"annotationdefaults\":{\"arrowcolor\":\"#2a3f5f\",\"arrowhead\":0,\"arrowwidth\":1},\"autotypenumbers\":\"strict\",\"coloraxis\":{\"colorbar\":{\"outlinewidth\":0,\"ticks\":\"\"}},\"colorscale\":{\"diverging\":[[0,\"#8e0152\"],[0.1,\"#c51b7d\"],[0.2,\"#de77ae\"],[0.3,\"#f1b6da\"],[0.4,\"#fde0ef\"],[0.5,\"#f7f7f7\"],[0.6,\"#e6f5d0\"],[0.7,\"#b8e186\"],[0.8,\"#7fbc41\"],[0.9,\"#4d9221\"],[1,\"#276419\"]],\"sequential\":[[0.0,\"#0d0887\"],[0.1111111111111111,\"#46039f\"],[0.2222222222222222,\"#7201a8\"],[0.3333333333333333,\"#9c179e\"],[0.4444444444444444,\"#bd3786\"],[0.5555555555555556,\"#d8576b\"],[0.6666666666666666,\"#ed7953\"],[0.7777777777777778,\"#fb9f3a\"],[0.8888888888888888,\"#fdca26\"],[1.0,\"#f0f921\"]],\"sequentialminus\":[[0.0,\"#0d0887\"],[0.1111111111111111,\"#46039f\"],[0.2222222222222222,\"#7201a8\"],[0.3333333333333333,\"#9c179e\"],[0.4444444444444444,\"#bd3786\"],[0.5555555555555556,\"#d8576b\"],[0.6666666666666666,\"#ed7953\"],[0.7777777777777778,\"#fb9f3a\"],[0.8888888888888888,\"#fdca26\"],[1.0,\"#f0f921\"]]},\"colorway\":[\"#636efa\",\"#EF553B\",\"#00cc96\",\"#ab63fa\",\"#FFA15A\",\"#19d3f3\",\"#FF6692\",\"#B6E880\",\"#FF97FF\",\"#FECB52\"],\"font\":{\"color\":\"#2a3f5f\"},\"geo\":{\"bgcolor\":\"white\",\"lakecolor\":\"white\",\"landcolor\":\"#E5ECF6\",\"showlakes\":true,\"showland\":true,\"subunitcolor\":\"white\"},\"hoverlabel\":{\"align\":\"left\"},\"hovermode\":\"closest\",\"mapbox\":{\"style\":\"light\"},\"paper_bgcolor\":\"white\",\"plot_bgcolor\":\"#E5ECF6\",\"polar\":{\"angularaxis\":{\"gridcolor\":\"white\",\"linecolor\":\"white\",\"ticks\":\"\"},\"bgcolor\":\"#E5ECF6\",\"radialaxis\":{\"gridcolor\":\"white\",\"linecolor\":\"white\",\"ticks\":\"\"}},\"scene\":{\"xaxis\":{\"backgroundcolor\":\"#E5ECF6\",\"gridcolor\":\"white\",\"gridwidth\":2,\"linecolor\":\"white\",\"showbackground\":true,\"ticks\":\"\",\"zerolinecolor\":\"white\"},\"yaxis\":{\"backgroundcolor\":\"#E5ECF6\",\"gridcolor\":\"white\",\"gridwidth\":2,\"linecolor\":\"white\",\"showbackground\":true,\"ticks\":\"\",\"zerolinecolor\":\"white\"},\"zaxis\":{\"backgroundcolor\":\"#E5ECF6\",\"gridcolor\":\"white\",\"gridwidth\":2,\"linecolor\":\"white\",\"showbackground\":true,\"ticks\":\"\",\"zerolinecolor\":\"white\"}},\"shapedefaults\":{\"line\":{\"color\":\"#2a3f5f\"}},\"ternary\":{\"aaxis\":{\"gridcolor\":\"white\",\"linecolor\":\"white\",\"ticks\":\"\"},\"baxis\":{\"gridcolor\":\"white\",\"linecolor\":\"white\",\"ticks\":\"\"},\"bgcolor\":\"#E5ECF6\",\"caxis\":{\"gridcolor\":\"white\",\"linecolor\":\"white\",\"ticks\":\"\"}},\"title\":{\"x\":0.05},\"xaxis\":{\"automargin\":true,\"gridcolor\":\"white\",\"linecolor\":\"white\",\"ticks\":\"\",\"title\":{\"standoff\":15},\"zerolinecolor\":\"white\",\"zerolinewidth\":2},\"yaxis\":{\"automargin\":true,\"gridcolor\":\"white\",\"linecolor\":\"white\",\"ticks\":\"\",\"title\":{\"standoff\":15},\"zerolinecolor\":\"white\",\"zerolinewidth\":2}}},\"title\":{\"font\":{\"color\":\"#4D5663\"}},\"xaxis\":{\"gridcolor\":\"#E1E5ED\",\"showgrid\":true,\"tickfont\":{\"color\":\"#4D5663\"},\"title\":{\"font\":{\"color\":\"#4D5663\"},\"text\":\"\"},\"zerolinecolor\":\"#E1E5ED\"},\"yaxis\":{\"gridcolor\":\"#E1E5ED\",\"showgrid\":true,\"tickfont\":{\"color\":\"#4D5663\"},\"title\":{\"font\":{\"color\":\"#4D5663\"},\"text\":\"\"},\"zerolinecolor\":\"#E1E5ED\"}},                        {\"showLink\": true, \"linkText\": \"Export to plot.ly\", \"plotlyServerURL\": \"https://plot.ly\", \"responsive\": true}                    ).then(function(){\n",
       "                            \n",
       "var gd = document.getElementById('6520701b-5300-4fc1-b645-53614e545823');\n",
       "var x = new MutationObserver(function (mutations, observer) {{\n",
       "        var display = window.getComputedStyle(gd).display;\n",
       "        if (!display || display === 'none') {{\n",
       "            console.log([gd, 'removed!']);\n",
       "            Plotly.purge(gd);\n",
       "            observer.disconnect();\n",
       "        }}\n",
       "}});\n",
       "\n",
       "// Listen for the removal of the full notebook cells\n",
       "var notebookContainer = gd.closest('#notebook-container');\n",
       "if (notebookContainer) {{\n",
       "    x.observe(notebookContainer, {childList: true});\n",
       "}}\n",
       "\n",
       "// Listen for the clearing of the current output cell\n",
       "var outputEl = gd.closest('.output');\n",
       "if (outputEl) {{\n",
       "    x.observe(outputEl, {childList: true});\n",
       "}}\n",
       "\n",
       "                        })                };                });            </script>        </div>"
      ]
     },
     "metadata": {},
     "output_type": "display_data"
    }
   ],
   "source": [
    "df.iplot(kind='scatter', x='A', y='B', mode='markers', size=20)"
   ]
  },
  {
   "cell_type": "code",
   "execution_count": 7,
   "metadata": {},
   "outputs": [
    {
     "data": {
      "application/vnd.plotly.v1+json": {
       "config": {
        "linkText": "Export to plot.ly",
        "plotlyServerURL": "https://plot.ly",
        "showLink": true
       },
       "data": [
        {
         "marker": {
          "color": "rgba(255, 153, 51, 0.6)",
          "line": {
           "color": "rgba(255, 153, 51, 1.0)",
           "width": 1
          }
         },
         "name": "Values",
         "orientation": "v",
         "text": "",
         "type": "bar",
         "x": [
          "A",
          "B",
          "C"
         ],
         "y": [
          32,
          43,
          53
         ]
        }
       ],
       "layout": {
        "legend": {
         "bgcolor": "#F5F6F9",
         "font": {
          "color": "#4D5663"
         }
        },
        "paper_bgcolor": "#F5F6F9",
        "plot_bgcolor": "#F5F6F9",
        "template": {
         "data": {
          "bar": [
           {
            "error_x": {
             "color": "#2a3f5f"
            },
            "error_y": {
             "color": "#2a3f5f"
            },
            "marker": {
             "line": {
              "color": "#E5ECF6",
              "width": 0.5
             },
             "pattern": {
              "fillmode": "overlay",
              "size": 10,
              "solidity": 0.2
             }
            },
            "type": "bar"
           }
          ],
          "barpolar": [
           {
            "marker": {
             "line": {
              "color": "#E5ECF6",
              "width": 0.5
             },
             "pattern": {
              "fillmode": "overlay",
              "size": 10,
              "solidity": 0.2
             }
            },
            "type": "barpolar"
           }
          ],
          "carpet": [
           {
            "aaxis": {
             "endlinecolor": "#2a3f5f",
             "gridcolor": "white",
             "linecolor": "white",
             "minorgridcolor": "white",
             "startlinecolor": "#2a3f5f"
            },
            "baxis": {
             "endlinecolor": "#2a3f5f",
             "gridcolor": "white",
             "linecolor": "white",
             "minorgridcolor": "white",
             "startlinecolor": "#2a3f5f"
            },
            "type": "carpet"
           }
          ],
          "choropleth": [
           {
            "colorbar": {
             "outlinewidth": 0,
             "ticks": ""
            },
            "type": "choropleth"
           }
          ],
          "contour": [
           {
            "colorbar": {
             "outlinewidth": 0,
             "ticks": ""
            },
            "colorscale": [
             [
              0,
              "#0d0887"
             ],
             [
              0.1111111111111111,
              "#46039f"
             ],
             [
              0.2222222222222222,
              "#7201a8"
             ],
             [
              0.3333333333333333,
              "#9c179e"
             ],
             [
              0.4444444444444444,
              "#bd3786"
             ],
             [
              0.5555555555555556,
              "#d8576b"
             ],
             [
              0.6666666666666666,
              "#ed7953"
             ],
             [
              0.7777777777777778,
              "#fb9f3a"
             ],
             [
              0.8888888888888888,
              "#fdca26"
             ],
             [
              1,
              "#f0f921"
             ]
            ],
            "type": "contour"
           }
          ],
          "contourcarpet": [
           {
            "colorbar": {
             "outlinewidth": 0,
             "ticks": ""
            },
            "type": "contourcarpet"
           }
          ],
          "heatmap": [
           {
            "colorbar": {
             "outlinewidth": 0,
             "ticks": ""
            },
            "colorscale": [
             [
              0,
              "#0d0887"
             ],
             [
              0.1111111111111111,
              "#46039f"
             ],
             [
              0.2222222222222222,
              "#7201a8"
             ],
             [
              0.3333333333333333,
              "#9c179e"
             ],
             [
              0.4444444444444444,
              "#bd3786"
             ],
             [
              0.5555555555555556,
              "#d8576b"
             ],
             [
              0.6666666666666666,
              "#ed7953"
             ],
             [
              0.7777777777777778,
              "#fb9f3a"
             ],
             [
              0.8888888888888888,
              "#fdca26"
             ],
             [
              1,
              "#f0f921"
             ]
            ],
            "type": "heatmap"
           }
          ],
          "heatmapgl": [
           {
            "colorbar": {
             "outlinewidth": 0,
             "ticks": ""
            },
            "colorscale": [
             [
              0,
              "#0d0887"
             ],
             [
              0.1111111111111111,
              "#46039f"
             ],
             [
              0.2222222222222222,
              "#7201a8"
             ],
             [
              0.3333333333333333,
              "#9c179e"
             ],
             [
              0.4444444444444444,
              "#bd3786"
             ],
             [
              0.5555555555555556,
              "#d8576b"
             ],
             [
              0.6666666666666666,
              "#ed7953"
             ],
             [
              0.7777777777777778,
              "#fb9f3a"
             ],
             [
              0.8888888888888888,
              "#fdca26"
             ],
             [
              1,
              "#f0f921"
             ]
            ],
            "type": "heatmapgl"
           }
          ],
          "histogram": [
           {
            "marker": {
             "pattern": {
              "fillmode": "overlay",
              "size": 10,
              "solidity": 0.2
             }
            },
            "type": "histogram"
           }
          ],
          "histogram2d": [
           {
            "colorbar": {
             "outlinewidth": 0,
             "ticks": ""
            },
            "colorscale": [
             [
              0,
              "#0d0887"
             ],
             [
              0.1111111111111111,
              "#46039f"
             ],
             [
              0.2222222222222222,
              "#7201a8"
             ],
             [
              0.3333333333333333,
              "#9c179e"
             ],
             [
              0.4444444444444444,
              "#bd3786"
             ],
             [
              0.5555555555555556,
              "#d8576b"
             ],
             [
              0.6666666666666666,
              "#ed7953"
             ],
             [
              0.7777777777777778,
              "#fb9f3a"
             ],
             [
              0.8888888888888888,
              "#fdca26"
             ],
             [
              1,
              "#f0f921"
             ]
            ],
            "type": "histogram2d"
           }
          ],
          "histogram2dcontour": [
           {
            "colorbar": {
             "outlinewidth": 0,
             "ticks": ""
            },
            "colorscale": [
             [
              0,
              "#0d0887"
             ],
             [
              0.1111111111111111,
              "#46039f"
             ],
             [
              0.2222222222222222,
              "#7201a8"
             ],
             [
              0.3333333333333333,
              "#9c179e"
             ],
             [
              0.4444444444444444,
              "#bd3786"
             ],
             [
              0.5555555555555556,
              "#d8576b"
             ],
             [
              0.6666666666666666,
              "#ed7953"
             ],
             [
              0.7777777777777778,
              "#fb9f3a"
             ],
             [
              0.8888888888888888,
              "#fdca26"
             ],
             [
              1,
              "#f0f921"
             ]
            ],
            "type": "histogram2dcontour"
           }
          ],
          "mesh3d": [
           {
            "colorbar": {
             "outlinewidth": 0,
             "ticks": ""
            },
            "type": "mesh3d"
           }
          ],
          "parcoords": [
           {
            "line": {
             "colorbar": {
              "outlinewidth": 0,
              "ticks": ""
             }
            },
            "type": "parcoords"
           }
          ],
          "pie": [
           {
            "automargin": true,
            "type": "pie"
           }
          ],
          "scatter": [
           {
            "fillpattern": {
             "fillmode": "overlay",
             "size": 10,
             "solidity": 0.2
            },
            "type": "scatter"
           }
          ],
          "scatter3d": [
           {
            "line": {
             "colorbar": {
              "outlinewidth": 0,
              "ticks": ""
             }
            },
            "marker": {
             "colorbar": {
              "outlinewidth": 0,
              "ticks": ""
             }
            },
            "type": "scatter3d"
           }
          ],
          "scattercarpet": [
           {
            "marker": {
             "colorbar": {
              "outlinewidth": 0,
              "ticks": ""
             }
            },
            "type": "scattercarpet"
           }
          ],
          "scattergeo": [
           {
            "marker": {
             "colorbar": {
              "outlinewidth": 0,
              "ticks": ""
             }
            },
            "type": "scattergeo"
           }
          ],
          "scattergl": [
           {
            "marker": {
             "colorbar": {
              "outlinewidth": 0,
              "ticks": ""
             }
            },
            "type": "scattergl"
           }
          ],
          "scattermapbox": [
           {
            "marker": {
             "colorbar": {
              "outlinewidth": 0,
              "ticks": ""
             }
            },
            "type": "scattermapbox"
           }
          ],
          "scatterpolar": [
           {
            "marker": {
             "colorbar": {
              "outlinewidth": 0,
              "ticks": ""
             }
            },
            "type": "scatterpolar"
           }
          ],
          "scatterpolargl": [
           {
            "marker": {
             "colorbar": {
              "outlinewidth": 0,
              "ticks": ""
             }
            },
            "type": "scatterpolargl"
           }
          ],
          "scatterternary": [
           {
            "marker": {
             "colorbar": {
              "outlinewidth": 0,
              "ticks": ""
             }
            },
            "type": "scatterternary"
           }
          ],
          "surface": [
           {
            "colorbar": {
             "outlinewidth": 0,
             "ticks": ""
            },
            "colorscale": [
             [
              0,
              "#0d0887"
             ],
             [
              0.1111111111111111,
              "#46039f"
             ],
             [
              0.2222222222222222,
              "#7201a8"
             ],
             [
              0.3333333333333333,
              "#9c179e"
             ],
             [
              0.4444444444444444,
              "#bd3786"
             ],
             [
              0.5555555555555556,
              "#d8576b"
             ],
             [
              0.6666666666666666,
              "#ed7953"
             ],
             [
              0.7777777777777778,
              "#fb9f3a"
             ],
             [
              0.8888888888888888,
              "#fdca26"
             ],
             [
              1,
              "#f0f921"
             ]
            ],
            "type": "surface"
           }
          ],
          "table": [
           {
            "cells": {
             "fill": {
              "color": "#EBF0F8"
             },
             "line": {
              "color": "white"
             }
            },
            "header": {
             "fill": {
              "color": "#C8D4E3"
             },
             "line": {
              "color": "white"
             }
            },
            "type": "table"
           }
          ]
         },
         "layout": {
          "annotationdefaults": {
           "arrowcolor": "#2a3f5f",
           "arrowhead": 0,
           "arrowwidth": 1
          },
          "autotypenumbers": "strict",
          "coloraxis": {
           "colorbar": {
            "outlinewidth": 0,
            "ticks": ""
           }
          },
          "colorscale": {
           "diverging": [
            [
             0,
             "#8e0152"
            ],
            [
             0.1,
             "#c51b7d"
            ],
            [
             0.2,
             "#de77ae"
            ],
            [
             0.3,
             "#f1b6da"
            ],
            [
             0.4,
             "#fde0ef"
            ],
            [
             0.5,
             "#f7f7f7"
            ],
            [
             0.6,
             "#e6f5d0"
            ],
            [
             0.7,
             "#b8e186"
            ],
            [
             0.8,
             "#7fbc41"
            ],
            [
             0.9,
             "#4d9221"
            ],
            [
             1,
             "#276419"
            ]
           ],
           "sequential": [
            [
             0,
             "#0d0887"
            ],
            [
             0.1111111111111111,
             "#46039f"
            ],
            [
             0.2222222222222222,
             "#7201a8"
            ],
            [
             0.3333333333333333,
             "#9c179e"
            ],
            [
             0.4444444444444444,
             "#bd3786"
            ],
            [
             0.5555555555555556,
             "#d8576b"
            ],
            [
             0.6666666666666666,
             "#ed7953"
            ],
            [
             0.7777777777777778,
             "#fb9f3a"
            ],
            [
             0.8888888888888888,
             "#fdca26"
            ],
            [
             1,
             "#f0f921"
            ]
           ],
           "sequentialminus": [
            [
             0,
             "#0d0887"
            ],
            [
             0.1111111111111111,
             "#46039f"
            ],
            [
             0.2222222222222222,
             "#7201a8"
            ],
            [
             0.3333333333333333,
             "#9c179e"
            ],
            [
             0.4444444444444444,
             "#bd3786"
            ],
            [
             0.5555555555555556,
             "#d8576b"
            ],
            [
             0.6666666666666666,
             "#ed7953"
            ],
            [
             0.7777777777777778,
             "#fb9f3a"
            ],
            [
             0.8888888888888888,
             "#fdca26"
            ],
            [
             1,
             "#f0f921"
            ]
           ]
          },
          "colorway": [
           "#636efa",
           "#EF553B",
           "#00cc96",
           "#ab63fa",
           "#FFA15A",
           "#19d3f3",
           "#FF6692",
           "#B6E880",
           "#FF97FF",
           "#FECB52"
          ],
          "font": {
           "color": "#2a3f5f"
          },
          "geo": {
           "bgcolor": "white",
           "lakecolor": "white",
           "landcolor": "#E5ECF6",
           "showlakes": true,
           "showland": true,
           "subunitcolor": "white"
          },
          "hoverlabel": {
           "align": "left"
          },
          "hovermode": "closest",
          "mapbox": {
           "style": "light"
          },
          "paper_bgcolor": "white",
          "plot_bgcolor": "#E5ECF6",
          "polar": {
           "angularaxis": {
            "gridcolor": "white",
            "linecolor": "white",
            "ticks": ""
           },
           "bgcolor": "#E5ECF6",
           "radialaxis": {
            "gridcolor": "white",
            "linecolor": "white",
            "ticks": ""
           }
          },
          "scene": {
           "xaxis": {
            "backgroundcolor": "#E5ECF6",
            "gridcolor": "white",
            "gridwidth": 2,
            "linecolor": "white",
            "showbackground": true,
            "ticks": "",
            "zerolinecolor": "white"
           },
           "yaxis": {
            "backgroundcolor": "#E5ECF6",
            "gridcolor": "white",
            "gridwidth": 2,
            "linecolor": "white",
            "showbackground": true,
            "ticks": "",
            "zerolinecolor": "white"
           },
           "zaxis": {
            "backgroundcolor": "#E5ECF6",
            "gridcolor": "white",
            "gridwidth": 2,
            "linecolor": "white",
            "showbackground": true,
            "ticks": "",
            "zerolinecolor": "white"
           }
          },
          "shapedefaults": {
           "line": {
            "color": "#2a3f5f"
           }
          },
          "ternary": {
           "aaxis": {
            "gridcolor": "white",
            "linecolor": "white",
            "ticks": ""
           },
           "baxis": {
            "gridcolor": "white",
            "linecolor": "white",
            "ticks": ""
           },
           "bgcolor": "#E5ECF6",
           "caxis": {
            "gridcolor": "white",
            "linecolor": "white",
            "ticks": ""
           }
          },
          "title": {
           "x": 0.05
          },
          "xaxis": {
           "automargin": true,
           "gridcolor": "white",
           "linecolor": "white",
           "ticks": "",
           "title": {
            "standoff": 15
           },
           "zerolinecolor": "white",
           "zerolinewidth": 2
          },
          "yaxis": {
           "automargin": true,
           "gridcolor": "white",
           "linecolor": "white",
           "ticks": "",
           "title": {
            "standoff": 15
           },
           "zerolinecolor": "white",
           "zerolinewidth": 2
          }
         }
        },
        "title": {
         "font": {
          "color": "#4D5663"
         }
        },
        "xaxis": {
         "gridcolor": "#E1E5ED",
         "showgrid": true,
         "tickfont": {
          "color": "#4D5663"
         },
         "title": {
          "font": {
           "color": "#4D5663"
          },
          "text": ""
         },
         "zerolinecolor": "#E1E5ED"
        },
        "yaxis": {
         "gridcolor": "#E1E5ED",
         "showgrid": true,
         "tickfont": {
          "color": "#4D5663"
         },
         "title": {
          "font": {
           "color": "#4D5663"
          },
          "text": ""
         },
         "zerolinecolor": "#E1E5ED"
        }
       }
      },
      "text/html": [
       "<div>                            <div id=\"af7c69f3-3530-46ca-aaf4-10ef76066d8e\" class=\"plotly-graph-div\" style=\"height:525px; width:100%;\"></div>            <script type=\"text/javascript\">                require([\"plotly\"], function(Plotly) {                    window.PLOTLYENV=window.PLOTLYENV || {};\n",
       "                    window.PLOTLYENV.BASE_URL='https://plot.ly';                                    if (document.getElementById(\"af7c69f3-3530-46ca-aaf4-10ef76066d8e\")) {                    Plotly.newPlot(                        \"af7c69f3-3530-46ca-aaf4-10ef76066d8e\",                        [{\"marker\":{\"color\":\"rgba(255, 153, 51, 0.6)\",\"line\":{\"color\":\"rgba(255, 153, 51, 1.0)\",\"width\":1}},\"name\":\"Values\",\"orientation\":\"v\",\"text\":\"\",\"x\":[\"A\",\"B\",\"C\"],\"y\":[32,43,53],\"type\":\"bar\"}],                        {\"legend\":{\"bgcolor\":\"#F5F6F9\",\"font\":{\"color\":\"#4D5663\"}},\"paper_bgcolor\":\"#F5F6F9\",\"plot_bgcolor\":\"#F5F6F9\",\"template\":{\"data\":{\"barpolar\":[{\"marker\":{\"line\":{\"color\":\"#E5ECF6\",\"width\":0.5},\"pattern\":{\"fillmode\":\"overlay\",\"size\":10,\"solidity\":0.2}},\"type\":\"barpolar\"}],\"bar\":[{\"error_x\":{\"color\":\"#2a3f5f\"},\"error_y\":{\"color\":\"#2a3f5f\"},\"marker\":{\"line\":{\"color\":\"#E5ECF6\",\"width\":0.5},\"pattern\":{\"fillmode\":\"overlay\",\"size\":10,\"solidity\":0.2}},\"type\":\"bar\"}],\"carpet\":[{\"aaxis\":{\"endlinecolor\":\"#2a3f5f\",\"gridcolor\":\"white\",\"linecolor\":\"white\",\"minorgridcolor\":\"white\",\"startlinecolor\":\"#2a3f5f\"},\"baxis\":{\"endlinecolor\":\"#2a3f5f\",\"gridcolor\":\"white\",\"linecolor\":\"white\",\"minorgridcolor\":\"white\",\"startlinecolor\":\"#2a3f5f\"},\"type\":\"carpet\"}],\"choropleth\":[{\"colorbar\":{\"outlinewidth\":0,\"ticks\":\"\"},\"type\":\"choropleth\"}],\"contourcarpet\":[{\"colorbar\":{\"outlinewidth\":0,\"ticks\":\"\"},\"type\":\"contourcarpet\"}],\"contour\":[{\"colorbar\":{\"outlinewidth\":0,\"ticks\":\"\"},\"colorscale\":[[0.0,\"#0d0887\"],[0.1111111111111111,\"#46039f\"],[0.2222222222222222,\"#7201a8\"],[0.3333333333333333,\"#9c179e\"],[0.4444444444444444,\"#bd3786\"],[0.5555555555555556,\"#d8576b\"],[0.6666666666666666,\"#ed7953\"],[0.7777777777777778,\"#fb9f3a\"],[0.8888888888888888,\"#fdca26\"],[1.0,\"#f0f921\"]],\"type\":\"contour\"}],\"heatmapgl\":[{\"colorbar\":{\"outlinewidth\":0,\"ticks\":\"\"},\"colorscale\":[[0.0,\"#0d0887\"],[0.1111111111111111,\"#46039f\"],[0.2222222222222222,\"#7201a8\"],[0.3333333333333333,\"#9c179e\"],[0.4444444444444444,\"#bd3786\"],[0.5555555555555556,\"#d8576b\"],[0.6666666666666666,\"#ed7953\"],[0.7777777777777778,\"#fb9f3a\"],[0.8888888888888888,\"#fdca26\"],[1.0,\"#f0f921\"]],\"type\":\"heatmapgl\"}],\"heatmap\":[{\"colorbar\":{\"outlinewidth\":0,\"ticks\":\"\"},\"colorscale\":[[0.0,\"#0d0887\"],[0.1111111111111111,\"#46039f\"],[0.2222222222222222,\"#7201a8\"],[0.3333333333333333,\"#9c179e\"],[0.4444444444444444,\"#bd3786\"],[0.5555555555555556,\"#d8576b\"],[0.6666666666666666,\"#ed7953\"],[0.7777777777777778,\"#fb9f3a\"],[0.8888888888888888,\"#fdca26\"],[1.0,\"#f0f921\"]],\"type\":\"heatmap\"}],\"histogram2dcontour\":[{\"colorbar\":{\"outlinewidth\":0,\"ticks\":\"\"},\"colorscale\":[[0.0,\"#0d0887\"],[0.1111111111111111,\"#46039f\"],[0.2222222222222222,\"#7201a8\"],[0.3333333333333333,\"#9c179e\"],[0.4444444444444444,\"#bd3786\"],[0.5555555555555556,\"#d8576b\"],[0.6666666666666666,\"#ed7953\"],[0.7777777777777778,\"#fb9f3a\"],[0.8888888888888888,\"#fdca26\"],[1.0,\"#f0f921\"]],\"type\":\"histogram2dcontour\"}],\"histogram2d\":[{\"colorbar\":{\"outlinewidth\":0,\"ticks\":\"\"},\"colorscale\":[[0.0,\"#0d0887\"],[0.1111111111111111,\"#46039f\"],[0.2222222222222222,\"#7201a8\"],[0.3333333333333333,\"#9c179e\"],[0.4444444444444444,\"#bd3786\"],[0.5555555555555556,\"#d8576b\"],[0.6666666666666666,\"#ed7953\"],[0.7777777777777778,\"#fb9f3a\"],[0.8888888888888888,\"#fdca26\"],[1.0,\"#f0f921\"]],\"type\":\"histogram2d\"}],\"histogram\":[{\"marker\":{\"pattern\":{\"fillmode\":\"overlay\",\"size\":10,\"solidity\":0.2}},\"type\":\"histogram\"}],\"mesh3d\":[{\"colorbar\":{\"outlinewidth\":0,\"ticks\":\"\"},\"type\":\"mesh3d\"}],\"parcoords\":[{\"line\":{\"colorbar\":{\"outlinewidth\":0,\"ticks\":\"\"}},\"type\":\"parcoords\"}],\"pie\":[{\"automargin\":true,\"type\":\"pie\"}],\"scatter3d\":[{\"line\":{\"colorbar\":{\"outlinewidth\":0,\"ticks\":\"\"}},\"marker\":{\"colorbar\":{\"outlinewidth\":0,\"ticks\":\"\"}},\"type\":\"scatter3d\"}],\"scattercarpet\":[{\"marker\":{\"colorbar\":{\"outlinewidth\":0,\"ticks\":\"\"}},\"type\":\"scattercarpet\"}],\"scattergeo\":[{\"marker\":{\"colorbar\":{\"outlinewidth\":0,\"ticks\":\"\"}},\"type\":\"scattergeo\"}],\"scattergl\":[{\"marker\":{\"colorbar\":{\"outlinewidth\":0,\"ticks\":\"\"}},\"type\":\"scattergl\"}],\"scattermapbox\":[{\"marker\":{\"colorbar\":{\"outlinewidth\":0,\"ticks\":\"\"}},\"type\":\"scattermapbox\"}],\"scatterpolargl\":[{\"marker\":{\"colorbar\":{\"outlinewidth\":0,\"ticks\":\"\"}},\"type\":\"scatterpolargl\"}],\"scatterpolar\":[{\"marker\":{\"colorbar\":{\"outlinewidth\":0,\"ticks\":\"\"}},\"type\":\"scatterpolar\"}],\"scatter\":[{\"fillpattern\":{\"fillmode\":\"overlay\",\"size\":10,\"solidity\":0.2},\"type\":\"scatter\"}],\"scatterternary\":[{\"marker\":{\"colorbar\":{\"outlinewidth\":0,\"ticks\":\"\"}},\"type\":\"scatterternary\"}],\"surface\":[{\"colorbar\":{\"outlinewidth\":0,\"ticks\":\"\"},\"colorscale\":[[0.0,\"#0d0887\"],[0.1111111111111111,\"#46039f\"],[0.2222222222222222,\"#7201a8\"],[0.3333333333333333,\"#9c179e\"],[0.4444444444444444,\"#bd3786\"],[0.5555555555555556,\"#d8576b\"],[0.6666666666666666,\"#ed7953\"],[0.7777777777777778,\"#fb9f3a\"],[0.8888888888888888,\"#fdca26\"],[1.0,\"#f0f921\"]],\"type\":\"surface\"}],\"table\":[{\"cells\":{\"fill\":{\"color\":\"#EBF0F8\"},\"line\":{\"color\":\"white\"}},\"header\":{\"fill\":{\"color\":\"#C8D4E3\"},\"line\":{\"color\":\"white\"}},\"type\":\"table\"}]},\"layout\":{\"annotationdefaults\":{\"arrowcolor\":\"#2a3f5f\",\"arrowhead\":0,\"arrowwidth\":1},\"autotypenumbers\":\"strict\",\"coloraxis\":{\"colorbar\":{\"outlinewidth\":0,\"ticks\":\"\"}},\"colorscale\":{\"diverging\":[[0,\"#8e0152\"],[0.1,\"#c51b7d\"],[0.2,\"#de77ae\"],[0.3,\"#f1b6da\"],[0.4,\"#fde0ef\"],[0.5,\"#f7f7f7\"],[0.6,\"#e6f5d0\"],[0.7,\"#b8e186\"],[0.8,\"#7fbc41\"],[0.9,\"#4d9221\"],[1,\"#276419\"]],\"sequential\":[[0.0,\"#0d0887\"],[0.1111111111111111,\"#46039f\"],[0.2222222222222222,\"#7201a8\"],[0.3333333333333333,\"#9c179e\"],[0.4444444444444444,\"#bd3786\"],[0.5555555555555556,\"#d8576b\"],[0.6666666666666666,\"#ed7953\"],[0.7777777777777778,\"#fb9f3a\"],[0.8888888888888888,\"#fdca26\"],[1.0,\"#f0f921\"]],\"sequentialminus\":[[0.0,\"#0d0887\"],[0.1111111111111111,\"#46039f\"],[0.2222222222222222,\"#7201a8\"],[0.3333333333333333,\"#9c179e\"],[0.4444444444444444,\"#bd3786\"],[0.5555555555555556,\"#d8576b\"],[0.6666666666666666,\"#ed7953\"],[0.7777777777777778,\"#fb9f3a\"],[0.8888888888888888,\"#fdca26\"],[1.0,\"#f0f921\"]]},\"colorway\":[\"#636efa\",\"#EF553B\",\"#00cc96\",\"#ab63fa\",\"#FFA15A\",\"#19d3f3\",\"#FF6692\",\"#B6E880\",\"#FF97FF\",\"#FECB52\"],\"font\":{\"color\":\"#2a3f5f\"},\"geo\":{\"bgcolor\":\"white\",\"lakecolor\":\"white\",\"landcolor\":\"#E5ECF6\",\"showlakes\":true,\"showland\":true,\"subunitcolor\":\"white\"},\"hoverlabel\":{\"align\":\"left\"},\"hovermode\":\"closest\",\"mapbox\":{\"style\":\"light\"},\"paper_bgcolor\":\"white\",\"plot_bgcolor\":\"#E5ECF6\",\"polar\":{\"angularaxis\":{\"gridcolor\":\"white\",\"linecolor\":\"white\",\"ticks\":\"\"},\"bgcolor\":\"#E5ECF6\",\"radialaxis\":{\"gridcolor\":\"white\",\"linecolor\":\"white\",\"ticks\":\"\"}},\"scene\":{\"xaxis\":{\"backgroundcolor\":\"#E5ECF6\",\"gridcolor\":\"white\",\"gridwidth\":2,\"linecolor\":\"white\",\"showbackground\":true,\"ticks\":\"\",\"zerolinecolor\":\"white\"},\"yaxis\":{\"backgroundcolor\":\"#E5ECF6\",\"gridcolor\":\"white\",\"gridwidth\":2,\"linecolor\":\"white\",\"showbackground\":true,\"ticks\":\"\",\"zerolinecolor\":\"white\"},\"zaxis\":{\"backgroundcolor\":\"#E5ECF6\",\"gridcolor\":\"white\",\"gridwidth\":2,\"linecolor\":\"white\",\"showbackground\":true,\"ticks\":\"\",\"zerolinecolor\":\"white\"}},\"shapedefaults\":{\"line\":{\"color\":\"#2a3f5f\"}},\"ternary\":{\"aaxis\":{\"gridcolor\":\"white\",\"linecolor\":\"white\",\"ticks\":\"\"},\"baxis\":{\"gridcolor\":\"white\",\"linecolor\":\"white\",\"ticks\":\"\"},\"bgcolor\":\"#E5ECF6\",\"caxis\":{\"gridcolor\":\"white\",\"linecolor\":\"white\",\"ticks\":\"\"}},\"title\":{\"x\":0.05},\"xaxis\":{\"automargin\":true,\"gridcolor\":\"white\",\"linecolor\":\"white\",\"ticks\":\"\",\"title\":{\"standoff\":15},\"zerolinecolor\":\"white\",\"zerolinewidth\":2},\"yaxis\":{\"automargin\":true,\"gridcolor\":\"white\",\"linecolor\":\"white\",\"ticks\":\"\",\"title\":{\"standoff\":15},\"zerolinecolor\":\"white\",\"zerolinewidth\":2}}},\"title\":{\"font\":{\"color\":\"#4D5663\"}},\"xaxis\":{\"gridcolor\":\"#E1E5ED\",\"showgrid\":true,\"tickfont\":{\"color\":\"#4D5663\"},\"title\":{\"font\":{\"color\":\"#4D5663\"},\"text\":\"\"},\"zerolinecolor\":\"#E1E5ED\"},\"yaxis\":{\"gridcolor\":\"#E1E5ED\",\"showgrid\":true,\"tickfont\":{\"color\":\"#4D5663\"},\"title\":{\"font\":{\"color\":\"#4D5663\"},\"text\":\"\"},\"zerolinecolor\":\"#E1E5ED\"}},                        {\"showLink\": true, \"linkText\": \"Export to plot.ly\", \"plotlyServerURL\": \"https://plot.ly\", \"responsive\": true}                    ).then(function(){\n",
       "                            \n",
       "var gd = document.getElementById('af7c69f3-3530-46ca-aaf4-10ef76066d8e');\n",
       "var x = new MutationObserver(function (mutations, observer) {{\n",
       "        var display = window.getComputedStyle(gd).display;\n",
       "        if (!display || display === 'none') {{\n",
       "            console.log([gd, 'removed!']);\n",
       "            Plotly.purge(gd);\n",
       "            observer.disconnect();\n",
       "        }}\n",
       "}});\n",
       "\n",
       "// Listen for the removal of the full notebook cells\n",
       "var notebookContainer = gd.closest('#notebook-container');\n",
       "if (notebookContainer) {{\n",
       "    x.observe(notebookContainer, {childList: true});\n",
       "}}\n",
       "\n",
       "// Listen for the clearing of the current output cell\n",
       "var outputEl = gd.closest('.output');\n",
       "if (outputEl) {{\n",
       "    x.observe(outputEl, {childList: true});\n",
       "}}\n",
       "\n",
       "                        })                };                });            </script>        </div>"
      ]
     },
     "metadata": {},
     "output_type": "display_data"
    }
   ],
   "source": [
    "df2.iplot(kind='bar', x='Category', y='Values')"
   ]
  },
  {
   "cell_type": "code",
   "execution_count": 8,
   "metadata": {},
   "outputs": [
    {
     "data": {
      "application/vnd.plotly.v1+json": {
       "config": {
        "linkText": "Export to plot.ly",
        "plotlyServerURL": "https://plot.ly",
        "showLink": true
       },
       "data": [
        {
         "marker": {
          "color": "rgba(255, 153, 51, 0.6)",
          "line": {
           "color": "rgba(255, 153, 51, 1.0)",
           "width": 1
          }
         },
         "name": "None",
         "orientation": "v",
         "text": "",
         "type": "bar",
         "x": [
          "A",
          "B",
          "C",
          "D"
         ],
         "y": [
          100,
          100,
          100,
          100
         ]
        }
       ],
       "layout": {
        "legend": {
         "bgcolor": "#F5F6F9",
         "font": {
          "color": "#4D5663"
         }
        },
        "paper_bgcolor": "#F5F6F9",
        "plot_bgcolor": "#F5F6F9",
        "template": {
         "data": {
          "bar": [
           {
            "error_x": {
             "color": "#2a3f5f"
            },
            "error_y": {
             "color": "#2a3f5f"
            },
            "marker": {
             "line": {
              "color": "#E5ECF6",
              "width": 0.5
             },
             "pattern": {
              "fillmode": "overlay",
              "size": 10,
              "solidity": 0.2
             }
            },
            "type": "bar"
           }
          ],
          "barpolar": [
           {
            "marker": {
             "line": {
              "color": "#E5ECF6",
              "width": 0.5
             },
             "pattern": {
              "fillmode": "overlay",
              "size": 10,
              "solidity": 0.2
             }
            },
            "type": "barpolar"
           }
          ],
          "carpet": [
           {
            "aaxis": {
             "endlinecolor": "#2a3f5f",
             "gridcolor": "white",
             "linecolor": "white",
             "minorgridcolor": "white",
             "startlinecolor": "#2a3f5f"
            },
            "baxis": {
             "endlinecolor": "#2a3f5f",
             "gridcolor": "white",
             "linecolor": "white",
             "minorgridcolor": "white",
             "startlinecolor": "#2a3f5f"
            },
            "type": "carpet"
           }
          ],
          "choropleth": [
           {
            "colorbar": {
             "outlinewidth": 0,
             "ticks": ""
            },
            "type": "choropleth"
           }
          ],
          "contour": [
           {
            "colorbar": {
             "outlinewidth": 0,
             "ticks": ""
            },
            "colorscale": [
             [
              0,
              "#0d0887"
             ],
             [
              0.1111111111111111,
              "#46039f"
             ],
             [
              0.2222222222222222,
              "#7201a8"
             ],
             [
              0.3333333333333333,
              "#9c179e"
             ],
             [
              0.4444444444444444,
              "#bd3786"
             ],
             [
              0.5555555555555556,
              "#d8576b"
             ],
             [
              0.6666666666666666,
              "#ed7953"
             ],
             [
              0.7777777777777778,
              "#fb9f3a"
             ],
             [
              0.8888888888888888,
              "#fdca26"
             ],
             [
              1,
              "#f0f921"
             ]
            ],
            "type": "contour"
           }
          ],
          "contourcarpet": [
           {
            "colorbar": {
             "outlinewidth": 0,
             "ticks": ""
            },
            "type": "contourcarpet"
           }
          ],
          "heatmap": [
           {
            "colorbar": {
             "outlinewidth": 0,
             "ticks": ""
            },
            "colorscale": [
             [
              0,
              "#0d0887"
             ],
             [
              0.1111111111111111,
              "#46039f"
             ],
             [
              0.2222222222222222,
              "#7201a8"
             ],
             [
              0.3333333333333333,
              "#9c179e"
             ],
             [
              0.4444444444444444,
              "#bd3786"
             ],
             [
              0.5555555555555556,
              "#d8576b"
             ],
             [
              0.6666666666666666,
              "#ed7953"
             ],
             [
              0.7777777777777778,
              "#fb9f3a"
             ],
             [
              0.8888888888888888,
              "#fdca26"
             ],
             [
              1,
              "#f0f921"
             ]
            ],
            "type": "heatmap"
           }
          ],
          "heatmapgl": [
           {
            "colorbar": {
             "outlinewidth": 0,
             "ticks": ""
            },
            "colorscale": [
             [
              0,
              "#0d0887"
             ],
             [
              0.1111111111111111,
              "#46039f"
             ],
             [
              0.2222222222222222,
              "#7201a8"
             ],
             [
              0.3333333333333333,
              "#9c179e"
             ],
             [
              0.4444444444444444,
              "#bd3786"
             ],
             [
              0.5555555555555556,
              "#d8576b"
             ],
             [
              0.6666666666666666,
              "#ed7953"
             ],
             [
              0.7777777777777778,
              "#fb9f3a"
             ],
             [
              0.8888888888888888,
              "#fdca26"
             ],
             [
              1,
              "#f0f921"
             ]
            ],
            "type": "heatmapgl"
           }
          ],
          "histogram": [
           {
            "marker": {
             "pattern": {
              "fillmode": "overlay",
              "size": 10,
              "solidity": 0.2
             }
            },
            "type": "histogram"
           }
          ],
          "histogram2d": [
           {
            "colorbar": {
             "outlinewidth": 0,
             "ticks": ""
            },
            "colorscale": [
             [
              0,
              "#0d0887"
             ],
             [
              0.1111111111111111,
              "#46039f"
             ],
             [
              0.2222222222222222,
              "#7201a8"
             ],
             [
              0.3333333333333333,
              "#9c179e"
             ],
             [
              0.4444444444444444,
              "#bd3786"
             ],
             [
              0.5555555555555556,
              "#d8576b"
             ],
             [
              0.6666666666666666,
              "#ed7953"
             ],
             [
              0.7777777777777778,
              "#fb9f3a"
             ],
             [
              0.8888888888888888,
              "#fdca26"
             ],
             [
              1,
              "#f0f921"
             ]
            ],
            "type": "histogram2d"
           }
          ],
          "histogram2dcontour": [
           {
            "colorbar": {
             "outlinewidth": 0,
             "ticks": ""
            },
            "colorscale": [
             [
              0,
              "#0d0887"
             ],
             [
              0.1111111111111111,
              "#46039f"
             ],
             [
              0.2222222222222222,
              "#7201a8"
             ],
             [
              0.3333333333333333,
              "#9c179e"
             ],
             [
              0.4444444444444444,
              "#bd3786"
             ],
             [
              0.5555555555555556,
              "#d8576b"
             ],
             [
              0.6666666666666666,
              "#ed7953"
             ],
             [
              0.7777777777777778,
              "#fb9f3a"
             ],
             [
              0.8888888888888888,
              "#fdca26"
             ],
             [
              1,
              "#f0f921"
             ]
            ],
            "type": "histogram2dcontour"
           }
          ],
          "mesh3d": [
           {
            "colorbar": {
             "outlinewidth": 0,
             "ticks": ""
            },
            "type": "mesh3d"
           }
          ],
          "parcoords": [
           {
            "line": {
             "colorbar": {
              "outlinewidth": 0,
              "ticks": ""
             }
            },
            "type": "parcoords"
           }
          ],
          "pie": [
           {
            "automargin": true,
            "type": "pie"
           }
          ],
          "scatter": [
           {
            "fillpattern": {
             "fillmode": "overlay",
             "size": 10,
             "solidity": 0.2
            },
            "type": "scatter"
           }
          ],
          "scatter3d": [
           {
            "line": {
             "colorbar": {
              "outlinewidth": 0,
              "ticks": ""
             }
            },
            "marker": {
             "colorbar": {
              "outlinewidth": 0,
              "ticks": ""
             }
            },
            "type": "scatter3d"
           }
          ],
          "scattercarpet": [
           {
            "marker": {
             "colorbar": {
              "outlinewidth": 0,
              "ticks": ""
             }
            },
            "type": "scattercarpet"
           }
          ],
          "scattergeo": [
           {
            "marker": {
             "colorbar": {
              "outlinewidth": 0,
              "ticks": ""
             }
            },
            "type": "scattergeo"
           }
          ],
          "scattergl": [
           {
            "marker": {
             "colorbar": {
              "outlinewidth": 0,
              "ticks": ""
             }
            },
            "type": "scattergl"
           }
          ],
          "scattermapbox": [
           {
            "marker": {
             "colorbar": {
              "outlinewidth": 0,
              "ticks": ""
             }
            },
            "type": "scattermapbox"
           }
          ],
          "scatterpolar": [
           {
            "marker": {
             "colorbar": {
              "outlinewidth": 0,
              "ticks": ""
             }
            },
            "type": "scatterpolar"
           }
          ],
          "scatterpolargl": [
           {
            "marker": {
             "colorbar": {
              "outlinewidth": 0,
              "ticks": ""
             }
            },
            "type": "scatterpolargl"
           }
          ],
          "scatterternary": [
           {
            "marker": {
             "colorbar": {
              "outlinewidth": 0,
              "ticks": ""
             }
            },
            "type": "scatterternary"
           }
          ],
          "surface": [
           {
            "colorbar": {
             "outlinewidth": 0,
             "ticks": ""
            },
            "colorscale": [
             [
              0,
              "#0d0887"
             ],
             [
              0.1111111111111111,
              "#46039f"
             ],
             [
              0.2222222222222222,
              "#7201a8"
             ],
             [
              0.3333333333333333,
              "#9c179e"
             ],
             [
              0.4444444444444444,
              "#bd3786"
             ],
             [
              0.5555555555555556,
              "#d8576b"
             ],
             [
              0.6666666666666666,
              "#ed7953"
             ],
             [
              0.7777777777777778,
              "#fb9f3a"
             ],
             [
              0.8888888888888888,
              "#fdca26"
             ],
             [
              1,
              "#f0f921"
             ]
            ],
            "type": "surface"
           }
          ],
          "table": [
           {
            "cells": {
             "fill": {
              "color": "#EBF0F8"
             },
             "line": {
              "color": "white"
             }
            },
            "header": {
             "fill": {
              "color": "#C8D4E3"
             },
             "line": {
              "color": "white"
             }
            },
            "type": "table"
           }
          ]
         },
         "layout": {
          "annotationdefaults": {
           "arrowcolor": "#2a3f5f",
           "arrowhead": 0,
           "arrowwidth": 1
          },
          "autotypenumbers": "strict",
          "coloraxis": {
           "colorbar": {
            "outlinewidth": 0,
            "ticks": ""
           }
          },
          "colorscale": {
           "diverging": [
            [
             0,
             "#8e0152"
            ],
            [
             0.1,
             "#c51b7d"
            ],
            [
             0.2,
             "#de77ae"
            ],
            [
             0.3,
             "#f1b6da"
            ],
            [
             0.4,
             "#fde0ef"
            ],
            [
             0.5,
             "#f7f7f7"
            ],
            [
             0.6,
             "#e6f5d0"
            ],
            [
             0.7,
             "#b8e186"
            ],
            [
             0.8,
             "#7fbc41"
            ],
            [
             0.9,
             "#4d9221"
            ],
            [
             1,
             "#276419"
            ]
           ],
           "sequential": [
            [
             0,
             "#0d0887"
            ],
            [
             0.1111111111111111,
             "#46039f"
            ],
            [
             0.2222222222222222,
             "#7201a8"
            ],
            [
             0.3333333333333333,
             "#9c179e"
            ],
            [
             0.4444444444444444,
             "#bd3786"
            ],
            [
             0.5555555555555556,
             "#d8576b"
            ],
            [
             0.6666666666666666,
             "#ed7953"
            ],
            [
             0.7777777777777778,
             "#fb9f3a"
            ],
            [
             0.8888888888888888,
             "#fdca26"
            ],
            [
             1,
             "#f0f921"
            ]
           ],
           "sequentialminus": [
            [
             0,
             "#0d0887"
            ],
            [
             0.1111111111111111,
             "#46039f"
            ],
            [
             0.2222222222222222,
             "#7201a8"
            ],
            [
             0.3333333333333333,
             "#9c179e"
            ],
            [
             0.4444444444444444,
             "#bd3786"
            ],
            [
             0.5555555555555556,
             "#d8576b"
            ],
            [
             0.6666666666666666,
             "#ed7953"
            ],
            [
             0.7777777777777778,
             "#fb9f3a"
            ],
            [
             0.8888888888888888,
             "#fdca26"
            ],
            [
             1,
             "#f0f921"
            ]
           ]
          },
          "colorway": [
           "#636efa",
           "#EF553B",
           "#00cc96",
           "#ab63fa",
           "#FFA15A",
           "#19d3f3",
           "#FF6692",
           "#B6E880",
           "#FF97FF",
           "#FECB52"
          ],
          "font": {
           "color": "#2a3f5f"
          },
          "geo": {
           "bgcolor": "white",
           "lakecolor": "white",
           "landcolor": "#E5ECF6",
           "showlakes": true,
           "showland": true,
           "subunitcolor": "white"
          },
          "hoverlabel": {
           "align": "left"
          },
          "hovermode": "closest",
          "mapbox": {
           "style": "light"
          },
          "paper_bgcolor": "white",
          "plot_bgcolor": "#E5ECF6",
          "polar": {
           "angularaxis": {
            "gridcolor": "white",
            "linecolor": "white",
            "ticks": ""
           },
           "bgcolor": "#E5ECF6",
           "radialaxis": {
            "gridcolor": "white",
            "linecolor": "white",
            "ticks": ""
           }
          },
          "scene": {
           "xaxis": {
            "backgroundcolor": "#E5ECF6",
            "gridcolor": "white",
            "gridwidth": 2,
            "linecolor": "white",
            "showbackground": true,
            "ticks": "",
            "zerolinecolor": "white"
           },
           "yaxis": {
            "backgroundcolor": "#E5ECF6",
            "gridcolor": "white",
            "gridwidth": 2,
            "linecolor": "white",
            "showbackground": true,
            "ticks": "",
            "zerolinecolor": "white"
           },
           "zaxis": {
            "backgroundcolor": "#E5ECF6",
            "gridcolor": "white",
            "gridwidth": 2,
            "linecolor": "white",
            "showbackground": true,
            "ticks": "",
            "zerolinecolor": "white"
           }
          },
          "shapedefaults": {
           "line": {
            "color": "#2a3f5f"
           }
          },
          "ternary": {
           "aaxis": {
            "gridcolor": "white",
            "linecolor": "white",
            "ticks": ""
           },
           "baxis": {
            "gridcolor": "white",
            "linecolor": "white",
            "ticks": ""
           },
           "bgcolor": "#E5ECF6",
           "caxis": {
            "gridcolor": "white",
            "linecolor": "white",
            "ticks": ""
           }
          },
          "title": {
           "x": 0.05
          },
          "xaxis": {
           "automargin": true,
           "gridcolor": "white",
           "linecolor": "white",
           "ticks": "",
           "title": {
            "standoff": 15
           },
           "zerolinecolor": "white",
           "zerolinewidth": 2
          },
          "yaxis": {
           "automargin": true,
           "gridcolor": "white",
           "linecolor": "white",
           "ticks": "",
           "title": {
            "standoff": 15
           },
           "zerolinecolor": "white",
           "zerolinewidth": 2
          }
         }
        },
        "title": {
         "font": {
          "color": "#4D5663"
         }
        },
        "xaxis": {
         "gridcolor": "#E1E5ED",
         "showgrid": true,
         "tickfont": {
          "color": "#4D5663"
         },
         "title": {
          "font": {
           "color": "#4D5663"
          },
          "text": ""
         },
         "zerolinecolor": "#E1E5ED"
        },
        "yaxis": {
         "gridcolor": "#E1E5ED",
         "showgrid": true,
         "tickfont": {
          "color": "#4D5663"
         },
         "title": {
          "font": {
           "color": "#4D5663"
          },
          "text": ""
         },
         "zerolinecolor": "#E1E5ED"
        }
       }
      },
      "text/html": [
       "<div>                            <div id=\"51b16168-e34a-472a-93a5-5b0a4909f7ec\" class=\"plotly-graph-div\" style=\"height:525px; width:100%;\"></div>            <script type=\"text/javascript\">                require([\"plotly\"], function(Plotly) {                    window.PLOTLYENV=window.PLOTLYENV || {};\n",
       "                    window.PLOTLYENV.BASE_URL='https://plot.ly';                                    if (document.getElementById(\"51b16168-e34a-472a-93a5-5b0a4909f7ec\")) {                    Plotly.newPlot(                        \"51b16168-e34a-472a-93a5-5b0a4909f7ec\",                        [{\"marker\":{\"color\":\"rgba(255, 153, 51, 0.6)\",\"line\":{\"color\":\"rgba(255, 153, 51, 1.0)\",\"width\":1}},\"name\":\"None\",\"orientation\":\"v\",\"text\":\"\",\"x\":[\"A\",\"B\",\"C\",\"D\"],\"y\":[100,100,100,100],\"type\":\"bar\"}],                        {\"legend\":{\"bgcolor\":\"#F5F6F9\",\"font\":{\"color\":\"#4D5663\"}},\"paper_bgcolor\":\"#F5F6F9\",\"plot_bgcolor\":\"#F5F6F9\",\"template\":{\"data\":{\"barpolar\":[{\"marker\":{\"line\":{\"color\":\"#E5ECF6\",\"width\":0.5},\"pattern\":{\"fillmode\":\"overlay\",\"size\":10,\"solidity\":0.2}},\"type\":\"barpolar\"}],\"bar\":[{\"error_x\":{\"color\":\"#2a3f5f\"},\"error_y\":{\"color\":\"#2a3f5f\"},\"marker\":{\"line\":{\"color\":\"#E5ECF6\",\"width\":0.5},\"pattern\":{\"fillmode\":\"overlay\",\"size\":10,\"solidity\":0.2}},\"type\":\"bar\"}],\"carpet\":[{\"aaxis\":{\"endlinecolor\":\"#2a3f5f\",\"gridcolor\":\"white\",\"linecolor\":\"white\",\"minorgridcolor\":\"white\",\"startlinecolor\":\"#2a3f5f\"},\"baxis\":{\"endlinecolor\":\"#2a3f5f\",\"gridcolor\":\"white\",\"linecolor\":\"white\",\"minorgridcolor\":\"white\",\"startlinecolor\":\"#2a3f5f\"},\"type\":\"carpet\"}],\"choropleth\":[{\"colorbar\":{\"outlinewidth\":0,\"ticks\":\"\"},\"type\":\"choropleth\"}],\"contourcarpet\":[{\"colorbar\":{\"outlinewidth\":0,\"ticks\":\"\"},\"type\":\"contourcarpet\"}],\"contour\":[{\"colorbar\":{\"outlinewidth\":0,\"ticks\":\"\"},\"colorscale\":[[0.0,\"#0d0887\"],[0.1111111111111111,\"#46039f\"],[0.2222222222222222,\"#7201a8\"],[0.3333333333333333,\"#9c179e\"],[0.4444444444444444,\"#bd3786\"],[0.5555555555555556,\"#d8576b\"],[0.6666666666666666,\"#ed7953\"],[0.7777777777777778,\"#fb9f3a\"],[0.8888888888888888,\"#fdca26\"],[1.0,\"#f0f921\"]],\"type\":\"contour\"}],\"heatmapgl\":[{\"colorbar\":{\"outlinewidth\":0,\"ticks\":\"\"},\"colorscale\":[[0.0,\"#0d0887\"],[0.1111111111111111,\"#46039f\"],[0.2222222222222222,\"#7201a8\"],[0.3333333333333333,\"#9c179e\"],[0.4444444444444444,\"#bd3786\"],[0.5555555555555556,\"#d8576b\"],[0.6666666666666666,\"#ed7953\"],[0.7777777777777778,\"#fb9f3a\"],[0.8888888888888888,\"#fdca26\"],[1.0,\"#f0f921\"]],\"type\":\"heatmapgl\"}],\"heatmap\":[{\"colorbar\":{\"outlinewidth\":0,\"ticks\":\"\"},\"colorscale\":[[0.0,\"#0d0887\"],[0.1111111111111111,\"#46039f\"],[0.2222222222222222,\"#7201a8\"],[0.3333333333333333,\"#9c179e\"],[0.4444444444444444,\"#bd3786\"],[0.5555555555555556,\"#d8576b\"],[0.6666666666666666,\"#ed7953\"],[0.7777777777777778,\"#fb9f3a\"],[0.8888888888888888,\"#fdca26\"],[1.0,\"#f0f921\"]],\"type\":\"heatmap\"}],\"histogram2dcontour\":[{\"colorbar\":{\"outlinewidth\":0,\"ticks\":\"\"},\"colorscale\":[[0.0,\"#0d0887\"],[0.1111111111111111,\"#46039f\"],[0.2222222222222222,\"#7201a8\"],[0.3333333333333333,\"#9c179e\"],[0.4444444444444444,\"#bd3786\"],[0.5555555555555556,\"#d8576b\"],[0.6666666666666666,\"#ed7953\"],[0.7777777777777778,\"#fb9f3a\"],[0.8888888888888888,\"#fdca26\"],[1.0,\"#f0f921\"]],\"type\":\"histogram2dcontour\"}],\"histogram2d\":[{\"colorbar\":{\"outlinewidth\":0,\"ticks\":\"\"},\"colorscale\":[[0.0,\"#0d0887\"],[0.1111111111111111,\"#46039f\"],[0.2222222222222222,\"#7201a8\"],[0.3333333333333333,\"#9c179e\"],[0.4444444444444444,\"#bd3786\"],[0.5555555555555556,\"#d8576b\"],[0.6666666666666666,\"#ed7953\"],[0.7777777777777778,\"#fb9f3a\"],[0.8888888888888888,\"#fdca26\"],[1.0,\"#f0f921\"]],\"type\":\"histogram2d\"}],\"histogram\":[{\"marker\":{\"pattern\":{\"fillmode\":\"overlay\",\"size\":10,\"solidity\":0.2}},\"type\":\"histogram\"}],\"mesh3d\":[{\"colorbar\":{\"outlinewidth\":0,\"ticks\":\"\"},\"type\":\"mesh3d\"}],\"parcoords\":[{\"line\":{\"colorbar\":{\"outlinewidth\":0,\"ticks\":\"\"}},\"type\":\"parcoords\"}],\"pie\":[{\"automargin\":true,\"type\":\"pie\"}],\"scatter3d\":[{\"line\":{\"colorbar\":{\"outlinewidth\":0,\"ticks\":\"\"}},\"marker\":{\"colorbar\":{\"outlinewidth\":0,\"ticks\":\"\"}},\"type\":\"scatter3d\"}],\"scattercarpet\":[{\"marker\":{\"colorbar\":{\"outlinewidth\":0,\"ticks\":\"\"}},\"type\":\"scattercarpet\"}],\"scattergeo\":[{\"marker\":{\"colorbar\":{\"outlinewidth\":0,\"ticks\":\"\"}},\"type\":\"scattergeo\"}],\"scattergl\":[{\"marker\":{\"colorbar\":{\"outlinewidth\":0,\"ticks\":\"\"}},\"type\":\"scattergl\"}],\"scattermapbox\":[{\"marker\":{\"colorbar\":{\"outlinewidth\":0,\"ticks\":\"\"}},\"type\":\"scattermapbox\"}],\"scatterpolargl\":[{\"marker\":{\"colorbar\":{\"outlinewidth\":0,\"ticks\":\"\"}},\"type\":\"scatterpolargl\"}],\"scatterpolar\":[{\"marker\":{\"colorbar\":{\"outlinewidth\":0,\"ticks\":\"\"}},\"type\":\"scatterpolar\"}],\"scatter\":[{\"fillpattern\":{\"fillmode\":\"overlay\",\"size\":10,\"solidity\":0.2},\"type\":\"scatter\"}],\"scatterternary\":[{\"marker\":{\"colorbar\":{\"outlinewidth\":0,\"ticks\":\"\"}},\"type\":\"scatterternary\"}],\"surface\":[{\"colorbar\":{\"outlinewidth\":0,\"ticks\":\"\"},\"colorscale\":[[0.0,\"#0d0887\"],[0.1111111111111111,\"#46039f\"],[0.2222222222222222,\"#7201a8\"],[0.3333333333333333,\"#9c179e\"],[0.4444444444444444,\"#bd3786\"],[0.5555555555555556,\"#d8576b\"],[0.6666666666666666,\"#ed7953\"],[0.7777777777777778,\"#fb9f3a\"],[0.8888888888888888,\"#fdca26\"],[1.0,\"#f0f921\"]],\"type\":\"surface\"}],\"table\":[{\"cells\":{\"fill\":{\"color\":\"#EBF0F8\"},\"line\":{\"color\":\"white\"}},\"header\":{\"fill\":{\"color\":\"#C8D4E3\"},\"line\":{\"color\":\"white\"}},\"type\":\"table\"}]},\"layout\":{\"annotationdefaults\":{\"arrowcolor\":\"#2a3f5f\",\"arrowhead\":0,\"arrowwidth\":1},\"autotypenumbers\":\"strict\",\"coloraxis\":{\"colorbar\":{\"outlinewidth\":0,\"ticks\":\"\"}},\"colorscale\":{\"diverging\":[[0,\"#8e0152\"],[0.1,\"#c51b7d\"],[0.2,\"#de77ae\"],[0.3,\"#f1b6da\"],[0.4,\"#fde0ef\"],[0.5,\"#f7f7f7\"],[0.6,\"#e6f5d0\"],[0.7,\"#b8e186\"],[0.8,\"#7fbc41\"],[0.9,\"#4d9221\"],[1,\"#276419\"]],\"sequential\":[[0.0,\"#0d0887\"],[0.1111111111111111,\"#46039f\"],[0.2222222222222222,\"#7201a8\"],[0.3333333333333333,\"#9c179e\"],[0.4444444444444444,\"#bd3786\"],[0.5555555555555556,\"#d8576b\"],[0.6666666666666666,\"#ed7953\"],[0.7777777777777778,\"#fb9f3a\"],[0.8888888888888888,\"#fdca26\"],[1.0,\"#f0f921\"]],\"sequentialminus\":[[0.0,\"#0d0887\"],[0.1111111111111111,\"#46039f\"],[0.2222222222222222,\"#7201a8\"],[0.3333333333333333,\"#9c179e\"],[0.4444444444444444,\"#bd3786\"],[0.5555555555555556,\"#d8576b\"],[0.6666666666666666,\"#ed7953\"],[0.7777777777777778,\"#fb9f3a\"],[0.8888888888888888,\"#fdca26\"],[1.0,\"#f0f921\"]]},\"colorway\":[\"#636efa\",\"#EF553B\",\"#00cc96\",\"#ab63fa\",\"#FFA15A\",\"#19d3f3\",\"#FF6692\",\"#B6E880\",\"#FF97FF\",\"#FECB52\"],\"font\":{\"color\":\"#2a3f5f\"},\"geo\":{\"bgcolor\":\"white\",\"lakecolor\":\"white\",\"landcolor\":\"#E5ECF6\",\"showlakes\":true,\"showland\":true,\"subunitcolor\":\"white\"},\"hoverlabel\":{\"align\":\"left\"},\"hovermode\":\"closest\",\"mapbox\":{\"style\":\"light\"},\"paper_bgcolor\":\"white\",\"plot_bgcolor\":\"#E5ECF6\",\"polar\":{\"angularaxis\":{\"gridcolor\":\"white\",\"linecolor\":\"white\",\"ticks\":\"\"},\"bgcolor\":\"#E5ECF6\",\"radialaxis\":{\"gridcolor\":\"white\",\"linecolor\":\"white\",\"ticks\":\"\"}},\"scene\":{\"xaxis\":{\"backgroundcolor\":\"#E5ECF6\",\"gridcolor\":\"white\",\"gridwidth\":2,\"linecolor\":\"white\",\"showbackground\":true,\"ticks\":\"\",\"zerolinecolor\":\"white\"},\"yaxis\":{\"backgroundcolor\":\"#E5ECF6\",\"gridcolor\":\"white\",\"gridwidth\":2,\"linecolor\":\"white\",\"showbackground\":true,\"ticks\":\"\",\"zerolinecolor\":\"white\"},\"zaxis\":{\"backgroundcolor\":\"#E5ECF6\",\"gridcolor\":\"white\",\"gridwidth\":2,\"linecolor\":\"white\",\"showbackground\":true,\"ticks\":\"\",\"zerolinecolor\":\"white\"}},\"shapedefaults\":{\"line\":{\"color\":\"#2a3f5f\"}},\"ternary\":{\"aaxis\":{\"gridcolor\":\"white\",\"linecolor\":\"white\",\"ticks\":\"\"},\"baxis\":{\"gridcolor\":\"white\",\"linecolor\":\"white\",\"ticks\":\"\"},\"bgcolor\":\"#E5ECF6\",\"caxis\":{\"gridcolor\":\"white\",\"linecolor\":\"white\",\"ticks\":\"\"}},\"title\":{\"x\":0.05},\"xaxis\":{\"automargin\":true,\"gridcolor\":\"white\",\"linecolor\":\"white\",\"ticks\":\"\",\"title\":{\"standoff\":15},\"zerolinecolor\":\"white\",\"zerolinewidth\":2},\"yaxis\":{\"automargin\":true,\"gridcolor\":\"white\",\"linecolor\":\"white\",\"ticks\":\"\",\"title\":{\"standoff\":15},\"zerolinecolor\":\"white\",\"zerolinewidth\":2}}},\"title\":{\"font\":{\"color\":\"#4D5663\"}},\"xaxis\":{\"gridcolor\":\"#E1E5ED\",\"showgrid\":true,\"tickfont\":{\"color\":\"#4D5663\"},\"title\":{\"font\":{\"color\":\"#4D5663\"},\"text\":\"\"},\"zerolinecolor\":\"#E1E5ED\"},\"yaxis\":{\"gridcolor\":\"#E1E5ED\",\"showgrid\":true,\"tickfont\":{\"color\":\"#4D5663\"},\"title\":{\"font\":{\"color\":\"#4D5663\"},\"text\":\"\"},\"zerolinecolor\":\"#E1E5ED\"}},                        {\"showLink\": true, \"linkText\": \"Export to plot.ly\", \"plotlyServerURL\": \"https://plot.ly\", \"responsive\": true}                    ).then(function(){\n",
       "                            \n",
       "var gd = document.getElementById('51b16168-e34a-472a-93a5-5b0a4909f7ec');\n",
       "var x = new MutationObserver(function (mutations, observer) {{\n",
       "        var display = window.getComputedStyle(gd).display;\n",
       "        if (!display || display === 'none') {{\n",
       "            console.log([gd, 'removed!']);\n",
       "            Plotly.purge(gd);\n",
       "            observer.disconnect();\n",
       "        }}\n",
       "}});\n",
       "\n",
       "// Listen for the removal of the full notebook cells\n",
       "var notebookContainer = gd.closest('#notebook-container');\n",
       "if (notebookContainer) {{\n",
       "    x.observe(notebookContainer, {childList: true});\n",
       "}}\n",
       "\n",
       "// Listen for the clearing of the current output cell\n",
       "var outputEl = gd.closest('.output');\n",
       "if (outputEl) {{\n",
       "    x.observe(outputEl, {childList: true});\n",
       "}}\n",
       "\n",
       "                        })                };                });            </script>        </div>"
      ]
     },
     "metadata": {},
     "output_type": "display_data"
    }
   ],
   "source": [
    "df.count().iplot(kind='bar')"
   ]
  },
  {
   "cell_type": "code",
   "execution_count": 9,
   "metadata": {},
   "outputs": [
    {
     "data": {
      "application/vnd.plotly.v1+json": {
       "config": {
        "linkText": "Export to plot.ly",
        "plotlyServerURL": "https://plot.ly",
        "showLink": true
       },
       "data": [
        {
         "marker": {
          "color": "rgba(255, 153, 51, 0.6)",
          "line": {
           "color": "rgba(255, 153, 51, 1.0)",
           "width": 1
          }
         },
         "name": "A",
         "orientation": "v",
         "text": "",
         "type": "bar",
         "x": [
          0,
          1,
          2,
          3,
          4,
          5,
          6,
          7,
          8,
          9,
          10,
          11,
          12,
          13,
          14,
          15,
          16,
          17,
          18,
          19,
          20,
          21,
          22,
          23,
          24,
          25,
          26,
          27,
          28,
          29,
          30,
          31,
          32,
          33,
          34,
          35,
          36,
          37,
          38,
          39,
          40,
          41,
          42,
          43,
          44,
          45,
          46,
          47,
          48,
          49,
          50,
          51,
          52,
          53,
          54,
          55,
          56,
          57,
          58,
          59,
          60,
          61,
          62,
          63,
          64,
          65,
          66,
          67,
          68,
          69,
          70,
          71,
          72,
          73,
          74,
          75,
          76,
          77,
          78,
          79,
          80,
          81,
          82,
          83,
          84,
          85,
          86,
          87,
          88,
          89,
          90,
          91,
          92,
          93,
          94,
          95,
          96,
          97,
          98,
          99
         ],
         "y": [
          -0.21379038518686702,
          -0.2881234631694882,
          1.687031818981887,
          -1.0596805811366479,
          0.7056676453490747,
          -0.4928626434402184,
          0.33850678897844294,
          -1.1365532012393156,
          2.22191453283817,
          -1.3620857175620513,
          0.36896946879329245,
          0.4221536206989755,
          0.7281899107947287,
          -1.2377215311367844,
          -0.183857315020409,
          1.3878751024535392,
          -2.080665743096919,
          -1.644286250149681,
          0.6294408878087343,
          0.05543719194135943,
          0.38834850232706086,
          1.2385439904392541,
          0.7616814777089003,
          0.8100604469178284,
          -1.7357899124307927,
          0.5857940744331279,
          1.0852758495254575,
          -0.11451233355760886,
          -0.24564066981188823,
          0.5006503012279303,
          0.5497048414245632,
          2.7014575844254614,
          -0.28998640157069633,
          -0.13092688042405312,
          -1.0299743551366851,
          1.54532700344482,
          0.34570948137873997,
          0.03885334864587458,
          1.1495393347403176,
          1.2978444015505215,
          -0.15445587968137264,
          -0.9263861080879959,
          0.5069877878414278,
          -0.769378432702959,
          0.7899966811807752,
          -0.08734253876202357,
          -1.1407746455308567,
          -0.6168329084831372,
          0.20420394854844057,
          0.49021555757100205,
          -0.8019838933435394,
          -0.32006526913236216,
          -0.6739698696991888,
          -1.3362987248492733,
          -2.164522947216624,
          0.4584620676832864,
          0.6388705433591992,
          -0.48759310113111154,
          -0.4719391278616287,
          -1.4620591867932493,
          -0.18449217672530127,
          0.9439585270731953,
          0.4083408634321457,
          -0.988046557778806,
          0.16985453583959337,
          -1.438367478015253,
          -1.4100586880513233,
          -3.283065964351943,
          -1.8373487018263062,
          0.6488219286367138,
          0.28681820553897286,
          -0.7388386037590581,
          -0.5556428204242388,
          0.10030613571566298,
          1.5958673135642134,
          -0.1966594175392532,
          -0.9481083918396167,
          -1.5561738064875823,
          -0.6626995687127948,
          1.45914060730763,
          0.16378886187091027,
          1.0029633116313403,
          -0.58101803188326,
          0.09260704461129005,
          0.06351215987658128,
          -0.4144809318389637,
          0.8353564916883307,
          3.041369189044577,
          -0.8265909477797487,
          0.891030887375596,
          1.6581945064521428,
          -1.4545588655614945,
          0.9539117184819081,
          -0.15726287638775388,
          0.5002980790781194,
          -0.0004703239994698021,
          -1.133054159083484,
          -0.6238091479318407,
          -0.6549182319149431,
          -0.7418217369776801
         ]
        },
        {
         "marker": {
          "color": "rgba(55, 128, 191, 0.6)",
          "line": {
           "color": "rgba(55, 128, 191, 1.0)",
           "width": 1
          }
         },
         "name": "B",
         "orientation": "v",
         "text": "",
         "type": "bar",
         "x": [
          0,
          1,
          2,
          3,
          4,
          5,
          6,
          7,
          8,
          9,
          10,
          11,
          12,
          13,
          14,
          15,
          16,
          17,
          18,
          19,
          20,
          21,
          22,
          23,
          24,
          25,
          26,
          27,
          28,
          29,
          30,
          31,
          32,
          33,
          34,
          35,
          36,
          37,
          38,
          39,
          40,
          41,
          42,
          43,
          44,
          45,
          46,
          47,
          48,
          49,
          50,
          51,
          52,
          53,
          54,
          55,
          56,
          57,
          58,
          59,
          60,
          61,
          62,
          63,
          64,
          65,
          66,
          67,
          68,
          69,
          70,
          71,
          72,
          73,
          74,
          75,
          76,
          77,
          78,
          79,
          80,
          81,
          82,
          83,
          84,
          85,
          86,
          87,
          88,
          89,
          90,
          91,
          92,
          93,
          94,
          95,
          96,
          97,
          98,
          99
         ],
         "y": [
          0.15034521125234812,
          -0.5987186933728933,
          -0.6454634726357826,
          -0.6154832554047287,
          -0.769946615156794,
          -0.46191050231649566,
          0.05418022249124648,
          0.24197012189315253,
          1.3704318070389399,
          -1.115033967499207,
          -1.2561117558758135,
          -0.5752846426550058,
          -0.9310407812666132,
          -2.1313187338220825,
          -0.5258905353326198,
          -0.16921425212822583,
          -1.3402012277342281,
          0.8022221150923157,
          0.049028277142209815,
          2.0690285587876134,
          0.5901836499759278,
          0.5396360288585632,
          -0.9593170791098355,
          0.4703911795691247,
          -0.4088123868488733,
          -1.326522270762869,
          -0.4084516440752073,
          -0.21319177515630341,
          2.307192586560415,
          1.0279567709067112,
          1.3338803194915425,
          0.16950998713838028,
          0.4858789788510932,
          0.24110923216718624,
          1.9734967149972131,
          0.6219676407877484,
          0.07216010818714264,
          0.34036775803353736,
          0.3567623257427925,
          1.804130564330238,
          -0.4737804697504568,
          0.8695343627683411,
          -0.006651033966893561,
          -0.11901735621976775,
          -0.7789256367705151,
          1.0165590301846146,
          0.9673266086320613,
          1.3137958888935721,
          0.36431032413354375,
          1.0861186090802795,
          -0.5726383103479533,
          -0.1849084907144906,
          -0.44175252280494004,
          0.9311539502453478,
          0.019643606477361283,
          -0.7791451371204415,
          -1.2443704323676485,
          1.105468883927629,
          0.6262128820712691,
          0.5687334826194494,
          -0.9707670383730175,
          -1.1585829210383136,
          -1.9045091938104632,
          -0.16042897577663945,
          0.6024331394633871,
          -1.6103613623712325,
          -0.8494704182172462,
          -0.9019684366085758,
          -1.8460626219175116,
          0.9263616990924344,
          -0.08112674148248719,
          0.9925241445851437,
          -1.850684056918012,
          1.2555877550144339,
          1.0695245173103791,
          -0.09686194616054787,
          -0.9948039975413361,
          1.4853596684487107,
          -0.42393031979417733,
          -0.32579590265781827,
          -0.38559679609455516,
          -0.811761939096358,
          -0.15304642689703257,
          -1.0276461159200796,
          1.0986671255402287,
          0.5756542873871213,
          -0.5089669029678521,
          0.6667525593133969,
          0.4005815962155018,
          -1.2073886458765648,
          -0.42237563008840584,
          -0.5497516070594975,
          0.44406995134671673,
          -0.1946653293506403,
          0.3843043086821584,
          -0.8135642169019233,
          0.25627669360680666,
          -0.09427557436239774,
          0.35951103527697625,
          0.27612998716883735
         ]
        },
        {
         "marker": {
          "color": "rgba(50, 171, 96, 0.6)",
          "line": {
           "color": "rgba(50, 171, 96, 1.0)",
           "width": 1
          }
         },
         "name": "C",
         "orientation": "v",
         "text": "",
         "type": "bar",
         "x": [
          0,
          1,
          2,
          3,
          4,
          5,
          6,
          7,
          8,
          9,
          10,
          11,
          12,
          13,
          14,
          15,
          16,
          17,
          18,
          19,
          20,
          21,
          22,
          23,
          24,
          25,
          26,
          27,
          28,
          29,
          30,
          31,
          32,
          33,
          34,
          35,
          36,
          37,
          38,
          39,
          40,
          41,
          42,
          43,
          44,
          45,
          46,
          47,
          48,
          49,
          50,
          51,
          52,
          53,
          54,
          55,
          56,
          57,
          58,
          59,
          60,
          61,
          62,
          63,
          64,
          65,
          66,
          67,
          68,
          69,
          70,
          71,
          72,
          73,
          74,
          75,
          76,
          77,
          78,
          79,
          80,
          81,
          82,
          83,
          84,
          85,
          86,
          87,
          88,
          89,
          90,
          91,
          92,
          93,
          94,
          95,
          96,
          97,
          98,
          99
         ],
         "y": [
          -0.10691782983046799,
          3.213836439897871,
          1.2978082789858894,
          -0.2132013525646534,
          -0.9040138874289834,
          0.2731855557952521,
          0.5069523872609897,
          0.670617736198417,
          -1.1743232586293297,
          0.8169069115658851,
          -0.9381661918713972,
          -0.11743599563896334,
          0.030574307381110662,
          0.9992368794011388,
          -1.1342817466024522,
          -1.4747415330443328,
          0.21566441103743766,
          0.5079266331393273,
          -0.5358732115778295,
          1.261339082566491,
          -2.1300452650189987,
          -0.995411213994776,
          1.9767921069853125,
          -0.3908938441178726,
          -0.25478638039418544,
          0.10390697649010927,
          -0.9503449147906309,
          0.9875722221567064,
          1.670549649547061,
          0.7035151206648657,
          0.9184323065189156,
          0.29770891586312104,
          0.6506557683455222,
          0.17053643176001723,
          0.6804438931044237,
          0.4932723214902657,
          1.2347891992445115,
          -0.3978565793074171,
          -1.5496430282812044,
          -1.8543687365114545,
          0.408182424198848,
          -0.4402301420762824,
          0.6842267494964466,
          -0.6622453208822038,
          0.5810889637042475,
          1.9147818661373415,
          0.4516539777254524,
          1.3709926943774824,
          0.9281354908429335,
          0.020204498068766168,
          -0.9561170722569972,
          -0.5179923255194684,
          0.47545633040082713,
          -1.017902345044926,
          0.6898993582818461,
          -0.12915471787438948,
          -0.3835149194244746,
          0.5612838956527909,
          0.54850587615578,
          2.0261455642496786,
          -0.027886581173396575,
          0.5548739587380417,
          1.924949773021305,
          -0.15397819153408687,
          -0.9759536918595715,
          -0.4600445383349833,
          1.5313101024682811,
          0.6015086060815795,
          0.49704216723255523,
          2.3589012264613722,
          -1.9031159441549437,
          0.3380015510445511,
          1.7556826732171869,
          0.8529256832086678,
          0.20633060655570418,
          -0.006909374509238595,
          0.6296199138820421,
          0.551666873902677,
          -0.006526424574607722,
          1.54746310955499,
          -1.5505731511062761,
          -1.076355721825828,
          0.24578050070296467,
          0.1633771476926186,
          1.281234682815011,
          -0.5813099626740817,
          -0.5518020320284768,
          0.14517427814953116,
          0.6983537069770014,
          0.9668480592497467,
          -2.3412922624431345,
          -0.49306061459438527,
          -0.701546685677908,
          0.07657938731609544,
          0.935369411346959,
          0.4734696027899289,
          -0.26402742260355355,
          2.3391538612873934,
          0.3893064307437836,
          -0.8043557448996405
         ]
        },
        {
         "marker": {
          "color": "rgba(128, 0, 128, 0.6)",
          "line": {
           "color": "rgba(128, 0, 128, 1.0)",
           "width": 1
          }
         },
         "name": "D",
         "orientation": "v",
         "text": "",
         "type": "bar",
         "x": [
          0,
          1,
          2,
          3,
          4,
          5,
          6,
          7,
          8,
          9,
          10,
          11,
          12,
          13,
          14,
          15,
          16,
          17,
          18,
          19,
          20,
          21,
          22,
          23,
          24,
          25,
          26,
          27,
          28,
          29,
          30,
          31,
          32,
          33,
          34,
          35,
          36,
          37,
          38,
          39,
          40,
          41,
          42,
          43,
          44,
          45,
          46,
          47,
          48,
          49,
          50,
          51,
          52,
          53,
          54,
          55,
          56,
          57,
          58,
          59,
          60,
          61,
          62,
          63,
          64,
          65,
          66,
          67,
          68,
          69,
          70,
          71,
          72,
          73,
          74,
          75,
          76,
          77,
          78,
          79,
          80,
          81,
          82,
          83,
          84,
          85,
          86,
          87,
          88,
          89,
          90,
          91,
          92,
          93,
          94,
          95,
          96,
          97,
          98,
          99
         ],
         "y": [
          1.3553549360142652,
          -1.1240629400486926,
          -0.5396325265939028,
          -0.8922731485912241,
          1.9740825797260029,
          1.4335969468595193,
          0.8378377603067806,
          -1.3755932827022783,
          1.5807523225249667,
          -1.3660631719105356,
          0.24790658011434308,
          0.72437974484164,
          -1.2301547485526418,
          1.4353900554789392,
          0.9647790417481343,
          -1.5124768271563436,
          -1.1744931171213997,
          -2.0005167156998023,
          -1.2853003556657685,
          -0.7242855341362265,
          1.0717369190304742,
          1.403436298657791,
          0.34718712336454977,
          -0.7382611909665026,
          1.287880377123517,
          0.45288293740440927,
          1.856253152669832,
          0.06044462654630291,
          -0.35899502155411894,
          0.6229255957407726,
          -1.0193120035718861,
          2.088829859563428,
          -0.2694806539381207,
          -1.1089107610511553,
          -1.554626500748827,
          0.13415464697007337,
          -0.9514024414600591,
          -1.703723398682606,
          0.5041395184642052,
          0.9182165009161256,
          -0.16175008699604418,
          0.7298086959702409,
          -1.7307711250064093,
          0.40133463732840047,
          -0.8315507359619237,
          0.22298205696938378,
          1.6027609055014562,
          0.630966863989992,
          1.3850867427226057,
          0.7488458383350989,
          0.5084258928294056,
          -0.17680915051756851,
          1.0922068913444805,
          1.1327299453261297,
          0.4196930971235217,
          -1.4601343934416078,
          -0.24832971144271526,
          0.0687004743713472,
          -0.2540444755751119,
          -1.6773241014528344,
          -0.35990393608504223,
          -0.6596716005978259,
          3.152981796335251,
          1.2345979144558863,
          0.426875789986511,
          -0.6108533270888533,
          -0.2440924861901595,
          -1.2337060019712072,
          0.2323690666974735,
          0.5313598624883571,
          -0.06812014249606121,
          1.544918719379879,
          0.5730618501766528,
          -0.64535258341819,
          -0.30685957172527745,
          0.7369314973583256,
          0.354542752701916,
          -0.26174334657150145,
          -0.30638465671797666,
          0.5783975067642048,
          0.7890785878016994,
          0.9571204412458787,
          -0.6299453993479587,
          -1.3449081494177275,
          1.5843173761593803,
          0.44991751120347606,
          -0.11496213960656726,
          -0.6452187231854206,
          1.3834847920554316,
          0.5081137776847046,
          1.1232685815029115,
          -0.9840267395496939,
          0.25851966301842133,
          0.6173146759605749,
          -0.7328735241100314,
          0.6961936363738751,
          -2.1436809279718636,
          1.7285813499972267,
          -0.5187557435286976,
          -0.39462456759511333
         ]
        }
       ],
       "layout": {
        "legend": {
         "bgcolor": "#F5F6F9",
         "font": {
          "color": "#4D5663"
         }
        },
        "paper_bgcolor": "#F5F6F9",
        "plot_bgcolor": "#F5F6F9",
        "template": {
         "data": {
          "bar": [
           {
            "error_x": {
             "color": "#2a3f5f"
            },
            "error_y": {
             "color": "#2a3f5f"
            },
            "marker": {
             "line": {
              "color": "#E5ECF6",
              "width": 0.5
             },
             "pattern": {
              "fillmode": "overlay",
              "size": 10,
              "solidity": 0.2
             }
            },
            "type": "bar"
           }
          ],
          "barpolar": [
           {
            "marker": {
             "line": {
              "color": "#E5ECF6",
              "width": 0.5
             },
             "pattern": {
              "fillmode": "overlay",
              "size": 10,
              "solidity": 0.2
             }
            },
            "type": "barpolar"
           }
          ],
          "carpet": [
           {
            "aaxis": {
             "endlinecolor": "#2a3f5f",
             "gridcolor": "white",
             "linecolor": "white",
             "minorgridcolor": "white",
             "startlinecolor": "#2a3f5f"
            },
            "baxis": {
             "endlinecolor": "#2a3f5f",
             "gridcolor": "white",
             "linecolor": "white",
             "minorgridcolor": "white",
             "startlinecolor": "#2a3f5f"
            },
            "type": "carpet"
           }
          ],
          "choropleth": [
           {
            "colorbar": {
             "outlinewidth": 0,
             "ticks": ""
            },
            "type": "choropleth"
           }
          ],
          "contour": [
           {
            "colorbar": {
             "outlinewidth": 0,
             "ticks": ""
            },
            "colorscale": [
             [
              0,
              "#0d0887"
             ],
             [
              0.1111111111111111,
              "#46039f"
             ],
             [
              0.2222222222222222,
              "#7201a8"
             ],
             [
              0.3333333333333333,
              "#9c179e"
             ],
             [
              0.4444444444444444,
              "#bd3786"
             ],
             [
              0.5555555555555556,
              "#d8576b"
             ],
             [
              0.6666666666666666,
              "#ed7953"
             ],
             [
              0.7777777777777778,
              "#fb9f3a"
             ],
             [
              0.8888888888888888,
              "#fdca26"
             ],
             [
              1,
              "#f0f921"
             ]
            ],
            "type": "contour"
           }
          ],
          "contourcarpet": [
           {
            "colorbar": {
             "outlinewidth": 0,
             "ticks": ""
            },
            "type": "contourcarpet"
           }
          ],
          "heatmap": [
           {
            "colorbar": {
             "outlinewidth": 0,
             "ticks": ""
            },
            "colorscale": [
             [
              0,
              "#0d0887"
             ],
             [
              0.1111111111111111,
              "#46039f"
             ],
             [
              0.2222222222222222,
              "#7201a8"
             ],
             [
              0.3333333333333333,
              "#9c179e"
             ],
             [
              0.4444444444444444,
              "#bd3786"
             ],
             [
              0.5555555555555556,
              "#d8576b"
             ],
             [
              0.6666666666666666,
              "#ed7953"
             ],
             [
              0.7777777777777778,
              "#fb9f3a"
             ],
             [
              0.8888888888888888,
              "#fdca26"
             ],
             [
              1,
              "#f0f921"
             ]
            ],
            "type": "heatmap"
           }
          ],
          "heatmapgl": [
           {
            "colorbar": {
             "outlinewidth": 0,
             "ticks": ""
            },
            "colorscale": [
             [
              0,
              "#0d0887"
             ],
             [
              0.1111111111111111,
              "#46039f"
             ],
             [
              0.2222222222222222,
              "#7201a8"
             ],
             [
              0.3333333333333333,
              "#9c179e"
             ],
             [
              0.4444444444444444,
              "#bd3786"
             ],
             [
              0.5555555555555556,
              "#d8576b"
             ],
             [
              0.6666666666666666,
              "#ed7953"
             ],
             [
              0.7777777777777778,
              "#fb9f3a"
             ],
             [
              0.8888888888888888,
              "#fdca26"
             ],
             [
              1,
              "#f0f921"
             ]
            ],
            "type": "heatmapgl"
           }
          ],
          "histogram": [
           {
            "marker": {
             "pattern": {
              "fillmode": "overlay",
              "size": 10,
              "solidity": 0.2
             }
            },
            "type": "histogram"
           }
          ],
          "histogram2d": [
           {
            "colorbar": {
             "outlinewidth": 0,
             "ticks": ""
            },
            "colorscale": [
             [
              0,
              "#0d0887"
             ],
             [
              0.1111111111111111,
              "#46039f"
             ],
             [
              0.2222222222222222,
              "#7201a8"
             ],
             [
              0.3333333333333333,
              "#9c179e"
             ],
             [
              0.4444444444444444,
              "#bd3786"
             ],
             [
              0.5555555555555556,
              "#d8576b"
             ],
             [
              0.6666666666666666,
              "#ed7953"
             ],
             [
              0.7777777777777778,
              "#fb9f3a"
             ],
             [
              0.8888888888888888,
              "#fdca26"
             ],
             [
              1,
              "#f0f921"
             ]
            ],
            "type": "histogram2d"
           }
          ],
          "histogram2dcontour": [
           {
            "colorbar": {
             "outlinewidth": 0,
             "ticks": ""
            },
            "colorscale": [
             [
              0,
              "#0d0887"
             ],
             [
              0.1111111111111111,
              "#46039f"
             ],
             [
              0.2222222222222222,
              "#7201a8"
             ],
             [
              0.3333333333333333,
              "#9c179e"
             ],
             [
              0.4444444444444444,
              "#bd3786"
             ],
             [
              0.5555555555555556,
              "#d8576b"
             ],
             [
              0.6666666666666666,
              "#ed7953"
             ],
             [
              0.7777777777777778,
              "#fb9f3a"
             ],
             [
              0.8888888888888888,
              "#fdca26"
             ],
             [
              1,
              "#f0f921"
             ]
            ],
            "type": "histogram2dcontour"
           }
          ],
          "mesh3d": [
           {
            "colorbar": {
             "outlinewidth": 0,
             "ticks": ""
            },
            "type": "mesh3d"
           }
          ],
          "parcoords": [
           {
            "line": {
             "colorbar": {
              "outlinewidth": 0,
              "ticks": ""
             }
            },
            "type": "parcoords"
           }
          ],
          "pie": [
           {
            "automargin": true,
            "type": "pie"
           }
          ],
          "scatter": [
           {
            "fillpattern": {
             "fillmode": "overlay",
             "size": 10,
             "solidity": 0.2
            },
            "type": "scatter"
           }
          ],
          "scatter3d": [
           {
            "line": {
             "colorbar": {
              "outlinewidth": 0,
              "ticks": ""
             }
            },
            "marker": {
             "colorbar": {
              "outlinewidth": 0,
              "ticks": ""
             }
            },
            "type": "scatter3d"
           }
          ],
          "scattercarpet": [
           {
            "marker": {
             "colorbar": {
              "outlinewidth": 0,
              "ticks": ""
             }
            },
            "type": "scattercarpet"
           }
          ],
          "scattergeo": [
           {
            "marker": {
             "colorbar": {
              "outlinewidth": 0,
              "ticks": ""
             }
            },
            "type": "scattergeo"
           }
          ],
          "scattergl": [
           {
            "marker": {
             "colorbar": {
              "outlinewidth": 0,
              "ticks": ""
             }
            },
            "type": "scattergl"
           }
          ],
          "scattermapbox": [
           {
            "marker": {
             "colorbar": {
              "outlinewidth": 0,
              "ticks": ""
             }
            },
            "type": "scattermapbox"
           }
          ],
          "scatterpolar": [
           {
            "marker": {
             "colorbar": {
              "outlinewidth": 0,
              "ticks": ""
             }
            },
            "type": "scatterpolar"
           }
          ],
          "scatterpolargl": [
           {
            "marker": {
             "colorbar": {
              "outlinewidth": 0,
              "ticks": ""
             }
            },
            "type": "scatterpolargl"
           }
          ],
          "scatterternary": [
           {
            "marker": {
             "colorbar": {
              "outlinewidth": 0,
              "ticks": ""
             }
            },
            "type": "scatterternary"
           }
          ],
          "surface": [
           {
            "colorbar": {
             "outlinewidth": 0,
             "ticks": ""
            },
            "colorscale": [
             [
              0,
              "#0d0887"
             ],
             [
              0.1111111111111111,
              "#46039f"
             ],
             [
              0.2222222222222222,
              "#7201a8"
             ],
             [
              0.3333333333333333,
              "#9c179e"
             ],
             [
              0.4444444444444444,
              "#bd3786"
             ],
             [
              0.5555555555555556,
              "#d8576b"
             ],
             [
              0.6666666666666666,
              "#ed7953"
             ],
             [
              0.7777777777777778,
              "#fb9f3a"
             ],
             [
              0.8888888888888888,
              "#fdca26"
             ],
             [
              1,
              "#f0f921"
             ]
            ],
            "type": "surface"
           }
          ],
          "table": [
           {
            "cells": {
             "fill": {
              "color": "#EBF0F8"
             },
             "line": {
              "color": "white"
             }
            },
            "header": {
             "fill": {
              "color": "#C8D4E3"
             },
             "line": {
              "color": "white"
             }
            },
            "type": "table"
           }
          ]
         },
         "layout": {
          "annotationdefaults": {
           "arrowcolor": "#2a3f5f",
           "arrowhead": 0,
           "arrowwidth": 1
          },
          "autotypenumbers": "strict",
          "coloraxis": {
           "colorbar": {
            "outlinewidth": 0,
            "ticks": ""
           }
          },
          "colorscale": {
           "diverging": [
            [
             0,
             "#8e0152"
            ],
            [
             0.1,
             "#c51b7d"
            ],
            [
             0.2,
             "#de77ae"
            ],
            [
             0.3,
             "#f1b6da"
            ],
            [
             0.4,
             "#fde0ef"
            ],
            [
             0.5,
             "#f7f7f7"
            ],
            [
             0.6,
             "#e6f5d0"
            ],
            [
             0.7,
             "#b8e186"
            ],
            [
             0.8,
             "#7fbc41"
            ],
            [
             0.9,
             "#4d9221"
            ],
            [
             1,
             "#276419"
            ]
           ],
           "sequential": [
            [
             0,
             "#0d0887"
            ],
            [
             0.1111111111111111,
             "#46039f"
            ],
            [
             0.2222222222222222,
             "#7201a8"
            ],
            [
             0.3333333333333333,
             "#9c179e"
            ],
            [
             0.4444444444444444,
             "#bd3786"
            ],
            [
             0.5555555555555556,
             "#d8576b"
            ],
            [
             0.6666666666666666,
             "#ed7953"
            ],
            [
             0.7777777777777778,
             "#fb9f3a"
            ],
            [
             0.8888888888888888,
             "#fdca26"
            ],
            [
             1,
             "#f0f921"
            ]
           ],
           "sequentialminus": [
            [
             0,
             "#0d0887"
            ],
            [
             0.1111111111111111,
             "#46039f"
            ],
            [
             0.2222222222222222,
             "#7201a8"
            ],
            [
             0.3333333333333333,
             "#9c179e"
            ],
            [
             0.4444444444444444,
             "#bd3786"
            ],
            [
             0.5555555555555556,
             "#d8576b"
            ],
            [
             0.6666666666666666,
             "#ed7953"
            ],
            [
             0.7777777777777778,
             "#fb9f3a"
            ],
            [
             0.8888888888888888,
             "#fdca26"
            ],
            [
             1,
             "#f0f921"
            ]
           ]
          },
          "colorway": [
           "#636efa",
           "#EF553B",
           "#00cc96",
           "#ab63fa",
           "#FFA15A",
           "#19d3f3",
           "#FF6692",
           "#B6E880",
           "#FF97FF",
           "#FECB52"
          ],
          "font": {
           "color": "#2a3f5f"
          },
          "geo": {
           "bgcolor": "white",
           "lakecolor": "white",
           "landcolor": "#E5ECF6",
           "showlakes": true,
           "showland": true,
           "subunitcolor": "white"
          },
          "hoverlabel": {
           "align": "left"
          },
          "hovermode": "closest",
          "mapbox": {
           "style": "light"
          },
          "paper_bgcolor": "white",
          "plot_bgcolor": "#E5ECF6",
          "polar": {
           "angularaxis": {
            "gridcolor": "white",
            "linecolor": "white",
            "ticks": ""
           },
           "bgcolor": "#E5ECF6",
           "radialaxis": {
            "gridcolor": "white",
            "linecolor": "white",
            "ticks": ""
           }
          },
          "scene": {
           "xaxis": {
            "backgroundcolor": "#E5ECF6",
            "gridcolor": "white",
            "gridwidth": 2,
            "linecolor": "white",
            "showbackground": true,
            "ticks": "",
            "zerolinecolor": "white"
           },
           "yaxis": {
            "backgroundcolor": "#E5ECF6",
            "gridcolor": "white",
            "gridwidth": 2,
            "linecolor": "white",
            "showbackground": true,
            "ticks": "",
            "zerolinecolor": "white"
           },
           "zaxis": {
            "backgroundcolor": "#E5ECF6",
            "gridcolor": "white",
            "gridwidth": 2,
            "linecolor": "white",
            "showbackground": true,
            "ticks": "",
            "zerolinecolor": "white"
           }
          },
          "shapedefaults": {
           "line": {
            "color": "#2a3f5f"
           }
          },
          "ternary": {
           "aaxis": {
            "gridcolor": "white",
            "linecolor": "white",
            "ticks": ""
           },
           "baxis": {
            "gridcolor": "white",
            "linecolor": "white",
            "ticks": ""
           },
           "bgcolor": "#E5ECF6",
           "caxis": {
            "gridcolor": "white",
            "linecolor": "white",
            "ticks": ""
           }
          },
          "title": {
           "x": 0.05
          },
          "xaxis": {
           "automargin": true,
           "gridcolor": "white",
           "linecolor": "white",
           "ticks": "",
           "title": {
            "standoff": 15
           },
           "zerolinecolor": "white",
           "zerolinewidth": 2
          },
          "yaxis": {
           "automargin": true,
           "gridcolor": "white",
           "linecolor": "white",
           "ticks": "",
           "title": {
            "standoff": 15
           },
           "zerolinecolor": "white",
           "zerolinewidth": 2
          }
         }
        },
        "title": {
         "font": {
          "color": "#4D5663"
         }
        },
        "xaxis": {
         "gridcolor": "#E1E5ED",
         "showgrid": true,
         "tickfont": {
          "color": "#4D5663"
         },
         "title": {
          "font": {
           "color": "#4D5663"
          },
          "text": ""
         },
         "zerolinecolor": "#E1E5ED"
        },
        "yaxis": {
         "gridcolor": "#E1E5ED",
         "showgrid": true,
         "tickfont": {
          "color": "#4D5663"
         },
         "title": {
          "font": {
           "color": "#4D5663"
          },
          "text": ""
         },
         "zerolinecolor": "#E1E5ED"
        }
       }
      },
      "text/html": [
       "<div>                            <div id=\"0a507ca7-0bb4-4436-a8da-0412dde01c8a\" class=\"plotly-graph-div\" style=\"height:525px; width:100%;\"></div>            <script type=\"text/javascript\">                require([\"plotly\"], function(Plotly) {                    window.PLOTLYENV=window.PLOTLYENV || {};\n",
       "                    window.PLOTLYENV.BASE_URL='https://plot.ly';                                    if (document.getElementById(\"0a507ca7-0bb4-4436-a8da-0412dde01c8a\")) {                    Plotly.newPlot(                        \"0a507ca7-0bb4-4436-a8da-0412dde01c8a\",                        [{\"marker\":{\"color\":\"rgba(255, 153, 51, 0.6)\",\"line\":{\"color\":\"rgba(255, 153, 51, 1.0)\",\"width\":1}},\"name\":\"A\",\"orientation\":\"v\",\"text\":\"\",\"x\":[0,1,2,3,4,5,6,7,8,9,10,11,12,13,14,15,16,17,18,19,20,21,22,23,24,25,26,27,28,29,30,31,32,33,34,35,36,37,38,39,40,41,42,43,44,45,46,47,48,49,50,51,52,53,54,55,56,57,58,59,60,61,62,63,64,65,66,67,68,69,70,71,72,73,74,75,76,77,78,79,80,81,82,83,84,85,86,87,88,89,90,91,92,93,94,95,96,97,98,99],\"y\":[-0.21379038518686702,-0.2881234631694882,1.687031818981887,-1.0596805811366479,0.7056676453490747,-0.4928626434402184,0.33850678897844294,-1.1365532012393156,2.22191453283817,-1.3620857175620513,0.36896946879329245,0.4221536206989755,0.7281899107947287,-1.2377215311367844,-0.183857315020409,1.3878751024535392,-2.080665743096919,-1.644286250149681,0.6294408878087343,0.05543719194135943,0.38834850232706086,1.2385439904392541,0.7616814777089003,0.8100604469178284,-1.7357899124307927,0.5857940744331279,1.0852758495254575,-0.11451233355760886,-0.24564066981188823,0.5006503012279303,0.5497048414245632,2.7014575844254614,-0.28998640157069633,-0.13092688042405312,-1.0299743551366851,1.54532700344482,0.34570948137873997,0.03885334864587458,1.1495393347403176,1.2978444015505215,-0.15445587968137264,-0.9263861080879959,0.5069877878414278,-0.769378432702959,0.7899966811807752,-0.08734253876202357,-1.1407746455308567,-0.6168329084831372,0.20420394854844057,0.49021555757100205,-0.8019838933435394,-0.32006526913236216,-0.6739698696991888,-1.3362987248492733,-2.164522947216624,0.4584620676832864,0.6388705433591992,-0.48759310113111154,-0.4719391278616287,-1.4620591867932493,-0.18449217672530127,0.9439585270731953,0.4083408634321457,-0.988046557778806,0.16985453583959337,-1.438367478015253,-1.4100586880513233,-3.283065964351943,-1.8373487018263062,0.6488219286367138,0.28681820553897286,-0.7388386037590581,-0.5556428204242388,0.10030613571566298,1.5958673135642134,-0.1966594175392532,-0.9481083918396167,-1.5561738064875823,-0.6626995687127948,1.45914060730763,0.16378886187091027,1.0029633116313403,-0.58101803188326,0.09260704461129005,0.06351215987658128,-0.4144809318389637,0.8353564916883307,3.041369189044577,-0.8265909477797487,0.891030887375596,1.6581945064521428,-1.4545588655614945,0.9539117184819081,-0.15726287638775388,0.5002980790781194,-0.0004703239994698021,-1.133054159083484,-0.6238091479318407,-0.6549182319149431,-0.7418217369776801],\"type\":\"bar\"},{\"marker\":{\"color\":\"rgba(55, 128, 191, 0.6)\",\"line\":{\"color\":\"rgba(55, 128, 191, 1.0)\",\"width\":1}},\"name\":\"B\",\"orientation\":\"v\",\"text\":\"\",\"x\":[0,1,2,3,4,5,6,7,8,9,10,11,12,13,14,15,16,17,18,19,20,21,22,23,24,25,26,27,28,29,30,31,32,33,34,35,36,37,38,39,40,41,42,43,44,45,46,47,48,49,50,51,52,53,54,55,56,57,58,59,60,61,62,63,64,65,66,67,68,69,70,71,72,73,74,75,76,77,78,79,80,81,82,83,84,85,86,87,88,89,90,91,92,93,94,95,96,97,98,99],\"y\":[0.15034521125234812,-0.5987186933728933,-0.6454634726357826,-0.6154832554047287,-0.769946615156794,-0.46191050231649566,0.05418022249124648,0.24197012189315253,1.3704318070389399,-1.115033967499207,-1.2561117558758135,-0.5752846426550058,-0.9310407812666132,-2.1313187338220825,-0.5258905353326198,-0.16921425212822583,-1.3402012277342281,0.8022221150923157,0.049028277142209815,2.0690285587876134,0.5901836499759278,0.5396360288585632,-0.9593170791098355,0.4703911795691247,-0.4088123868488733,-1.326522270762869,-0.4084516440752073,-0.21319177515630341,2.307192586560415,1.0279567709067112,1.3338803194915425,0.16950998713838028,0.4858789788510932,0.24110923216718624,1.9734967149972131,0.6219676407877484,0.07216010818714264,0.34036775803353736,0.3567623257427925,1.804130564330238,-0.4737804697504568,0.8695343627683411,-0.006651033966893561,-0.11901735621976775,-0.7789256367705151,1.0165590301846146,0.9673266086320613,1.3137958888935721,0.36431032413354375,1.0861186090802795,-0.5726383103479533,-0.1849084907144906,-0.44175252280494004,0.9311539502453478,0.019643606477361283,-0.7791451371204415,-1.2443704323676485,1.105468883927629,0.6262128820712691,0.5687334826194494,-0.9707670383730175,-1.1585829210383136,-1.9045091938104632,-0.16042897577663945,0.6024331394633871,-1.6103613623712325,-0.8494704182172462,-0.9019684366085758,-1.8460626219175116,0.9263616990924344,-0.08112674148248719,0.9925241445851437,-1.850684056918012,1.2555877550144339,1.0695245173103791,-0.09686194616054787,-0.9948039975413361,1.4853596684487107,-0.42393031979417733,-0.32579590265781827,-0.38559679609455516,-0.811761939096358,-0.15304642689703257,-1.0276461159200796,1.0986671255402287,0.5756542873871213,-0.5089669029678521,0.6667525593133969,0.4005815962155018,-1.2073886458765648,-0.42237563008840584,-0.5497516070594975,0.44406995134671673,-0.1946653293506403,0.3843043086821584,-0.8135642169019233,0.25627669360680666,-0.09427557436239774,0.35951103527697625,0.27612998716883735],\"type\":\"bar\"},{\"marker\":{\"color\":\"rgba(50, 171, 96, 0.6)\",\"line\":{\"color\":\"rgba(50, 171, 96, 1.0)\",\"width\":1}},\"name\":\"C\",\"orientation\":\"v\",\"text\":\"\",\"x\":[0,1,2,3,4,5,6,7,8,9,10,11,12,13,14,15,16,17,18,19,20,21,22,23,24,25,26,27,28,29,30,31,32,33,34,35,36,37,38,39,40,41,42,43,44,45,46,47,48,49,50,51,52,53,54,55,56,57,58,59,60,61,62,63,64,65,66,67,68,69,70,71,72,73,74,75,76,77,78,79,80,81,82,83,84,85,86,87,88,89,90,91,92,93,94,95,96,97,98,99],\"y\":[-0.10691782983046799,3.213836439897871,1.2978082789858894,-0.2132013525646534,-0.9040138874289834,0.2731855557952521,0.5069523872609897,0.670617736198417,-1.1743232586293297,0.8169069115658851,-0.9381661918713972,-0.11743599563896334,0.030574307381110662,0.9992368794011388,-1.1342817466024522,-1.4747415330443328,0.21566441103743766,0.5079266331393273,-0.5358732115778295,1.261339082566491,-2.1300452650189987,-0.995411213994776,1.9767921069853125,-0.3908938441178726,-0.25478638039418544,0.10390697649010927,-0.9503449147906309,0.9875722221567064,1.670549649547061,0.7035151206648657,0.9184323065189156,0.29770891586312104,0.6506557683455222,0.17053643176001723,0.6804438931044237,0.4932723214902657,1.2347891992445115,-0.3978565793074171,-1.5496430282812044,-1.8543687365114545,0.408182424198848,-0.4402301420762824,0.6842267494964466,-0.6622453208822038,0.5810889637042475,1.9147818661373415,0.4516539777254524,1.3709926943774824,0.9281354908429335,0.020204498068766168,-0.9561170722569972,-0.5179923255194684,0.47545633040082713,-1.017902345044926,0.6898993582818461,-0.12915471787438948,-0.3835149194244746,0.5612838956527909,0.54850587615578,2.0261455642496786,-0.027886581173396575,0.5548739587380417,1.924949773021305,-0.15397819153408687,-0.9759536918595715,-0.4600445383349833,1.5313101024682811,0.6015086060815795,0.49704216723255523,2.3589012264613722,-1.9031159441549437,0.3380015510445511,1.7556826732171869,0.8529256832086678,0.20633060655570418,-0.006909374509238595,0.6296199138820421,0.551666873902677,-0.006526424574607722,1.54746310955499,-1.5505731511062761,-1.076355721825828,0.24578050070296467,0.1633771476926186,1.281234682815011,-0.5813099626740817,-0.5518020320284768,0.14517427814953116,0.6983537069770014,0.9668480592497467,-2.3412922624431345,-0.49306061459438527,-0.701546685677908,0.07657938731609544,0.935369411346959,0.4734696027899289,-0.26402742260355355,2.3391538612873934,0.3893064307437836,-0.8043557448996405],\"type\":\"bar\"},{\"marker\":{\"color\":\"rgba(128, 0, 128, 0.6)\",\"line\":{\"color\":\"rgba(128, 0, 128, 1.0)\",\"width\":1}},\"name\":\"D\",\"orientation\":\"v\",\"text\":\"\",\"x\":[0,1,2,3,4,5,6,7,8,9,10,11,12,13,14,15,16,17,18,19,20,21,22,23,24,25,26,27,28,29,30,31,32,33,34,35,36,37,38,39,40,41,42,43,44,45,46,47,48,49,50,51,52,53,54,55,56,57,58,59,60,61,62,63,64,65,66,67,68,69,70,71,72,73,74,75,76,77,78,79,80,81,82,83,84,85,86,87,88,89,90,91,92,93,94,95,96,97,98,99],\"y\":[1.3553549360142652,-1.1240629400486926,-0.5396325265939028,-0.8922731485912241,1.9740825797260029,1.4335969468595193,0.8378377603067806,-1.3755932827022783,1.5807523225249667,-1.3660631719105356,0.24790658011434308,0.72437974484164,-1.2301547485526418,1.4353900554789392,0.9647790417481343,-1.5124768271563436,-1.1744931171213997,-2.0005167156998023,-1.2853003556657685,-0.7242855341362265,1.0717369190304742,1.403436298657791,0.34718712336454977,-0.7382611909665026,1.287880377123517,0.45288293740440927,1.856253152669832,0.06044462654630291,-0.35899502155411894,0.6229255957407726,-1.0193120035718861,2.088829859563428,-0.2694806539381207,-1.1089107610511553,-1.554626500748827,0.13415464697007337,-0.9514024414600591,-1.703723398682606,0.5041395184642052,0.9182165009161256,-0.16175008699604418,0.7298086959702409,-1.7307711250064093,0.40133463732840047,-0.8315507359619237,0.22298205696938378,1.6027609055014562,0.630966863989992,1.3850867427226057,0.7488458383350989,0.5084258928294056,-0.17680915051756851,1.0922068913444805,1.1327299453261297,0.4196930971235217,-1.4601343934416078,-0.24832971144271526,0.0687004743713472,-0.2540444755751119,-1.6773241014528344,-0.35990393608504223,-0.6596716005978259,3.152981796335251,1.2345979144558863,0.426875789986511,-0.6108533270888533,-0.2440924861901595,-1.2337060019712072,0.2323690666974735,0.5313598624883571,-0.06812014249606121,1.544918719379879,0.5730618501766528,-0.64535258341819,-0.30685957172527745,0.7369314973583256,0.354542752701916,-0.26174334657150145,-0.30638465671797666,0.5783975067642048,0.7890785878016994,0.9571204412458787,-0.6299453993479587,-1.3449081494177275,1.5843173761593803,0.44991751120347606,-0.11496213960656726,-0.6452187231854206,1.3834847920554316,0.5081137776847046,1.1232685815029115,-0.9840267395496939,0.25851966301842133,0.6173146759605749,-0.7328735241100314,0.6961936363738751,-2.1436809279718636,1.7285813499972267,-0.5187557435286976,-0.39462456759511333],\"type\":\"bar\"}],                        {\"legend\":{\"bgcolor\":\"#F5F6F9\",\"font\":{\"color\":\"#4D5663\"}},\"paper_bgcolor\":\"#F5F6F9\",\"plot_bgcolor\":\"#F5F6F9\",\"template\":{\"data\":{\"barpolar\":[{\"marker\":{\"line\":{\"color\":\"#E5ECF6\",\"width\":0.5},\"pattern\":{\"fillmode\":\"overlay\",\"size\":10,\"solidity\":0.2}},\"type\":\"barpolar\"}],\"bar\":[{\"error_x\":{\"color\":\"#2a3f5f\"},\"error_y\":{\"color\":\"#2a3f5f\"},\"marker\":{\"line\":{\"color\":\"#E5ECF6\",\"width\":0.5},\"pattern\":{\"fillmode\":\"overlay\",\"size\":10,\"solidity\":0.2}},\"type\":\"bar\"}],\"carpet\":[{\"aaxis\":{\"endlinecolor\":\"#2a3f5f\",\"gridcolor\":\"white\",\"linecolor\":\"white\",\"minorgridcolor\":\"white\",\"startlinecolor\":\"#2a3f5f\"},\"baxis\":{\"endlinecolor\":\"#2a3f5f\",\"gridcolor\":\"white\",\"linecolor\":\"white\",\"minorgridcolor\":\"white\",\"startlinecolor\":\"#2a3f5f\"},\"type\":\"carpet\"}],\"choropleth\":[{\"colorbar\":{\"outlinewidth\":0,\"ticks\":\"\"},\"type\":\"choropleth\"}],\"contourcarpet\":[{\"colorbar\":{\"outlinewidth\":0,\"ticks\":\"\"},\"type\":\"contourcarpet\"}],\"contour\":[{\"colorbar\":{\"outlinewidth\":0,\"ticks\":\"\"},\"colorscale\":[[0.0,\"#0d0887\"],[0.1111111111111111,\"#46039f\"],[0.2222222222222222,\"#7201a8\"],[0.3333333333333333,\"#9c179e\"],[0.4444444444444444,\"#bd3786\"],[0.5555555555555556,\"#d8576b\"],[0.6666666666666666,\"#ed7953\"],[0.7777777777777778,\"#fb9f3a\"],[0.8888888888888888,\"#fdca26\"],[1.0,\"#f0f921\"]],\"type\":\"contour\"}],\"heatmapgl\":[{\"colorbar\":{\"outlinewidth\":0,\"ticks\":\"\"},\"colorscale\":[[0.0,\"#0d0887\"],[0.1111111111111111,\"#46039f\"],[0.2222222222222222,\"#7201a8\"],[0.3333333333333333,\"#9c179e\"],[0.4444444444444444,\"#bd3786\"],[0.5555555555555556,\"#d8576b\"],[0.6666666666666666,\"#ed7953\"],[0.7777777777777778,\"#fb9f3a\"],[0.8888888888888888,\"#fdca26\"],[1.0,\"#f0f921\"]],\"type\":\"heatmapgl\"}],\"heatmap\":[{\"colorbar\":{\"outlinewidth\":0,\"ticks\":\"\"},\"colorscale\":[[0.0,\"#0d0887\"],[0.1111111111111111,\"#46039f\"],[0.2222222222222222,\"#7201a8\"],[0.3333333333333333,\"#9c179e\"],[0.4444444444444444,\"#bd3786\"],[0.5555555555555556,\"#d8576b\"],[0.6666666666666666,\"#ed7953\"],[0.7777777777777778,\"#fb9f3a\"],[0.8888888888888888,\"#fdca26\"],[1.0,\"#f0f921\"]],\"type\":\"heatmap\"}],\"histogram2dcontour\":[{\"colorbar\":{\"outlinewidth\":0,\"ticks\":\"\"},\"colorscale\":[[0.0,\"#0d0887\"],[0.1111111111111111,\"#46039f\"],[0.2222222222222222,\"#7201a8\"],[0.3333333333333333,\"#9c179e\"],[0.4444444444444444,\"#bd3786\"],[0.5555555555555556,\"#d8576b\"],[0.6666666666666666,\"#ed7953\"],[0.7777777777777778,\"#fb9f3a\"],[0.8888888888888888,\"#fdca26\"],[1.0,\"#f0f921\"]],\"type\":\"histogram2dcontour\"}],\"histogram2d\":[{\"colorbar\":{\"outlinewidth\":0,\"ticks\":\"\"},\"colorscale\":[[0.0,\"#0d0887\"],[0.1111111111111111,\"#46039f\"],[0.2222222222222222,\"#7201a8\"],[0.3333333333333333,\"#9c179e\"],[0.4444444444444444,\"#bd3786\"],[0.5555555555555556,\"#d8576b\"],[0.6666666666666666,\"#ed7953\"],[0.7777777777777778,\"#fb9f3a\"],[0.8888888888888888,\"#fdca26\"],[1.0,\"#f0f921\"]],\"type\":\"histogram2d\"}],\"histogram\":[{\"marker\":{\"pattern\":{\"fillmode\":\"overlay\",\"size\":10,\"solidity\":0.2}},\"type\":\"histogram\"}],\"mesh3d\":[{\"colorbar\":{\"outlinewidth\":0,\"ticks\":\"\"},\"type\":\"mesh3d\"}],\"parcoords\":[{\"line\":{\"colorbar\":{\"outlinewidth\":0,\"ticks\":\"\"}},\"type\":\"parcoords\"}],\"pie\":[{\"automargin\":true,\"type\":\"pie\"}],\"scatter3d\":[{\"line\":{\"colorbar\":{\"outlinewidth\":0,\"ticks\":\"\"}},\"marker\":{\"colorbar\":{\"outlinewidth\":0,\"ticks\":\"\"}},\"type\":\"scatter3d\"}],\"scattercarpet\":[{\"marker\":{\"colorbar\":{\"outlinewidth\":0,\"ticks\":\"\"}},\"type\":\"scattercarpet\"}],\"scattergeo\":[{\"marker\":{\"colorbar\":{\"outlinewidth\":0,\"ticks\":\"\"}},\"type\":\"scattergeo\"}],\"scattergl\":[{\"marker\":{\"colorbar\":{\"outlinewidth\":0,\"ticks\":\"\"}},\"type\":\"scattergl\"}],\"scattermapbox\":[{\"marker\":{\"colorbar\":{\"outlinewidth\":0,\"ticks\":\"\"}},\"type\":\"scattermapbox\"}],\"scatterpolargl\":[{\"marker\":{\"colorbar\":{\"outlinewidth\":0,\"ticks\":\"\"}},\"type\":\"scatterpolargl\"}],\"scatterpolar\":[{\"marker\":{\"colorbar\":{\"outlinewidth\":0,\"ticks\":\"\"}},\"type\":\"scatterpolar\"}],\"scatter\":[{\"fillpattern\":{\"fillmode\":\"overlay\",\"size\":10,\"solidity\":0.2},\"type\":\"scatter\"}],\"scatterternary\":[{\"marker\":{\"colorbar\":{\"outlinewidth\":0,\"ticks\":\"\"}},\"type\":\"scatterternary\"}],\"surface\":[{\"colorbar\":{\"outlinewidth\":0,\"ticks\":\"\"},\"colorscale\":[[0.0,\"#0d0887\"],[0.1111111111111111,\"#46039f\"],[0.2222222222222222,\"#7201a8\"],[0.3333333333333333,\"#9c179e\"],[0.4444444444444444,\"#bd3786\"],[0.5555555555555556,\"#d8576b\"],[0.6666666666666666,\"#ed7953\"],[0.7777777777777778,\"#fb9f3a\"],[0.8888888888888888,\"#fdca26\"],[1.0,\"#f0f921\"]],\"type\":\"surface\"}],\"table\":[{\"cells\":{\"fill\":{\"color\":\"#EBF0F8\"},\"line\":{\"color\":\"white\"}},\"header\":{\"fill\":{\"color\":\"#C8D4E3\"},\"line\":{\"color\":\"white\"}},\"type\":\"table\"}]},\"layout\":{\"annotationdefaults\":{\"arrowcolor\":\"#2a3f5f\",\"arrowhead\":0,\"arrowwidth\":1},\"autotypenumbers\":\"strict\",\"coloraxis\":{\"colorbar\":{\"outlinewidth\":0,\"ticks\":\"\"}},\"colorscale\":{\"diverging\":[[0,\"#8e0152\"],[0.1,\"#c51b7d\"],[0.2,\"#de77ae\"],[0.3,\"#f1b6da\"],[0.4,\"#fde0ef\"],[0.5,\"#f7f7f7\"],[0.6,\"#e6f5d0\"],[0.7,\"#b8e186\"],[0.8,\"#7fbc41\"],[0.9,\"#4d9221\"],[1,\"#276419\"]],\"sequential\":[[0.0,\"#0d0887\"],[0.1111111111111111,\"#46039f\"],[0.2222222222222222,\"#7201a8\"],[0.3333333333333333,\"#9c179e\"],[0.4444444444444444,\"#bd3786\"],[0.5555555555555556,\"#d8576b\"],[0.6666666666666666,\"#ed7953\"],[0.7777777777777778,\"#fb9f3a\"],[0.8888888888888888,\"#fdca26\"],[1.0,\"#f0f921\"]],\"sequentialminus\":[[0.0,\"#0d0887\"],[0.1111111111111111,\"#46039f\"],[0.2222222222222222,\"#7201a8\"],[0.3333333333333333,\"#9c179e\"],[0.4444444444444444,\"#bd3786\"],[0.5555555555555556,\"#d8576b\"],[0.6666666666666666,\"#ed7953\"],[0.7777777777777778,\"#fb9f3a\"],[0.8888888888888888,\"#fdca26\"],[1.0,\"#f0f921\"]]},\"colorway\":[\"#636efa\",\"#EF553B\",\"#00cc96\",\"#ab63fa\",\"#FFA15A\",\"#19d3f3\",\"#FF6692\",\"#B6E880\",\"#FF97FF\",\"#FECB52\"],\"font\":{\"color\":\"#2a3f5f\"},\"geo\":{\"bgcolor\":\"white\",\"lakecolor\":\"white\",\"landcolor\":\"#E5ECF6\",\"showlakes\":true,\"showland\":true,\"subunitcolor\":\"white\"},\"hoverlabel\":{\"align\":\"left\"},\"hovermode\":\"closest\",\"mapbox\":{\"style\":\"light\"},\"paper_bgcolor\":\"white\",\"plot_bgcolor\":\"#E5ECF6\",\"polar\":{\"angularaxis\":{\"gridcolor\":\"white\",\"linecolor\":\"white\",\"ticks\":\"\"},\"bgcolor\":\"#E5ECF6\",\"radialaxis\":{\"gridcolor\":\"white\",\"linecolor\":\"white\",\"ticks\":\"\"}},\"scene\":{\"xaxis\":{\"backgroundcolor\":\"#E5ECF6\",\"gridcolor\":\"white\",\"gridwidth\":2,\"linecolor\":\"white\",\"showbackground\":true,\"ticks\":\"\",\"zerolinecolor\":\"white\"},\"yaxis\":{\"backgroundcolor\":\"#E5ECF6\",\"gridcolor\":\"white\",\"gridwidth\":2,\"linecolor\":\"white\",\"showbackground\":true,\"ticks\":\"\",\"zerolinecolor\":\"white\"},\"zaxis\":{\"backgroundcolor\":\"#E5ECF6\",\"gridcolor\":\"white\",\"gridwidth\":2,\"linecolor\":\"white\",\"showbackground\":true,\"ticks\":\"\",\"zerolinecolor\":\"white\"}},\"shapedefaults\":{\"line\":{\"color\":\"#2a3f5f\"}},\"ternary\":{\"aaxis\":{\"gridcolor\":\"white\",\"linecolor\":\"white\",\"ticks\":\"\"},\"baxis\":{\"gridcolor\":\"white\",\"linecolor\":\"white\",\"ticks\":\"\"},\"bgcolor\":\"#E5ECF6\",\"caxis\":{\"gridcolor\":\"white\",\"linecolor\":\"white\",\"ticks\":\"\"}},\"title\":{\"x\":0.05},\"xaxis\":{\"automargin\":true,\"gridcolor\":\"white\",\"linecolor\":\"white\",\"ticks\":\"\",\"title\":{\"standoff\":15},\"zerolinecolor\":\"white\",\"zerolinewidth\":2},\"yaxis\":{\"automargin\":true,\"gridcolor\":\"white\",\"linecolor\":\"white\",\"ticks\":\"\",\"title\":{\"standoff\":15},\"zerolinecolor\":\"white\",\"zerolinewidth\":2}}},\"title\":{\"font\":{\"color\":\"#4D5663\"}},\"xaxis\":{\"gridcolor\":\"#E1E5ED\",\"showgrid\":true,\"tickfont\":{\"color\":\"#4D5663\"},\"title\":{\"font\":{\"color\":\"#4D5663\"},\"text\":\"\"},\"zerolinecolor\":\"#E1E5ED\"},\"yaxis\":{\"gridcolor\":\"#E1E5ED\",\"showgrid\":true,\"tickfont\":{\"color\":\"#4D5663\"},\"title\":{\"font\":{\"color\":\"#4D5663\"},\"text\":\"\"},\"zerolinecolor\":\"#E1E5ED\"}},                        {\"showLink\": true, \"linkText\": \"Export to plot.ly\", \"plotlyServerURL\": \"https://plot.ly\", \"responsive\": true}                    ).then(function(){\n",
       "                            \n",
       "var gd = document.getElementById('0a507ca7-0bb4-4436-a8da-0412dde01c8a');\n",
       "var x = new MutationObserver(function (mutations, observer) {{\n",
       "        var display = window.getComputedStyle(gd).display;\n",
       "        if (!display || display === 'none') {{\n",
       "            console.log([gd, 'removed!']);\n",
       "            Plotly.purge(gd);\n",
       "            observer.disconnect();\n",
       "        }}\n",
       "}});\n",
       "\n",
       "// Listen for the removal of the full notebook cells\n",
       "var notebookContainer = gd.closest('#notebook-container');\n",
       "if (notebookContainer) {{\n",
       "    x.observe(notebookContainer, {childList: true});\n",
       "}}\n",
       "\n",
       "// Listen for the clearing of the current output cell\n",
       "var outputEl = gd.closest('.output');\n",
       "if (outputEl) {{\n",
       "    x.observe(outputEl, {childList: true});\n",
       "}}\n",
       "\n",
       "                        })                };                });            </script>        </div>"
      ]
     },
     "metadata": {},
     "output_type": "display_data"
    }
   ],
   "source": [
    "df.iplot(kind='bar')"
   ]
  },
  {
   "cell_type": "code",
   "execution_count": 10,
   "metadata": {},
   "outputs": [
    {
     "data": {
      "application/vnd.plotly.v1+json": {
       "config": {
        "linkText": "Export to plot.ly",
        "plotlyServerURL": "https://plot.ly",
        "showLink": true
       },
       "data": [
        {
         "boxpoints": false,
         "line": {
          "width": 1.3
         },
         "marker": {
          "color": "rgba(255, 153, 51, 1.0)"
         },
         "name": "A",
         "orientation": "v",
         "type": "box",
         "y": [
          -0.21379038518686702,
          -0.2881234631694882,
          1.687031818981887,
          -1.0596805811366479,
          0.7056676453490747,
          -0.4928626434402184,
          0.33850678897844294,
          -1.1365532012393156,
          2.22191453283817,
          -1.3620857175620513,
          0.36896946879329245,
          0.4221536206989755,
          0.7281899107947287,
          -1.2377215311367844,
          -0.183857315020409,
          1.3878751024535392,
          -2.080665743096919,
          -1.644286250149681,
          0.6294408878087343,
          0.05543719194135943,
          0.38834850232706086,
          1.2385439904392541,
          0.7616814777089003,
          0.8100604469178284,
          -1.7357899124307927,
          0.5857940744331279,
          1.0852758495254575,
          -0.11451233355760886,
          -0.24564066981188823,
          0.5006503012279303,
          0.5497048414245632,
          2.7014575844254614,
          -0.28998640157069633,
          -0.13092688042405312,
          -1.0299743551366851,
          1.54532700344482,
          0.34570948137873997,
          0.03885334864587458,
          1.1495393347403176,
          1.2978444015505215,
          -0.15445587968137264,
          -0.9263861080879959,
          0.5069877878414278,
          -0.769378432702959,
          0.7899966811807752,
          -0.08734253876202357,
          -1.1407746455308567,
          -0.6168329084831372,
          0.20420394854844057,
          0.49021555757100205,
          -0.8019838933435394,
          -0.32006526913236216,
          -0.6739698696991888,
          -1.3362987248492733,
          -2.164522947216624,
          0.4584620676832864,
          0.6388705433591992,
          -0.48759310113111154,
          -0.4719391278616287,
          -1.4620591867932493,
          -0.18449217672530127,
          0.9439585270731953,
          0.4083408634321457,
          -0.988046557778806,
          0.16985453583959337,
          -1.438367478015253,
          -1.4100586880513233,
          -3.283065964351943,
          -1.8373487018263062,
          0.6488219286367138,
          0.28681820553897286,
          -0.7388386037590581,
          -0.5556428204242388,
          0.10030613571566298,
          1.5958673135642134,
          -0.1966594175392532,
          -0.9481083918396167,
          -1.5561738064875823,
          -0.6626995687127948,
          1.45914060730763,
          0.16378886187091027,
          1.0029633116313403,
          -0.58101803188326,
          0.09260704461129005,
          0.06351215987658128,
          -0.4144809318389637,
          0.8353564916883307,
          3.041369189044577,
          -0.8265909477797487,
          0.891030887375596,
          1.6581945064521428,
          -1.4545588655614945,
          0.9539117184819081,
          -0.15726287638775388,
          0.5002980790781194,
          -0.0004703239994698021,
          -1.133054159083484,
          -0.6238091479318407,
          -0.6549182319149431,
          -0.7418217369776801
         ]
        },
        {
         "boxpoints": false,
         "line": {
          "width": 1.3
         },
         "marker": {
          "color": "rgba(55, 128, 191, 1.0)"
         },
         "name": "B",
         "orientation": "v",
         "type": "box",
         "y": [
          0.15034521125234812,
          -0.5987186933728933,
          -0.6454634726357826,
          -0.6154832554047287,
          -0.769946615156794,
          -0.46191050231649566,
          0.05418022249124648,
          0.24197012189315253,
          1.3704318070389399,
          -1.115033967499207,
          -1.2561117558758135,
          -0.5752846426550058,
          -0.9310407812666132,
          -2.1313187338220825,
          -0.5258905353326198,
          -0.16921425212822583,
          -1.3402012277342281,
          0.8022221150923157,
          0.049028277142209815,
          2.0690285587876134,
          0.5901836499759278,
          0.5396360288585632,
          -0.9593170791098355,
          0.4703911795691247,
          -0.4088123868488733,
          -1.326522270762869,
          -0.4084516440752073,
          -0.21319177515630341,
          2.307192586560415,
          1.0279567709067112,
          1.3338803194915425,
          0.16950998713838028,
          0.4858789788510932,
          0.24110923216718624,
          1.9734967149972131,
          0.6219676407877484,
          0.07216010818714264,
          0.34036775803353736,
          0.3567623257427925,
          1.804130564330238,
          -0.4737804697504568,
          0.8695343627683411,
          -0.006651033966893561,
          -0.11901735621976775,
          -0.7789256367705151,
          1.0165590301846146,
          0.9673266086320613,
          1.3137958888935721,
          0.36431032413354375,
          1.0861186090802795,
          -0.5726383103479533,
          -0.1849084907144906,
          -0.44175252280494004,
          0.9311539502453478,
          0.019643606477361283,
          -0.7791451371204415,
          -1.2443704323676485,
          1.105468883927629,
          0.6262128820712691,
          0.5687334826194494,
          -0.9707670383730175,
          -1.1585829210383136,
          -1.9045091938104632,
          -0.16042897577663945,
          0.6024331394633871,
          -1.6103613623712325,
          -0.8494704182172462,
          -0.9019684366085758,
          -1.8460626219175116,
          0.9263616990924344,
          -0.08112674148248719,
          0.9925241445851437,
          -1.850684056918012,
          1.2555877550144339,
          1.0695245173103791,
          -0.09686194616054787,
          -0.9948039975413361,
          1.4853596684487107,
          -0.42393031979417733,
          -0.32579590265781827,
          -0.38559679609455516,
          -0.811761939096358,
          -0.15304642689703257,
          -1.0276461159200796,
          1.0986671255402287,
          0.5756542873871213,
          -0.5089669029678521,
          0.6667525593133969,
          0.4005815962155018,
          -1.2073886458765648,
          -0.42237563008840584,
          -0.5497516070594975,
          0.44406995134671673,
          -0.1946653293506403,
          0.3843043086821584,
          -0.8135642169019233,
          0.25627669360680666,
          -0.09427557436239774,
          0.35951103527697625,
          0.27612998716883735
         ]
        },
        {
         "boxpoints": false,
         "line": {
          "width": 1.3
         },
         "marker": {
          "color": "rgba(50, 171, 96, 1.0)"
         },
         "name": "C",
         "orientation": "v",
         "type": "box",
         "y": [
          -0.10691782983046799,
          3.213836439897871,
          1.2978082789858894,
          -0.2132013525646534,
          -0.9040138874289834,
          0.2731855557952521,
          0.5069523872609897,
          0.670617736198417,
          -1.1743232586293297,
          0.8169069115658851,
          -0.9381661918713972,
          -0.11743599563896334,
          0.030574307381110662,
          0.9992368794011388,
          -1.1342817466024522,
          -1.4747415330443328,
          0.21566441103743766,
          0.5079266331393273,
          -0.5358732115778295,
          1.261339082566491,
          -2.1300452650189987,
          -0.995411213994776,
          1.9767921069853125,
          -0.3908938441178726,
          -0.25478638039418544,
          0.10390697649010927,
          -0.9503449147906309,
          0.9875722221567064,
          1.670549649547061,
          0.7035151206648657,
          0.9184323065189156,
          0.29770891586312104,
          0.6506557683455222,
          0.17053643176001723,
          0.6804438931044237,
          0.4932723214902657,
          1.2347891992445115,
          -0.3978565793074171,
          -1.5496430282812044,
          -1.8543687365114545,
          0.408182424198848,
          -0.4402301420762824,
          0.6842267494964466,
          -0.6622453208822038,
          0.5810889637042475,
          1.9147818661373415,
          0.4516539777254524,
          1.3709926943774824,
          0.9281354908429335,
          0.020204498068766168,
          -0.9561170722569972,
          -0.5179923255194684,
          0.47545633040082713,
          -1.017902345044926,
          0.6898993582818461,
          -0.12915471787438948,
          -0.3835149194244746,
          0.5612838956527909,
          0.54850587615578,
          2.0261455642496786,
          -0.027886581173396575,
          0.5548739587380417,
          1.924949773021305,
          -0.15397819153408687,
          -0.9759536918595715,
          -0.4600445383349833,
          1.5313101024682811,
          0.6015086060815795,
          0.49704216723255523,
          2.3589012264613722,
          -1.9031159441549437,
          0.3380015510445511,
          1.7556826732171869,
          0.8529256832086678,
          0.20633060655570418,
          -0.006909374509238595,
          0.6296199138820421,
          0.551666873902677,
          -0.006526424574607722,
          1.54746310955499,
          -1.5505731511062761,
          -1.076355721825828,
          0.24578050070296467,
          0.1633771476926186,
          1.281234682815011,
          -0.5813099626740817,
          -0.5518020320284768,
          0.14517427814953116,
          0.6983537069770014,
          0.9668480592497467,
          -2.3412922624431345,
          -0.49306061459438527,
          -0.701546685677908,
          0.07657938731609544,
          0.935369411346959,
          0.4734696027899289,
          -0.26402742260355355,
          2.3391538612873934,
          0.3893064307437836,
          -0.8043557448996405
         ]
        },
        {
         "boxpoints": false,
         "line": {
          "width": 1.3
         },
         "marker": {
          "color": "rgba(128, 0, 128, 1.0)"
         },
         "name": "D",
         "orientation": "v",
         "type": "box",
         "y": [
          1.3553549360142652,
          -1.1240629400486926,
          -0.5396325265939028,
          -0.8922731485912241,
          1.9740825797260029,
          1.4335969468595193,
          0.8378377603067806,
          -1.3755932827022783,
          1.5807523225249667,
          -1.3660631719105356,
          0.24790658011434308,
          0.72437974484164,
          -1.2301547485526418,
          1.4353900554789392,
          0.9647790417481343,
          -1.5124768271563436,
          -1.1744931171213997,
          -2.0005167156998023,
          -1.2853003556657685,
          -0.7242855341362265,
          1.0717369190304742,
          1.403436298657791,
          0.34718712336454977,
          -0.7382611909665026,
          1.287880377123517,
          0.45288293740440927,
          1.856253152669832,
          0.06044462654630291,
          -0.35899502155411894,
          0.6229255957407726,
          -1.0193120035718861,
          2.088829859563428,
          -0.2694806539381207,
          -1.1089107610511553,
          -1.554626500748827,
          0.13415464697007337,
          -0.9514024414600591,
          -1.703723398682606,
          0.5041395184642052,
          0.9182165009161256,
          -0.16175008699604418,
          0.7298086959702409,
          -1.7307711250064093,
          0.40133463732840047,
          -0.8315507359619237,
          0.22298205696938378,
          1.6027609055014562,
          0.630966863989992,
          1.3850867427226057,
          0.7488458383350989,
          0.5084258928294056,
          -0.17680915051756851,
          1.0922068913444805,
          1.1327299453261297,
          0.4196930971235217,
          -1.4601343934416078,
          -0.24832971144271526,
          0.0687004743713472,
          -0.2540444755751119,
          -1.6773241014528344,
          -0.35990393608504223,
          -0.6596716005978259,
          3.152981796335251,
          1.2345979144558863,
          0.426875789986511,
          -0.6108533270888533,
          -0.2440924861901595,
          -1.2337060019712072,
          0.2323690666974735,
          0.5313598624883571,
          -0.06812014249606121,
          1.544918719379879,
          0.5730618501766528,
          -0.64535258341819,
          -0.30685957172527745,
          0.7369314973583256,
          0.354542752701916,
          -0.26174334657150145,
          -0.30638465671797666,
          0.5783975067642048,
          0.7890785878016994,
          0.9571204412458787,
          -0.6299453993479587,
          -1.3449081494177275,
          1.5843173761593803,
          0.44991751120347606,
          -0.11496213960656726,
          -0.6452187231854206,
          1.3834847920554316,
          0.5081137776847046,
          1.1232685815029115,
          -0.9840267395496939,
          0.25851966301842133,
          0.6173146759605749,
          -0.7328735241100314,
          0.6961936363738751,
          -2.1436809279718636,
          1.7285813499972267,
          -0.5187557435286976,
          -0.39462456759511333
         ]
        }
       ],
       "layout": {
        "legend": {
         "bgcolor": "#F5F6F9",
         "font": {
          "color": "#4D5663"
         }
        },
        "paper_bgcolor": "#F5F6F9",
        "plot_bgcolor": "#F5F6F9",
        "template": {
         "data": {
          "bar": [
           {
            "error_x": {
             "color": "#2a3f5f"
            },
            "error_y": {
             "color": "#2a3f5f"
            },
            "marker": {
             "line": {
              "color": "#E5ECF6",
              "width": 0.5
             },
             "pattern": {
              "fillmode": "overlay",
              "size": 10,
              "solidity": 0.2
             }
            },
            "type": "bar"
           }
          ],
          "barpolar": [
           {
            "marker": {
             "line": {
              "color": "#E5ECF6",
              "width": 0.5
             },
             "pattern": {
              "fillmode": "overlay",
              "size": 10,
              "solidity": 0.2
             }
            },
            "type": "barpolar"
           }
          ],
          "carpet": [
           {
            "aaxis": {
             "endlinecolor": "#2a3f5f",
             "gridcolor": "white",
             "linecolor": "white",
             "minorgridcolor": "white",
             "startlinecolor": "#2a3f5f"
            },
            "baxis": {
             "endlinecolor": "#2a3f5f",
             "gridcolor": "white",
             "linecolor": "white",
             "minorgridcolor": "white",
             "startlinecolor": "#2a3f5f"
            },
            "type": "carpet"
           }
          ],
          "choropleth": [
           {
            "colorbar": {
             "outlinewidth": 0,
             "ticks": ""
            },
            "type": "choropleth"
           }
          ],
          "contour": [
           {
            "colorbar": {
             "outlinewidth": 0,
             "ticks": ""
            },
            "colorscale": [
             [
              0,
              "#0d0887"
             ],
             [
              0.1111111111111111,
              "#46039f"
             ],
             [
              0.2222222222222222,
              "#7201a8"
             ],
             [
              0.3333333333333333,
              "#9c179e"
             ],
             [
              0.4444444444444444,
              "#bd3786"
             ],
             [
              0.5555555555555556,
              "#d8576b"
             ],
             [
              0.6666666666666666,
              "#ed7953"
             ],
             [
              0.7777777777777778,
              "#fb9f3a"
             ],
             [
              0.8888888888888888,
              "#fdca26"
             ],
             [
              1,
              "#f0f921"
             ]
            ],
            "type": "contour"
           }
          ],
          "contourcarpet": [
           {
            "colorbar": {
             "outlinewidth": 0,
             "ticks": ""
            },
            "type": "contourcarpet"
           }
          ],
          "heatmap": [
           {
            "colorbar": {
             "outlinewidth": 0,
             "ticks": ""
            },
            "colorscale": [
             [
              0,
              "#0d0887"
             ],
             [
              0.1111111111111111,
              "#46039f"
             ],
             [
              0.2222222222222222,
              "#7201a8"
             ],
             [
              0.3333333333333333,
              "#9c179e"
             ],
             [
              0.4444444444444444,
              "#bd3786"
             ],
             [
              0.5555555555555556,
              "#d8576b"
             ],
             [
              0.6666666666666666,
              "#ed7953"
             ],
             [
              0.7777777777777778,
              "#fb9f3a"
             ],
             [
              0.8888888888888888,
              "#fdca26"
             ],
             [
              1,
              "#f0f921"
             ]
            ],
            "type": "heatmap"
           }
          ],
          "heatmapgl": [
           {
            "colorbar": {
             "outlinewidth": 0,
             "ticks": ""
            },
            "colorscale": [
             [
              0,
              "#0d0887"
             ],
             [
              0.1111111111111111,
              "#46039f"
             ],
             [
              0.2222222222222222,
              "#7201a8"
             ],
             [
              0.3333333333333333,
              "#9c179e"
             ],
             [
              0.4444444444444444,
              "#bd3786"
             ],
             [
              0.5555555555555556,
              "#d8576b"
             ],
             [
              0.6666666666666666,
              "#ed7953"
             ],
             [
              0.7777777777777778,
              "#fb9f3a"
             ],
             [
              0.8888888888888888,
              "#fdca26"
             ],
             [
              1,
              "#f0f921"
             ]
            ],
            "type": "heatmapgl"
           }
          ],
          "histogram": [
           {
            "marker": {
             "pattern": {
              "fillmode": "overlay",
              "size": 10,
              "solidity": 0.2
             }
            },
            "type": "histogram"
           }
          ],
          "histogram2d": [
           {
            "colorbar": {
             "outlinewidth": 0,
             "ticks": ""
            },
            "colorscale": [
             [
              0,
              "#0d0887"
             ],
             [
              0.1111111111111111,
              "#46039f"
             ],
             [
              0.2222222222222222,
              "#7201a8"
             ],
             [
              0.3333333333333333,
              "#9c179e"
             ],
             [
              0.4444444444444444,
              "#bd3786"
             ],
             [
              0.5555555555555556,
              "#d8576b"
             ],
             [
              0.6666666666666666,
              "#ed7953"
             ],
             [
              0.7777777777777778,
              "#fb9f3a"
             ],
             [
              0.8888888888888888,
              "#fdca26"
             ],
             [
              1,
              "#f0f921"
             ]
            ],
            "type": "histogram2d"
           }
          ],
          "histogram2dcontour": [
           {
            "colorbar": {
             "outlinewidth": 0,
             "ticks": ""
            },
            "colorscale": [
             [
              0,
              "#0d0887"
             ],
             [
              0.1111111111111111,
              "#46039f"
             ],
             [
              0.2222222222222222,
              "#7201a8"
             ],
             [
              0.3333333333333333,
              "#9c179e"
             ],
             [
              0.4444444444444444,
              "#bd3786"
             ],
             [
              0.5555555555555556,
              "#d8576b"
             ],
             [
              0.6666666666666666,
              "#ed7953"
             ],
             [
              0.7777777777777778,
              "#fb9f3a"
             ],
             [
              0.8888888888888888,
              "#fdca26"
             ],
             [
              1,
              "#f0f921"
             ]
            ],
            "type": "histogram2dcontour"
           }
          ],
          "mesh3d": [
           {
            "colorbar": {
             "outlinewidth": 0,
             "ticks": ""
            },
            "type": "mesh3d"
           }
          ],
          "parcoords": [
           {
            "line": {
             "colorbar": {
              "outlinewidth": 0,
              "ticks": ""
             }
            },
            "type": "parcoords"
           }
          ],
          "pie": [
           {
            "automargin": true,
            "type": "pie"
           }
          ],
          "scatter": [
           {
            "fillpattern": {
             "fillmode": "overlay",
             "size": 10,
             "solidity": 0.2
            },
            "type": "scatter"
           }
          ],
          "scatter3d": [
           {
            "line": {
             "colorbar": {
              "outlinewidth": 0,
              "ticks": ""
             }
            },
            "marker": {
             "colorbar": {
              "outlinewidth": 0,
              "ticks": ""
             }
            },
            "type": "scatter3d"
           }
          ],
          "scattercarpet": [
           {
            "marker": {
             "colorbar": {
              "outlinewidth": 0,
              "ticks": ""
             }
            },
            "type": "scattercarpet"
           }
          ],
          "scattergeo": [
           {
            "marker": {
             "colorbar": {
              "outlinewidth": 0,
              "ticks": ""
             }
            },
            "type": "scattergeo"
           }
          ],
          "scattergl": [
           {
            "marker": {
             "colorbar": {
              "outlinewidth": 0,
              "ticks": ""
             }
            },
            "type": "scattergl"
           }
          ],
          "scattermapbox": [
           {
            "marker": {
             "colorbar": {
              "outlinewidth": 0,
              "ticks": ""
             }
            },
            "type": "scattermapbox"
           }
          ],
          "scatterpolar": [
           {
            "marker": {
             "colorbar": {
              "outlinewidth": 0,
              "ticks": ""
             }
            },
            "type": "scatterpolar"
           }
          ],
          "scatterpolargl": [
           {
            "marker": {
             "colorbar": {
              "outlinewidth": 0,
              "ticks": ""
             }
            },
            "type": "scatterpolargl"
           }
          ],
          "scatterternary": [
           {
            "marker": {
             "colorbar": {
              "outlinewidth": 0,
              "ticks": ""
             }
            },
            "type": "scatterternary"
           }
          ],
          "surface": [
           {
            "colorbar": {
             "outlinewidth": 0,
             "ticks": ""
            },
            "colorscale": [
             [
              0,
              "#0d0887"
             ],
             [
              0.1111111111111111,
              "#46039f"
             ],
             [
              0.2222222222222222,
              "#7201a8"
             ],
             [
              0.3333333333333333,
              "#9c179e"
             ],
             [
              0.4444444444444444,
              "#bd3786"
             ],
             [
              0.5555555555555556,
              "#d8576b"
             ],
             [
              0.6666666666666666,
              "#ed7953"
             ],
             [
              0.7777777777777778,
              "#fb9f3a"
             ],
             [
              0.8888888888888888,
              "#fdca26"
             ],
             [
              1,
              "#f0f921"
             ]
            ],
            "type": "surface"
           }
          ],
          "table": [
           {
            "cells": {
             "fill": {
              "color": "#EBF0F8"
             },
             "line": {
              "color": "white"
             }
            },
            "header": {
             "fill": {
              "color": "#C8D4E3"
             },
             "line": {
              "color": "white"
             }
            },
            "type": "table"
           }
          ]
         },
         "layout": {
          "annotationdefaults": {
           "arrowcolor": "#2a3f5f",
           "arrowhead": 0,
           "arrowwidth": 1
          },
          "autotypenumbers": "strict",
          "coloraxis": {
           "colorbar": {
            "outlinewidth": 0,
            "ticks": ""
           }
          },
          "colorscale": {
           "diverging": [
            [
             0,
             "#8e0152"
            ],
            [
             0.1,
             "#c51b7d"
            ],
            [
             0.2,
             "#de77ae"
            ],
            [
             0.3,
             "#f1b6da"
            ],
            [
             0.4,
             "#fde0ef"
            ],
            [
             0.5,
             "#f7f7f7"
            ],
            [
             0.6,
             "#e6f5d0"
            ],
            [
             0.7,
             "#b8e186"
            ],
            [
             0.8,
             "#7fbc41"
            ],
            [
             0.9,
             "#4d9221"
            ],
            [
             1,
             "#276419"
            ]
           ],
           "sequential": [
            [
             0,
             "#0d0887"
            ],
            [
             0.1111111111111111,
             "#46039f"
            ],
            [
             0.2222222222222222,
             "#7201a8"
            ],
            [
             0.3333333333333333,
             "#9c179e"
            ],
            [
             0.4444444444444444,
             "#bd3786"
            ],
            [
             0.5555555555555556,
             "#d8576b"
            ],
            [
             0.6666666666666666,
             "#ed7953"
            ],
            [
             0.7777777777777778,
             "#fb9f3a"
            ],
            [
             0.8888888888888888,
             "#fdca26"
            ],
            [
             1,
             "#f0f921"
            ]
           ],
           "sequentialminus": [
            [
             0,
             "#0d0887"
            ],
            [
             0.1111111111111111,
             "#46039f"
            ],
            [
             0.2222222222222222,
             "#7201a8"
            ],
            [
             0.3333333333333333,
             "#9c179e"
            ],
            [
             0.4444444444444444,
             "#bd3786"
            ],
            [
             0.5555555555555556,
             "#d8576b"
            ],
            [
             0.6666666666666666,
             "#ed7953"
            ],
            [
             0.7777777777777778,
             "#fb9f3a"
            ],
            [
             0.8888888888888888,
             "#fdca26"
            ],
            [
             1,
             "#f0f921"
            ]
           ]
          },
          "colorway": [
           "#636efa",
           "#EF553B",
           "#00cc96",
           "#ab63fa",
           "#FFA15A",
           "#19d3f3",
           "#FF6692",
           "#B6E880",
           "#FF97FF",
           "#FECB52"
          ],
          "font": {
           "color": "#2a3f5f"
          },
          "geo": {
           "bgcolor": "white",
           "lakecolor": "white",
           "landcolor": "#E5ECF6",
           "showlakes": true,
           "showland": true,
           "subunitcolor": "white"
          },
          "hoverlabel": {
           "align": "left"
          },
          "hovermode": "closest",
          "mapbox": {
           "style": "light"
          },
          "paper_bgcolor": "white",
          "plot_bgcolor": "#E5ECF6",
          "polar": {
           "angularaxis": {
            "gridcolor": "white",
            "linecolor": "white",
            "ticks": ""
           },
           "bgcolor": "#E5ECF6",
           "radialaxis": {
            "gridcolor": "white",
            "linecolor": "white",
            "ticks": ""
           }
          },
          "scene": {
           "xaxis": {
            "backgroundcolor": "#E5ECF6",
            "gridcolor": "white",
            "gridwidth": 2,
            "linecolor": "white",
            "showbackground": true,
            "ticks": "",
            "zerolinecolor": "white"
           },
           "yaxis": {
            "backgroundcolor": "#E5ECF6",
            "gridcolor": "white",
            "gridwidth": 2,
            "linecolor": "white",
            "showbackground": true,
            "ticks": "",
            "zerolinecolor": "white"
           },
           "zaxis": {
            "backgroundcolor": "#E5ECF6",
            "gridcolor": "white",
            "gridwidth": 2,
            "linecolor": "white",
            "showbackground": true,
            "ticks": "",
            "zerolinecolor": "white"
           }
          },
          "shapedefaults": {
           "line": {
            "color": "#2a3f5f"
           }
          },
          "ternary": {
           "aaxis": {
            "gridcolor": "white",
            "linecolor": "white",
            "ticks": ""
           },
           "baxis": {
            "gridcolor": "white",
            "linecolor": "white",
            "ticks": ""
           },
           "bgcolor": "#E5ECF6",
           "caxis": {
            "gridcolor": "white",
            "linecolor": "white",
            "ticks": ""
           }
          },
          "title": {
           "x": 0.05
          },
          "xaxis": {
           "automargin": true,
           "gridcolor": "white",
           "linecolor": "white",
           "ticks": "",
           "title": {
            "standoff": 15
           },
           "zerolinecolor": "white",
           "zerolinewidth": 2
          },
          "yaxis": {
           "automargin": true,
           "gridcolor": "white",
           "linecolor": "white",
           "ticks": "",
           "title": {
            "standoff": 15
           },
           "zerolinecolor": "white",
           "zerolinewidth": 2
          }
         }
        },
        "title": {
         "font": {
          "color": "#4D5663"
         }
        },
        "xaxis": {
         "gridcolor": "#E1E5ED",
         "showgrid": true,
         "tickfont": {
          "color": "#4D5663"
         },
         "title": {
          "font": {
           "color": "#4D5663"
          },
          "text": ""
         },
         "zerolinecolor": "#E1E5ED"
        },
        "yaxis": {
         "gridcolor": "#E1E5ED",
         "showgrid": true,
         "tickfont": {
          "color": "#4D5663"
         },
         "title": {
          "font": {
           "color": "#4D5663"
          },
          "text": ""
         },
         "zerolinecolor": "#E1E5ED"
        }
       }
      },
      "text/html": [
       "<div>                            <div id=\"9aeac615-1a0a-4e1d-b77f-51e392a2ccbf\" class=\"plotly-graph-div\" style=\"height:525px; width:100%;\"></div>            <script type=\"text/javascript\">                require([\"plotly\"], function(Plotly) {                    window.PLOTLYENV=window.PLOTLYENV || {};\n",
       "                    window.PLOTLYENV.BASE_URL='https://plot.ly';                                    if (document.getElementById(\"9aeac615-1a0a-4e1d-b77f-51e392a2ccbf\")) {                    Plotly.newPlot(                        \"9aeac615-1a0a-4e1d-b77f-51e392a2ccbf\",                        [{\"boxpoints\":false,\"line\":{\"width\":1.3},\"marker\":{\"color\":\"rgba(255, 153, 51, 1.0)\"},\"name\":\"A\",\"orientation\":\"v\",\"y\":[-0.21379038518686702,-0.2881234631694882,1.687031818981887,-1.0596805811366479,0.7056676453490747,-0.4928626434402184,0.33850678897844294,-1.1365532012393156,2.22191453283817,-1.3620857175620513,0.36896946879329245,0.4221536206989755,0.7281899107947287,-1.2377215311367844,-0.183857315020409,1.3878751024535392,-2.080665743096919,-1.644286250149681,0.6294408878087343,0.05543719194135943,0.38834850232706086,1.2385439904392541,0.7616814777089003,0.8100604469178284,-1.7357899124307927,0.5857940744331279,1.0852758495254575,-0.11451233355760886,-0.24564066981188823,0.5006503012279303,0.5497048414245632,2.7014575844254614,-0.28998640157069633,-0.13092688042405312,-1.0299743551366851,1.54532700344482,0.34570948137873997,0.03885334864587458,1.1495393347403176,1.2978444015505215,-0.15445587968137264,-0.9263861080879959,0.5069877878414278,-0.769378432702959,0.7899966811807752,-0.08734253876202357,-1.1407746455308567,-0.6168329084831372,0.20420394854844057,0.49021555757100205,-0.8019838933435394,-0.32006526913236216,-0.6739698696991888,-1.3362987248492733,-2.164522947216624,0.4584620676832864,0.6388705433591992,-0.48759310113111154,-0.4719391278616287,-1.4620591867932493,-0.18449217672530127,0.9439585270731953,0.4083408634321457,-0.988046557778806,0.16985453583959337,-1.438367478015253,-1.4100586880513233,-3.283065964351943,-1.8373487018263062,0.6488219286367138,0.28681820553897286,-0.7388386037590581,-0.5556428204242388,0.10030613571566298,1.5958673135642134,-0.1966594175392532,-0.9481083918396167,-1.5561738064875823,-0.6626995687127948,1.45914060730763,0.16378886187091027,1.0029633116313403,-0.58101803188326,0.09260704461129005,0.06351215987658128,-0.4144809318389637,0.8353564916883307,3.041369189044577,-0.8265909477797487,0.891030887375596,1.6581945064521428,-1.4545588655614945,0.9539117184819081,-0.15726287638775388,0.5002980790781194,-0.0004703239994698021,-1.133054159083484,-0.6238091479318407,-0.6549182319149431,-0.7418217369776801],\"type\":\"box\"},{\"boxpoints\":false,\"line\":{\"width\":1.3},\"marker\":{\"color\":\"rgba(55, 128, 191, 1.0)\"},\"name\":\"B\",\"orientation\":\"v\",\"y\":[0.15034521125234812,-0.5987186933728933,-0.6454634726357826,-0.6154832554047287,-0.769946615156794,-0.46191050231649566,0.05418022249124648,0.24197012189315253,1.3704318070389399,-1.115033967499207,-1.2561117558758135,-0.5752846426550058,-0.9310407812666132,-2.1313187338220825,-0.5258905353326198,-0.16921425212822583,-1.3402012277342281,0.8022221150923157,0.049028277142209815,2.0690285587876134,0.5901836499759278,0.5396360288585632,-0.9593170791098355,0.4703911795691247,-0.4088123868488733,-1.326522270762869,-0.4084516440752073,-0.21319177515630341,2.307192586560415,1.0279567709067112,1.3338803194915425,0.16950998713838028,0.4858789788510932,0.24110923216718624,1.9734967149972131,0.6219676407877484,0.07216010818714264,0.34036775803353736,0.3567623257427925,1.804130564330238,-0.4737804697504568,0.8695343627683411,-0.006651033966893561,-0.11901735621976775,-0.7789256367705151,1.0165590301846146,0.9673266086320613,1.3137958888935721,0.36431032413354375,1.0861186090802795,-0.5726383103479533,-0.1849084907144906,-0.44175252280494004,0.9311539502453478,0.019643606477361283,-0.7791451371204415,-1.2443704323676485,1.105468883927629,0.6262128820712691,0.5687334826194494,-0.9707670383730175,-1.1585829210383136,-1.9045091938104632,-0.16042897577663945,0.6024331394633871,-1.6103613623712325,-0.8494704182172462,-0.9019684366085758,-1.8460626219175116,0.9263616990924344,-0.08112674148248719,0.9925241445851437,-1.850684056918012,1.2555877550144339,1.0695245173103791,-0.09686194616054787,-0.9948039975413361,1.4853596684487107,-0.42393031979417733,-0.32579590265781827,-0.38559679609455516,-0.811761939096358,-0.15304642689703257,-1.0276461159200796,1.0986671255402287,0.5756542873871213,-0.5089669029678521,0.6667525593133969,0.4005815962155018,-1.2073886458765648,-0.42237563008840584,-0.5497516070594975,0.44406995134671673,-0.1946653293506403,0.3843043086821584,-0.8135642169019233,0.25627669360680666,-0.09427557436239774,0.35951103527697625,0.27612998716883735],\"type\":\"box\"},{\"boxpoints\":false,\"line\":{\"width\":1.3},\"marker\":{\"color\":\"rgba(50, 171, 96, 1.0)\"},\"name\":\"C\",\"orientation\":\"v\",\"y\":[-0.10691782983046799,3.213836439897871,1.2978082789858894,-0.2132013525646534,-0.9040138874289834,0.2731855557952521,0.5069523872609897,0.670617736198417,-1.1743232586293297,0.8169069115658851,-0.9381661918713972,-0.11743599563896334,0.030574307381110662,0.9992368794011388,-1.1342817466024522,-1.4747415330443328,0.21566441103743766,0.5079266331393273,-0.5358732115778295,1.261339082566491,-2.1300452650189987,-0.995411213994776,1.9767921069853125,-0.3908938441178726,-0.25478638039418544,0.10390697649010927,-0.9503449147906309,0.9875722221567064,1.670549649547061,0.7035151206648657,0.9184323065189156,0.29770891586312104,0.6506557683455222,0.17053643176001723,0.6804438931044237,0.4932723214902657,1.2347891992445115,-0.3978565793074171,-1.5496430282812044,-1.8543687365114545,0.408182424198848,-0.4402301420762824,0.6842267494964466,-0.6622453208822038,0.5810889637042475,1.9147818661373415,0.4516539777254524,1.3709926943774824,0.9281354908429335,0.020204498068766168,-0.9561170722569972,-0.5179923255194684,0.47545633040082713,-1.017902345044926,0.6898993582818461,-0.12915471787438948,-0.3835149194244746,0.5612838956527909,0.54850587615578,2.0261455642496786,-0.027886581173396575,0.5548739587380417,1.924949773021305,-0.15397819153408687,-0.9759536918595715,-0.4600445383349833,1.5313101024682811,0.6015086060815795,0.49704216723255523,2.3589012264613722,-1.9031159441549437,0.3380015510445511,1.7556826732171869,0.8529256832086678,0.20633060655570418,-0.006909374509238595,0.6296199138820421,0.551666873902677,-0.006526424574607722,1.54746310955499,-1.5505731511062761,-1.076355721825828,0.24578050070296467,0.1633771476926186,1.281234682815011,-0.5813099626740817,-0.5518020320284768,0.14517427814953116,0.6983537069770014,0.9668480592497467,-2.3412922624431345,-0.49306061459438527,-0.701546685677908,0.07657938731609544,0.935369411346959,0.4734696027899289,-0.26402742260355355,2.3391538612873934,0.3893064307437836,-0.8043557448996405],\"type\":\"box\"},{\"boxpoints\":false,\"line\":{\"width\":1.3},\"marker\":{\"color\":\"rgba(128, 0, 128, 1.0)\"},\"name\":\"D\",\"orientation\":\"v\",\"y\":[1.3553549360142652,-1.1240629400486926,-0.5396325265939028,-0.8922731485912241,1.9740825797260029,1.4335969468595193,0.8378377603067806,-1.3755932827022783,1.5807523225249667,-1.3660631719105356,0.24790658011434308,0.72437974484164,-1.2301547485526418,1.4353900554789392,0.9647790417481343,-1.5124768271563436,-1.1744931171213997,-2.0005167156998023,-1.2853003556657685,-0.7242855341362265,1.0717369190304742,1.403436298657791,0.34718712336454977,-0.7382611909665026,1.287880377123517,0.45288293740440927,1.856253152669832,0.06044462654630291,-0.35899502155411894,0.6229255957407726,-1.0193120035718861,2.088829859563428,-0.2694806539381207,-1.1089107610511553,-1.554626500748827,0.13415464697007337,-0.9514024414600591,-1.703723398682606,0.5041395184642052,0.9182165009161256,-0.16175008699604418,0.7298086959702409,-1.7307711250064093,0.40133463732840047,-0.8315507359619237,0.22298205696938378,1.6027609055014562,0.630966863989992,1.3850867427226057,0.7488458383350989,0.5084258928294056,-0.17680915051756851,1.0922068913444805,1.1327299453261297,0.4196930971235217,-1.4601343934416078,-0.24832971144271526,0.0687004743713472,-0.2540444755751119,-1.6773241014528344,-0.35990393608504223,-0.6596716005978259,3.152981796335251,1.2345979144558863,0.426875789986511,-0.6108533270888533,-0.2440924861901595,-1.2337060019712072,0.2323690666974735,0.5313598624883571,-0.06812014249606121,1.544918719379879,0.5730618501766528,-0.64535258341819,-0.30685957172527745,0.7369314973583256,0.354542752701916,-0.26174334657150145,-0.30638465671797666,0.5783975067642048,0.7890785878016994,0.9571204412458787,-0.6299453993479587,-1.3449081494177275,1.5843173761593803,0.44991751120347606,-0.11496213960656726,-0.6452187231854206,1.3834847920554316,0.5081137776847046,1.1232685815029115,-0.9840267395496939,0.25851966301842133,0.6173146759605749,-0.7328735241100314,0.6961936363738751,-2.1436809279718636,1.7285813499972267,-0.5187557435286976,-0.39462456759511333],\"type\":\"box\"}],                        {\"legend\":{\"bgcolor\":\"#F5F6F9\",\"font\":{\"color\":\"#4D5663\"}},\"paper_bgcolor\":\"#F5F6F9\",\"plot_bgcolor\":\"#F5F6F9\",\"template\":{\"data\":{\"barpolar\":[{\"marker\":{\"line\":{\"color\":\"#E5ECF6\",\"width\":0.5},\"pattern\":{\"fillmode\":\"overlay\",\"size\":10,\"solidity\":0.2}},\"type\":\"barpolar\"}],\"bar\":[{\"error_x\":{\"color\":\"#2a3f5f\"},\"error_y\":{\"color\":\"#2a3f5f\"},\"marker\":{\"line\":{\"color\":\"#E5ECF6\",\"width\":0.5},\"pattern\":{\"fillmode\":\"overlay\",\"size\":10,\"solidity\":0.2}},\"type\":\"bar\"}],\"carpet\":[{\"aaxis\":{\"endlinecolor\":\"#2a3f5f\",\"gridcolor\":\"white\",\"linecolor\":\"white\",\"minorgridcolor\":\"white\",\"startlinecolor\":\"#2a3f5f\"},\"baxis\":{\"endlinecolor\":\"#2a3f5f\",\"gridcolor\":\"white\",\"linecolor\":\"white\",\"minorgridcolor\":\"white\",\"startlinecolor\":\"#2a3f5f\"},\"type\":\"carpet\"}],\"choropleth\":[{\"colorbar\":{\"outlinewidth\":0,\"ticks\":\"\"},\"type\":\"choropleth\"}],\"contourcarpet\":[{\"colorbar\":{\"outlinewidth\":0,\"ticks\":\"\"},\"type\":\"contourcarpet\"}],\"contour\":[{\"colorbar\":{\"outlinewidth\":0,\"ticks\":\"\"},\"colorscale\":[[0.0,\"#0d0887\"],[0.1111111111111111,\"#46039f\"],[0.2222222222222222,\"#7201a8\"],[0.3333333333333333,\"#9c179e\"],[0.4444444444444444,\"#bd3786\"],[0.5555555555555556,\"#d8576b\"],[0.6666666666666666,\"#ed7953\"],[0.7777777777777778,\"#fb9f3a\"],[0.8888888888888888,\"#fdca26\"],[1.0,\"#f0f921\"]],\"type\":\"contour\"}],\"heatmapgl\":[{\"colorbar\":{\"outlinewidth\":0,\"ticks\":\"\"},\"colorscale\":[[0.0,\"#0d0887\"],[0.1111111111111111,\"#46039f\"],[0.2222222222222222,\"#7201a8\"],[0.3333333333333333,\"#9c179e\"],[0.4444444444444444,\"#bd3786\"],[0.5555555555555556,\"#d8576b\"],[0.6666666666666666,\"#ed7953\"],[0.7777777777777778,\"#fb9f3a\"],[0.8888888888888888,\"#fdca26\"],[1.0,\"#f0f921\"]],\"type\":\"heatmapgl\"}],\"heatmap\":[{\"colorbar\":{\"outlinewidth\":0,\"ticks\":\"\"},\"colorscale\":[[0.0,\"#0d0887\"],[0.1111111111111111,\"#46039f\"],[0.2222222222222222,\"#7201a8\"],[0.3333333333333333,\"#9c179e\"],[0.4444444444444444,\"#bd3786\"],[0.5555555555555556,\"#d8576b\"],[0.6666666666666666,\"#ed7953\"],[0.7777777777777778,\"#fb9f3a\"],[0.8888888888888888,\"#fdca26\"],[1.0,\"#f0f921\"]],\"type\":\"heatmap\"}],\"histogram2dcontour\":[{\"colorbar\":{\"outlinewidth\":0,\"ticks\":\"\"},\"colorscale\":[[0.0,\"#0d0887\"],[0.1111111111111111,\"#46039f\"],[0.2222222222222222,\"#7201a8\"],[0.3333333333333333,\"#9c179e\"],[0.4444444444444444,\"#bd3786\"],[0.5555555555555556,\"#d8576b\"],[0.6666666666666666,\"#ed7953\"],[0.7777777777777778,\"#fb9f3a\"],[0.8888888888888888,\"#fdca26\"],[1.0,\"#f0f921\"]],\"type\":\"histogram2dcontour\"}],\"histogram2d\":[{\"colorbar\":{\"outlinewidth\":0,\"ticks\":\"\"},\"colorscale\":[[0.0,\"#0d0887\"],[0.1111111111111111,\"#46039f\"],[0.2222222222222222,\"#7201a8\"],[0.3333333333333333,\"#9c179e\"],[0.4444444444444444,\"#bd3786\"],[0.5555555555555556,\"#d8576b\"],[0.6666666666666666,\"#ed7953\"],[0.7777777777777778,\"#fb9f3a\"],[0.8888888888888888,\"#fdca26\"],[1.0,\"#f0f921\"]],\"type\":\"histogram2d\"}],\"histogram\":[{\"marker\":{\"pattern\":{\"fillmode\":\"overlay\",\"size\":10,\"solidity\":0.2}},\"type\":\"histogram\"}],\"mesh3d\":[{\"colorbar\":{\"outlinewidth\":0,\"ticks\":\"\"},\"type\":\"mesh3d\"}],\"parcoords\":[{\"line\":{\"colorbar\":{\"outlinewidth\":0,\"ticks\":\"\"}},\"type\":\"parcoords\"}],\"pie\":[{\"automargin\":true,\"type\":\"pie\"}],\"scatter3d\":[{\"line\":{\"colorbar\":{\"outlinewidth\":0,\"ticks\":\"\"}},\"marker\":{\"colorbar\":{\"outlinewidth\":0,\"ticks\":\"\"}},\"type\":\"scatter3d\"}],\"scattercarpet\":[{\"marker\":{\"colorbar\":{\"outlinewidth\":0,\"ticks\":\"\"}},\"type\":\"scattercarpet\"}],\"scattergeo\":[{\"marker\":{\"colorbar\":{\"outlinewidth\":0,\"ticks\":\"\"}},\"type\":\"scattergeo\"}],\"scattergl\":[{\"marker\":{\"colorbar\":{\"outlinewidth\":0,\"ticks\":\"\"}},\"type\":\"scattergl\"}],\"scattermapbox\":[{\"marker\":{\"colorbar\":{\"outlinewidth\":0,\"ticks\":\"\"}},\"type\":\"scattermapbox\"}],\"scatterpolargl\":[{\"marker\":{\"colorbar\":{\"outlinewidth\":0,\"ticks\":\"\"}},\"type\":\"scatterpolargl\"}],\"scatterpolar\":[{\"marker\":{\"colorbar\":{\"outlinewidth\":0,\"ticks\":\"\"}},\"type\":\"scatterpolar\"}],\"scatter\":[{\"fillpattern\":{\"fillmode\":\"overlay\",\"size\":10,\"solidity\":0.2},\"type\":\"scatter\"}],\"scatterternary\":[{\"marker\":{\"colorbar\":{\"outlinewidth\":0,\"ticks\":\"\"}},\"type\":\"scatterternary\"}],\"surface\":[{\"colorbar\":{\"outlinewidth\":0,\"ticks\":\"\"},\"colorscale\":[[0.0,\"#0d0887\"],[0.1111111111111111,\"#46039f\"],[0.2222222222222222,\"#7201a8\"],[0.3333333333333333,\"#9c179e\"],[0.4444444444444444,\"#bd3786\"],[0.5555555555555556,\"#d8576b\"],[0.6666666666666666,\"#ed7953\"],[0.7777777777777778,\"#fb9f3a\"],[0.8888888888888888,\"#fdca26\"],[1.0,\"#f0f921\"]],\"type\":\"surface\"}],\"table\":[{\"cells\":{\"fill\":{\"color\":\"#EBF0F8\"},\"line\":{\"color\":\"white\"}},\"header\":{\"fill\":{\"color\":\"#C8D4E3\"},\"line\":{\"color\":\"white\"}},\"type\":\"table\"}]},\"layout\":{\"annotationdefaults\":{\"arrowcolor\":\"#2a3f5f\",\"arrowhead\":0,\"arrowwidth\":1},\"autotypenumbers\":\"strict\",\"coloraxis\":{\"colorbar\":{\"outlinewidth\":0,\"ticks\":\"\"}},\"colorscale\":{\"diverging\":[[0,\"#8e0152\"],[0.1,\"#c51b7d\"],[0.2,\"#de77ae\"],[0.3,\"#f1b6da\"],[0.4,\"#fde0ef\"],[0.5,\"#f7f7f7\"],[0.6,\"#e6f5d0\"],[0.7,\"#b8e186\"],[0.8,\"#7fbc41\"],[0.9,\"#4d9221\"],[1,\"#276419\"]],\"sequential\":[[0.0,\"#0d0887\"],[0.1111111111111111,\"#46039f\"],[0.2222222222222222,\"#7201a8\"],[0.3333333333333333,\"#9c179e\"],[0.4444444444444444,\"#bd3786\"],[0.5555555555555556,\"#d8576b\"],[0.6666666666666666,\"#ed7953\"],[0.7777777777777778,\"#fb9f3a\"],[0.8888888888888888,\"#fdca26\"],[1.0,\"#f0f921\"]],\"sequentialminus\":[[0.0,\"#0d0887\"],[0.1111111111111111,\"#46039f\"],[0.2222222222222222,\"#7201a8\"],[0.3333333333333333,\"#9c179e\"],[0.4444444444444444,\"#bd3786\"],[0.5555555555555556,\"#d8576b\"],[0.6666666666666666,\"#ed7953\"],[0.7777777777777778,\"#fb9f3a\"],[0.8888888888888888,\"#fdca26\"],[1.0,\"#f0f921\"]]},\"colorway\":[\"#636efa\",\"#EF553B\",\"#00cc96\",\"#ab63fa\",\"#FFA15A\",\"#19d3f3\",\"#FF6692\",\"#B6E880\",\"#FF97FF\",\"#FECB52\"],\"font\":{\"color\":\"#2a3f5f\"},\"geo\":{\"bgcolor\":\"white\",\"lakecolor\":\"white\",\"landcolor\":\"#E5ECF6\",\"showlakes\":true,\"showland\":true,\"subunitcolor\":\"white\"},\"hoverlabel\":{\"align\":\"left\"},\"hovermode\":\"closest\",\"mapbox\":{\"style\":\"light\"},\"paper_bgcolor\":\"white\",\"plot_bgcolor\":\"#E5ECF6\",\"polar\":{\"angularaxis\":{\"gridcolor\":\"white\",\"linecolor\":\"white\",\"ticks\":\"\"},\"bgcolor\":\"#E5ECF6\",\"radialaxis\":{\"gridcolor\":\"white\",\"linecolor\":\"white\",\"ticks\":\"\"}},\"scene\":{\"xaxis\":{\"backgroundcolor\":\"#E5ECF6\",\"gridcolor\":\"white\",\"gridwidth\":2,\"linecolor\":\"white\",\"showbackground\":true,\"ticks\":\"\",\"zerolinecolor\":\"white\"},\"yaxis\":{\"backgroundcolor\":\"#E5ECF6\",\"gridcolor\":\"white\",\"gridwidth\":2,\"linecolor\":\"white\",\"showbackground\":true,\"ticks\":\"\",\"zerolinecolor\":\"white\"},\"zaxis\":{\"backgroundcolor\":\"#E5ECF6\",\"gridcolor\":\"white\",\"gridwidth\":2,\"linecolor\":\"white\",\"showbackground\":true,\"ticks\":\"\",\"zerolinecolor\":\"white\"}},\"shapedefaults\":{\"line\":{\"color\":\"#2a3f5f\"}},\"ternary\":{\"aaxis\":{\"gridcolor\":\"white\",\"linecolor\":\"white\",\"ticks\":\"\"},\"baxis\":{\"gridcolor\":\"white\",\"linecolor\":\"white\",\"ticks\":\"\"},\"bgcolor\":\"#E5ECF6\",\"caxis\":{\"gridcolor\":\"white\",\"linecolor\":\"white\",\"ticks\":\"\"}},\"title\":{\"x\":0.05},\"xaxis\":{\"automargin\":true,\"gridcolor\":\"white\",\"linecolor\":\"white\",\"ticks\":\"\",\"title\":{\"standoff\":15},\"zerolinecolor\":\"white\",\"zerolinewidth\":2},\"yaxis\":{\"automargin\":true,\"gridcolor\":\"white\",\"linecolor\":\"white\",\"ticks\":\"\",\"title\":{\"standoff\":15},\"zerolinecolor\":\"white\",\"zerolinewidth\":2}}},\"title\":{\"font\":{\"color\":\"#4D5663\"}},\"xaxis\":{\"gridcolor\":\"#E1E5ED\",\"showgrid\":true,\"tickfont\":{\"color\":\"#4D5663\"},\"title\":{\"font\":{\"color\":\"#4D5663\"},\"text\":\"\"},\"zerolinecolor\":\"#E1E5ED\"},\"yaxis\":{\"gridcolor\":\"#E1E5ED\",\"showgrid\":true,\"tickfont\":{\"color\":\"#4D5663\"},\"title\":{\"font\":{\"color\":\"#4D5663\"},\"text\":\"\"},\"zerolinecolor\":\"#E1E5ED\"}},                        {\"showLink\": true, \"linkText\": \"Export to plot.ly\", \"plotlyServerURL\": \"https://plot.ly\", \"responsive\": true}                    ).then(function(){\n",
       "                            \n",
       "var gd = document.getElementById('9aeac615-1a0a-4e1d-b77f-51e392a2ccbf');\n",
       "var x = new MutationObserver(function (mutations, observer) {{\n",
       "        var display = window.getComputedStyle(gd).display;\n",
       "        if (!display || display === 'none') {{\n",
       "            console.log([gd, 'removed!']);\n",
       "            Plotly.purge(gd);\n",
       "            observer.disconnect();\n",
       "        }}\n",
       "}});\n",
       "\n",
       "// Listen for the removal of the full notebook cells\n",
       "var notebookContainer = gd.closest('#notebook-container');\n",
       "if (notebookContainer) {{\n",
       "    x.observe(notebookContainer, {childList: true});\n",
       "}}\n",
       "\n",
       "// Listen for the clearing of the current output cell\n",
       "var outputEl = gd.closest('.output');\n",
       "if (outputEl) {{\n",
       "    x.observe(outputEl, {childList: true});\n",
       "}}\n",
       "\n",
       "                        })                };                });            </script>        </div>"
      ]
     },
     "metadata": {},
     "output_type": "display_data"
    }
   ],
   "source": [
    "df.iplot(kind='box')"
   ]
  },
  {
   "cell_type": "code",
   "execution_count": 11,
   "metadata": {},
   "outputs": [],
   "source": [
    "df3=pd.DataFrame({'x': [1,2,3,4,5], 'y': [10,20, 30, 20 ,10], 'z':[500, 400, 300, 200, 100]})"
   ]
  },
  {
   "cell_type": "code",
   "execution_count": 12,
   "metadata": {},
   "outputs": [
    {
     "data": {
      "text/html": [
       "<div>\n",
       "<style scoped>\n",
       "    .dataframe tbody tr th:only-of-type {\n",
       "        vertical-align: middle;\n",
       "    }\n",
       "\n",
       "    .dataframe tbody tr th {\n",
       "        vertical-align: top;\n",
       "    }\n",
       "\n",
       "    .dataframe thead th {\n",
       "        text-align: right;\n",
       "    }\n",
       "</style>\n",
       "<table border=\"1\" class=\"dataframe\">\n",
       "  <thead>\n",
       "    <tr style=\"text-align: right;\">\n",
       "      <th></th>\n",
       "      <th>x</th>\n",
       "      <th>y</th>\n",
       "      <th>z</th>\n",
       "    </tr>\n",
       "  </thead>\n",
       "  <tbody>\n",
       "    <tr>\n",
       "      <th>0</th>\n",
       "      <td>1</td>\n",
       "      <td>10</td>\n",
       "      <td>500</td>\n",
       "    </tr>\n",
       "    <tr>\n",
       "      <th>1</th>\n",
       "      <td>2</td>\n",
       "      <td>20</td>\n",
       "      <td>400</td>\n",
       "    </tr>\n",
       "    <tr>\n",
       "      <th>2</th>\n",
       "      <td>3</td>\n",
       "      <td>30</td>\n",
       "      <td>300</td>\n",
       "    </tr>\n",
       "    <tr>\n",
       "      <th>3</th>\n",
       "      <td>4</td>\n",
       "      <td>20</td>\n",
       "      <td>200</td>\n",
       "    </tr>\n",
       "    <tr>\n",
       "      <th>4</th>\n",
       "      <td>5</td>\n",
       "      <td>10</td>\n",
       "      <td>100</td>\n",
       "    </tr>\n",
       "  </tbody>\n",
       "</table>\n",
       "</div>"
      ],
      "text/plain": [
       "   x   y    z\n",
       "0  1  10  500\n",
       "1  2  20  400\n",
       "2  3  30  300\n",
       "3  4  20  200\n",
       "4  5  10  100"
      ]
     },
     "execution_count": 12,
     "metadata": {},
     "output_type": "execute_result"
    }
   ],
   "source": [
    "df3"
   ]
  },
  {
   "cell_type": "code",
   "execution_count": 13,
   "metadata": {},
   "outputs": [
    {
     "data": {
      "application/vnd.plotly.v1+json": {
       "config": {
        "linkText": "Export to plot.ly",
        "plotlyServerURL": "https://plot.ly",
        "showLink": true
       },
       "data": [
        {
         "colorscale": [
          [
           0,
           "rgb(255, 153, 51)"
          ],
          [
           0.1111111111111111,
           "rgb(55, 128, 191)"
          ],
          [
           0.2222222222222222,
           "rgb(50, 171, 96)"
          ],
          [
           0.3333333333333333,
           "rgb(128, 0, 128)"
          ],
          [
           0.4444444444444444,
           "rgb(219, 64, 82)"
          ],
          [
           0.5555555555555556,
           "rgb(0, 128, 128)"
          ],
          [
           0.6666666666666666,
           "rgb(255, 255, 51)"
          ],
          [
           0.7777777777777778,
           "rgb(128, 128, 0)"
          ],
          [
           0.8888888888888888,
           "rgb(251, 128, 114)"
          ],
          [
           1,
           "rgb(128, 177, 211)"
          ]
         ],
         "type": "surface",
         "x": [
          0,
          1,
          2,
          3,
          4
         ],
         "y": [
          "x",
          "y",
          "z"
         ],
         "z": [
          [
           1,
           2,
           3,
           4,
           5
          ],
          [
           10,
           20,
           30,
           20,
           10
          ],
          [
           500,
           400,
           300,
           200,
           100
          ]
         ]
        }
       ],
       "layout": {
        "legend": {
         "bgcolor": "#F5F6F9",
         "font": {
          "color": "#4D5663"
         }
        },
        "paper_bgcolor": "#F5F6F9",
        "plot_bgcolor": "#F5F6F9",
        "template": {
         "data": {
          "bar": [
           {
            "error_x": {
             "color": "#2a3f5f"
            },
            "error_y": {
             "color": "#2a3f5f"
            },
            "marker": {
             "line": {
              "color": "#E5ECF6",
              "width": 0.5
             },
             "pattern": {
              "fillmode": "overlay",
              "size": 10,
              "solidity": 0.2
             }
            },
            "type": "bar"
           }
          ],
          "barpolar": [
           {
            "marker": {
             "line": {
              "color": "#E5ECF6",
              "width": 0.5
             },
             "pattern": {
              "fillmode": "overlay",
              "size": 10,
              "solidity": 0.2
             }
            },
            "type": "barpolar"
           }
          ],
          "carpet": [
           {
            "aaxis": {
             "endlinecolor": "#2a3f5f",
             "gridcolor": "white",
             "linecolor": "white",
             "minorgridcolor": "white",
             "startlinecolor": "#2a3f5f"
            },
            "baxis": {
             "endlinecolor": "#2a3f5f",
             "gridcolor": "white",
             "linecolor": "white",
             "minorgridcolor": "white",
             "startlinecolor": "#2a3f5f"
            },
            "type": "carpet"
           }
          ],
          "choropleth": [
           {
            "colorbar": {
             "outlinewidth": 0,
             "ticks": ""
            },
            "type": "choropleth"
           }
          ],
          "contour": [
           {
            "colorbar": {
             "outlinewidth": 0,
             "ticks": ""
            },
            "colorscale": [
             [
              0,
              "#0d0887"
             ],
             [
              0.1111111111111111,
              "#46039f"
             ],
             [
              0.2222222222222222,
              "#7201a8"
             ],
             [
              0.3333333333333333,
              "#9c179e"
             ],
             [
              0.4444444444444444,
              "#bd3786"
             ],
             [
              0.5555555555555556,
              "#d8576b"
             ],
             [
              0.6666666666666666,
              "#ed7953"
             ],
             [
              0.7777777777777778,
              "#fb9f3a"
             ],
             [
              0.8888888888888888,
              "#fdca26"
             ],
             [
              1,
              "#f0f921"
             ]
            ],
            "type": "contour"
           }
          ],
          "contourcarpet": [
           {
            "colorbar": {
             "outlinewidth": 0,
             "ticks": ""
            },
            "type": "contourcarpet"
           }
          ],
          "heatmap": [
           {
            "colorbar": {
             "outlinewidth": 0,
             "ticks": ""
            },
            "colorscale": [
             [
              0,
              "#0d0887"
             ],
             [
              0.1111111111111111,
              "#46039f"
             ],
             [
              0.2222222222222222,
              "#7201a8"
             ],
             [
              0.3333333333333333,
              "#9c179e"
             ],
             [
              0.4444444444444444,
              "#bd3786"
             ],
             [
              0.5555555555555556,
              "#d8576b"
             ],
             [
              0.6666666666666666,
              "#ed7953"
             ],
             [
              0.7777777777777778,
              "#fb9f3a"
             ],
             [
              0.8888888888888888,
              "#fdca26"
             ],
             [
              1,
              "#f0f921"
             ]
            ],
            "type": "heatmap"
           }
          ],
          "heatmapgl": [
           {
            "colorbar": {
             "outlinewidth": 0,
             "ticks": ""
            },
            "colorscale": [
             [
              0,
              "#0d0887"
             ],
             [
              0.1111111111111111,
              "#46039f"
             ],
             [
              0.2222222222222222,
              "#7201a8"
             ],
             [
              0.3333333333333333,
              "#9c179e"
             ],
             [
              0.4444444444444444,
              "#bd3786"
             ],
             [
              0.5555555555555556,
              "#d8576b"
             ],
             [
              0.6666666666666666,
              "#ed7953"
             ],
             [
              0.7777777777777778,
              "#fb9f3a"
             ],
             [
              0.8888888888888888,
              "#fdca26"
             ],
             [
              1,
              "#f0f921"
             ]
            ],
            "type": "heatmapgl"
           }
          ],
          "histogram": [
           {
            "marker": {
             "pattern": {
              "fillmode": "overlay",
              "size": 10,
              "solidity": 0.2
             }
            },
            "type": "histogram"
           }
          ],
          "histogram2d": [
           {
            "colorbar": {
             "outlinewidth": 0,
             "ticks": ""
            },
            "colorscale": [
             [
              0,
              "#0d0887"
             ],
             [
              0.1111111111111111,
              "#46039f"
             ],
             [
              0.2222222222222222,
              "#7201a8"
             ],
             [
              0.3333333333333333,
              "#9c179e"
             ],
             [
              0.4444444444444444,
              "#bd3786"
             ],
             [
              0.5555555555555556,
              "#d8576b"
             ],
             [
              0.6666666666666666,
              "#ed7953"
             ],
             [
              0.7777777777777778,
              "#fb9f3a"
             ],
             [
              0.8888888888888888,
              "#fdca26"
             ],
             [
              1,
              "#f0f921"
             ]
            ],
            "type": "histogram2d"
           }
          ],
          "histogram2dcontour": [
           {
            "colorbar": {
             "outlinewidth": 0,
             "ticks": ""
            },
            "colorscale": [
             [
              0,
              "#0d0887"
             ],
             [
              0.1111111111111111,
              "#46039f"
             ],
             [
              0.2222222222222222,
              "#7201a8"
             ],
             [
              0.3333333333333333,
              "#9c179e"
             ],
             [
              0.4444444444444444,
              "#bd3786"
             ],
             [
              0.5555555555555556,
              "#d8576b"
             ],
             [
              0.6666666666666666,
              "#ed7953"
             ],
             [
              0.7777777777777778,
              "#fb9f3a"
             ],
             [
              0.8888888888888888,
              "#fdca26"
             ],
             [
              1,
              "#f0f921"
             ]
            ],
            "type": "histogram2dcontour"
           }
          ],
          "mesh3d": [
           {
            "colorbar": {
             "outlinewidth": 0,
             "ticks": ""
            },
            "type": "mesh3d"
           }
          ],
          "parcoords": [
           {
            "line": {
             "colorbar": {
              "outlinewidth": 0,
              "ticks": ""
             }
            },
            "type": "parcoords"
           }
          ],
          "pie": [
           {
            "automargin": true,
            "type": "pie"
           }
          ],
          "scatter": [
           {
            "fillpattern": {
             "fillmode": "overlay",
             "size": 10,
             "solidity": 0.2
            },
            "type": "scatter"
           }
          ],
          "scatter3d": [
           {
            "line": {
             "colorbar": {
              "outlinewidth": 0,
              "ticks": ""
             }
            },
            "marker": {
             "colorbar": {
              "outlinewidth": 0,
              "ticks": ""
             }
            },
            "type": "scatter3d"
           }
          ],
          "scattercarpet": [
           {
            "marker": {
             "colorbar": {
              "outlinewidth": 0,
              "ticks": ""
             }
            },
            "type": "scattercarpet"
           }
          ],
          "scattergeo": [
           {
            "marker": {
             "colorbar": {
              "outlinewidth": 0,
              "ticks": ""
             }
            },
            "type": "scattergeo"
           }
          ],
          "scattergl": [
           {
            "marker": {
             "colorbar": {
              "outlinewidth": 0,
              "ticks": ""
             }
            },
            "type": "scattergl"
           }
          ],
          "scattermapbox": [
           {
            "marker": {
             "colorbar": {
              "outlinewidth": 0,
              "ticks": ""
             }
            },
            "type": "scattermapbox"
           }
          ],
          "scatterpolar": [
           {
            "marker": {
             "colorbar": {
              "outlinewidth": 0,
              "ticks": ""
             }
            },
            "type": "scatterpolar"
           }
          ],
          "scatterpolargl": [
           {
            "marker": {
             "colorbar": {
              "outlinewidth": 0,
              "ticks": ""
             }
            },
            "type": "scatterpolargl"
           }
          ],
          "scatterternary": [
           {
            "marker": {
             "colorbar": {
              "outlinewidth": 0,
              "ticks": ""
             }
            },
            "type": "scatterternary"
           }
          ],
          "surface": [
           {
            "colorbar": {
             "outlinewidth": 0,
             "ticks": ""
            },
            "colorscale": [
             [
              0,
              "#0d0887"
             ],
             [
              0.1111111111111111,
              "#46039f"
             ],
             [
              0.2222222222222222,
              "#7201a8"
             ],
             [
              0.3333333333333333,
              "#9c179e"
             ],
             [
              0.4444444444444444,
              "#bd3786"
             ],
             [
              0.5555555555555556,
              "#d8576b"
             ],
             [
              0.6666666666666666,
              "#ed7953"
             ],
             [
              0.7777777777777778,
              "#fb9f3a"
             ],
             [
              0.8888888888888888,
              "#fdca26"
             ],
             [
              1,
              "#f0f921"
             ]
            ],
            "type": "surface"
           }
          ],
          "table": [
           {
            "cells": {
             "fill": {
              "color": "#EBF0F8"
             },
             "line": {
              "color": "white"
             }
            },
            "header": {
             "fill": {
              "color": "#C8D4E3"
             },
             "line": {
              "color": "white"
             }
            },
            "type": "table"
           }
          ]
         },
         "layout": {
          "annotationdefaults": {
           "arrowcolor": "#2a3f5f",
           "arrowhead": 0,
           "arrowwidth": 1
          },
          "autotypenumbers": "strict",
          "coloraxis": {
           "colorbar": {
            "outlinewidth": 0,
            "ticks": ""
           }
          },
          "colorscale": {
           "diverging": [
            [
             0,
             "#8e0152"
            ],
            [
             0.1,
             "#c51b7d"
            ],
            [
             0.2,
             "#de77ae"
            ],
            [
             0.3,
             "#f1b6da"
            ],
            [
             0.4,
             "#fde0ef"
            ],
            [
             0.5,
             "#f7f7f7"
            ],
            [
             0.6,
             "#e6f5d0"
            ],
            [
             0.7,
             "#b8e186"
            ],
            [
             0.8,
             "#7fbc41"
            ],
            [
             0.9,
             "#4d9221"
            ],
            [
             1,
             "#276419"
            ]
           ],
           "sequential": [
            [
             0,
             "#0d0887"
            ],
            [
             0.1111111111111111,
             "#46039f"
            ],
            [
             0.2222222222222222,
             "#7201a8"
            ],
            [
             0.3333333333333333,
             "#9c179e"
            ],
            [
             0.4444444444444444,
             "#bd3786"
            ],
            [
             0.5555555555555556,
             "#d8576b"
            ],
            [
             0.6666666666666666,
             "#ed7953"
            ],
            [
             0.7777777777777778,
             "#fb9f3a"
            ],
            [
             0.8888888888888888,
             "#fdca26"
            ],
            [
             1,
             "#f0f921"
            ]
           ],
           "sequentialminus": [
            [
             0,
             "#0d0887"
            ],
            [
             0.1111111111111111,
             "#46039f"
            ],
            [
             0.2222222222222222,
             "#7201a8"
            ],
            [
             0.3333333333333333,
             "#9c179e"
            ],
            [
             0.4444444444444444,
             "#bd3786"
            ],
            [
             0.5555555555555556,
             "#d8576b"
            ],
            [
             0.6666666666666666,
             "#ed7953"
            ],
            [
             0.7777777777777778,
             "#fb9f3a"
            ],
            [
             0.8888888888888888,
             "#fdca26"
            ],
            [
             1,
             "#f0f921"
            ]
           ]
          },
          "colorway": [
           "#636efa",
           "#EF553B",
           "#00cc96",
           "#ab63fa",
           "#FFA15A",
           "#19d3f3",
           "#FF6692",
           "#B6E880",
           "#FF97FF",
           "#FECB52"
          ],
          "font": {
           "color": "#2a3f5f"
          },
          "geo": {
           "bgcolor": "white",
           "lakecolor": "white",
           "landcolor": "#E5ECF6",
           "showlakes": true,
           "showland": true,
           "subunitcolor": "white"
          },
          "hoverlabel": {
           "align": "left"
          },
          "hovermode": "closest",
          "mapbox": {
           "style": "light"
          },
          "paper_bgcolor": "white",
          "plot_bgcolor": "#E5ECF6",
          "polar": {
           "angularaxis": {
            "gridcolor": "white",
            "linecolor": "white",
            "ticks": ""
           },
           "bgcolor": "#E5ECF6",
           "radialaxis": {
            "gridcolor": "white",
            "linecolor": "white",
            "ticks": ""
           }
          },
          "scene": {
           "xaxis": {
            "backgroundcolor": "#E5ECF6",
            "gridcolor": "white",
            "gridwidth": 2,
            "linecolor": "white",
            "showbackground": true,
            "ticks": "",
            "zerolinecolor": "white"
           },
           "yaxis": {
            "backgroundcolor": "#E5ECF6",
            "gridcolor": "white",
            "gridwidth": 2,
            "linecolor": "white",
            "showbackground": true,
            "ticks": "",
            "zerolinecolor": "white"
           },
           "zaxis": {
            "backgroundcolor": "#E5ECF6",
            "gridcolor": "white",
            "gridwidth": 2,
            "linecolor": "white",
            "showbackground": true,
            "ticks": "",
            "zerolinecolor": "white"
           }
          },
          "shapedefaults": {
           "line": {
            "color": "#2a3f5f"
           }
          },
          "ternary": {
           "aaxis": {
            "gridcolor": "white",
            "linecolor": "white",
            "ticks": ""
           },
           "baxis": {
            "gridcolor": "white",
            "linecolor": "white",
            "ticks": ""
           },
           "bgcolor": "#E5ECF6",
           "caxis": {
            "gridcolor": "white",
            "linecolor": "white",
            "ticks": ""
           }
          },
          "title": {
           "x": 0.05
          },
          "xaxis": {
           "automargin": true,
           "gridcolor": "white",
           "linecolor": "white",
           "ticks": "",
           "title": {
            "standoff": 15
           },
           "zerolinecolor": "white",
           "zerolinewidth": 2
          },
          "yaxis": {
           "automargin": true,
           "gridcolor": "white",
           "linecolor": "white",
           "ticks": "",
           "title": {
            "standoff": 15
           },
           "zerolinecolor": "white",
           "zerolinewidth": 2
          }
         }
        },
        "title": {
         "font": {
          "color": "#4D5663"
         }
        },
        "xaxis": {
         "gridcolor": "#E1E5ED",
         "showgrid": true,
         "tickfont": {
          "color": "#4D5663"
         },
         "title": {
          "font": {
           "color": "#4D5663"
          },
          "text": ""
         },
         "zerolinecolor": "#E1E5ED"
        },
        "yaxis": {
         "gridcolor": "#E1E5ED",
         "showgrid": true,
         "tickfont": {
          "color": "#4D5663"
         },
         "title": {
          "font": {
           "color": "#4D5663"
          },
          "text": ""
         },
         "zerolinecolor": "#E1E5ED"
        }
       }
      },
      "text/html": [
       "<div>                            <div id=\"ee276e9a-035d-44da-a874-aca06957236b\" class=\"plotly-graph-div\" style=\"height:525px; width:100%;\"></div>            <script type=\"text/javascript\">                require([\"plotly\"], function(Plotly) {                    window.PLOTLYENV=window.PLOTLYENV || {};\n",
       "                    window.PLOTLYENV.BASE_URL='https://plot.ly';                                    if (document.getElementById(\"ee276e9a-035d-44da-a874-aca06957236b\")) {                    Plotly.newPlot(                        \"ee276e9a-035d-44da-a874-aca06957236b\",                        [{\"colorscale\":[[0.0,\"rgb(255, 153, 51)\"],[0.1111111111111111,\"rgb(55, 128, 191)\"],[0.2222222222222222,\"rgb(50, 171, 96)\"],[0.3333333333333333,\"rgb(128, 0, 128)\"],[0.4444444444444444,\"rgb(219, 64, 82)\"],[0.5555555555555556,\"rgb(0, 128, 128)\"],[0.6666666666666666,\"rgb(255, 255, 51)\"],[0.7777777777777778,\"rgb(128, 128, 0)\"],[0.8888888888888888,\"rgb(251, 128, 114)\"],[1.0,\"rgb(128, 177, 211)\"]],\"x\":[0,1,2,3,4],\"y\":[\"x\",\"y\",\"z\"],\"z\":[[1,2,3,4,5],[10,20,30,20,10],[500,400,300,200,100]],\"type\":\"surface\"}],                        {\"legend\":{\"bgcolor\":\"#F5F6F9\",\"font\":{\"color\":\"#4D5663\"}},\"paper_bgcolor\":\"#F5F6F9\",\"plot_bgcolor\":\"#F5F6F9\",\"template\":{\"data\":{\"barpolar\":[{\"marker\":{\"line\":{\"color\":\"#E5ECF6\",\"width\":0.5},\"pattern\":{\"fillmode\":\"overlay\",\"size\":10,\"solidity\":0.2}},\"type\":\"barpolar\"}],\"bar\":[{\"error_x\":{\"color\":\"#2a3f5f\"},\"error_y\":{\"color\":\"#2a3f5f\"},\"marker\":{\"line\":{\"color\":\"#E5ECF6\",\"width\":0.5},\"pattern\":{\"fillmode\":\"overlay\",\"size\":10,\"solidity\":0.2}},\"type\":\"bar\"}],\"carpet\":[{\"aaxis\":{\"endlinecolor\":\"#2a3f5f\",\"gridcolor\":\"white\",\"linecolor\":\"white\",\"minorgridcolor\":\"white\",\"startlinecolor\":\"#2a3f5f\"},\"baxis\":{\"endlinecolor\":\"#2a3f5f\",\"gridcolor\":\"white\",\"linecolor\":\"white\",\"minorgridcolor\":\"white\",\"startlinecolor\":\"#2a3f5f\"},\"type\":\"carpet\"}],\"choropleth\":[{\"colorbar\":{\"outlinewidth\":0,\"ticks\":\"\"},\"type\":\"choropleth\"}],\"contourcarpet\":[{\"colorbar\":{\"outlinewidth\":0,\"ticks\":\"\"},\"type\":\"contourcarpet\"}],\"contour\":[{\"colorbar\":{\"outlinewidth\":0,\"ticks\":\"\"},\"colorscale\":[[0.0,\"#0d0887\"],[0.1111111111111111,\"#46039f\"],[0.2222222222222222,\"#7201a8\"],[0.3333333333333333,\"#9c179e\"],[0.4444444444444444,\"#bd3786\"],[0.5555555555555556,\"#d8576b\"],[0.6666666666666666,\"#ed7953\"],[0.7777777777777778,\"#fb9f3a\"],[0.8888888888888888,\"#fdca26\"],[1.0,\"#f0f921\"]],\"type\":\"contour\"}],\"heatmapgl\":[{\"colorbar\":{\"outlinewidth\":0,\"ticks\":\"\"},\"colorscale\":[[0.0,\"#0d0887\"],[0.1111111111111111,\"#46039f\"],[0.2222222222222222,\"#7201a8\"],[0.3333333333333333,\"#9c179e\"],[0.4444444444444444,\"#bd3786\"],[0.5555555555555556,\"#d8576b\"],[0.6666666666666666,\"#ed7953\"],[0.7777777777777778,\"#fb9f3a\"],[0.8888888888888888,\"#fdca26\"],[1.0,\"#f0f921\"]],\"type\":\"heatmapgl\"}],\"heatmap\":[{\"colorbar\":{\"outlinewidth\":0,\"ticks\":\"\"},\"colorscale\":[[0.0,\"#0d0887\"],[0.1111111111111111,\"#46039f\"],[0.2222222222222222,\"#7201a8\"],[0.3333333333333333,\"#9c179e\"],[0.4444444444444444,\"#bd3786\"],[0.5555555555555556,\"#d8576b\"],[0.6666666666666666,\"#ed7953\"],[0.7777777777777778,\"#fb9f3a\"],[0.8888888888888888,\"#fdca26\"],[1.0,\"#f0f921\"]],\"type\":\"heatmap\"}],\"histogram2dcontour\":[{\"colorbar\":{\"outlinewidth\":0,\"ticks\":\"\"},\"colorscale\":[[0.0,\"#0d0887\"],[0.1111111111111111,\"#46039f\"],[0.2222222222222222,\"#7201a8\"],[0.3333333333333333,\"#9c179e\"],[0.4444444444444444,\"#bd3786\"],[0.5555555555555556,\"#d8576b\"],[0.6666666666666666,\"#ed7953\"],[0.7777777777777778,\"#fb9f3a\"],[0.8888888888888888,\"#fdca26\"],[1.0,\"#f0f921\"]],\"type\":\"histogram2dcontour\"}],\"histogram2d\":[{\"colorbar\":{\"outlinewidth\":0,\"ticks\":\"\"},\"colorscale\":[[0.0,\"#0d0887\"],[0.1111111111111111,\"#46039f\"],[0.2222222222222222,\"#7201a8\"],[0.3333333333333333,\"#9c179e\"],[0.4444444444444444,\"#bd3786\"],[0.5555555555555556,\"#d8576b\"],[0.6666666666666666,\"#ed7953\"],[0.7777777777777778,\"#fb9f3a\"],[0.8888888888888888,\"#fdca26\"],[1.0,\"#f0f921\"]],\"type\":\"histogram2d\"}],\"histogram\":[{\"marker\":{\"pattern\":{\"fillmode\":\"overlay\",\"size\":10,\"solidity\":0.2}},\"type\":\"histogram\"}],\"mesh3d\":[{\"colorbar\":{\"outlinewidth\":0,\"ticks\":\"\"},\"type\":\"mesh3d\"}],\"parcoords\":[{\"line\":{\"colorbar\":{\"outlinewidth\":0,\"ticks\":\"\"}},\"type\":\"parcoords\"}],\"pie\":[{\"automargin\":true,\"type\":\"pie\"}],\"scatter3d\":[{\"line\":{\"colorbar\":{\"outlinewidth\":0,\"ticks\":\"\"}},\"marker\":{\"colorbar\":{\"outlinewidth\":0,\"ticks\":\"\"}},\"type\":\"scatter3d\"}],\"scattercarpet\":[{\"marker\":{\"colorbar\":{\"outlinewidth\":0,\"ticks\":\"\"}},\"type\":\"scattercarpet\"}],\"scattergeo\":[{\"marker\":{\"colorbar\":{\"outlinewidth\":0,\"ticks\":\"\"}},\"type\":\"scattergeo\"}],\"scattergl\":[{\"marker\":{\"colorbar\":{\"outlinewidth\":0,\"ticks\":\"\"}},\"type\":\"scattergl\"}],\"scattermapbox\":[{\"marker\":{\"colorbar\":{\"outlinewidth\":0,\"ticks\":\"\"}},\"type\":\"scattermapbox\"}],\"scatterpolargl\":[{\"marker\":{\"colorbar\":{\"outlinewidth\":0,\"ticks\":\"\"}},\"type\":\"scatterpolargl\"}],\"scatterpolar\":[{\"marker\":{\"colorbar\":{\"outlinewidth\":0,\"ticks\":\"\"}},\"type\":\"scatterpolar\"}],\"scatter\":[{\"fillpattern\":{\"fillmode\":\"overlay\",\"size\":10,\"solidity\":0.2},\"type\":\"scatter\"}],\"scatterternary\":[{\"marker\":{\"colorbar\":{\"outlinewidth\":0,\"ticks\":\"\"}},\"type\":\"scatterternary\"}],\"surface\":[{\"colorbar\":{\"outlinewidth\":0,\"ticks\":\"\"},\"colorscale\":[[0.0,\"#0d0887\"],[0.1111111111111111,\"#46039f\"],[0.2222222222222222,\"#7201a8\"],[0.3333333333333333,\"#9c179e\"],[0.4444444444444444,\"#bd3786\"],[0.5555555555555556,\"#d8576b\"],[0.6666666666666666,\"#ed7953\"],[0.7777777777777778,\"#fb9f3a\"],[0.8888888888888888,\"#fdca26\"],[1.0,\"#f0f921\"]],\"type\":\"surface\"}],\"table\":[{\"cells\":{\"fill\":{\"color\":\"#EBF0F8\"},\"line\":{\"color\":\"white\"}},\"header\":{\"fill\":{\"color\":\"#C8D4E3\"},\"line\":{\"color\":\"white\"}},\"type\":\"table\"}]},\"layout\":{\"annotationdefaults\":{\"arrowcolor\":\"#2a3f5f\",\"arrowhead\":0,\"arrowwidth\":1},\"autotypenumbers\":\"strict\",\"coloraxis\":{\"colorbar\":{\"outlinewidth\":0,\"ticks\":\"\"}},\"colorscale\":{\"diverging\":[[0,\"#8e0152\"],[0.1,\"#c51b7d\"],[0.2,\"#de77ae\"],[0.3,\"#f1b6da\"],[0.4,\"#fde0ef\"],[0.5,\"#f7f7f7\"],[0.6,\"#e6f5d0\"],[0.7,\"#b8e186\"],[0.8,\"#7fbc41\"],[0.9,\"#4d9221\"],[1,\"#276419\"]],\"sequential\":[[0.0,\"#0d0887\"],[0.1111111111111111,\"#46039f\"],[0.2222222222222222,\"#7201a8\"],[0.3333333333333333,\"#9c179e\"],[0.4444444444444444,\"#bd3786\"],[0.5555555555555556,\"#d8576b\"],[0.6666666666666666,\"#ed7953\"],[0.7777777777777778,\"#fb9f3a\"],[0.8888888888888888,\"#fdca26\"],[1.0,\"#f0f921\"]],\"sequentialminus\":[[0.0,\"#0d0887\"],[0.1111111111111111,\"#46039f\"],[0.2222222222222222,\"#7201a8\"],[0.3333333333333333,\"#9c179e\"],[0.4444444444444444,\"#bd3786\"],[0.5555555555555556,\"#d8576b\"],[0.6666666666666666,\"#ed7953\"],[0.7777777777777778,\"#fb9f3a\"],[0.8888888888888888,\"#fdca26\"],[1.0,\"#f0f921\"]]},\"colorway\":[\"#636efa\",\"#EF553B\",\"#00cc96\",\"#ab63fa\",\"#FFA15A\",\"#19d3f3\",\"#FF6692\",\"#B6E880\",\"#FF97FF\",\"#FECB52\"],\"font\":{\"color\":\"#2a3f5f\"},\"geo\":{\"bgcolor\":\"white\",\"lakecolor\":\"white\",\"landcolor\":\"#E5ECF6\",\"showlakes\":true,\"showland\":true,\"subunitcolor\":\"white\"},\"hoverlabel\":{\"align\":\"left\"},\"hovermode\":\"closest\",\"mapbox\":{\"style\":\"light\"},\"paper_bgcolor\":\"white\",\"plot_bgcolor\":\"#E5ECF6\",\"polar\":{\"angularaxis\":{\"gridcolor\":\"white\",\"linecolor\":\"white\",\"ticks\":\"\"},\"bgcolor\":\"#E5ECF6\",\"radialaxis\":{\"gridcolor\":\"white\",\"linecolor\":\"white\",\"ticks\":\"\"}},\"scene\":{\"xaxis\":{\"backgroundcolor\":\"#E5ECF6\",\"gridcolor\":\"white\",\"gridwidth\":2,\"linecolor\":\"white\",\"showbackground\":true,\"ticks\":\"\",\"zerolinecolor\":\"white\"},\"yaxis\":{\"backgroundcolor\":\"#E5ECF6\",\"gridcolor\":\"white\",\"gridwidth\":2,\"linecolor\":\"white\",\"showbackground\":true,\"ticks\":\"\",\"zerolinecolor\":\"white\"},\"zaxis\":{\"backgroundcolor\":\"#E5ECF6\",\"gridcolor\":\"white\",\"gridwidth\":2,\"linecolor\":\"white\",\"showbackground\":true,\"ticks\":\"\",\"zerolinecolor\":\"white\"}},\"shapedefaults\":{\"line\":{\"color\":\"#2a3f5f\"}},\"ternary\":{\"aaxis\":{\"gridcolor\":\"white\",\"linecolor\":\"white\",\"ticks\":\"\"},\"baxis\":{\"gridcolor\":\"white\",\"linecolor\":\"white\",\"ticks\":\"\"},\"bgcolor\":\"#E5ECF6\",\"caxis\":{\"gridcolor\":\"white\",\"linecolor\":\"white\",\"ticks\":\"\"}},\"title\":{\"x\":0.05},\"xaxis\":{\"automargin\":true,\"gridcolor\":\"white\",\"linecolor\":\"white\",\"ticks\":\"\",\"title\":{\"standoff\":15},\"zerolinecolor\":\"white\",\"zerolinewidth\":2},\"yaxis\":{\"automargin\":true,\"gridcolor\":\"white\",\"linecolor\":\"white\",\"ticks\":\"\",\"title\":{\"standoff\":15},\"zerolinecolor\":\"white\",\"zerolinewidth\":2}}},\"title\":{\"font\":{\"color\":\"#4D5663\"}},\"xaxis\":{\"gridcolor\":\"#E1E5ED\",\"showgrid\":true,\"tickfont\":{\"color\":\"#4D5663\"},\"title\":{\"font\":{\"color\":\"#4D5663\"},\"text\":\"\"},\"zerolinecolor\":\"#E1E5ED\"},\"yaxis\":{\"gridcolor\":\"#E1E5ED\",\"showgrid\":true,\"tickfont\":{\"color\":\"#4D5663\"},\"title\":{\"font\":{\"color\":\"#4D5663\"},\"text\":\"\"},\"zerolinecolor\":\"#E1E5ED\"}},                        {\"showLink\": true, \"linkText\": \"Export to plot.ly\", \"plotlyServerURL\": \"https://plot.ly\", \"responsive\": true}                    ).then(function(){\n",
       "                            \n",
       "var gd = document.getElementById('ee276e9a-035d-44da-a874-aca06957236b');\n",
       "var x = new MutationObserver(function (mutations, observer) {{\n",
       "        var display = window.getComputedStyle(gd).display;\n",
       "        if (!display || display === 'none') {{\n",
       "            console.log([gd, 'removed!']);\n",
       "            Plotly.purge(gd);\n",
       "            observer.disconnect();\n",
       "        }}\n",
       "}});\n",
       "\n",
       "// Listen for the removal of the full notebook cells\n",
       "var notebookContainer = gd.closest('#notebook-container');\n",
       "if (notebookContainer) {{\n",
       "    x.observe(notebookContainer, {childList: true});\n",
       "}}\n",
       "\n",
       "// Listen for the clearing of the current output cell\n",
       "var outputEl = gd.closest('.output');\n",
       "if (outputEl) {{\n",
       "    x.observe(outputEl, {childList: true});\n",
       "}}\n",
       "\n",
       "                        })                };                });            </script>        </div>"
      ]
     },
     "metadata": {},
     "output_type": "display_data"
    }
   ],
   "source": [
    "df3.iplot(kind='surface')"
   ]
  },
  {
   "cell_type": "code",
   "execution_count": 14,
   "metadata": {},
   "outputs": [
    {
     "data": {
      "application/vnd.plotly.v1+json": {
       "config": {
        "linkText": "Export to plot.ly",
        "plotlyServerURL": "https://plot.ly",
        "showLink": true
       },
       "data": [
        {
         "colorscale": [
          [
           0,
           "rgb(165,0,38)"
          ],
          [
           0.1,
           "rgb(215,48,39)"
          ],
          [
           0.2,
           "rgb(244,109,67)"
          ],
          [
           0.3,
           "rgb(253,174,97)"
          ],
          [
           0.4,
           "rgb(254,224,144)"
          ],
          [
           0.5,
           "rgb(255,255,191)"
          ],
          [
           0.6,
           "rgb(224,243,248)"
          ],
          [
           0.7,
           "rgb(171,217,233)"
          ],
          [
           0.8,
           "rgb(116,173,209)"
          ],
          [
           0.9,
           "rgb(69,117,180)"
          ],
          [
           1,
           "rgb(49,54,149)"
          ]
         ],
         "type": "surface",
         "x": [
          0,
          1,
          2,
          3,
          4
         ],
         "y": [
          "x",
          "y",
          "z"
         ],
         "z": [
          [
           1,
           2,
           3,
           4,
           5
          ],
          [
           10,
           20,
           30,
           20,
           10
          ],
          [
           500,
           400,
           300,
           200,
           100
          ]
         ]
        }
       ],
       "layout": {
        "legend": {
         "bgcolor": "#F5F6F9",
         "font": {
          "color": "#4D5663"
         }
        },
        "paper_bgcolor": "#F5F6F9",
        "plot_bgcolor": "#F5F6F9",
        "template": {
         "data": {
          "bar": [
           {
            "error_x": {
             "color": "#2a3f5f"
            },
            "error_y": {
             "color": "#2a3f5f"
            },
            "marker": {
             "line": {
              "color": "#E5ECF6",
              "width": 0.5
             },
             "pattern": {
              "fillmode": "overlay",
              "size": 10,
              "solidity": 0.2
             }
            },
            "type": "bar"
           }
          ],
          "barpolar": [
           {
            "marker": {
             "line": {
              "color": "#E5ECF6",
              "width": 0.5
             },
             "pattern": {
              "fillmode": "overlay",
              "size": 10,
              "solidity": 0.2
             }
            },
            "type": "barpolar"
           }
          ],
          "carpet": [
           {
            "aaxis": {
             "endlinecolor": "#2a3f5f",
             "gridcolor": "white",
             "linecolor": "white",
             "minorgridcolor": "white",
             "startlinecolor": "#2a3f5f"
            },
            "baxis": {
             "endlinecolor": "#2a3f5f",
             "gridcolor": "white",
             "linecolor": "white",
             "minorgridcolor": "white",
             "startlinecolor": "#2a3f5f"
            },
            "type": "carpet"
           }
          ],
          "choropleth": [
           {
            "colorbar": {
             "outlinewidth": 0,
             "ticks": ""
            },
            "type": "choropleth"
           }
          ],
          "contour": [
           {
            "colorbar": {
             "outlinewidth": 0,
             "ticks": ""
            },
            "colorscale": [
             [
              0,
              "#0d0887"
             ],
             [
              0.1111111111111111,
              "#46039f"
             ],
             [
              0.2222222222222222,
              "#7201a8"
             ],
             [
              0.3333333333333333,
              "#9c179e"
             ],
             [
              0.4444444444444444,
              "#bd3786"
             ],
             [
              0.5555555555555556,
              "#d8576b"
             ],
             [
              0.6666666666666666,
              "#ed7953"
             ],
             [
              0.7777777777777778,
              "#fb9f3a"
             ],
             [
              0.8888888888888888,
              "#fdca26"
             ],
             [
              1,
              "#f0f921"
             ]
            ],
            "type": "contour"
           }
          ],
          "contourcarpet": [
           {
            "colorbar": {
             "outlinewidth": 0,
             "ticks": ""
            },
            "type": "contourcarpet"
           }
          ],
          "heatmap": [
           {
            "colorbar": {
             "outlinewidth": 0,
             "ticks": ""
            },
            "colorscale": [
             [
              0,
              "#0d0887"
             ],
             [
              0.1111111111111111,
              "#46039f"
             ],
             [
              0.2222222222222222,
              "#7201a8"
             ],
             [
              0.3333333333333333,
              "#9c179e"
             ],
             [
              0.4444444444444444,
              "#bd3786"
             ],
             [
              0.5555555555555556,
              "#d8576b"
             ],
             [
              0.6666666666666666,
              "#ed7953"
             ],
             [
              0.7777777777777778,
              "#fb9f3a"
             ],
             [
              0.8888888888888888,
              "#fdca26"
             ],
             [
              1,
              "#f0f921"
             ]
            ],
            "type": "heatmap"
           }
          ],
          "heatmapgl": [
           {
            "colorbar": {
             "outlinewidth": 0,
             "ticks": ""
            },
            "colorscale": [
             [
              0,
              "#0d0887"
             ],
             [
              0.1111111111111111,
              "#46039f"
             ],
             [
              0.2222222222222222,
              "#7201a8"
             ],
             [
              0.3333333333333333,
              "#9c179e"
             ],
             [
              0.4444444444444444,
              "#bd3786"
             ],
             [
              0.5555555555555556,
              "#d8576b"
             ],
             [
              0.6666666666666666,
              "#ed7953"
             ],
             [
              0.7777777777777778,
              "#fb9f3a"
             ],
             [
              0.8888888888888888,
              "#fdca26"
             ],
             [
              1,
              "#f0f921"
             ]
            ],
            "type": "heatmapgl"
           }
          ],
          "histogram": [
           {
            "marker": {
             "pattern": {
              "fillmode": "overlay",
              "size": 10,
              "solidity": 0.2
             }
            },
            "type": "histogram"
           }
          ],
          "histogram2d": [
           {
            "colorbar": {
             "outlinewidth": 0,
             "ticks": ""
            },
            "colorscale": [
             [
              0,
              "#0d0887"
             ],
             [
              0.1111111111111111,
              "#46039f"
             ],
             [
              0.2222222222222222,
              "#7201a8"
             ],
             [
              0.3333333333333333,
              "#9c179e"
             ],
             [
              0.4444444444444444,
              "#bd3786"
             ],
             [
              0.5555555555555556,
              "#d8576b"
             ],
             [
              0.6666666666666666,
              "#ed7953"
             ],
             [
              0.7777777777777778,
              "#fb9f3a"
             ],
             [
              0.8888888888888888,
              "#fdca26"
             ],
             [
              1,
              "#f0f921"
             ]
            ],
            "type": "histogram2d"
           }
          ],
          "histogram2dcontour": [
           {
            "colorbar": {
             "outlinewidth": 0,
             "ticks": ""
            },
            "colorscale": [
             [
              0,
              "#0d0887"
             ],
             [
              0.1111111111111111,
              "#46039f"
             ],
             [
              0.2222222222222222,
              "#7201a8"
             ],
             [
              0.3333333333333333,
              "#9c179e"
             ],
             [
              0.4444444444444444,
              "#bd3786"
             ],
             [
              0.5555555555555556,
              "#d8576b"
             ],
             [
              0.6666666666666666,
              "#ed7953"
             ],
             [
              0.7777777777777778,
              "#fb9f3a"
             ],
             [
              0.8888888888888888,
              "#fdca26"
             ],
             [
              1,
              "#f0f921"
             ]
            ],
            "type": "histogram2dcontour"
           }
          ],
          "mesh3d": [
           {
            "colorbar": {
             "outlinewidth": 0,
             "ticks": ""
            },
            "type": "mesh3d"
           }
          ],
          "parcoords": [
           {
            "line": {
             "colorbar": {
              "outlinewidth": 0,
              "ticks": ""
             }
            },
            "type": "parcoords"
           }
          ],
          "pie": [
           {
            "automargin": true,
            "type": "pie"
           }
          ],
          "scatter": [
           {
            "fillpattern": {
             "fillmode": "overlay",
             "size": 10,
             "solidity": 0.2
            },
            "type": "scatter"
           }
          ],
          "scatter3d": [
           {
            "line": {
             "colorbar": {
              "outlinewidth": 0,
              "ticks": ""
             }
            },
            "marker": {
             "colorbar": {
              "outlinewidth": 0,
              "ticks": ""
             }
            },
            "type": "scatter3d"
           }
          ],
          "scattercarpet": [
           {
            "marker": {
             "colorbar": {
              "outlinewidth": 0,
              "ticks": ""
             }
            },
            "type": "scattercarpet"
           }
          ],
          "scattergeo": [
           {
            "marker": {
             "colorbar": {
              "outlinewidth": 0,
              "ticks": ""
             }
            },
            "type": "scattergeo"
           }
          ],
          "scattergl": [
           {
            "marker": {
             "colorbar": {
              "outlinewidth": 0,
              "ticks": ""
             }
            },
            "type": "scattergl"
           }
          ],
          "scattermapbox": [
           {
            "marker": {
             "colorbar": {
              "outlinewidth": 0,
              "ticks": ""
             }
            },
            "type": "scattermapbox"
           }
          ],
          "scatterpolar": [
           {
            "marker": {
             "colorbar": {
              "outlinewidth": 0,
              "ticks": ""
             }
            },
            "type": "scatterpolar"
           }
          ],
          "scatterpolargl": [
           {
            "marker": {
             "colorbar": {
              "outlinewidth": 0,
              "ticks": ""
             }
            },
            "type": "scatterpolargl"
           }
          ],
          "scatterternary": [
           {
            "marker": {
             "colorbar": {
              "outlinewidth": 0,
              "ticks": ""
             }
            },
            "type": "scatterternary"
           }
          ],
          "surface": [
           {
            "colorbar": {
             "outlinewidth": 0,
             "ticks": ""
            },
            "colorscale": [
             [
              0,
              "#0d0887"
             ],
             [
              0.1111111111111111,
              "#46039f"
             ],
             [
              0.2222222222222222,
              "#7201a8"
             ],
             [
              0.3333333333333333,
              "#9c179e"
             ],
             [
              0.4444444444444444,
              "#bd3786"
             ],
             [
              0.5555555555555556,
              "#d8576b"
             ],
             [
              0.6666666666666666,
              "#ed7953"
             ],
             [
              0.7777777777777778,
              "#fb9f3a"
             ],
             [
              0.8888888888888888,
              "#fdca26"
             ],
             [
              1,
              "#f0f921"
             ]
            ],
            "type": "surface"
           }
          ],
          "table": [
           {
            "cells": {
             "fill": {
              "color": "#EBF0F8"
             },
             "line": {
              "color": "white"
             }
            },
            "header": {
             "fill": {
              "color": "#C8D4E3"
             },
             "line": {
              "color": "white"
             }
            },
            "type": "table"
           }
          ]
         },
         "layout": {
          "annotationdefaults": {
           "arrowcolor": "#2a3f5f",
           "arrowhead": 0,
           "arrowwidth": 1
          },
          "autotypenumbers": "strict",
          "coloraxis": {
           "colorbar": {
            "outlinewidth": 0,
            "ticks": ""
           }
          },
          "colorscale": {
           "diverging": [
            [
             0,
             "#8e0152"
            ],
            [
             0.1,
             "#c51b7d"
            ],
            [
             0.2,
             "#de77ae"
            ],
            [
             0.3,
             "#f1b6da"
            ],
            [
             0.4,
             "#fde0ef"
            ],
            [
             0.5,
             "#f7f7f7"
            ],
            [
             0.6,
             "#e6f5d0"
            ],
            [
             0.7,
             "#b8e186"
            ],
            [
             0.8,
             "#7fbc41"
            ],
            [
             0.9,
             "#4d9221"
            ],
            [
             1,
             "#276419"
            ]
           ],
           "sequential": [
            [
             0,
             "#0d0887"
            ],
            [
             0.1111111111111111,
             "#46039f"
            ],
            [
             0.2222222222222222,
             "#7201a8"
            ],
            [
             0.3333333333333333,
             "#9c179e"
            ],
            [
             0.4444444444444444,
             "#bd3786"
            ],
            [
             0.5555555555555556,
             "#d8576b"
            ],
            [
             0.6666666666666666,
             "#ed7953"
            ],
            [
             0.7777777777777778,
             "#fb9f3a"
            ],
            [
             0.8888888888888888,
             "#fdca26"
            ],
            [
             1,
             "#f0f921"
            ]
           ],
           "sequentialminus": [
            [
             0,
             "#0d0887"
            ],
            [
             0.1111111111111111,
             "#46039f"
            ],
            [
             0.2222222222222222,
             "#7201a8"
            ],
            [
             0.3333333333333333,
             "#9c179e"
            ],
            [
             0.4444444444444444,
             "#bd3786"
            ],
            [
             0.5555555555555556,
             "#d8576b"
            ],
            [
             0.6666666666666666,
             "#ed7953"
            ],
            [
             0.7777777777777778,
             "#fb9f3a"
            ],
            [
             0.8888888888888888,
             "#fdca26"
            ],
            [
             1,
             "#f0f921"
            ]
           ]
          },
          "colorway": [
           "#636efa",
           "#EF553B",
           "#00cc96",
           "#ab63fa",
           "#FFA15A",
           "#19d3f3",
           "#FF6692",
           "#B6E880",
           "#FF97FF",
           "#FECB52"
          ],
          "font": {
           "color": "#2a3f5f"
          },
          "geo": {
           "bgcolor": "white",
           "lakecolor": "white",
           "landcolor": "#E5ECF6",
           "showlakes": true,
           "showland": true,
           "subunitcolor": "white"
          },
          "hoverlabel": {
           "align": "left"
          },
          "hovermode": "closest",
          "mapbox": {
           "style": "light"
          },
          "paper_bgcolor": "white",
          "plot_bgcolor": "#E5ECF6",
          "polar": {
           "angularaxis": {
            "gridcolor": "white",
            "linecolor": "white",
            "ticks": ""
           },
           "bgcolor": "#E5ECF6",
           "radialaxis": {
            "gridcolor": "white",
            "linecolor": "white",
            "ticks": ""
           }
          },
          "scene": {
           "xaxis": {
            "backgroundcolor": "#E5ECF6",
            "gridcolor": "white",
            "gridwidth": 2,
            "linecolor": "white",
            "showbackground": true,
            "ticks": "",
            "zerolinecolor": "white"
           },
           "yaxis": {
            "backgroundcolor": "#E5ECF6",
            "gridcolor": "white",
            "gridwidth": 2,
            "linecolor": "white",
            "showbackground": true,
            "ticks": "",
            "zerolinecolor": "white"
           },
           "zaxis": {
            "backgroundcolor": "#E5ECF6",
            "gridcolor": "white",
            "gridwidth": 2,
            "linecolor": "white",
            "showbackground": true,
            "ticks": "",
            "zerolinecolor": "white"
           }
          },
          "shapedefaults": {
           "line": {
            "color": "#2a3f5f"
           }
          },
          "ternary": {
           "aaxis": {
            "gridcolor": "white",
            "linecolor": "white",
            "ticks": ""
           },
           "baxis": {
            "gridcolor": "white",
            "linecolor": "white",
            "ticks": ""
           },
           "bgcolor": "#E5ECF6",
           "caxis": {
            "gridcolor": "white",
            "linecolor": "white",
            "ticks": ""
           }
          },
          "title": {
           "x": 0.05
          },
          "xaxis": {
           "automargin": true,
           "gridcolor": "white",
           "linecolor": "white",
           "ticks": "",
           "title": {
            "standoff": 15
           },
           "zerolinecolor": "white",
           "zerolinewidth": 2
          },
          "yaxis": {
           "automargin": true,
           "gridcolor": "white",
           "linecolor": "white",
           "ticks": "",
           "title": {
            "standoff": 15
           },
           "zerolinecolor": "white",
           "zerolinewidth": 2
          }
         }
        },
        "title": {
         "font": {
          "color": "#4D5663"
         }
        },
        "xaxis": {
         "gridcolor": "#E1E5ED",
         "showgrid": true,
         "tickfont": {
          "color": "#4D5663"
         },
         "title": {
          "font": {
           "color": "#4D5663"
          },
          "text": ""
         },
         "zerolinecolor": "#E1E5ED"
        },
        "yaxis": {
         "gridcolor": "#E1E5ED",
         "showgrid": true,
         "tickfont": {
          "color": "#4D5663"
         },
         "title": {
          "font": {
           "color": "#4D5663"
          },
          "text": ""
         },
         "zerolinecolor": "#E1E5ED"
        }
       }
      },
      "text/html": [
       "<div>                            <div id=\"1ee8dc56-b303-41ae-a9e5-19db8937a644\" class=\"plotly-graph-div\" style=\"height:525px; width:100%;\"></div>            <script type=\"text/javascript\">                require([\"plotly\"], function(Plotly) {                    window.PLOTLYENV=window.PLOTLYENV || {};\n",
       "                    window.PLOTLYENV.BASE_URL='https://plot.ly';                                    if (document.getElementById(\"1ee8dc56-b303-41ae-a9e5-19db8937a644\")) {                    Plotly.newPlot(                        \"1ee8dc56-b303-41ae-a9e5-19db8937a644\",                        [{\"colorscale\":[[0.0,\"rgb(165,0,38)\"],[0.1,\"rgb(215,48,39)\"],[0.2,\"rgb(244,109,67)\"],[0.3,\"rgb(253,174,97)\"],[0.4,\"rgb(254,224,144)\"],[0.5,\"rgb(255,255,191)\"],[0.6,\"rgb(224,243,248)\"],[0.7,\"rgb(171,217,233)\"],[0.8,\"rgb(116,173,209)\"],[0.9,\"rgb(69,117,180)\"],[1.0,\"rgb(49,54,149)\"]],\"x\":[0,1,2,3,4],\"y\":[\"x\",\"y\",\"z\"],\"z\":[[1,2,3,4,5],[10,20,30,20,10],[500,400,300,200,100]],\"type\":\"surface\"}],                        {\"legend\":{\"bgcolor\":\"#F5F6F9\",\"font\":{\"color\":\"#4D5663\"}},\"paper_bgcolor\":\"#F5F6F9\",\"plot_bgcolor\":\"#F5F6F9\",\"template\":{\"data\":{\"barpolar\":[{\"marker\":{\"line\":{\"color\":\"#E5ECF6\",\"width\":0.5},\"pattern\":{\"fillmode\":\"overlay\",\"size\":10,\"solidity\":0.2}},\"type\":\"barpolar\"}],\"bar\":[{\"error_x\":{\"color\":\"#2a3f5f\"},\"error_y\":{\"color\":\"#2a3f5f\"},\"marker\":{\"line\":{\"color\":\"#E5ECF6\",\"width\":0.5},\"pattern\":{\"fillmode\":\"overlay\",\"size\":10,\"solidity\":0.2}},\"type\":\"bar\"}],\"carpet\":[{\"aaxis\":{\"endlinecolor\":\"#2a3f5f\",\"gridcolor\":\"white\",\"linecolor\":\"white\",\"minorgridcolor\":\"white\",\"startlinecolor\":\"#2a3f5f\"},\"baxis\":{\"endlinecolor\":\"#2a3f5f\",\"gridcolor\":\"white\",\"linecolor\":\"white\",\"minorgridcolor\":\"white\",\"startlinecolor\":\"#2a3f5f\"},\"type\":\"carpet\"}],\"choropleth\":[{\"colorbar\":{\"outlinewidth\":0,\"ticks\":\"\"},\"type\":\"choropleth\"}],\"contourcarpet\":[{\"colorbar\":{\"outlinewidth\":0,\"ticks\":\"\"},\"type\":\"contourcarpet\"}],\"contour\":[{\"colorbar\":{\"outlinewidth\":0,\"ticks\":\"\"},\"colorscale\":[[0.0,\"#0d0887\"],[0.1111111111111111,\"#46039f\"],[0.2222222222222222,\"#7201a8\"],[0.3333333333333333,\"#9c179e\"],[0.4444444444444444,\"#bd3786\"],[0.5555555555555556,\"#d8576b\"],[0.6666666666666666,\"#ed7953\"],[0.7777777777777778,\"#fb9f3a\"],[0.8888888888888888,\"#fdca26\"],[1.0,\"#f0f921\"]],\"type\":\"contour\"}],\"heatmapgl\":[{\"colorbar\":{\"outlinewidth\":0,\"ticks\":\"\"},\"colorscale\":[[0.0,\"#0d0887\"],[0.1111111111111111,\"#46039f\"],[0.2222222222222222,\"#7201a8\"],[0.3333333333333333,\"#9c179e\"],[0.4444444444444444,\"#bd3786\"],[0.5555555555555556,\"#d8576b\"],[0.6666666666666666,\"#ed7953\"],[0.7777777777777778,\"#fb9f3a\"],[0.8888888888888888,\"#fdca26\"],[1.0,\"#f0f921\"]],\"type\":\"heatmapgl\"}],\"heatmap\":[{\"colorbar\":{\"outlinewidth\":0,\"ticks\":\"\"},\"colorscale\":[[0.0,\"#0d0887\"],[0.1111111111111111,\"#46039f\"],[0.2222222222222222,\"#7201a8\"],[0.3333333333333333,\"#9c179e\"],[0.4444444444444444,\"#bd3786\"],[0.5555555555555556,\"#d8576b\"],[0.6666666666666666,\"#ed7953\"],[0.7777777777777778,\"#fb9f3a\"],[0.8888888888888888,\"#fdca26\"],[1.0,\"#f0f921\"]],\"type\":\"heatmap\"}],\"histogram2dcontour\":[{\"colorbar\":{\"outlinewidth\":0,\"ticks\":\"\"},\"colorscale\":[[0.0,\"#0d0887\"],[0.1111111111111111,\"#46039f\"],[0.2222222222222222,\"#7201a8\"],[0.3333333333333333,\"#9c179e\"],[0.4444444444444444,\"#bd3786\"],[0.5555555555555556,\"#d8576b\"],[0.6666666666666666,\"#ed7953\"],[0.7777777777777778,\"#fb9f3a\"],[0.8888888888888888,\"#fdca26\"],[1.0,\"#f0f921\"]],\"type\":\"histogram2dcontour\"}],\"histogram2d\":[{\"colorbar\":{\"outlinewidth\":0,\"ticks\":\"\"},\"colorscale\":[[0.0,\"#0d0887\"],[0.1111111111111111,\"#46039f\"],[0.2222222222222222,\"#7201a8\"],[0.3333333333333333,\"#9c179e\"],[0.4444444444444444,\"#bd3786\"],[0.5555555555555556,\"#d8576b\"],[0.6666666666666666,\"#ed7953\"],[0.7777777777777778,\"#fb9f3a\"],[0.8888888888888888,\"#fdca26\"],[1.0,\"#f0f921\"]],\"type\":\"histogram2d\"}],\"histogram\":[{\"marker\":{\"pattern\":{\"fillmode\":\"overlay\",\"size\":10,\"solidity\":0.2}},\"type\":\"histogram\"}],\"mesh3d\":[{\"colorbar\":{\"outlinewidth\":0,\"ticks\":\"\"},\"type\":\"mesh3d\"}],\"parcoords\":[{\"line\":{\"colorbar\":{\"outlinewidth\":0,\"ticks\":\"\"}},\"type\":\"parcoords\"}],\"pie\":[{\"automargin\":true,\"type\":\"pie\"}],\"scatter3d\":[{\"line\":{\"colorbar\":{\"outlinewidth\":0,\"ticks\":\"\"}},\"marker\":{\"colorbar\":{\"outlinewidth\":0,\"ticks\":\"\"}},\"type\":\"scatter3d\"}],\"scattercarpet\":[{\"marker\":{\"colorbar\":{\"outlinewidth\":0,\"ticks\":\"\"}},\"type\":\"scattercarpet\"}],\"scattergeo\":[{\"marker\":{\"colorbar\":{\"outlinewidth\":0,\"ticks\":\"\"}},\"type\":\"scattergeo\"}],\"scattergl\":[{\"marker\":{\"colorbar\":{\"outlinewidth\":0,\"ticks\":\"\"}},\"type\":\"scattergl\"}],\"scattermapbox\":[{\"marker\":{\"colorbar\":{\"outlinewidth\":0,\"ticks\":\"\"}},\"type\":\"scattermapbox\"}],\"scatterpolargl\":[{\"marker\":{\"colorbar\":{\"outlinewidth\":0,\"ticks\":\"\"}},\"type\":\"scatterpolargl\"}],\"scatterpolar\":[{\"marker\":{\"colorbar\":{\"outlinewidth\":0,\"ticks\":\"\"}},\"type\":\"scatterpolar\"}],\"scatter\":[{\"fillpattern\":{\"fillmode\":\"overlay\",\"size\":10,\"solidity\":0.2},\"type\":\"scatter\"}],\"scatterternary\":[{\"marker\":{\"colorbar\":{\"outlinewidth\":0,\"ticks\":\"\"}},\"type\":\"scatterternary\"}],\"surface\":[{\"colorbar\":{\"outlinewidth\":0,\"ticks\":\"\"},\"colorscale\":[[0.0,\"#0d0887\"],[0.1111111111111111,\"#46039f\"],[0.2222222222222222,\"#7201a8\"],[0.3333333333333333,\"#9c179e\"],[0.4444444444444444,\"#bd3786\"],[0.5555555555555556,\"#d8576b\"],[0.6666666666666666,\"#ed7953\"],[0.7777777777777778,\"#fb9f3a\"],[0.8888888888888888,\"#fdca26\"],[1.0,\"#f0f921\"]],\"type\":\"surface\"}],\"table\":[{\"cells\":{\"fill\":{\"color\":\"#EBF0F8\"},\"line\":{\"color\":\"white\"}},\"header\":{\"fill\":{\"color\":\"#C8D4E3\"},\"line\":{\"color\":\"white\"}},\"type\":\"table\"}]},\"layout\":{\"annotationdefaults\":{\"arrowcolor\":\"#2a3f5f\",\"arrowhead\":0,\"arrowwidth\":1},\"autotypenumbers\":\"strict\",\"coloraxis\":{\"colorbar\":{\"outlinewidth\":0,\"ticks\":\"\"}},\"colorscale\":{\"diverging\":[[0,\"#8e0152\"],[0.1,\"#c51b7d\"],[0.2,\"#de77ae\"],[0.3,\"#f1b6da\"],[0.4,\"#fde0ef\"],[0.5,\"#f7f7f7\"],[0.6,\"#e6f5d0\"],[0.7,\"#b8e186\"],[0.8,\"#7fbc41\"],[0.9,\"#4d9221\"],[1,\"#276419\"]],\"sequential\":[[0.0,\"#0d0887\"],[0.1111111111111111,\"#46039f\"],[0.2222222222222222,\"#7201a8\"],[0.3333333333333333,\"#9c179e\"],[0.4444444444444444,\"#bd3786\"],[0.5555555555555556,\"#d8576b\"],[0.6666666666666666,\"#ed7953\"],[0.7777777777777778,\"#fb9f3a\"],[0.8888888888888888,\"#fdca26\"],[1.0,\"#f0f921\"]],\"sequentialminus\":[[0.0,\"#0d0887\"],[0.1111111111111111,\"#46039f\"],[0.2222222222222222,\"#7201a8\"],[0.3333333333333333,\"#9c179e\"],[0.4444444444444444,\"#bd3786\"],[0.5555555555555556,\"#d8576b\"],[0.6666666666666666,\"#ed7953\"],[0.7777777777777778,\"#fb9f3a\"],[0.8888888888888888,\"#fdca26\"],[1.0,\"#f0f921\"]]},\"colorway\":[\"#636efa\",\"#EF553B\",\"#00cc96\",\"#ab63fa\",\"#FFA15A\",\"#19d3f3\",\"#FF6692\",\"#B6E880\",\"#FF97FF\",\"#FECB52\"],\"font\":{\"color\":\"#2a3f5f\"},\"geo\":{\"bgcolor\":\"white\",\"lakecolor\":\"white\",\"landcolor\":\"#E5ECF6\",\"showlakes\":true,\"showland\":true,\"subunitcolor\":\"white\"},\"hoverlabel\":{\"align\":\"left\"},\"hovermode\":\"closest\",\"mapbox\":{\"style\":\"light\"},\"paper_bgcolor\":\"white\",\"plot_bgcolor\":\"#E5ECF6\",\"polar\":{\"angularaxis\":{\"gridcolor\":\"white\",\"linecolor\":\"white\",\"ticks\":\"\"},\"bgcolor\":\"#E5ECF6\",\"radialaxis\":{\"gridcolor\":\"white\",\"linecolor\":\"white\",\"ticks\":\"\"}},\"scene\":{\"xaxis\":{\"backgroundcolor\":\"#E5ECF6\",\"gridcolor\":\"white\",\"gridwidth\":2,\"linecolor\":\"white\",\"showbackground\":true,\"ticks\":\"\",\"zerolinecolor\":\"white\"},\"yaxis\":{\"backgroundcolor\":\"#E5ECF6\",\"gridcolor\":\"white\",\"gridwidth\":2,\"linecolor\":\"white\",\"showbackground\":true,\"ticks\":\"\",\"zerolinecolor\":\"white\"},\"zaxis\":{\"backgroundcolor\":\"#E5ECF6\",\"gridcolor\":\"white\",\"gridwidth\":2,\"linecolor\":\"white\",\"showbackground\":true,\"ticks\":\"\",\"zerolinecolor\":\"white\"}},\"shapedefaults\":{\"line\":{\"color\":\"#2a3f5f\"}},\"ternary\":{\"aaxis\":{\"gridcolor\":\"white\",\"linecolor\":\"white\",\"ticks\":\"\"},\"baxis\":{\"gridcolor\":\"white\",\"linecolor\":\"white\",\"ticks\":\"\"},\"bgcolor\":\"#E5ECF6\",\"caxis\":{\"gridcolor\":\"white\",\"linecolor\":\"white\",\"ticks\":\"\"}},\"title\":{\"x\":0.05},\"xaxis\":{\"automargin\":true,\"gridcolor\":\"white\",\"linecolor\":\"white\",\"ticks\":\"\",\"title\":{\"standoff\":15},\"zerolinecolor\":\"white\",\"zerolinewidth\":2},\"yaxis\":{\"automargin\":true,\"gridcolor\":\"white\",\"linecolor\":\"white\",\"ticks\":\"\",\"title\":{\"standoff\":15},\"zerolinecolor\":\"white\",\"zerolinewidth\":2}}},\"title\":{\"font\":{\"color\":\"#4D5663\"}},\"xaxis\":{\"gridcolor\":\"#E1E5ED\",\"showgrid\":true,\"tickfont\":{\"color\":\"#4D5663\"},\"title\":{\"font\":{\"color\":\"#4D5663\"},\"text\":\"\"},\"zerolinecolor\":\"#E1E5ED\"},\"yaxis\":{\"gridcolor\":\"#E1E5ED\",\"showgrid\":true,\"tickfont\":{\"color\":\"#4D5663\"},\"title\":{\"font\":{\"color\":\"#4D5663\"},\"text\":\"\"},\"zerolinecolor\":\"#E1E5ED\"}},                        {\"showLink\": true, \"linkText\": \"Export to plot.ly\", \"plotlyServerURL\": \"https://plot.ly\", \"responsive\": true}                    ).then(function(){\n",
       "                            \n",
       "var gd = document.getElementById('1ee8dc56-b303-41ae-a9e5-19db8937a644');\n",
       "var x = new MutationObserver(function (mutations, observer) {{\n",
       "        var display = window.getComputedStyle(gd).display;\n",
       "        if (!display || display === 'none') {{\n",
       "            console.log([gd, 'removed!']);\n",
       "            Plotly.purge(gd);\n",
       "            observer.disconnect();\n",
       "        }}\n",
       "}});\n",
       "\n",
       "// Listen for the removal of the full notebook cells\n",
       "var notebookContainer = gd.closest('#notebook-container');\n",
       "if (notebookContainer) {{\n",
       "    x.observe(notebookContainer, {childList: true});\n",
       "}}\n",
       "\n",
       "// Listen for the clearing of the current output cell\n",
       "var outputEl = gd.closest('.output');\n",
       "if (outputEl) {{\n",
       "    x.observe(outputEl, {childList: true});\n",
       "}}\n",
       "\n",
       "                        })                };                });            </script>        </div>"
      ]
     },
     "metadata": {},
     "output_type": "display_data"
    }
   ],
   "source": [
    "df3.iplot(kind='surface', colorscale='rdylbu')"
   ]
  },
  {
   "cell_type": "code",
   "execution_count": 15,
   "metadata": {},
   "outputs": [
    {
     "data": {
      "application/vnd.plotly.v1+json": {
       "config": {
        "linkText": "Export to plot.ly",
        "plotlyServerURL": "https://plot.ly",
        "showLink": true
       },
       "data": [
        {
         "histfunc": "count",
         "histnorm": "",
         "marker": {
          "color": "rgba(255, 153, 51, 1.0)",
          "line": {
           "color": "#4D5663",
           "width": 1.3
          }
         },
         "name": "A",
         "nbinsx": 20,
         "opacity": 0.8,
         "orientation": "v",
         "type": "histogram",
         "x": [
          -0.21379038518686702,
          -0.2881234631694882,
          1.687031818981887,
          -1.0596805811366479,
          0.7056676453490747,
          -0.4928626434402184,
          0.33850678897844294,
          -1.1365532012393156,
          2.22191453283817,
          -1.3620857175620513,
          0.36896946879329245,
          0.4221536206989755,
          0.7281899107947287,
          -1.2377215311367844,
          -0.183857315020409,
          1.3878751024535392,
          -2.080665743096919,
          -1.644286250149681,
          0.6294408878087343,
          0.05543719194135943,
          0.38834850232706086,
          1.2385439904392541,
          0.7616814777089003,
          0.8100604469178284,
          -1.7357899124307927,
          0.5857940744331279,
          1.0852758495254575,
          -0.11451233355760886,
          -0.24564066981188823,
          0.5006503012279303,
          0.5497048414245632,
          2.7014575844254614,
          -0.28998640157069633,
          -0.13092688042405312,
          -1.0299743551366851,
          1.54532700344482,
          0.34570948137873997,
          0.03885334864587458,
          1.1495393347403176,
          1.2978444015505215,
          -0.15445587968137264,
          -0.9263861080879959,
          0.5069877878414278,
          -0.769378432702959,
          0.7899966811807752,
          -0.08734253876202357,
          -1.1407746455308567,
          -0.6168329084831372,
          0.20420394854844057,
          0.49021555757100205,
          -0.8019838933435394,
          -0.32006526913236216,
          -0.6739698696991888,
          -1.3362987248492733,
          -2.164522947216624,
          0.4584620676832864,
          0.6388705433591992,
          -0.48759310113111154,
          -0.4719391278616287,
          -1.4620591867932493,
          -0.18449217672530127,
          0.9439585270731953,
          0.4083408634321457,
          -0.988046557778806,
          0.16985453583959337,
          -1.438367478015253,
          -1.4100586880513233,
          -3.283065964351943,
          -1.8373487018263062,
          0.6488219286367138,
          0.28681820553897286,
          -0.7388386037590581,
          -0.5556428204242388,
          0.10030613571566298,
          1.5958673135642134,
          -0.1966594175392532,
          -0.9481083918396167,
          -1.5561738064875823,
          -0.6626995687127948,
          1.45914060730763,
          0.16378886187091027,
          1.0029633116313403,
          -0.58101803188326,
          0.09260704461129005,
          0.06351215987658128,
          -0.4144809318389637,
          0.8353564916883307,
          3.041369189044577,
          -0.8265909477797487,
          0.891030887375596,
          1.6581945064521428,
          -1.4545588655614945,
          0.9539117184819081,
          -0.15726287638775388,
          0.5002980790781194,
          -0.0004703239994698021,
          -1.133054159083484,
          -0.6238091479318407,
          -0.6549182319149431,
          -0.7418217369776801
         ]
        }
       ],
       "layout": {
        "barmode": "overlay",
        "legend": {
         "bgcolor": "#F5F6F9",
         "font": {
          "color": "#4D5663"
         }
        },
        "paper_bgcolor": "#F5F6F9",
        "plot_bgcolor": "#F5F6F9",
        "template": {
         "data": {
          "bar": [
           {
            "error_x": {
             "color": "#2a3f5f"
            },
            "error_y": {
             "color": "#2a3f5f"
            },
            "marker": {
             "line": {
              "color": "#E5ECF6",
              "width": 0.5
             },
             "pattern": {
              "fillmode": "overlay",
              "size": 10,
              "solidity": 0.2
             }
            },
            "type": "bar"
           }
          ],
          "barpolar": [
           {
            "marker": {
             "line": {
              "color": "#E5ECF6",
              "width": 0.5
             },
             "pattern": {
              "fillmode": "overlay",
              "size": 10,
              "solidity": 0.2
             }
            },
            "type": "barpolar"
           }
          ],
          "carpet": [
           {
            "aaxis": {
             "endlinecolor": "#2a3f5f",
             "gridcolor": "white",
             "linecolor": "white",
             "minorgridcolor": "white",
             "startlinecolor": "#2a3f5f"
            },
            "baxis": {
             "endlinecolor": "#2a3f5f",
             "gridcolor": "white",
             "linecolor": "white",
             "minorgridcolor": "white",
             "startlinecolor": "#2a3f5f"
            },
            "type": "carpet"
           }
          ],
          "choropleth": [
           {
            "colorbar": {
             "outlinewidth": 0,
             "ticks": ""
            },
            "type": "choropleth"
           }
          ],
          "contour": [
           {
            "colorbar": {
             "outlinewidth": 0,
             "ticks": ""
            },
            "colorscale": [
             [
              0,
              "#0d0887"
             ],
             [
              0.1111111111111111,
              "#46039f"
             ],
             [
              0.2222222222222222,
              "#7201a8"
             ],
             [
              0.3333333333333333,
              "#9c179e"
             ],
             [
              0.4444444444444444,
              "#bd3786"
             ],
             [
              0.5555555555555556,
              "#d8576b"
             ],
             [
              0.6666666666666666,
              "#ed7953"
             ],
             [
              0.7777777777777778,
              "#fb9f3a"
             ],
             [
              0.8888888888888888,
              "#fdca26"
             ],
             [
              1,
              "#f0f921"
             ]
            ],
            "type": "contour"
           }
          ],
          "contourcarpet": [
           {
            "colorbar": {
             "outlinewidth": 0,
             "ticks": ""
            },
            "type": "contourcarpet"
           }
          ],
          "heatmap": [
           {
            "colorbar": {
             "outlinewidth": 0,
             "ticks": ""
            },
            "colorscale": [
             [
              0,
              "#0d0887"
             ],
             [
              0.1111111111111111,
              "#46039f"
             ],
             [
              0.2222222222222222,
              "#7201a8"
             ],
             [
              0.3333333333333333,
              "#9c179e"
             ],
             [
              0.4444444444444444,
              "#bd3786"
             ],
             [
              0.5555555555555556,
              "#d8576b"
             ],
             [
              0.6666666666666666,
              "#ed7953"
             ],
             [
              0.7777777777777778,
              "#fb9f3a"
             ],
             [
              0.8888888888888888,
              "#fdca26"
             ],
             [
              1,
              "#f0f921"
             ]
            ],
            "type": "heatmap"
           }
          ],
          "heatmapgl": [
           {
            "colorbar": {
             "outlinewidth": 0,
             "ticks": ""
            },
            "colorscale": [
             [
              0,
              "#0d0887"
             ],
             [
              0.1111111111111111,
              "#46039f"
             ],
             [
              0.2222222222222222,
              "#7201a8"
             ],
             [
              0.3333333333333333,
              "#9c179e"
             ],
             [
              0.4444444444444444,
              "#bd3786"
             ],
             [
              0.5555555555555556,
              "#d8576b"
             ],
             [
              0.6666666666666666,
              "#ed7953"
             ],
             [
              0.7777777777777778,
              "#fb9f3a"
             ],
             [
              0.8888888888888888,
              "#fdca26"
             ],
             [
              1,
              "#f0f921"
             ]
            ],
            "type": "heatmapgl"
           }
          ],
          "histogram": [
           {
            "marker": {
             "pattern": {
              "fillmode": "overlay",
              "size": 10,
              "solidity": 0.2
             }
            },
            "type": "histogram"
           }
          ],
          "histogram2d": [
           {
            "colorbar": {
             "outlinewidth": 0,
             "ticks": ""
            },
            "colorscale": [
             [
              0,
              "#0d0887"
             ],
             [
              0.1111111111111111,
              "#46039f"
             ],
             [
              0.2222222222222222,
              "#7201a8"
             ],
             [
              0.3333333333333333,
              "#9c179e"
             ],
             [
              0.4444444444444444,
              "#bd3786"
             ],
             [
              0.5555555555555556,
              "#d8576b"
             ],
             [
              0.6666666666666666,
              "#ed7953"
             ],
             [
              0.7777777777777778,
              "#fb9f3a"
             ],
             [
              0.8888888888888888,
              "#fdca26"
             ],
             [
              1,
              "#f0f921"
             ]
            ],
            "type": "histogram2d"
           }
          ],
          "histogram2dcontour": [
           {
            "colorbar": {
             "outlinewidth": 0,
             "ticks": ""
            },
            "colorscale": [
             [
              0,
              "#0d0887"
             ],
             [
              0.1111111111111111,
              "#46039f"
             ],
             [
              0.2222222222222222,
              "#7201a8"
             ],
             [
              0.3333333333333333,
              "#9c179e"
             ],
             [
              0.4444444444444444,
              "#bd3786"
             ],
             [
              0.5555555555555556,
              "#d8576b"
             ],
             [
              0.6666666666666666,
              "#ed7953"
             ],
             [
              0.7777777777777778,
              "#fb9f3a"
             ],
             [
              0.8888888888888888,
              "#fdca26"
             ],
             [
              1,
              "#f0f921"
             ]
            ],
            "type": "histogram2dcontour"
           }
          ],
          "mesh3d": [
           {
            "colorbar": {
             "outlinewidth": 0,
             "ticks": ""
            },
            "type": "mesh3d"
           }
          ],
          "parcoords": [
           {
            "line": {
             "colorbar": {
              "outlinewidth": 0,
              "ticks": ""
             }
            },
            "type": "parcoords"
           }
          ],
          "pie": [
           {
            "automargin": true,
            "type": "pie"
           }
          ],
          "scatter": [
           {
            "fillpattern": {
             "fillmode": "overlay",
             "size": 10,
             "solidity": 0.2
            },
            "type": "scatter"
           }
          ],
          "scatter3d": [
           {
            "line": {
             "colorbar": {
              "outlinewidth": 0,
              "ticks": ""
             }
            },
            "marker": {
             "colorbar": {
              "outlinewidth": 0,
              "ticks": ""
             }
            },
            "type": "scatter3d"
           }
          ],
          "scattercarpet": [
           {
            "marker": {
             "colorbar": {
              "outlinewidth": 0,
              "ticks": ""
             }
            },
            "type": "scattercarpet"
           }
          ],
          "scattergeo": [
           {
            "marker": {
             "colorbar": {
              "outlinewidth": 0,
              "ticks": ""
             }
            },
            "type": "scattergeo"
           }
          ],
          "scattergl": [
           {
            "marker": {
             "colorbar": {
              "outlinewidth": 0,
              "ticks": ""
             }
            },
            "type": "scattergl"
           }
          ],
          "scattermapbox": [
           {
            "marker": {
             "colorbar": {
              "outlinewidth": 0,
              "ticks": ""
             }
            },
            "type": "scattermapbox"
           }
          ],
          "scatterpolar": [
           {
            "marker": {
             "colorbar": {
              "outlinewidth": 0,
              "ticks": ""
             }
            },
            "type": "scatterpolar"
           }
          ],
          "scatterpolargl": [
           {
            "marker": {
             "colorbar": {
              "outlinewidth": 0,
              "ticks": ""
             }
            },
            "type": "scatterpolargl"
           }
          ],
          "scatterternary": [
           {
            "marker": {
             "colorbar": {
              "outlinewidth": 0,
              "ticks": ""
             }
            },
            "type": "scatterternary"
           }
          ],
          "surface": [
           {
            "colorbar": {
             "outlinewidth": 0,
             "ticks": ""
            },
            "colorscale": [
             [
              0,
              "#0d0887"
             ],
             [
              0.1111111111111111,
              "#46039f"
             ],
             [
              0.2222222222222222,
              "#7201a8"
             ],
             [
              0.3333333333333333,
              "#9c179e"
             ],
             [
              0.4444444444444444,
              "#bd3786"
             ],
             [
              0.5555555555555556,
              "#d8576b"
             ],
             [
              0.6666666666666666,
              "#ed7953"
             ],
             [
              0.7777777777777778,
              "#fb9f3a"
             ],
             [
              0.8888888888888888,
              "#fdca26"
             ],
             [
              1,
              "#f0f921"
             ]
            ],
            "type": "surface"
           }
          ],
          "table": [
           {
            "cells": {
             "fill": {
              "color": "#EBF0F8"
             },
             "line": {
              "color": "white"
             }
            },
            "header": {
             "fill": {
              "color": "#C8D4E3"
             },
             "line": {
              "color": "white"
             }
            },
            "type": "table"
           }
          ]
         },
         "layout": {
          "annotationdefaults": {
           "arrowcolor": "#2a3f5f",
           "arrowhead": 0,
           "arrowwidth": 1
          },
          "autotypenumbers": "strict",
          "coloraxis": {
           "colorbar": {
            "outlinewidth": 0,
            "ticks": ""
           }
          },
          "colorscale": {
           "diverging": [
            [
             0,
             "#8e0152"
            ],
            [
             0.1,
             "#c51b7d"
            ],
            [
             0.2,
             "#de77ae"
            ],
            [
             0.3,
             "#f1b6da"
            ],
            [
             0.4,
             "#fde0ef"
            ],
            [
             0.5,
             "#f7f7f7"
            ],
            [
             0.6,
             "#e6f5d0"
            ],
            [
             0.7,
             "#b8e186"
            ],
            [
             0.8,
             "#7fbc41"
            ],
            [
             0.9,
             "#4d9221"
            ],
            [
             1,
             "#276419"
            ]
           ],
           "sequential": [
            [
             0,
             "#0d0887"
            ],
            [
             0.1111111111111111,
             "#46039f"
            ],
            [
             0.2222222222222222,
             "#7201a8"
            ],
            [
             0.3333333333333333,
             "#9c179e"
            ],
            [
             0.4444444444444444,
             "#bd3786"
            ],
            [
             0.5555555555555556,
             "#d8576b"
            ],
            [
             0.6666666666666666,
             "#ed7953"
            ],
            [
             0.7777777777777778,
             "#fb9f3a"
            ],
            [
             0.8888888888888888,
             "#fdca26"
            ],
            [
             1,
             "#f0f921"
            ]
           ],
           "sequentialminus": [
            [
             0,
             "#0d0887"
            ],
            [
             0.1111111111111111,
             "#46039f"
            ],
            [
             0.2222222222222222,
             "#7201a8"
            ],
            [
             0.3333333333333333,
             "#9c179e"
            ],
            [
             0.4444444444444444,
             "#bd3786"
            ],
            [
             0.5555555555555556,
             "#d8576b"
            ],
            [
             0.6666666666666666,
             "#ed7953"
            ],
            [
             0.7777777777777778,
             "#fb9f3a"
            ],
            [
             0.8888888888888888,
             "#fdca26"
            ],
            [
             1,
             "#f0f921"
            ]
           ]
          },
          "colorway": [
           "#636efa",
           "#EF553B",
           "#00cc96",
           "#ab63fa",
           "#FFA15A",
           "#19d3f3",
           "#FF6692",
           "#B6E880",
           "#FF97FF",
           "#FECB52"
          ],
          "font": {
           "color": "#2a3f5f"
          },
          "geo": {
           "bgcolor": "white",
           "lakecolor": "white",
           "landcolor": "#E5ECF6",
           "showlakes": true,
           "showland": true,
           "subunitcolor": "white"
          },
          "hoverlabel": {
           "align": "left"
          },
          "hovermode": "closest",
          "mapbox": {
           "style": "light"
          },
          "paper_bgcolor": "white",
          "plot_bgcolor": "#E5ECF6",
          "polar": {
           "angularaxis": {
            "gridcolor": "white",
            "linecolor": "white",
            "ticks": ""
           },
           "bgcolor": "#E5ECF6",
           "radialaxis": {
            "gridcolor": "white",
            "linecolor": "white",
            "ticks": ""
           }
          },
          "scene": {
           "xaxis": {
            "backgroundcolor": "#E5ECF6",
            "gridcolor": "white",
            "gridwidth": 2,
            "linecolor": "white",
            "showbackground": true,
            "ticks": "",
            "zerolinecolor": "white"
           },
           "yaxis": {
            "backgroundcolor": "#E5ECF6",
            "gridcolor": "white",
            "gridwidth": 2,
            "linecolor": "white",
            "showbackground": true,
            "ticks": "",
            "zerolinecolor": "white"
           },
           "zaxis": {
            "backgroundcolor": "#E5ECF6",
            "gridcolor": "white",
            "gridwidth": 2,
            "linecolor": "white",
            "showbackground": true,
            "ticks": "",
            "zerolinecolor": "white"
           }
          },
          "shapedefaults": {
           "line": {
            "color": "#2a3f5f"
           }
          },
          "ternary": {
           "aaxis": {
            "gridcolor": "white",
            "linecolor": "white",
            "ticks": ""
           },
           "baxis": {
            "gridcolor": "white",
            "linecolor": "white",
            "ticks": ""
           },
           "bgcolor": "#E5ECF6",
           "caxis": {
            "gridcolor": "white",
            "linecolor": "white",
            "ticks": ""
           }
          },
          "title": {
           "x": 0.05
          },
          "xaxis": {
           "automargin": true,
           "gridcolor": "white",
           "linecolor": "white",
           "ticks": "",
           "title": {
            "standoff": 15
           },
           "zerolinecolor": "white",
           "zerolinewidth": 2
          },
          "yaxis": {
           "automargin": true,
           "gridcolor": "white",
           "linecolor": "white",
           "ticks": "",
           "title": {
            "standoff": 15
           },
           "zerolinecolor": "white",
           "zerolinewidth": 2
          }
         }
        },
        "title": {
         "font": {
          "color": "#4D5663"
         }
        },
        "xaxis": {
         "gridcolor": "#E1E5ED",
         "showgrid": true,
         "tickfont": {
          "color": "#4D5663"
         },
         "title": {
          "font": {
           "color": "#4D5663"
          },
          "text": ""
         },
         "zerolinecolor": "#E1E5ED"
        },
        "yaxis": {
         "gridcolor": "#E1E5ED",
         "showgrid": true,
         "tickfont": {
          "color": "#4D5663"
         },
         "title": {
          "font": {
           "color": "#4D5663"
          },
          "text": ""
         },
         "zerolinecolor": "#E1E5ED"
        }
       }
      },
      "text/html": [
       "<div>                            <div id=\"b3f893e9-6a29-45ce-a89d-90e2cba1d141\" class=\"plotly-graph-div\" style=\"height:525px; width:100%;\"></div>            <script type=\"text/javascript\">                require([\"plotly\"], function(Plotly) {                    window.PLOTLYENV=window.PLOTLYENV || {};\n",
       "                    window.PLOTLYENV.BASE_URL='https://plot.ly';                                    if (document.getElementById(\"b3f893e9-6a29-45ce-a89d-90e2cba1d141\")) {                    Plotly.newPlot(                        \"b3f893e9-6a29-45ce-a89d-90e2cba1d141\",                        [{\"histfunc\":\"count\",\"histnorm\":\"\",\"marker\":{\"color\":\"rgba(255, 153, 51, 1.0)\",\"line\":{\"color\":\"#4D5663\",\"width\":1.3}},\"name\":\"A\",\"nbinsx\":20,\"opacity\":0.8,\"orientation\":\"v\",\"x\":[-0.21379038518686702,-0.2881234631694882,1.687031818981887,-1.0596805811366479,0.7056676453490747,-0.4928626434402184,0.33850678897844294,-1.1365532012393156,2.22191453283817,-1.3620857175620513,0.36896946879329245,0.4221536206989755,0.7281899107947287,-1.2377215311367844,-0.183857315020409,1.3878751024535392,-2.080665743096919,-1.644286250149681,0.6294408878087343,0.05543719194135943,0.38834850232706086,1.2385439904392541,0.7616814777089003,0.8100604469178284,-1.7357899124307927,0.5857940744331279,1.0852758495254575,-0.11451233355760886,-0.24564066981188823,0.5006503012279303,0.5497048414245632,2.7014575844254614,-0.28998640157069633,-0.13092688042405312,-1.0299743551366851,1.54532700344482,0.34570948137873997,0.03885334864587458,1.1495393347403176,1.2978444015505215,-0.15445587968137264,-0.9263861080879959,0.5069877878414278,-0.769378432702959,0.7899966811807752,-0.08734253876202357,-1.1407746455308567,-0.6168329084831372,0.20420394854844057,0.49021555757100205,-0.8019838933435394,-0.32006526913236216,-0.6739698696991888,-1.3362987248492733,-2.164522947216624,0.4584620676832864,0.6388705433591992,-0.48759310113111154,-0.4719391278616287,-1.4620591867932493,-0.18449217672530127,0.9439585270731953,0.4083408634321457,-0.988046557778806,0.16985453583959337,-1.438367478015253,-1.4100586880513233,-3.283065964351943,-1.8373487018263062,0.6488219286367138,0.28681820553897286,-0.7388386037590581,-0.5556428204242388,0.10030613571566298,1.5958673135642134,-0.1966594175392532,-0.9481083918396167,-1.5561738064875823,-0.6626995687127948,1.45914060730763,0.16378886187091027,1.0029633116313403,-0.58101803188326,0.09260704461129005,0.06351215987658128,-0.4144809318389637,0.8353564916883307,3.041369189044577,-0.8265909477797487,0.891030887375596,1.6581945064521428,-1.4545588655614945,0.9539117184819081,-0.15726287638775388,0.5002980790781194,-0.0004703239994698021,-1.133054159083484,-0.6238091479318407,-0.6549182319149431,-0.7418217369776801],\"type\":\"histogram\"}],                        {\"barmode\":\"overlay\",\"legend\":{\"bgcolor\":\"#F5F6F9\",\"font\":{\"color\":\"#4D5663\"}},\"paper_bgcolor\":\"#F5F6F9\",\"plot_bgcolor\":\"#F5F6F9\",\"template\":{\"data\":{\"barpolar\":[{\"marker\":{\"line\":{\"color\":\"#E5ECF6\",\"width\":0.5},\"pattern\":{\"fillmode\":\"overlay\",\"size\":10,\"solidity\":0.2}},\"type\":\"barpolar\"}],\"bar\":[{\"error_x\":{\"color\":\"#2a3f5f\"},\"error_y\":{\"color\":\"#2a3f5f\"},\"marker\":{\"line\":{\"color\":\"#E5ECF6\",\"width\":0.5},\"pattern\":{\"fillmode\":\"overlay\",\"size\":10,\"solidity\":0.2}},\"type\":\"bar\"}],\"carpet\":[{\"aaxis\":{\"endlinecolor\":\"#2a3f5f\",\"gridcolor\":\"white\",\"linecolor\":\"white\",\"minorgridcolor\":\"white\",\"startlinecolor\":\"#2a3f5f\"},\"baxis\":{\"endlinecolor\":\"#2a3f5f\",\"gridcolor\":\"white\",\"linecolor\":\"white\",\"minorgridcolor\":\"white\",\"startlinecolor\":\"#2a3f5f\"},\"type\":\"carpet\"}],\"choropleth\":[{\"colorbar\":{\"outlinewidth\":0,\"ticks\":\"\"},\"type\":\"choropleth\"}],\"contourcarpet\":[{\"colorbar\":{\"outlinewidth\":0,\"ticks\":\"\"},\"type\":\"contourcarpet\"}],\"contour\":[{\"colorbar\":{\"outlinewidth\":0,\"ticks\":\"\"},\"colorscale\":[[0.0,\"#0d0887\"],[0.1111111111111111,\"#46039f\"],[0.2222222222222222,\"#7201a8\"],[0.3333333333333333,\"#9c179e\"],[0.4444444444444444,\"#bd3786\"],[0.5555555555555556,\"#d8576b\"],[0.6666666666666666,\"#ed7953\"],[0.7777777777777778,\"#fb9f3a\"],[0.8888888888888888,\"#fdca26\"],[1.0,\"#f0f921\"]],\"type\":\"contour\"}],\"heatmapgl\":[{\"colorbar\":{\"outlinewidth\":0,\"ticks\":\"\"},\"colorscale\":[[0.0,\"#0d0887\"],[0.1111111111111111,\"#46039f\"],[0.2222222222222222,\"#7201a8\"],[0.3333333333333333,\"#9c179e\"],[0.4444444444444444,\"#bd3786\"],[0.5555555555555556,\"#d8576b\"],[0.6666666666666666,\"#ed7953\"],[0.7777777777777778,\"#fb9f3a\"],[0.8888888888888888,\"#fdca26\"],[1.0,\"#f0f921\"]],\"type\":\"heatmapgl\"}],\"heatmap\":[{\"colorbar\":{\"outlinewidth\":0,\"ticks\":\"\"},\"colorscale\":[[0.0,\"#0d0887\"],[0.1111111111111111,\"#46039f\"],[0.2222222222222222,\"#7201a8\"],[0.3333333333333333,\"#9c179e\"],[0.4444444444444444,\"#bd3786\"],[0.5555555555555556,\"#d8576b\"],[0.6666666666666666,\"#ed7953\"],[0.7777777777777778,\"#fb9f3a\"],[0.8888888888888888,\"#fdca26\"],[1.0,\"#f0f921\"]],\"type\":\"heatmap\"}],\"histogram2dcontour\":[{\"colorbar\":{\"outlinewidth\":0,\"ticks\":\"\"},\"colorscale\":[[0.0,\"#0d0887\"],[0.1111111111111111,\"#46039f\"],[0.2222222222222222,\"#7201a8\"],[0.3333333333333333,\"#9c179e\"],[0.4444444444444444,\"#bd3786\"],[0.5555555555555556,\"#d8576b\"],[0.6666666666666666,\"#ed7953\"],[0.7777777777777778,\"#fb9f3a\"],[0.8888888888888888,\"#fdca26\"],[1.0,\"#f0f921\"]],\"type\":\"histogram2dcontour\"}],\"histogram2d\":[{\"colorbar\":{\"outlinewidth\":0,\"ticks\":\"\"},\"colorscale\":[[0.0,\"#0d0887\"],[0.1111111111111111,\"#46039f\"],[0.2222222222222222,\"#7201a8\"],[0.3333333333333333,\"#9c179e\"],[0.4444444444444444,\"#bd3786\"],[0.5555555555555556,\"#d8576b\"],[0.6666666666666666,\"#ed7953\"],[0.7777777777777778,\"#fb9f3a\"],[0.8888888888888888,\"#fdca26\"],[1.0,\"#f0f921\"]],\"type\":\"histogram2d\"}],\"histogram\":[{\"marker\":{\"pattern\":{\"fillmode\":\"overlay\",\"size\":10,\"solidity\":0.2}},\"type\":\"histogram\"}],\"mesh3d\":[{\"colorbar\":{\"outlinewidth\":0,\"ticks\":\"\"},\"type\":\"mesh3d\"}],\"parcoords\":[{\"line\":{\"colorbar\":{\"outlinewidth\":0,\"ticks\":\"\"}},\"type\":\"parcoords\"}],\"pie\":[{\"automargin\":true,\"type\":\"pie\"}],\"scatter3d\":[{\"line\":{\"colorbar\":{\"outlinewidth\":0,\"ticks\":\"\"}},\"marker\":{\"colorbar\":{\"outlinewidth\":0,\"ticks\":\"\"}},\"type\":\"scatter3d\"}],\"scattercarpet\":[{\"marker\":{\"colorbar\":{\"outlinewidth\":0,\"ticks\":\"\"}},\"type\":\"scattercarpet\"}],\"scattergeo\":[{\"marker\":{\"colorbar\":{\"outlinewidth\":0,\"ticks\":\"\"}},\"type\":\"scattergeo\"}],\"scattergl\":[{\"marker\":{\"colorbar\":{\"outlinewidth\":0,\"ticks\":\"\"}},\"type\":\"scattergl\"}],\"scattermapbox\":[{\"marker\":{\"colorbar\":{\"outlinewidth\":0,\"ticks\":\"\"}},\"type\":\"scattermapbox\"}],\"scatterpolargl\":[{\"marker\":{\"colorbar\":{\"outlinewidth\":0,\"ticks\":\"\"}},\"type\":\"scatterpolargl\"}],\"scatterpolar\":[{\"marker\":{\"colorbar\":{\"outlinewidth\":0,\"ticks\":\"\"}},\"type\":\"scatterpolar\"}],\"scatter\":[{\"fillpattern\":{\"fillmode\":\"overlay\",\"size\":10,\"solidity\":0.2},\"type\":\"scatter\"}],\"scatterternary\":[{\"marker\":{\"colorbar\":{\"outlinewidth\":0,\"ticks\":\"\"}},\"type\":\"scatterternary\"}],\"surface\":[{\"colorbar\":{\"outlinewidth\":0,\"ticks\":\"\"},\"colorscale\":[[0.0,\"#0d0887\"],[0.1111111111111111,\"#46039f\"],[0.2222222222222222,\"#7201a8\"],[0.3333333333333333,\"#9c179e\"],[0.4444444444444444,\"#bd3786\"],[0.5555555555555556,\"#d8576b\"],[0.6666666666666666,\"#ed7953\"],[0.7777777777777778,\"#fb9f3a\"],[0.8888888888888888,\"#fdca26\"],[1.0,\"#f0f921\"]],\"type\":\"surface\"}],\"table\":[{\"cells\":{\"fill\":{\"color\":\"#EBF0F8\"},\"line\":{\"color\":\"white\"}},\"header\":{\"fill\":{\"color\":\"#C8D4E3\"},\"line\":{\"color\":\"white\"}},\"type\":\"table\"}]},\"layout\":{\"annotationdefaults\":{\"arrowcolor\":\"#2a3f5f\",\"arrowhead\":0,\"arrowwidth\":1},\"autotypenumbers\":\"strict\",\"coloraxis\":{\"colorbar\":{\"outlinewidth\":0,\"ticks\":\"\"}},\"colorscale\":{\"diverging\":[[0,\"#8e0152\"],[0.1,\"#c51b7d\"],[0.2,\"#de77ae\"],[0.3,\"#f1b6da\"],[0.4,\"#fde0ef\"],[0.5,\"#f7f7f7\"],[0.6,\"#e6f5d0\"],[0.7,\"#b8e186\"],[0.8,\"#7fbc41\"],[0.9,\"#4d9221\"],[1,\"#276419\"]],\"sequential\":[[0.0,\"#0d0887\"],[0.1111111111111111,\"#46039f\"],[0.2222222222222222,\"#7201a8\"],[0.3333333333333333,\"#9c179e\"],[0.4444444444444444,\"#bd3786\"],[0.5555555555555556,\"#d8576b\"],[0.6666666666666666,\"#ed7953\"],[0.7777777777777778,\"#fb9f3a\"],[0.8888888888888888,\"#fdca26\"],[1.0,\"#f0f921\"]],\"sequentialminus\":[[0.0,\"#0d0887\"],[0.1111111111111111,\"#46039f\"],[0.2222222222222222,\"#7201a8\"],[0.3333333333333333,\"#9c179e\"],[0.4444444444444444,\"#bd3786\"],[0.5555555555555556,\"#d8576b\"],[0.6666666666666666,\"#ed7953\"],[0.7777777777777778,\"#fb9f3a\"],[0.8888888888888888,\"#fdca26\"],[1.0,\"#f0f921\"]]},\"colorway\":[\"#636efa\",\"#EF553B\",\"#00cc96\",\"#ab63fa\",\"#FFA15A\",\"#19d3f3\",\"#FF6692\",\"#B6E880\",\"#FF97FF\",\"#FECB52\"],\"font\":{\"color\":\"#2a3f5f\"},\"geo\":{\"bgcolor\":\"white\",\"lakecolor\":\"white\",\"landcolor\":\"#E5ECF6\",\"showlakes\":true,\"showland\":true,\"subunitcolor\":\"white\"},\"hoverlabel\":{\"align\":\"left\"},\"hovermode\":\"closest\",\"mapbox\":{\"style\":\"light\"},\"paper_bgcolor\":\"white\",\"plot_bgcolor\":\"#E5ECF6\",\"polar\":{\"angularaxis\":{\"gridcolor\":\"white\",\"linecolor\":\"white\",\"ticks\":\"\"},\"bgcolor\":\"#E5ECF6\",\"radialaxis\":{\"gridcolor\":\"white\",\"linecolor\":\"white\",\"ticks\":\"\"}},\"scene\":{\"xaxis\":{\"backgroundcolor\":\"#E5ECF6\",\"gridcolor\":\"white\",\"gridwidth\":2,\"linecolor\":\"white\",\"showbackground\":true,\"ticks\":\"\",\"zerolinecolor\":\"white\"},\"yaxis\":{\"backgroundcolor\":\"#E5ECF6\",\"gridcolor\":\"white\",\"gridwidth\":2,\"linecolor\":\"white\",\"showbackground\":true,\"ticks\":\"\",\"zerolinecolor\":\"white\"},\"zaxis\":{\"backgroundcolor\":\"#E5ECF6\",\"gridcolor\":\"white\",\"gridwidth\":2,\"linecolor\":\"white\",\"showbackground\":true,\"ticks\":\"\",\"zerolinecolor\":\"white\"}},\"shapedefaults\":{\"line\":{\"color\":\"#2a3f5f\"}},\"ternary\":{\"aaxis\":{\"gridcolor\":\"white\",\"linecolor\":\"white\",\"ticks\":\"\"},\"baxis\":{\"gridcolor\":\"white\",\"linecolor\":\"white\",\"ticks\":\"\"},\"bgcolor\":\"#E5ECF6\",\"caxis\":{\"gridcolor\":\"white\",\"linecolor\":\"white\",\"ticks\":\"\"}},\"title\":{\"x\":0.05},\"xaxis\":{\"automargin\":true,\"gridcolor\":\"white\",\"linecolor\":\"white\",\"ticks\":\"\",\"title\":{\"standoff\":15},\"zerolinecolor\":\"white\",\"zerolinewidth\":2},\"yaxis\":{\"automargin\":true,\"gridcolor\":\"white\",\"linecolor\":\"white\",\"ticks\":\"\",\"title\":{\"standoff\":15},\"zerolinecolor\":\"white\",\"zerolinewidth\":2}}},\"title\":{\"font\":{\"color\":\"#4D5663\"}},\"xaxis\":{\"gridcolor\":\"#E1E5ED\",\"showgrid\":true,\"tickfont\":{\"color\":\"#4D5663\"},\"title\":{\"font\":{\"color\":\"#4D5663\"},\"text\":\"\"},\"zerolinecolor\":\"#E1E5ED\"},\"yaxis\":{\"gridcolor\":\"#E1E5ED\",\"showgrid\":true,\"tickfont\":{\"color\":\"#4D5663\"},\"title\":{\"font\":{\"color\":\"#4D5663\"},\"text\":\"\"},\"zerolinecolor\":\"#E1E5ED\"}},                        {\"showLink\": true, \"linkText\": \"Export to plot.ly\", \"plotlyServerURL\": \"https://plot.ly\", \"responsive\": true}                    ).then(function(){\n",
       "                            \n",
       "var gd = document.getElementById('b3f893e9-6a29-45ce-a89d-90e2cba1d141');\n",
       "var x = new MutationObserver(function (mutations, observer) {{\n",
       "        var display = window.getComputedStyle(gd).display;\n",
       "        if (!display || display === 'none') {{\n",
       "            console.log([gd, 'removed!']);\n",
       "            Plotly.purge(gd);\n",
       "            observer.disconnect();\n",
       "        }}\n",
       "}});\n",
       "\n",
       "// Listen for the removal of the full notebook cells\n",
       "var notebookContainer = gd.closest('#notebook-container');\n",
       "if (notebookContainer) {{\n",
       "    x.observe(notebookContainer, {childList: true});\n",
       "}}\n",
       "\n",
       "// Listen for the clearing of the current output cell\n",
       "var outputEl = gd.closest('.output');\n",
       "if (outputEl) {{\n",
       "    x.observe(outputEl, {childList: true});\n",
       "}}\n",
       "\n",
       "                        })                };                });            </script>        </div>"
      ]
     },
     "metadata": {},
     "output_type": "display_data"
    }
   ],
   "source": [
    "df['A'].iplot(kind='hist', bins=20)"
   ]
  },
  {
   "cell_type": "code",
   "execution_count": 16,
   "metadata": {},
   "outputs": [
    {
     "data": {
      "application/vnd.plotly.v1+json": {
       "config": {
        "linkText": "Export to plot.ly",
        "plotlyServerURL": "https://plot.ly",
        "showLink": true
       },
       "data": [
        {
         "histfunc": "count",
         "histnorm": "",
         "marker": {
          "color": "rgba(255, 153, 51, 1.0)",
          "line": {
           "color": "#4D5663",
           "width": 1.3
          }
         },
         "name": "A",
         "opacity": 0.8,
         "orientation": "v",
         "type": "histogram",
         "x": [
          -0.21379038518686702,
          -0.2881234631694882,
          1.687031818981887,
          -1.0596805811366479,
          0.7056676453490747,
          -0.4928626434402184,
          0.33850678897844294,
          -1.1365532012393156,
          2.22191453283817,
          -1.3620857175620513,
          0.36896946879329245,
          0.4221536206989755,
          0.7281899107947287,
          -1.2377215311367844,
          -0.183857315020409,
          1.3878751024535392,
          -2.080665743096919,
          -1.644286250149681,
          0.6294408878087343,
          0.05543719194135943,
          0.38834850232706086,
          1.2385439904392541,
          0.7616814777089003,
          0.8100604469178284,
          -1.7357899124307927,
          0.5857940744331279,
          1.0852758495254575,
          -0.11451233355760886,
          -0.24564066981188823,
          0.5006503012279303,
          0.5497048414245632,
          2.7014575844254614,
          -0.28998640157069633,
          -0.13092688042405312,
          -1.0299743551366851,
          1.54532700344482,
          0.34570948137873997,
          0.03885334864587458,
          1.1495393347403176,
          1.2978444015505215,
          -0.15445587968137264,
          -0.9263861080879959,
          0.5069877878414278,
          -0.769378432702959,
          0.7899966811807752,
          -0.08734253876202357,
          -1.1407746455308567,
          -0.6168329084831372,
          0.20420394854844057,
          0.49021555757100205,
          -0.8019838933435394,
          -0.32006526913236216,
          -0.6739698696991888,
          -1.3362987248492733,
          -2.164522947216624,
          0.4584620676832864,
          0.6388705433591992,
          -0.48759310113111154,
          -0.4719391278616287,
          -1.4620591867932493,
          -0.18449217672530127,
          0.9439585270731953,
          0.4083408634321457,
          -0.988046557778806,
          0.16985453583959337,
          -1.438367478015253,
          -1.4100586880513233,
          -3.283065964351943,
          -1.8373487018263062,
          0.6488219286367138,
          0.28681820553897286,
          -0.7388386037590581,
          -0.5556428204242388,
          0.10030613571566298,
          1.5958673135642134,
          -0.1966594175392532,
          -0.9481083918396167,
          -1.5561738064875823,
          -0.6626995687127948,
          1.45914060730763,
          0.16378886187091027,
          1.0029633116313403,
          -0.58101803188326,
          0.09260704461129005,
          0.06351215987658128,
          -0.4144809318389637,
          0.8353564916883307,
          3.041369189044577,
          -0.8265909477797487,
          0.891030887375596,
          1.6581945064521428,
          -1.4545588655614945,
          0.9539117184819081,
          -0.15726287638775388,
          0.5002980790781194,
          -0.0004703239994698021,
          -1.133054159083484,
          -0.6238091479318407,
          -0.6549182319149431,
          -0.7418217369776801
         ]
        },
        {
         "histfunc": "count",
         "histnorm": "",
         "marker": {
          "color": "rgba(55, 128, 191, 1.0)",
          "line": {
           "color": "#4D5663",
           "width": 1.3
          }
         },
         "name": "B",
         "opacity": 0.8,
         "orientation": "v",
         "type": "histogram",
         "x": [
          0.15034521125234812,
          -0.5987186933728933,
          -0.6454634726357826,
          -0.6154832554047287,
          -0.769946615156794,
          -0.46191050231649566,
          0.05418022249124648,
          0.24197012189315253,
          1.3704318070389399,
          -1.115033967499207,
          -1.2561117558758135,
          -0.5752846426550058,
          -0.9310407812666132,
          -2.1313187338220825,
          -0.5258905353326198,
          -0.16921425212822583,
          -1.3402012277342281,
          0.8022221150923157,
          0.049028277142209815,
          2.0690285587876134,
          0.5901836499759278,
          0.5396360288585632,
          -0.9593170791098355,
          0.4703911795691247,
          -0.4088123868488733,
          -1.326522270762869,
          -0.4084516440752073,
          -0.21319177515630341,
          2.307192586560415,
          1.0279567709067112,
          1.3338803194915425,
          0.16950998713838028,
          0.4858789788510932,
          0.24110923216718624,
          1.9734967149972131,
          0.6219676407877484,
          0.07216010818714264,
          0.34036775803353736,
          0.3567623257427925,
          1.804130564330238,
          -0.4737804697504568,
          0.8695343627683411,
          -0.006651033966893561,
          -0.11901735621976775,
          -0.7789256367705151,
          1.0165590301846146,
          0.9673266086320613,
          1.3137958888935721,
          0.36431032413354375,
          1.0861186090802795,
          -0.5726383103479533,
          -0.1849084907144906,
          -0.44175252280494004,
          0.9311539502453478,
          0.019643606477361283,
          -0.7791451371204415,
          -1.2443704323676485,
          1.105468883927629,
          0.6262128820712691,
          0.5687334826194494,
          -0.9707670383730175,
          -1.1585829210383136,
          -1.9045091938104632,
          -0.16042897577663945,
          0.6024331394633871,
          -1.6103613623712325,
          -0.8494704182172462,
          -0.9019684366085758,
          -1.8460626219175116,
          0.9263616990924344,
          -0.08112674148248719,
          0.9925241445851437,
          -1.850684056918012,
          1.2555877550144339,
          1.0695245173103791,
          -0.09686194616054787,
          -0.9948039975413361,
          1.4853596684487107,
          -0.42393031979417733,
          -0.32579590265781827,
          -0.38559679609455516,
          -0.811761939096358,
          -0.15304642689703257,
          -1.0276461159200796,
          1.0986671255402287,
          0.5756542873871213,
          -0.5089669029678521,
          0.6667525593133969,
          0.4005815962155018,
          -1.2073886458765648,
          -0.42237563008840584,
          -0.5497516070594975,
          0.44406995134671673,
          -0.1946653293506403,
          0.3843043086821584,
          -0.8135642169019233,
          0.25627669360680666,
          -0.09427557436239774,
          0.35951103527697625,
          0.27612998716883735
         ]
        },
        {
         "histfunc": "count",
         "histnorm": "",
         "marker": {
          "color": "rgba(50, 171, 96, 1.0)",
          "line": {
           "color": "#4D5663",
           "width": 1.3
          }
         },
         "name": "C",
         "opacity": 0.8,
         "orientation": "v",
         "type": "histogram",
         "x": [
          -0.10691782983046799,
          3.213836439897871,
          1.2978082789858894,
          -0.2132013525646534,
          -0.9040138874289834,
          0.2731855557952521,
          0.5069523872609897,
          0.670617736198417,
          -1.1743232586293297,
          0.8169069115658851,
          -0.9381661918713972,
          -0.11743599563896334,
          0.030574307381110662,
          0.9992368794011388,
          -1.1342817466024522,
          -1.4747415330443328,
          0.21566441103743766,
          0.5079266331393273,
          -0.5358732115778295,
          1.261339082566491,
          -2.1300452650189987,
          -0.995411213994776,
          1.9767921069853125,
          -0.3908938441178726,
          -0.25478638039418544,
          0.10390697649010927,
          -0.9503449147906309,
          0.9875722221567064,
          1.670549649547061,
          0.7035151206648657,
          0.9184323065189156,
          0.29770891586312104,
          0.6506557683455222,
          0.17053643176001723,
          0.6804438931044237,
          0.4932723214902657,
          1.2347891992445115,
          -0.3978565793074171,
          -1.5496430282812044,
          -1.8543687365114545,
          0.408182424198848,
          -0.4402301420762824,
          0.6842267494964466,
          -0.6622453208822038,
          0.5810889637042475,
          1.9147818661373415,
          0.4516539777254524,
          1.3709926943774824,
          0.9281354908429335,
          0.020204498068766168,
          -0.9561170722569972,
          -0.5179923255194684,
          0.47545633040082713,
          -1.017902345044926,
          0.6898993582818461,
          -0.12915471787438948,
          -0.3835149194244746,
          0.5612838956527909,
          0.54850587615578,
          2.0261455642496786,
          -0.027886581173396575,
          0.5548739587380417,
          1.924949773021305,
          -0.15397819153408687,
          -0.9759536918595715,
          -0.4600445383349833,
          1.5313101024682811,
          0.6015086060815795,
          0.49704216723255523,
          2.3589012264613722,
          -1.9031159441549437,
          0.3380015510445511,
          1.7556826732171869,
          0.8529256832086678,
          0.20633060655570418,
          -0.006909374509238595,
          0.6296199138820421,
          0.551666873902677,
          -0.006526424574607722,
          1.54746310955499,
          -1.5505731511062761,
          -1.076355721825828,
          0.24578050070296467,
          0.1633771476926186,
          1.281234682815011,
          -0.5813099626740817,
          -0.5518020320284768,
          0.14517427814953116,
          0.6983537069770014,
          0.9668480592497467,
          -2.3412922624431345,
          -0.49306061459438527,
          -0.701546685677908,
          0.07657938731609544,
          0.935369411346959,
          0.4734696027899289,
          -0.26402742260355355,
          2.3391538612873934,
          0.3893064307437836,
          -0.8043557448996405
         ]
        },
        {
         "histfunc": "count",
         "histnorm": "",
         "marker": {
          "color": "rgba(128, 0, 128, 1.0)",
          "line": {
           "color": "#4D5663",
           "width": 1.3
          }
         },
         "name": "D",
         "opacity": 0.8,
         "orientation": "v",
         "type": "histogram",
         "x": [
          1.3553549360142652,
          -1.1240629400486926,
          -0.5396325265939028,
          -0.8922731485912241,
          1.9740825797260029,
          1.4335969468595193,
          0.8378377603067806,
          -1.3755932827022783,
          1.5807523225249667,
          -1.3660631719105356,
          0.24790658011434308,
          0.72437974484164,
          -1.2301547485526418,
          1.4353900554789392,
          0.9647790417481343,
          -1.5124768271563436,
          -1.1744931171213997,
          -2.0005167156998023,
          -1.2853003556657685,
          -0.7242855341362265,
          1.0717369190304742,
          1.403436298657791,
          0.34718712336454977,
          -0.7382611909665026,
          1.287880377123517,
          0.45288293740440927,
          1.856253152669832,
          0.06044462654630291,
          -0.35899502155411894,
          0.6229255957407726,
          -1.0193120035718861,
          2.088829859563428,
          -0.2694806539381207,
          -1.1089107610511553,
          -1.554626500748827,
          0.13415464697007337,
          -0.9514024414600591,
          -1.703723398682606,
          0.5041395184642052,
          0.9182165009161256,
          -0.16175008699604418,
          0.7298086959702409,
          -1.7307711250064093,
          0.40133463732840047,
          -0.8315507359619237,
          0.22298205696938378,
          1.6027609055014562,
          0.630966863989992,
          1.3850867427226057,
          0.7488458383350989,
          0.5084258928294056,
          -0.17680915051756851,
          1.0922068913444805,
          1.1327299453261297,
          0.4196930971235217,
          -1.4601343934416078,
          -0.24832971144271526,
          0.0687004743713472,
          -0.2540444755751119,
          -1.6773241014528344,
          -0.35990393608504223,
          -0.6596716005978259,
          3.152981796335251,
          1.2345979144558863,
          0.426875789986511,
          -0.6108533270888533,
          -0.2440924861901595,
          -1.2337060019712072,
          0.2323690666974735,
          0.5313598624883571,
          -0.06812014249606121,
          1.544918719379879,
          0.5730618501766528,
          -0.64535258341819,
          -0.30685957172527745,
          0.7369314973583256,
          0.354542752701916,
          -0.26174334657150145,
          -0.30638465671797666,
          0.5783975067642048,
          0.7890785878016994,
          0.9571204412458787,
          -0.6299453993479587,
          -1.3449081494177275,
          1.5843173761593803,
          0.44991751120347606,
          -0.11496213960656726,
          -0.6452187231854206,
          1.3834847920554316,
          0.5081137776847046,
          1.1232685815029115,
          -0.9840267395496939,
          0.25851966301842133,
          0.6173146759605749,
          -0.7328735241100314,
          0.6961936363738751,
          -2.1436809279718636,
          1.7285813499972267,
          -0.5187557435286976,
          -0.39462456759511333
         ]
        }
       ],
       "layout": {
        "barmode": "overlay",
        "legend": {
         "bgcolor": "#F5F6F9",
         "font": {
          "color": "#4D5663"
         }
        },
        "paper_bgcolor": "#F5F6F9",
        "plot_bgcolor": "#F5F6F9",
        "template": {
         "data": {
          "bar": [
           {
            "error_x": {
             "color": "#2a3f5f"
            },
            "error_y": {
             "color": "#2a3f5f"
            },
            "marker": {
             "line": {
              "color": "#E5ECF6",
              "width": 0.5
             },
             "pattern": {
              "fillmode": "overlay",
              "size": 10,
              "solidity": 0.2
             }
            },
            "type": "bar"
           }
          ],
          "barpolar": [
           {
            "marker": {
             "line": {
              "color": "#E5ECF6",
              "width": 0.5
             },
             "pattern": {
              "fillmode": "overlay",
              "size": 10,
              "solidity": 0.2
             }
            },
            "type": "barpolar"
           }
          ],
          "carpet": [
           {
            "aaxis": {
             "endlinecolor": "#2a3f5f",
             "gridcolor": "white",
             "linecolor": "white",
             "minorgridcolor": "white",
             "startlinecolor": "#2a3f5f"
            },
            "baxis": {
             "endlinecolor": "#2a3f5f",
             "gridcolor": "white",
             "linecolor": "white",
             "minorgridcolor": "white",
             "startlinecolor": "#2a3f5f"
            },
            "type": "carpet"
           }
          ],
          "choropleth": [
           {
            "colorbar": {
             "outlinewidth": 0,
             "ticks": ""
            },
            "type": "choropleth"
           }
          ],
          "contour": [
           {
            "colorbar": {
             "outlinewidth": 0,
             "ticks": ""
            },
            "colorscale": [
             [
              0,
              "#0d0887"
             ],
             [
              0.1111111111111111,
              "#46039f"
             ],
             [
              0.2222222222222222,
              "#7201a8"
             ],
             [
              0.3333333333333333,
              "#9c179e"
             ],
             [
              0.4444444444444444,
              "#bd3786"
             ],
             [
              0.5555555555555556,
              "#d8576b"
             ],
             [
              0.6666666666666666,
              "#ed7953"
             ],
             [
              0.7777777777777778,
              "#fb9f3a"
             ],
             [
              0.8888888888888888,
              "#fdca26"
             ],
             [
              1,
              "#f0f921"
             ]
            ],
            "type": "contour"
           }
          ],
          "contourcarpet": [
           {
            "colorbar": {
             "outlinewidth": 0,
             "ticks": ""
            },
            "type": "contourcarpet"
           }
          ],
          "heatmap": [
           {
            "colorbar": {
             "outlinewidth": 0,
             "ticks": ""
            },
            "colorscale": [
             [
              0,
              "#0d0887"
             ],
             [
              0.1111111111111111,
              "#46039f"
             ],
             [
              0.2222222222222222,
              "#7201a8"
             ],
             [
              0.3333333333333333,
              "#9c179e"
             ],
             [
              0.4444444444444444,
              "#bd3786"
             ],
             [
              0.5555555555555556,
              "#d8576b"
             ],
             [
              0.6666666666666666,
              "#ed7953"
             ],
             [
              0.7777777777777778,
              "#fb9f3a"
             ],
             [
              0.8888888888888888,
              "#fdca26"
             ],
             [
              1,
              "#f0f921"
             ]
            ],
            "type": "heatmap"
           }
          ],
          "heatmapgl": [
           {
            "colorbar": {
             "outlinewidth": 0,
             "ticks": ""
            },
            "colorscale": [
             [
              0,
              "#0d0887"
             ],
             [
              0.1111111111111111,
              "#46039f"
             ],
             [
              0.2222222222222222,
              "#7201a8"
             ],
             [
              0.3333333333333333,
              "#9c179e"
             ],
             [
              0.4444444444444444,
              "#bd3786"
             ],
             [
              0.5555555555555556,
              "#d8576b"
             ],
             [
              0.6666666666666666,
              "#ed7953"
             ],
             [
              0.7777777777777778,
              "#fb9f3a"
             ],
             [
              0.8888888888888888,
              "#fdca26"
             ],
             [
              1,
              "#f0f921"
             ]
            ],
            "type": "heatmapgl"
           }
          ],
          "histogram": [
           {
            "marker": {
             "pattern": {
              "fillmode": "overlay",
              "size": 10,
              "solidity": 0.2
             }
            },
            "type": "histogram"
           }
          ],
          "histogram2d": [
           {
            "colorbar": {
             "outlinewidth": 0,
             "ticks": ""
            },
            "colorscale": [
             [
              0,
              "#0d0887"
             ],
             [
              0.1111111111111111,
              "#46039f"
             ],
             [
              0.2222222222222222,
              "#7201a8"
             ],
             [
              0.3333333333333333,
              "#9c179e"
             ],
             [
              0.4444444444444444,
              "#bd3786"
             ],
             [
              0.5555555555555556,
              "#d8576b"
             ],
             [
              0.6666666666666666,
              "#ed7953"
             ],
             [
              0.7777777777777778,
              "#fb9f3a"
             ],
             [
              0.8888888888888888,
              "#fdca26"
             ],
             [
              1,
              "#f0f921"
             ]
            ],
            "type": "histogram2d"
           }
          ],
          "histogram2dcontour": [
           {
            "colorbar": {
             "outlinewidth": 0,
             "ticks": ""
            },
            "colorscale": [
             [
              0,
              "#0d0887"
             ],
             [
              0.1111111111111111,
              "#46039f"
             ],
             [
              0.2222222222222222,
              "#7201a8"
             ],
             [
              0.3333333333333333,
              "#9c179e"
             ],
             [
              0.4444444444444444,
              "#bd3786"
             ],
             [
              0.5555555555555556,
              "#d8576b"
             ],
             [
              0.6666666666666666,
              "#ed7953"
             ],
             [
              0.7777777777777778,
              "#fb9f3a"
             ],
             [
              0.8888888888888888,
              "#fdca26"
             ],
             [
              1,
              "#f0f921"
             ]
            ],
            "type": "histogram2dcontour"
           }
          ],
          "mesh3d": [
           {
            "colorbar": {
             "outlinewidth": 0,
             "ticks": ""
            },
            "type": "mesh3d"
           }
          ],
          "parcoords": [
           {
            "line": {
             "colorbar": {
              "outlinewidth": 0,
              "ticks": ""
             }
            },
            "type": "parcoords"
           }
          ],
          "pie": [
           {
            "automargin": true,
            "type": "pie"
           }
          ],
          "scatter": [
           {
            "fillpattern": {
             "fillmode": "overlay",
             "size": 10,
             "solidity": 0.2
            },
            "type": "scatter"
           }
          ],
          "scatter3d": [
           {
            "line": {
             "colorbar": {
              "outlinewidth": 0,
              "ticks": ""
             }
            },
            "marker": {
             "colorbar": {
              "outlinewidth": 0,
              "ticks": ""
             }
            },
            "type": "scatter3d"
           }
          ],
          "scattercarpet": [
           {
            "marker": {
             "colorbar": {
              "outlinewidth": 0,
              "ticks": ""
             }
            },
            "type": "scattercarpet"
           }
          ],
          "scattergeo": [
           {
            "marker": {
             "colorbar": {
              "outlinewidth": 0,
              "ticks": ""
             }
            },
            "type": "scattergeo"
           }
          ],
          "scattergl": [
           {
            "marker": {
             "colorbar": {
              "outlinewidth": 0,
              "ticks": ""
             }
            },
            "type": "scattergl"
           }
          ],
          "scattermapbox": [
           {
            "marker": {
             "colorbar": {
              "outlinewidth": 0,
              "ticks": ""
             }
            },
            "type": "scattermapbox"
           }
          ],
          "scatterpolar": [
           {
            "marker": {
             "colorbar": {
              "outlinewidth": 0,
              "ticks": ""
             }
            },
            "type": "scatterpolar"
           }
          ],
          "scatterpolargl": [
           {
            "marker": {
             "colorbar": {
              "outlinewidth": 0,
              "ticks": ""
             }
            },
            "type": "scatterpolargl"
           }
          ],
          "scatterternary": [
           {
            "marker": {
             "colorbar": {
              "outlinewidth": 0,
              "ticks": ""
             }
            },
            "type": "scatterternary"
           }
          ],
          "surface": [
           {
            "colorbar": {
             "outlinewidth": 0,
             "ticks": ""
            },
            "colorscale": [
             [
              0,
              "#0d0887"
             ],
             [
              0.1111111111111111,
              "#46039f"
             ],
             [
              0.2222222222222222,
              "#7201a8"
             ],
             [
              0.3333333333333333,
              "#9c179e"
             ],
             [
              0.4444444444444444,
              "#bd3786"
             ],
             [
              0.5555555555555556,
              "#d8576b"
             ],
             [
              0.6666666666666666,
              "#ed7953"
             ],
             [
              0.7777777777777778,
              "#fb9f3a"
             ],
             [
              0.8888888888888888,
              "#fdca26"
             ],
             [
              1,
              "#f0f921"
             ]
            ],
            "type": "surface"
           }
          ],
          "table": [
           {
            "cells": {
             "fill": {
              "color": "#EBF0F8"
             },
             "line": {
              "color": "white"
             }
            },
            "header": {
             "fill": {
              "color": "#C8D4E3"
             },
             "line": {
              "color": "white"
             }
            },
            "type": "table"
           }
          ]
         },
         "layout": {
          "annotationdefaults": {
           "arrowcolor": "#2a3f5f",
           "arrowhead": 0,
           "arrowwidth": 1
          },
          "autotypenumbers": "strict",
          "coloraxis": {
           "colorbar": {
            "outlinewidth": 0,
            "ticks": ""
           }
          },
          "colorscale": {
           "diverging": [
            [
             0,
             "#8e0152"
            ],
            [
             0.1,
             "#c51b7d"
            ],
            [
             0.2,
             "#de77ae"
            ],
            [
             0.3,
             "#f1b6da"
            ],
            [
             0.4,
             "#fde0ef"
            ],
            [
             0.5,
             "#f7f7f7"
            ],
            [
             0.6,
             "#e6f5d0"
            ],
            [
             0.7,
             "#b8e186"
            ],
            [
             0.8,
             "#7fbc41"
            ],
            [
             0.9,
             "#4d9221"
            ],
            [
             1,
             "#276419"
            ]
           ],
           "sequential": [
            [
             0,
             "#0d0887"
            ],
            [
             0.1111111111111111,
             "#46039f"
            ],
            [
             0.2222222222222222,
             "#7201a8"
            ],
            [
             0.3333333333333333,
             "#9c179e"
            ],
            [
             0.4444444444444444,
             "#bd3786"
            ],
            [
             0.5555555555555556,
             "#d8576b"
            ],
            [
             0.6666666666666666,
             "#ed7953"
            ],
            [
             0.7777777777777778,
             "#fb9f3a"
            ],
            [
             0.8888888888888888,
             "#fdca26"
            ],
            [
             1,
             "#f0f921"
            ]
           ],
           "sequentialminus": [
            [
             0,
             "#0d0887"
            ],
            [
             0.1111111111111111,
             "#46039f"
            ],
            [
             0.2222222222222222,
             "#7201a8"
            ],
            [
             0.3333333333333333,
             "#9c179e"
            ],
            [
             0.4444444444444444,
             "#bd3786"
            ],
            [
             0.5555555555555556,
             "#d8576b"
            ],
            [
             0.6666666666666666,
             "#ed7953"
            ],
            [
             0.7777777777777778,
             "#fb9f3a"
            ],
            [
             0.8888888888888888,
             "#fdca26"
            ],
            [
             1,
             "#f0f921"
            ]
           ]
          },
          "colorway": [
           "#636efa",
           "#EF553B",
           "#00cc96",
           "#ab63fa",
           "#FFA15A",
           "#19d3f3",
           "#FF6692",
           "#B6E880",
           "#FF97FF",
           "#FECB52"
          ],
          "font": {
           "color": "#2a3f5f"
          },
          "geo": {
           "bgcolor": "white",
           "lakecolor": "white",
           "landcolor": "#E5ECF6",
           "showlakes": true,
           "showland": true,
           "subunitcolor": "white"
          },
          "hoverlabel": {
           "align": "left"
          },
          "hovermode": "closest",
          "mapbox": {
           "style": "light"
          },
          "paper_bgcolor": "white",
          "plot_bgcolor": "#E5ECF6",
          "polar": {
           "angularaxis": {
            "gridcolor": "white",
            "linecolor": "white",
            "ticks": ""
           },
           "bgcolor": "#E5ECF6",
           "radialaxis": {
            "gridcolor": "white",
            "linecolor": "white",
            "ticks": ""
           }
          },
          "scene": {
           "xaxis": {
            "backgroundcolor": "#E5ECF6",
            "gridcolor": "white",
            "gridwidth": 2,
            "linecolor": "white",
            "showbackground": true,
            "ticks": "",
            "zerolinecolor": "white"
           },
           "yaxis": {
            "backgroundcolor": "#E5ECF6",
            "gridcolor": "white",
            "gridwidth": 2,
            "linecolor": "white",
            "showbackground": true,
            "ticks": "",
            "zerolinecolor": "white"
           },
           "zaxis": {
            "backgroundcolor": "#E5ECF6",
            "gridcolor": "white",
            "gridwidth": 2,
            "linecolor": "white",
            "showbackground": true,
            "ticks": "",
            "zerolinecolor": "white"
           }
          },
          "shapedefaults": {
           "line": {
            "color": "#2a3f5f"
           }
          },
          "ternary": {
           "aaxis": {
            "gridcolor": "white",
            "linecolor": "white",
            "ticks": ""
           },
           "baxis": {
            "gridcolor": "white",
            "linecolor": "white",
            "ticks": ""
           },
           "bgcolor": "#E5ECF6",
           "caxis": {
            "gridcolor": "white",
            "linecolor": "white",
            "ticks": ""
           }
          },
          "title": {
           "x": 0.05
          },
          "xaxis": {
           "automargin": true,
           "gridcolor": "white",
           "linecolor": "white",
           "ticks": "",
           "title": {
            "standoff": 15
           },
           "zerolinecolor": "white",
           "zerolinewidth": 2
          },
          "yaxis": {
           "automargin": true,
           "gridcolor": "white",
           "linecolor": "white",
           "ticks": "",
           "title": {
            "standoff": 15
           },
           "zerolinecolor": "white",
           "zerolinewidth": 2
          }
         }
        },
        "title": {
         "font": {
          "color": "#4D5663"
         }
        },
        "xaxis": {
         "gridcolor": "#E1E5ED",
         "showgrid": true,
         "tickfont": {
          "color": "#4D5663"
         },
         "title": {
          "font": {
           "color": "#4D5663"
          },
          "text": ""
         },
         "zerolinecolor": "#E1E5ED"
        },
        "yaxis": {
         "gridcolor": "#E1E5ED",
         "showgrid": true,
         "tickfont": {
          "color": "#4D5663"
         },
         "title": {
          "font": {
           "color": "#4D5663"
          },
          "text": ""
         },
         "zerolinecolor": "#E1E5ED"
        }
       }
      },
      "text/html": [
       "<div>                            <div id=\"60cbfe08-5fe7-43fb-abc7-23b3242ba304\" class=\"plotly-graph-div\" style=\"height:525px; width:100%;\"></div>            <script type=\"text/javascript\">                require([\"plotly\"], function(Plotly) {                    window.PLOTLYENV=window.PLOTLYENV || {};\n",
       "                    window.PLOTLYENV.BASE_URL='https://plot.ly';                                    if (document.getElementById(\"60cbfe08-5fe7-43fb-abc7-23b3242ba304\")) {                    Plotly.newPlot(                        \"60cbfe08-5fe7-43fb-abc7-23b3242ba304\",                        [{\"histfunc\":\"count\",\"histnorm\":\"\",\"marker\":{\"color\":\"rgba(255, 153, 51, 1.0)\",\"line\":{\"color\":\"#4D5663\",\"width\":1.3}},\"name\":\"A\",\"opacity\":0.8,\"orientation\":\"v\",\"x\":[-0.21379038518686702,-0.2881234631694882,1.687031818981887,-1.0596805811366479,0.7056676453490747,-0.4928626434402184,0.33850678897844294,-1.1365532012393156,2.22191453283817,-1.3620857175620513,0.36896946879329245,0.4221536206989755,0.7281899107947287,-1.2377215311367844,-0.183857315020409,1.3878751024535392,-2.080665743096919,-1.644286250149681,0.6294408878087343,0.05543719194135943,0.38834850232706086,1.2385439904392541,0.7616814777089003,0.8100604469178284,-1.7357899124307927,0.5857940744331279,1.0852758495254575,-0.11451233355760886,-0.24564066981188823,0.5006503012279303,0.5497048414245632,2.7014575844254614,-0.28998640157069633,-0.13092688042405312,-1.0299743551366851,1.54532700344482,0.34570948137873997,0.03885334864587458,1.1495393347403176,1.2978444015505215,-0.15445587968137264,-0.9263861080879959,0.5069877878414278,-0.769378432702959,0.7899966811807752,-0.08734253876202357,-1.1407746455308567,-0.6168329084831372,0.20420394854844057,0.49021555757100205,-0.8019838933435394,-0.32006526913236216,-0.6739698696991888,-1.3362987248492733,-2.164522947216624,0.4584620676832864,0.6388705433591992,-0.48759310113111154,-0.4719391278616287,-1.4620591867932493,-0.18449217672530127,0.9439585270731953,0.4083408634321457,-0.988046557778806,0.16985453583959337,-1.438367478015253,-1.4100586880513233,-3.283065964351943,-1.8373487018263062,0.6488219286367138,0.28681820553897286,-0.7388386037590581,-0.5556428204242388,0.10030613571566298,1.5958673135642134,-0.1966594175392532,-0.9481083918396167,-1.5561738064875823,-0.6626995687127948,1.45914060730763,0.16378886187091027,1.0029633116313403,-0.58101803188326,0.09260704461129005,0.06351215987658128,-0.4144809318389637,0.8353564916883307,3.041369189044577,-0.8265909477797487,0.891030887375596,1.6581945064521428,-1.4545588655614945,0.9539117184819081,-0.15726287638775388,0.5002980790781194,-0.0004703239994698021,-1.133054159083484,-0.6238091479318407,-0.6549182319149431,-0.7418217369776801],\"type\":\"histogram\"},{\"histfunc\":\"count\",\"histnorm\":\"\",\"marker\":{\"color\":\"rgba(55, 128, 191, 1.0)\",\"line\":{\"color\":\"#4D5663\",\"width\":1.3}},\"name\":\"B\",\"opacity\":0.8,\"orientation\":\"v\",\"x\":[0.15034521125234812,-0.5987186933728933,-0.6454634726357826,-0.6154832554047287,-0.769946615156794,-0.46191050231649566,0.05418022249124648,0.24197012189315253,1.3704318070389399,-1.115033967499207,-1.2561117558758135,-0.5752846426550058,-0.9310407812666132,-2.1313187338220825,-0.5258905353326198,-0.16921425212822583,-1.3402012277342281,0.8022221150923157,0.049028277142209815,2.0690285587876134,0.5901836499759278,0.5396360288585632,-0.9593170791098355,0.4703911795691247,-0.4088123868488733,-1.326522270762869,-0.4084516440752073,-0.21319177515630341,2.307192586560415,1.0279567709067112,1.3338803194915425,0.16950998713838028,0.4858789788510932,0.24110923216718624,1.9734967149972131,0.6219676407877484,0.07216010818714264,0.34036775803353736,0.3567623257427925,1.804130564330238,-0.4737804697504568,0.8695343627683411,-0.006651033966893561,-0.11901735621976775,-0.7789256367705151,1.0165590301846146,0.9673266086320613,1.3137958888935721,0.36431032413354375,1.0861186090802795,-0.5726383103479533,-0.1849084907144906,-0.44175252280494004,0.9311539502453478,0.019643606477361283,-0.7791451371204415,-1.2443704323676485,1.105468883927629,0.6262128820712691,0.5687334826194494,-0.9707670383730175,-1.1585829210383136,-1.9045091938104632,-0.16042897577663945,0.6024331394633871,-1.6103613623712325,-0.8494704182172462,-0.9019684366085758,-1.8460626219175116,0.9263616990924344,-0.08112674148248719,0.9925241445851437,-1.850684056918012,1.2555877550144339,1.0695245173103791,-0.09686194616054787,-0.9948039975413361,1.4853596684487107,-0.42393031979417733,-0.32579590265781827,-0.38559679609455516,-0.811761939096358,-0.15304642689703257,-1.0276461159200796,1.0986671255402287,0.5756542873871213,-0.5089669029678521,0.6667525593133969,0.4005815962155018,-1.2073886458765648,-0.42237563008840584,-0.5497516070594975,0.44406995134671673,-0.1946653293506403,0.3843043086821584,-0.8135642169019233,0.25627669360680666,-0.09427557436239774,0.35951103527697625,0.27612998716883735],\"type\":\"histogram\"},{\"histfunc\":\"count\",\"histnorm\":\"\",\"marker\":{\"color\":\"rgba(50, 171, 96, 1.0)\",\"line\":{\"color\":\"#4D5663\",\"width\":1.3}},\"name\":\"C\",\"opacity\":0.8,\"orientation\":\"v\",\"x\":[-0.10691782983046799,3.213836439897871,1.2978082789858894,-0.2132013525646534,-0.9040138874289834,0.2731855557952521,0.5069523872609897,0.670617736198417,-1.1743232586293297,0.8169069115658851,-0.9381661918713972,-0.11743599563896334,0.030574307381110662,0.9992368794011388,-1.1342817466024522,-1.4747415330443328,0.21566441103743766,0.5079266331393273,-0.5358732115778295,1.261339082566491,-2.1300452650189987,-0.995411213994776,1.9767921069853125,-0.3908938441178726,-0.25478638039418544,0.10390697649010927,-0.9503449147906309,0.9875722221567064,1.670549649547061,0.7035151206648657,0.9184323065189156,0.29770891586312104,0.6506557683455222,0.17053643176001723,0.6804438931044237,0.4932723214902657,1.2347891992445115,-0.3978565793074171,-1.5496430282812044,-1.8543687365114545,0.408182424198848,-0.4402301420762824,0.6842267494964466,-0.6622453208822038,0.5810889637042475,1.9147818661373415,0.4516539777254524,1.3709926943774824,0.9281354908429335,0.020204498068766168,-0.9561170722569972,-0.5179923255194684,0.47545633040082713,-1.017902345044926,0.6898993582818461,-0.12915471787438948,-0.3835149194244746,0.5612838956527909,0.54850587615578,2.0261455642496786,-0.027886581173396575,0.5548739587380417,1.924949773021305,-0.15397819153408687,-0.9759536918595715,-0.4600445383349833,1.5313101024682811,0.6015086060815795,0.49704216723255523,2.3589012264613722,-1.9031159441549437,0.3380015510445511,1.7556826732171869,0.8529256832086678,0.20633060655570418,-0.006909374509238595,0.6296199138820421,0.551666873902677,-0.006526424574607722,1.54746310955499,-1.5505731511062761,-1.076355721825828,0.24578050070296467,0.1633771476926186,1.281234682815011,-0.5813099626740817,-0.5518020320284768,0.14517427814953116,0.6983537069770014,0.9668480592497467,-2.3412922624431345,-0.49306061459438527,-0.701546685677908,0.07657938731609544,0.935369411346959,0.4734696027899289,-0.26402742260355355,2.3391538612873934,0.3893064307437836,-0.8043557448996405],\"type\":\"histogram\"},{\"histfunc\":\"count\",\"histnorm\":\"\",\"marker\":{\"color\":\"rgba(128, 0, 128, 1.0)\",\"line\":{\"color\":\"#4D5663\",\"width\":1.3}},\"name\":\"D\",\"opacity\":0.8,\"orientation\":\"v\",\"x\":[1.3553549360142652,-1.1240629400486926,-0.5396325265939028,-0.8922731485912241,1.9740825797260029,1.4335969468595193,0.8378377603067806,-1.3755932827022783,1.5807523225249667,-1.3660631719105356,0.24790658011434308,0.72437974484164,-1.2301547485526418,1.4353900554789392,0.9647790417481343,-1.5124768271563436,-1.1744931171213997,-2.0005167156998023,-1.2853003556657685,-0.7242855341362265,1.0717369190304742,1.403436298657791,0.34718712336454977,-0.7382611909665026,1.287880377123517,0.45288293740440927,1.856253152669832,0.06044462654630291,-0.35899502155411894,0.6229255957407726,-1.0193120035718861,2.088829859563428,-0.2694806539381207,-1.1089107610511553,-1.554626500748827,0.13415464697007337,-0.9514024414600591,-1.703723398682606,0.5041395184642052,0.9182165009161256,-0.16175008699604418,0.7298086959702409,-1.7307711250064093,0.40133463732840047,-0.8315507359619237,0.22298205696938378,1.6027609055014562,0.630966863989992,1.3850867427226057,0.7488458383350989,0.5084258928294056,-0.17680915051756851,1.0922068913444805,1.1327299453261297,0.4196930971235217,-1.4601343934416078,-0.24832971144271526,0.0687004743713472,-0.2540444755751119,-1.6773241014528344,-0.35990393608504223,-0.6596716005978259,3.152981796335251,1.2345979144558863,0.426875789986511,-0.6108533270888533,-0.2440924861901595,-1.2337060019712072,0.2323690666974735,0.5313598624883571,-0.06812014249606121,1.544918719379879,0.5730618501766528,-0.64535258341819,-0.30685957172527745,0.7369314973583256,0.354542752701916,-0.26174334657150145,-0.30638465671797666,0.5783975067642048,0.7890785878016994,0.9571204412458787,-0.6299453993479587,-1.3449081494177275,1.5843173761593803,0.44991751120347606,-0.11496213960656726,-0.6452187231854206,1.3834847920554316,0.5081137776847046,1.1232685815029115,-0.9840267395496939,0.25851966301842133,0.6173146759605749,-0.7328735241100314,0.6961936363738751,-2.1436809279718636,1.7285813499972267,-0.5187557435286976,-0.39462456759511333],\"type\":\"histogram\"}],                        {\"barmode\":\"overlay\",\"legend\":{\"bgcolor\":\"#F5F6F9\",\"font\":{\"color\":\"#4D5663\"}},\"paper_bgcolor\":\"#F5F6F9\",\"plot_bgcolor\":\"#F5F6F9\",\"template\":{\"data\":{\"barpolar\":[{\"marker\":{\"line\":{\"color\":\"#E5ECF6\",\"width\":0.5},\"pattern\":{\"fillmode\":\"overlay\",\"size\":10,\"solidity\":0.2}},\"type\":\"barpolar\"}],\"bar\":[{\"error_x\":{\"color\":\"#2a3f5f\"},\"error_y\":{\"color\":\"#2a3f5f\"},\"marker\":{\"line\":{\"color\":\"#E5ECF6\",\"width\":0.5},\"pattern\":{\"fillmode\":\"overlay\",\"size\":10,\"solidity\":0.2}},\"type\":\"bar\"}],\"carpet\":[{\"aaxis\":{\"endlinecolor\":\"#2a3f5f\",\"gridcolor\":\"white\",\"linecolor\":\"white\",\"minorgridcolor\":\"white\",\"startlinecolor\":\"#2a3f5f\"},\"baxis\":{\"endlinecolor\":\"#2a3f5f\",\"gridcolor\":\"white\",\"linecolor\":\"white\",\"minorgridcolor\":\"white\",\"startlinecolor\":\"#2a3f5f\"},\"type\":\"carpet\"}],\"choropleth\":[{\"colorbar\":{\"outlinewidth\":0,\"ticks\":\"\"},\"type\":\"choropleth\"}],\"contourcarpet\":[{\"colorbar\":{\"outlinewidth\":0,\"ticks\":\"\"},\"type\":\"contourcarpet\"}],\"contour\":[{\"colorbar\":{\"outlinewidth\":0,\"ticks\":\"\"},\"colorscale\":[[0.0,\"#0d0887\"],[0.1111111111111111,\"#46039f\"],[0.2222222222222222,\"#7201a8\"],[0.3333333333333333,\"#9c179e\"],[0.4444444444444444,\"#bd3786\"],[0.5555555555555556,\"#d8576b\"],[0.6666666666666666,\"#ed7953\"],[0.7777777777777778,\"#fb9f3a\"],[0.8888888888888888,\"#fdca26\"],[1.0,\"#f0f921\"]],\"type\":\"contour\"}],\"heatmapgl\":[{\"colorbar\":{\"outlinewidth\":0,\"ticks\":\"\"},\"colorscale\":[[0.0,\"#0d0887\"],[0.1111111111111111,\"#46039f\"],[0.2222222222222222,\"#7201a8\"],[0.3333333333333333,\"#9c179e\"],[0.4444444444444444,\"#bd3786\"],[0.5555555555555556,\"#d8576b\"],[0.6666666666666666,\"#ed7953\"],[0.7777777777777778,\"#fb9f3a\"],[0.8888888888888888,\"#fdca26\"],[1.0,\"#f0f921\"]],\"type\":\"heatmapgl\"}],\"heatmap\":[{\"colorbar\":{\"outlinewidth\":0,\"ticks\":\"\"},\"colorscale\":[[0.0,\"#0d0887\"],[0.1111111111111111,\"#46039f\"],[0.2222222222222222,\"#7201a8\"],[0.3333333333333333,\"#9c179e\"],[0.4444444444444444,\"#bd3786\"],[0.5555555555555556,\"#d8576b\"],[0.6666666666666666,\"#ed7953\"],[0.7777777777777778,\"#fb9f3a\"],[0.8888888888888888,\"#fdca26\"],[1.0,\"#f0f921\"]],\"type\":\"heatmap\"}],\"histogram2dcontour\":[{\"colorbar\":{\"outlinewidth\":0,\"ticks\":\"\"},\"colorscale\":[[0.0,\"#0d0887\"],[0.1111111111111111,\"#46039f\"],[0.2222222222222222,\"#7201a8\"],[0.3333333333333333,\"#9c179e\"],[0.4444444444444444,\"#bd3786\"],[0.5555555555555556,\"#d8576b\"],[0.6666666666666666,\"#ed7953\"],[0.7777777777777778,\"#fb9f3a\"],[0.8888888888888888,\"#fdca26\"],[1.0,\"#f0f921\"]],\"type\":\"histogram2dcontour\"}],\"histogram2d\":[{\"colorbar\":{\"outlinewidth\":0,\"ticks\":\"\"},\"colorscale\":[[0.0,\"#0d0887\"],[0.1111111111111111,\"#46039f\"],[0.2222222222222222,\"#7201a8\"],[0.3333333333333333,\"#9c179e\"],[0.4444444444444444,\"#bd3786\"],[0.5555555555555556,\"#d8576b\"],[0.6666666666666666,\"#ed7953\"],[0.7777777777777778,\"#fb9f3a\"],[0.8888888888888888,\"#fdca26\"],[1.0,\"#f0f921\"]],\"type\":\"histogram2d\"}],\"histogram\":[{\"marker\":{\"pattern\":{\"fillmode\":\"overlay\",\"size\":10,\"solidity\":0.2}},\"type\":\"histogram\"}],\"mesh3d\":[{\"colorbar\":{\"outlinewidth\":0,\"ticks\":\"\"},\"type\":\"mesh3d\"}],\"parcoords\":[{\"line\":{\"colorbar\":{\"outlinewidth\":0,\"ticks\":\"\"}},\"type\":\"parcoords\"}],\"pie\":[{\"automargin\":true,\"type\":\"pie\"}],\"scatter3d\":[{\"line\":{\"colorbar\":{\"outlinewidth\":0,\"ticks\":\"\"}},\"marker\":{\"colorbar\":{\"outlinewidth\":0,\"ticks\":\"\"}},\"type\":\"scatter3d\"}],\"scattercarpet\":[{\"marker\":{\"colorbar\":{\"outlinewidth\":0,\"ticks\":\"\"}},\"type\":\"scattercarpet\"}],\"scattergeo\":[{\"marker\":{\"colorbar\":{\"outlinewidth\":0,\"ticks\":\"\"}},\"type\":\"scattergeo\"}],\"scattergl\":[{\"marker\":{\"colorbar\":{\"outlinewidth\":0,\"ticks\":\"\"}},\"type\":\"scattergl\"}],\"scattermapbox\":[{\"marker\":{\"colorbar\":{\"outlinewidth\":0,\"ticks\":\"\"}},\"type\":\"scattermapbox\"}],\"scatterpolargl\":[{\"marker\":{\"colorbar\":{\"outlinewidth\":0,\"ticks\":\"\"}},\"type\":\"scatterpolargl\"}],\"scatterpolar\":[{\"marker\":{\"colorbar\":{\"outlinewidth\":0,\"ticks\":\"\"}},\"type\":\"scatterpolar\"}],\"scatter\":[{\"fillpattern\":{\"fillmode\":\"overlay\",\"size\":10,\"solidity\":0.2},\"type\":\"scatter\"}],\"scatterternary\":[{\"marker\":{\"colorbar\":{\"outlinewidth\":0,\"ticks\":\"\"}},\"type\":\"scatterternary\"}],\"surface\":[{\"colorbar\":{\"outlinewidth\":0,\"ticks\":\"\"},\"colorscale\":[[0.0,\"#0d0887\"],[0.1111111111111111,\"#46039f\"],[0.2222222222222222,\"#7201a8\"],[0.3333333333333333,\"#9c179e\"],[0.4444444444444444,\"#bd3786\"],[0.5555555555555556,\"#d8576b\"],[0.6666666666666666,\"#ed7953\"],[0.7777777777777778,\"#fb9f3a\"],[0.8888888888888888,\"#fdca26\"],[1.0,\"#f0f921\"]],\"type\":\"surface\"}],\"table\":[{\"cells\":{\"fill\":{\"color\":\"#EBF0F8\"},\"line\":{\"color\":\"white\"}},\"header\":{\"fill\":{\"color\":\"#C8D4E3\"},\"line\":{\"color\":\"white\"}},\"type\":\"table\"}]},\"layout\":{\"annotationdefaults\":{\"arrowcolor\":\"#2a3f5f\",\"arrowhead\":0,\"arrowwidth\":1},\"autotypenumbers\":\"strict\",\"coloraxis\":{\"colorbar\":{\"outlinewidth\":0,\"ticks\":\"\"}},\"colorscale\":{\"diverging\":[[0,\"#8e0152\"],[0.1,\"#c51b7d\"],[0.2,\"#de77ae\"],[0.3,\"#f1b6da\"],[0.4,\"#fde0ef\"],[0.5,\"#f7f7f7\"],[0.6,\"#e6f5d0\"],[0.7,\"#b8e186\"],[0.8,\"#7fbc41\"],[0.9,\"#4d9221\"],[1,\"#276419\"]],\"sequential\":[[0.0,\"#0d0887\"],[0.1111111111111111,\"#46039f\"],[0.2222222222222222,\"#7201a8\"],[0.3333333333333333,\"#9c179e\"],[0.4444444444444444,\"#bd3786\"],[0.5555555555555556,\"#d8576b\"],[0.6666666666666666,\"#ed7953\"],[0.7777777777777778,\"#fb9f3a\"],[0.8888888888888888,\"#fdca26\"],[1.0,\"#f0f921\"]],\"sequentialminus\":[[0.0,\"#0d0887\"],[0.1111111111111111,\"#46039f\"],[0.2222222222222222,\"#7201a8\"],[0.3333333333333333,\"#9c179e\"],[0.4444444444444444,\"#bd3786\"],[0.5555555555555556,\"#d8576b\"],[0.6666666666666666,\"#ed7953\"],[0.7777777777777778,\"#fb9f3a\"],[0.8888888888888888,\"#fdca26\"],[1.0,\"#f0f921\"]]},\"colorway\":[\"#636efa\",\"#EF553B\",\"#00cc96\",\"#ab63fa\",\"#FFA15A\",\"#19d3f3\",\"#FF6692\",\"#B6E880\",\"#FF97FF\",\"#FECB52\"],\"font\":{\"color\":\"#2a3f5f\"},\"geo\":{\"bgcolor\":\"white\",\"lakecolor\":\"white\",\"landcolor\":\"#E5ECF6\",\"showlakes\":true,\"showland\":true,\"subunitcolor\":\"white\"},\"hoverlabel\":{\"align\":\"left\"},\"hovermode\":\"closest\",\"mapbox\":{\"style\":\"light\"},\"paper_bgcolor\":\"white\",\"plot_bgcolor\":\"#E5ECF6\",\"polar\":{\"angularaxis\":{\"gridcolor\":\"white\",\"linecolor\":\"white\",\"ticks\":\"\"},\"bgcolor\":\"#E5ECF6\",\"radialaxis\":{\"gridcolor\":\"white\",\"linecolor\":\"white\",\"ticks\":\"\"}},\"scene\":{\"xaxis\":{\"backgroundcolor\":\"#E5ECF6\",\"gridcolor\":\"white\",\"gridwidth\":2,\"linecolor\":\"white\",\"showbackground\":true,\"ticks\":\"\",\"zerolinecolor\":\"white\"},\"yaxis\":{\"backgroundcolor\":\"#E5ECF6\",\"gridcolor\":\"white\",\"gridwidth\":2,\"linecolor\":\"white\",\"showbackground\":true,\"ticks\":\"\",\"zerolinecolor\":\"white\"},\"zaxis\":{\"backgroundcolor\":\"#E5ECF6\",\"gridcolor\":\"white\",\"gridwidth\":2,\"linecolor\":\"white\",\"showbackground\":true,\"ticks\":\"\",\"zerolinecolor\":\"white\"}},\"shapedefaults\":{\"line\":{\"color\":\"#2a3f5f\"}},\"ternary\":{\"aaxis\":{\"gridcolor\":\"white\",\"linecolor\":\"white\",\"ticks\":\"\"},\"baxis\":{\"gridcolor\":\"white\",\"linecolor\":\"white\",\"ticks\":\"\"},\"bgcolor\":\"#E5ECF6\",\"caxis\":{\"gridcolor\":\"white\",\"linecolor\":\"white\",\"ticks\":\"\"}},\"title\":{\"x\":0.05},\"xaxis\":{\"automargin\":true,\"gridcolor\":\"white\",\"linecolor\":\"white\",\"ticks\":\"\",\"title\":{\"standoff\":15},\"zerolinecolor\":\"white\",\"zerolinewidth\":2},\"yaxis\":{\"automargin\":true,\"gridcolor\":\"white\",\"linecolor\":\"white\",\"ticks\":\"\",\"title\":{\"standoff\":15},\"zerolinecolor\":\"white\",\"zerolinewidth\":2}}},\"title\":{\"font\":{\"color\":\"#4D5663\"}},\"xaxis\":{\"gridcolor\":\"#E1E5ED\",\"showgrid\":true,\"tickfont\":{\"color\":\"#4D5663\"},\"title\":{\"font\":{\"color\":\"#4D5663\"},\"text\":\"\"},\"zerolinecolor\":\"#E1E5ED\"},\"yaxis\":{\"gridcolor\":\"#E1E5ED\",\"showgrid\":true,\"tickfont\":{\"color\":\"#4D5663\"},\"title\":{\"font\":{\"color\":\"#4D5663\"},\"text\":\"\"},\"zerolinecolor\":\"#E1E5ED\"}},                        {\"showLink\": true, \"linkText\": \"Export to plot.ly\", \"plotlyServerURL\": \"https://plot.ly\", \"responsive\": true}                    ).then(function(){\n",
       "                            \n",
       "var gd = document.getElementById('60cbfe08-5fe7-43fb-abc7-23b3242ba304');\n",
       "var x = new MutationObserver(function (mutations, observer) {{\n",
       "        var display = window.getComputedStyle(gd).display;\n",
       "        if (!display || display === 'none') {{\n",
       "            console.log([gd, 'removed!']);\n",
       "            Plotly.purge(gd);\n",
       "            observer.disconnect();\n",
       "        }}\n",
       "}});\n",
       "\n",
       "// Listen for the removal of the full notebook cells\n",
       "var notebookContainer = gd.closest('#notebook-container');\n",
       "if (notebookContainer) {{\n",
       "    x.observe(notebookContainer, {childList: true});\n",
       "}}\n",
       "\n",
       "// Listen for the clearing of the current output cell\n",
       "var outputEl = gd.closest('.output');\n",
       "if (outputEl) {{\n",
       "    x.observe(outputEl, {childList: true});\n",
       "}}\n",
       "\n",
       "                        })                };                });            </script>        </div>"
      ]
     },
     "metadata": {},
     "output_type": "display_data"
    }
   ],
   "source": [
    "df.iplot(kind='hist')"
   ]
  },
  {
   "cell_type": "code",
   "execution_count": 20,
   "metadata": {},
   "outputs": [],
   "source": [
    "#df[['A', 'B']].iplot(kind='spread')\n",
    "#problem at the cufflink end"
   ]
  },
  {
   "cell_type": "code",
   "execution_count": 21,
   "metadata": {},
   "outputs": [],
   "source": [
    "#df.iplot(kind='bubble', x='A', y='B', size='c')\n",
    "#problem at the cufflink end"
   ]
  },
  {
   "cell_type": "code",
   "execution_count": 19,
   "metadata": {},
   "outputs": [
    {
     "data": {
      "application/vnd.plotly.v1+json": {
       "config": {
        "linkText": "Export to plot.ly",
        "plotlyServerURL": "https://plot.ly",
        "showLink": true
       },
       "data": [
        {
         "histfunc": "count",
         "histnorm": "",
         "marker": {
          "color": "rgba(255, 153, 51, 1.0)",
          "line": {
           "color": "#4D5663",
           "width": 1.3
          }
         },
         "name": "A",
         "nbinsx": 10,
         "opacity": 0.8,
         "orientation": "v",
         "type": "histogram",
         "x": [
          -0.21379038518686702,
          -0.2881234631694882,
          1.687031818981887,
          -1.0596805811366479,
          0.7056676453490747,
          -0.4928626434402184,
          0.33850678897844294,
          -1.1365532012393156,
          2.22191453283817,
          -1.3620857175620513,
          0.36896946879329245,
          0.4221536206989755,
          0.7281899107947287,
          -1.2377215311367844,
          -0.183857315020409,
          1.3878751024535392,
          -2.080665743096919,
          -1.644286250149681,
          0.6294408878087343,
          0.05543719194135943,
          0.38834850232706086,
          1.2385439904392541,
          0.7616814777089003,
          0.8100604469178284,
          -1.7357899124307927,
          0.5857940744331279,
          1.0852758495254575,
          -0.11451233355760886,
          -0.24564066981188823,
          0.5006503012279303,
          0.5497048414245632,
          2.7014575844254614,
          -0.28998640157069633,
          -0.13092688042405312,
          -1.0299743551366851,
          1.54532700344482,
          0.34570948137873997,
          0.03885334864587458,
          1.1495393347403176,
          1.2978444015505215,
          -0.15445587968137264,
          -0.9263861080879959,
          0.5069877878414278,
          -0.769378432702959,
          0.7899966811807752,
          -0.08734253876202357,
          -1.1407746455308567,
          -0.6168329084831372,
          0.20420394854844057,
          0.49021555757100205,
          -0.8019838933435394,
          -0.32006526913236216,
          -0.6739698696991888,
          -1.3362987248492733,
          -2.164522947216624,
          0.4584620676832864,
          0.6388705433591992,
          -0.48759310113111154,
          -0.4719391278616287,
          -1.4620591867932493,
          -0.18449217672530127,
          0.9439585270731953,
          0.4083408634321457,
          -0.988046557778806,
          0.16985453583959337,
          -1.438367478015253,
          -1.4100586880513233,
          -3.283065964351943,
          -1.8373487018263062,
          0.6488219286367138,
          0.28681820553897286,
          -0.7388386037590581,
          -0.5556428204242388,
          0.10030613571566298,
          1.5958673135642134,
          -0.1966594175392532,
          -0.9481083918396167,
          -1.5561738064875823,
          -0.6626995687127948,
          1.45914060730763,
          0.16378886187091027,
          1.0029633116313403,
          -0.58101803188326,
          0.09260704461129005,
          0.06351215987658128,
          -0.4144809318389637,
          0.8353564916883307,
          3.041369189044577,
          -0.8265909477797487,
          0.891030887375596,
          1.6581945064521428,
          -1.4545588655614945,
          0.9539117184819081,
          -0.15726287638775388,
          0.5002980790781194,
          -0.0004703239994698021,
          -1.133054159083484,
          -0.6238091479318407,
          -0.6549182319149431,
          -0.7418217369776801
         ],
         "xaxis": "x",
         "yaxis": "y"
        },
        {
         "line": {
          "color": "rgba(128, 128, 128, 1.0)",
          "dash": "solid",
          "shape": "linear",
          "width": 1.3
         },
         "marker": {
          "size": 2,
          "symbol": "circle"
         },
         "mode": "markers",
         "name": "A",
         "text": "",
         "type": "scatter",
         "x": [
          0.15034521125234812,
          -0.5987186933728933,
          -0.6454634726357826,
          -0.6154832554047287,
          -0.769946615156794,
          -0.46191050231649566,
          0.05418022249124648,
          0.24197012189315253,
          1.3704318070389399,
          -1.115033967499207,
          -1.2561117558758135,
          -0.5752846426550058,
          -0.9310407812666132,
          -2.1313187338220825,
          -0.5258905353326198,
          -0.16921425212822583,
          -1.3402012277342281,
          0.8022221150923157,
          0.049028277142209815,
          2.0690285587876134,
          0.5901836499759278,
          0.5396360288585632,
          -0.9593170791098355,
          0.4703911795691247,
          -0.4088123868488733,
          -1.326522270762869,
          -0.4084516440752073,
          -0.21319177515630341,
          2.307192586560415,
          1.0279567709067112,
          1.3338803194915425,
          0.16950998713838028,
          0.4858789788510932,
          0.24110923216718624,
          1.9734967149972131,
          0.6219676407877484,
          0.07216010818714264,
          0.34036775803353736,
          0.3567623257427925,
          1.804130564330238,
          -0.4737804697504568,
          0.8695343627683411,
          -0.006651033966893561,
          -0.11901735621976775,
          -0.7789256367705151,
          1.0165590301846146,
          0.9673266086320613,
          1.3137958888935721,
          0.36431032413354375,
          1.0861186090802795,
          -0.5726383103479533,
          -0.1849084907144906,
          -0.44175252280494004,
          0.9311539502453478,
          0.019643606477361283,
          -0.7791451371204415,
          -1.2443704323676485,
          1.105468883927629,
          0.6262128820712691,
          0.5687334826194494,
          -0.9707670383730175,
          -1.1585829210383136,
          -1.9045091938104632,
          -0.16042897577663945,
          0.6024331394633871,
          -1.6103613623712325,
          -0.8494704182172462,
          -0.9019684366085758,
          -1.8460626219175116,
          0.9263616990924344,
          -0.08112674148248719,
          0.9925241445851437,
          -1.850684056918012,
          1.2555877550144339,
          1.0695245173103791,
          -0.09686194616054787,
          -0.9948039975413361,
          1.4853596684487107,
          -0.42393031979417733,
          -0.32579590265781827,
          -0.38559679609455516,
          -0.811761939096358,
          -0.15304642689703257,
          -1.0276461159200796,
          1.0986671255402287,
          0.5756542873871213,
          -0.5089669029678521,
          0.6667525593133969,
          0.4005815962155018,
          -1.2073886458765648,
          -0.42237563008840584,
          -0.5497516070594975,
          0.44406995134671673,
          -0.1946653293506403,
          0.3843043086821584,
          -0.8135642169019233,
          0.25627669360680666,
          -0.09427557436239774,
          0.35951103527697625,
          0.27612998716883735
         ],
         "xaxis": "x2",
         "y": [
          -0.21379038518686702,
          -0.2881234631694882,
          1.687031818981887,
          -1.0596805811366479,
          0.7056676453490747,
          -0.4928626434402184,
          0.33850678897844294,
          -1.1365532012393156,
          2.22191453283817,
          -1.3620857175620513,
          0.36896946879329245,
          0.4221536206989755,
          0.7281899107947287,
          -1.2377215311367844,
          -0.183857315020409,
          1.3878751024535392,
          -2.080665743096919,
          -1.644286250149681,
          0.6294408878087343,
          0.05543719194135943,
          0.38834850232706086,
          1.2385439904392541,
          0.7616814777089003,
          0.8100604469178284,
          -1.7357899124307927,
          0.5857940744331279,
          1.0852758495254575,
          -0.11451233355760886,
          -0.24564066981188823,
          0.5006503012279303,
          0.5497048414245632,
          2.7014575844254614,
          -0.28998640157069633,
          -0.13092688042405312,
          -1.0299743551366851,
          1.54532700344482,
          0.34570948137873997,
          0.03885334864587458,
          1.1495393347403176,
          1.2978444015505215,
          -0.15445587968137264,
          -0.9263861080879959,
          0.5069877878414278,
          -0.769378432702959,
          0.7899966811807752,
          -0.08734253876202357,
          -1.1407746455308567,
          -0.6168329084831372,
          0.20420394854844057,
          0.49021555757100205,
          -0.8019838933435394,
          -0.32006526913236216,
          -0.6739698696991888,
          -1.3362987248492733,
          -2.164522947216624,
          0.4584620676832864,
          0.6388705433591992,
          -0.48759310113111154,
          -0.4719391278616287,
          -1.4620591867932493,
          -0.18449217672530127,
          0.9439585270731953,
          0.4083408634321457,
          -0.988046557778806,
          0.16985453583959337,
          -1.438367478015253,
          -1.4100586880513233,
          -3.283065964351943,
          -1.8373487018263062,
          0.6488219286367138,
          0.28681820553897286,
          -0.7388386037590581,
          -0.5556428204242388,
          0.10030613571566298,
          1.5958673135642134,
          -0.1966594175392532,
          -0.9481083918396167,
          -1.5561738064875823,
          -0.6626995687127948,
          1.45914060730763,
          0.16378886187091027,
          1.0029633116313403,
          -0.58101803188326,
          0.09260704461129005,
          0.06351215987658128,
          -0.4144809318389637,
          0.8353564916883307,
          3.041369189044577,
          -0.8265909477797487,
          0.891030887375596,
          1.6581945064521428,
          -1.4545588655614945,
          0.9539117184819081,
          -0.15726287638775388,
          0.5002980790781194,
          -0.0004703239994698021,
          -1.133054159083484,
          -0.6238091479318407,
          -0.6549182319149431,
          -0.7418217369776801
         ],
         "yaxis": "y2"
        },
        {
         "line": {
          "color": "rgba(128, 128, 128, 1.0)",
          "dash": "solid",
          "shape": "linear",
          "width": 1.3
         },
         "marker": {
          "size": 2,
          "symbol": "circle"
         },
         "mode": "markers",
         "name": "A",
         "text": "",
         "type": "scatter",
         "x": [
          -0.10691782983046799,
          3.213836439897871,
          1.2978082789858894,
          -0.2132013525646534,
          -0.9040138874289834,
          0.2731855557952521,
          0.5069523872609897,
          0.670617736198417,
          -1.1743232586293297,
          0.8169069115658851,
          -0.9381661918713972,
          -0.11743599563896334,
          0.030574307381110662,
          0.9992368794011388,
          -1.1342817466024522,
          -1.4747415330443328,
          0.21566441103743766,
          0.5079266331393273,
          -0.5358732115778295,
          1.261339082566491,
          -2.1300452650189987,
          -0.995411213994776,
          1.9767921069853125,
          -0.3908938441178726,
          -0.25478638039418544,
          0.10390697649010927,
          -0.9503449147906309,
          0.9875722221567064,
          1.670549649547061,
          0.7035151206648657,
          0.9184323065189156,
          0.29770891586312104,
          0.6506557683455222,
          0.17053643176001723,
          0.6804438931044237,
          0.4932723214902657,
          1.2347891992445115,
          -0.3978565793074171,
          -1.5496430282812044,
          -1.8543687365114545,
          0.408182424198848,
          -0.4402301420762824,
          0.6842267494964466,
          -0.6622453208822038,
          0.5810889637042475,
          1.9147818661373415,
          0.4516539777254524,
          1.3709926943774824,
          0.9281354908429335,
          0.020204498068766168,
          -0.9561170722569972,
          -0.5179923255194684,
          0.47545633040082713,
          -1.017902345044926,
          0.6898993582818461,
          -0.12915471787438948,
          -0.3835149194244746,
          0.5612838956527909,
          0.54850587615578,
          2.0261455642496786,
          -0.027886581173396575,
          0.5548739587380417,
          1.924949773021305,
          -0.15397819153408687,
          -0.9759536918595715,
          -0.4600445383349833,
          1.5313101024682811,
          0.6015086060815795,
          0.49704216723255523,
          2.3589012264613722,
          -1.9031159441549437,
          0.3380015510445511,
          1.7556826732171869,
          0.8529256832086678,
          0.20633060655570418,
          -0.006909374509238595,
          0.6296199138820421,
          0.551666873902677,
          -0.006526424574607722,
          1.54746310955499,
          -1.5505731511062761,
          -1.076355721825828,
          0.24578050070296467,
          0.1633771476926186,
          1.281234682815011,
          -0.5813099626740817,
          -0.5518020320284768,
          0.14517427814953116,
          0.6983537069770014,
          0.9668480592497467,
          -2.3412922624431345,
          -0.49306061459438527,
          -0.701546685677908,
          0.07657938731609544,
          0.935369411346959,
          0.4734696027899289,
          -0.26402742260355355,
          2.3391538612873934,
          0.3893064307437836,
          -0.8043557448996405
         ],
         "xaxis": "x3",
         "y": [
          -0.21379038518686702,
          -0.2881234631694882,
          1.687031818981887,
          -1.0596805811366479,
          0.7056676453490747,
          -0.4928626434402184,
          0.33850678897844294,
          -1.1365532012393156,
          2.22191453283817,
          -1.3620857175620513,
          0.36896946879329245,
          0.4221536206989755,
          0.7281899107947287,
          -1.2377215311367844,
          -0.183857315020409,
          1.3878751024535392,
          -2.080665743096919,
          -1.644286250149681,
          0.6294408878087343,
          0.05543719194135943,
          0.38834850232706086,
          1.2385439904392541,
          0.7616814777089003,
          0.8100604469178284,
          -1.7357899124307927,
          0.5857940744331279,
          1.0852758495254575,
          -0.11451233355760886,
          -0.24564066981188823,
          0.5006503012279303,
          0.5497048414245632,
          2.7014575844254614,
          -0.28998640157069633,
          -0.13092688042405312,
          -1.0299743551366851,
          1.54532700344482,
          0.34570948137873997,
          0.03885334864587458,
          1.1495393347403176,
          1.2978444015505215,
          -0.15445587968137264,
          -0.9263861080879959,
          0.5069877878414278,
          -0.769378432702959,
          0.7899966811807752,
          -0.08734253876202357,
          -1.1407746455308567,
          -0.6168329084831372,
          0.20420394854844057,
          0.49021555757100205,
          -0.8019838933435394,
          -0.32006526913236216,
          -0.6739698696991888,
          -1.3362987248492733,
          -2.164522947216624,
          0.4584620676832864,
          0.6388705433591992,
          -0.48759310113111154,
          -0.4719391278616287,
          -1.4620591867932493,
          -0.18449217672530127,
          0.9439585270731953,
          0.4083408634321457,
          -0.988046557778806,
          0.16985453583959337,
          -1.438367478015253,
          -1.4100586880513233,
          -3.283065964351943,
          -1.8373487018263062,
          0.6488219286367138,
          0.28681820553897286,
          -0.7388386037590581,
          -0.5556428204242388,
          0.10030613571566298,
          1.5958673135642134,
          -0.1966594175392532,
          -0.9481083918396167,
          -1.5561738064875823,
          -0.6626995687127948,
          1.45914060730763,
          0.16378886187091027,
          1.0029633116313403,
          -0.58101803188326,
          0.09260704461129005,
          0.06351215987658128,
          -0.4144809318389637,
          0.8353564916883307,
          3.041369189044577,
          -0.8265909477797487,
          0.891030887375596,
          1.6581945064521428,
          -1.4545588655614945,
          0.9539117184819081,
          -0.15726287638775388,
          0.5002980790781194,
          -0.0004703239994698021,
          -1.133054159083484,
          -0.6238091479318407,
          -0.6549182319149431,
          -0.7418217369776801
         ],
         "yaxis": "y3"
        },
        {
         "line": {
          "color": "rgba(128, 128, 128, 1.0)",
          "dash": "solid",
          "shape": "linear",
          "width": 1.3
         },
         "marker": {
          "size": 2,
          "symbol": "circle"
         },
         "mode": "markers",
         "name": "A",
         "text": "",
         "type": "scatter",
         "x": [
          1.3553549360142652,
          -1.1240629400486926,
          -0.5396325265939028,
          -0.8922731485912241,
          1.9740825797260029,
          1.4335969468595193,
          0.8378377603067806,
          -1.3755932827022783,
          1.5807523225249667,
          -1.3660631719105356,
          0.24790658011434308,
          0.72437974484164,
          -1.2301547485526418,
          1.4353900554789392,
          0.9647790417481343,
          -1.5124768271563436,
          -1.1744931171213997,
          -2.0005167156998023,
          -1.2853003556657685,
          -0.7242855341362265,
          1.0717369190304742,
          1.403436298657791,
          0.34718712336454977,
          -0.7382611909665026,
          1.287880377123517,
          0.45288293740440927,
          1.856253152669832,
          0.06044462654630291,
          -0.35899502155411894,
          0.6229255957407726,
          -1.0193120035718861,
          2.088829859563428,
          -0.2694806539381207,
          -1.1089107610511553,
          -1.554626500748827,
          0.13415464697007337,
          -0.9514024414600591,
          -1.703723398682606,
          0.5041395184642052,
          0.9182165009161256,
          -0.16175008699604418,
          0.7298086959702409,
          -1.7307711250064093,
          0.40133463732840047,
          -0.8315507359619237,
          0.22298205696938378,
          1.6027609055014562,
          0.630966863989992,
          1.3850867427226057,
          0.7488458383350989,
          0.5084258928294056,
          -0.17680915051756851,
          1.0922068913444805,
          1.1327299453261297,
          0.4196930971235217,
          -1.4601343934416078,
          -0.24832971144271526,
          0.0687004743713472,
          -0.2540444755751119,
          -1.6773241014528344,
          -0.35990393608504223,
          -0.6596716005978259,
          3.152981796335251,
          1.2345979144558863,
          0.426875789986511,
          -0.6108533270888533,
          -0.2440924861901595,
          -1.2337060019712072,
          0.2323690666974735,
          0.5313598624883571,
          -0.06812014249606121,
          1.544918719379879,
          0.5730618501766528,
          -0.64535258341819,
          -0.30685957172527745,
          0.7369314973583256,
          0.354542752701916,
          -0.26174334657150145,
          -0.30638465671797666,
          0.5783975067642048,
          0.7890785878016994,
          0.9571204412458787,
          -0.6299453993479587,
          -1.3449081494177275,
          1.5843173761593803,
          0.44991751120347606,
          -0.11496213960656726,
          -0.6452187231854206,
          1.3834847920554316,
          0.5081137776847046,
          1.1232685815029115,
          -0.9840267395496939,
          0.25851966301842133,
          0.6173146759605749,
          -0.7328735241100314,
          0.6961936363738751,
          -2.1436809279718636,
          1.7285813499972267,
          -0.5187557435286976,
          -0.39462456759511333
         ],
         "xaxis": "x4",
         "y": [
          -0.21379038518686702,
          -0.2881234631694882,
          1.687031818981887,
          -1.0596805811366479,
          0.7056676453490747,
          -0.4928626434402184,
          0.33850678897844294,
          -1.1365532012393156,
          2.22191453283817,
          -1.3620857175620513,
          0.36896946879329245,
          0.4221536206989755,
          0.7281899107947287,
          -1.2377215311367844,
          -0.183857315020409,
          1.3878751024535392,
          -2.080665743096919,
          -1.644286250149681,
          0.6294408878087343,
          0.05543719194135943,
          0.38834850232706086,
          1.2385439904392541,
          0.7616814777089003,
          0.8100604469178284,
          -1.7357899124307927,
          0.5857940744331279,
          1.0852758495254575,
          -0.11451233355760886,
          -0.24564066981188823,
          0.5006503012279303,
          0.5497048414245632,
          2.7014575844254614,
          -0.28998640157069633,
          -0.13092688042405312,
          -1.0299743551366851,
          1.54532700344482,
          0.34570948137873997,
          0.03885334864587458,
          1.1495393347403176,
          1.2978444015505215,
          -0.15445587968137264,
          -0.9263861080879959,
          0.5069877878414278,
          -0.769378432702959,
          0.7899966811807752,
          -0.08734253876202357,
          -1.1407746455308567,
          -0.6168329084831372,
          0.20420394854844057,
          0.49021555757100205,
          -0.8019838933435394,
          -0.32006526913236216,
          -0.6739698696991888,
          -1.3362987248492733,
          -2.164522947216624,
          0.4584620676832864,
          0.6388705433591992,
          -0.48759310113111154,
          -0.4719391278616287,
          -1.4620591867932493,
          -0.18449217672530127,
          0.9439585270731953,
          0.4083408634321457,
          -0.988046557778806,
          0.16985453583959337,
          -1.438367478015253,
          -1.4100586880513233,
          -3.283065964351943,
          -1.8373487018263062,
          0.6488219286367138,
          0.28681820553897286,
          -0.7388386037590581,
          -0.5556428204242388,
          0.10030613571566298,
          1.5958673135642134,
          -0.1966594175392532,
          -0.9481083918396167,
          -1.5561738064875823,
          -0.6626995687127948,
          1.45914060730763,
          0.16378886187091027,
          1.0029633116313403,
          -0.58101803188326,
          0.09260704461129005,
          0.06351215987658128,
          -0.4144809318389637,
          0.8353564916883307,
          3.041369189044577,
          -0.8265909477797487,
          0.891030887375596,
          1.6581945064521428,
          -1.4545588655614945,
          0.9539117184819081,
          -0.15726287638775388,
          0.5002980790781194,
          -0.0004703239994698021,
          -1.133054159083484,
          -0.6238091479318407,
          -0.6549182319149431,
          -0.7418217369776801
         ],
         "yaxis": "y4"
        },
        {
         "line": {
          "color": "rgba(128, 128, 128, 1.0)",
          "dash": "solid",
          "shape": "linear",
          "width": 1.3
         },
         "marker": {
          "size": 2,
          "symbol": "circle"
         },
         "mode": "markers",
         "name": "B",
         "text": "",
         "type": "scatter",
         "x": [
          -0.21379038518686702,
          -0.2881234631694882,
          1.687031818981887,
          -1.0596805811366479,
          0.7056676453490747,
          -0.4928626434402184,
          0.33850678897844294,
          -1.1365532012393156,
          2.22191453283817,
          -1.3620857175620513,
          0.36896946879329245,
          0.4221536206989755,
          0.7281899107947287,
          -1.2377215311367844,
          -0.183857315020409,
          1.3878751024535392,
          -2.080665743096919,
          -1.644286250149681,
          0.6294408878087343,
          0.05543719194135943,
          0.38834850232706086,
          1.2385439904392541,
          0.7616814777089003,
          0.8100604469178284,
          -1.7357899124307927,
          0.5857940744331279,
          1.0852758495254575,
          -0.11451233355760886,
          -0.24564066981188823,
          0.5006503012279303,
          0.5497048414245632,
          2.7014575844254614,
          -0.28998640157069633,
          -0.13092688042405312,
          -1.0299743551366851,
          1.54532700344482,
          0.34570948137873997,
          0.03885334864587458,
          1.1495393347403176,
          1.2978444015505215,
          -0.15445587968137264,
          -0.9263861080879959,
          0.5069877878414278,
          -0.769378432702959,
          0.7899966811807752,
          -0.08734253876202357,
          -1.1407746455308567,
          -0.6168329084831372,
          0.20420394854844057,
          0.49021555757100205,
          -0.8019838933435394,
          -0.32006526913236216,
          -0.6739698696991888,
          -1.3362987248492733,
          -2.164522947216624,
          0.4584620676832864,
          0.6388705433591992,
          -0.48759310113111154,
          -0.4719391278616287,
          -1.4620591867932493,
          -0.18449217672530127,
          0.9439585270731953,
          0.4083408634321457,
          -0.988046557778806,
          0.16985453583959337,
          -1.438367478015253,
          -1.4100586880513233,
          -3.283065964351943,
          -1.8373487018263062,
          0.6488219286367138,
          0.28681820553897286,
          -0.7388386037590581,
          -0.5556428204242388,
          0.10030613571566298,
          1.5958673135642134,
          -0.1966594175392532,
          -0.9481083918396167,
          -1.5561738064875823,
          -0.6626995687127948,
          1.45914060730763,
          0.16378886187091027,
          1.0029633116313403,
          -0.58101803188326,
          0.09260704461129005,
          0.06351215987658128,
          -0.4144809318389637,
          0.8353564916883307,
          3.041369189044577,
          -0.8265909477797487,
          0.891030887375596,
          1.6581945064521428,
          -1.4545588655614945,
          0.9539117184819081,
          -0.15726287638775388,
          0.5002980790781194,
          -0.0004703239994698021,
          -1.133054159083484,
          -0.6238091479318407,
          -0.6549182319149431,
          -0.7418217369776801
         ],
         "xaxis": "x5",
         "y": [
          0.15034521125234812,
          -0.5987186933728933,
          -0.6454634726357826,
          -0.6154832554047287,
          -0.769946615156794,
          -0.46191050231649566,
          0.05418022249124648,
          0.24197012189315253,
          1.3704318070389399,
          -1.115033967499207,
          -1.2561117558758135,
          -0.5752846426550058,
          -0.9310407812666132,
          -2.1313187338220825,
          -0.5258905353326198,
          -0.16921425212822583,
          -1.3402012277342281,
          0.8022221150923157,
          0.049028277142209815,
          2.0690285587876134,
          0.5901836499759278,
          0.5396360288585632,
          -0.9593170791098355,
          0.4703911795691247,
          -0.4088123868488733,
          -1.326522270762869,
          -0.4084516440752073,
          -0.21319177515630341,
          2.307192586560415,
          1.0279567709067112,
          1.3338803194915425,
          0.16950998713838028,
          0.4858789788510932,
          0.24110923216718624,
          1.9734967149972131,
          0.6219676407877484,
          0.07216010818714264,
          0.34036775803353736,
          0.3567623257427925,
          1.804130564330238,
          -0.4737804697504568,
          0.8695343627683411,
          -0.006651033966893561,
          -0.11901735621976775,
          -0.7789256367705151,
          1.0165590301846146,
          0.9673266086320613,
          1.3137958888935721,
          0.36431032413354375,
          1.0861186090802795,
          -0.5726383103479533,
          -0.1849084907144906,
          -0.44175252280494004,
          0.9311539502453478,
          0.019643606477361283,
          -0.7791451371204415,
          -1.2443704323676485,
          1.105468883927629,
          0.6262128820712691,
          0.5687334826194494,
          -0.9707670383730175,
          -1.1585829210383136,
          -1.9045091938104632,
          -0.16042897577663945,
          0.6024331394633871,
          -1.6103613623712325,
          -0.8494704182172462,
          -0.9019684366085758,
          -1.8460626219175116,
          0.9263616990924344,
          -0.08112674148248719,
          0.9925241445851437,
          -1.850684056918012,
          1.2555877550144339,
          1.0695245173103791,
          -0.09686194616054787,
          -0.9948039975413361,
          1.4853596684487107,
          -0.42393031979417733,
          -0.32579590265781827,
          -0.38559679609455516,
          -0.811761939096358,
          -0.15304642689703257,
          -1.0276461159200796,
          1.0986671255402287,
          0.5756542873871213,
          -0.5089669029678521,
          0.6667525593133969,
          0.4005815962155018,
          -1.2073886458765648,
          -0.42237563008840584,
          -0.5497516070594975,
          0.44406995134671673,
          -0.1946653293506403,
          0.3843043086821584,
          -0.8135642169019233,
          0.25627669360680666,
          -0.09427557436239774,
          0.35951103527697625,
          0.27612998716883735
         ],
         "yaxis": "y5"
        },
        {
         "histfunc": "count",
         "histnorm": "",
         "marker": {
          "color": "rgba(55, 128, 191, 1.0)",
          "line": {
           "color": "#4D5663",
           "width": 1.3
          }
         },
         "name": "B",
         "nbinsx": 10,
         "opacity": 0.8,
         "orientation": "v",
         "type": "histogram",
         "x": [
          0.15034521125234812,
          -0.5987186933728933,
          -0.6454634726357826,
          -0.6154832554047287,
          -0.769946615156794,
          -0.46191050231649566,
          0.05418022249124648,
          0.24197012189315253,
          1.3704318070389399,
          -1.115033967499207,
          -1.2561117558758135,
          -0.5752846426550058,
          -0.9310407812666132,
          -2.1313187338220825,
          -0.5258905353326198,
          -0.16921425212822583,
          -1.3402012277342281,
          0.8022221150923157,
          0.049028277142209815,
          2.0690285587876134,
          0.5901836499759278,
          0.5396360288585632,
          -0.9593170791098355,
          0.4703911795691247,
          -0.4088123868488733,
          -1.326522270762869,
          -0.4084516440752073,
          -0.21319177515630341,
          2.307192586560415,
          1.0279567709067112,
          1.3338803194915425,
          0.16950998713838028,
          0.4858789788510932,
          0.24110923216718624,
          1.9734967149972131,
          0.6219676407877484,
          0.07216010818714264,
          0.34036775803353736,
          0.3567623257427925,
          1.804130564330238,
          -0.4737804697504568,
          0.8695343627683411,
          -0.006651033966893561,
          -0.11901735621976775,
          -0.7789256367705151,
          1.0165590301846146,
          0.9673266086320613,
          1.3137958888935721,
          0.36431032413354375,
          1.0861186090802795,
          -0.5726383103479533,
          -0.1849084907144906,
          -0.44175252280494004,
          0.9311539502453478,
          0.019643606477361283,
          -0.7791451371204415,
          -1.2443704323676485,
          1.105468883927629,
          0.6262128820712691,
          0.5687334826194494,
          -0.9707670383730175,
          -1.1585829210383136,
          -1.9045091938104632,
          -0.16042897577663945,
          0.6024331394633871,
          -1.6103613623712325,
          -0.8494704182172462,
          -0.9019684366085758,
          -1.8460626219175116,
          0.9263616990924344,
          -0.08112674148248719,
          0.9925241445851437,
          -1.850684056918012,
          1.2555877550144339,
          1.0695245173103791,
          -0.09686194616054787,
          -0.9948039975413361,
          1.4853596684487107,
          -0.42393031979417733,
          -0.32579590265781827,
          -0.38559679609455516,
          -0.811761939096358,
          -0.15304642689703257,
          -1.0276461159200796,
          1.0986671255402287,
          0.5756542873871213,
          -0.5089669029678521,
          0.6667525593133969,
          0.4005815962155018,
          -1.2073886458765648,
          -0.42237563008840584,
          -0.5497516070594975,
          0.44406995134671673,
          -0.1946653293506403,
          0.3843043086821584,
          -0.8135642169019233,
          0.25627669360680666,
          -0.09427557436239774,
          0.35951103527697625,
          0.27612998716883735
         ],
         "xaxis": "x6",
         "yaxis": "y6"
        },
        {
         "line": {
          "color": "rgba(128, 128, 128, 1.0)",
          "dash": "solid",
          "shape": "linear",
          "width": 1.3
         },
         "marker": {
          "size": 2,
          "symbol": "circle"
         },
         "mode": "markers",
         "name": "B",
         "text": "",
         "type": "scatter",
         "x": [
          -0.10691782983046799,
          3.213836439897871,
          1.2978082789858894,
          -0.2132013525646534,
          -0.9040138874289834,
          0.2731855557952521,
          0.5069523872609897,
          0.670617736198417,
          -1.1743232586293297,
          0.8169069115658851,
          -0.9381661918713972,
          -0.11743599563896334,
          0.030574307381110662,
          0.9992368794011388,
          -1.1342817466024522,
          -1.4747415330443328,
          0.21566441103743766,
          0.5079266331393273,
          -0.5358732115778295,
          1.261339082566491,
          -2.1300452650189987,
          -0.995411213994776,
          1.9767921069853125,
          -0.3908938441178726,
          -0.25478638039418544,
          0.10390697649010927,
          -0.9503449147906309,
          0.9875722221567064,
          1.670549649547061,
          0.7035151206648657,
          0.9184323065189156,
          0.29770891586312104,
          0.6506557683455222,
          0.17053643176001723,
          0.6804438931044237,
          0.4932723214902657,
          1.2347891992445115,
          -0.3978565793074171,
          -1.5496430282812044,
          -1.8543687365114545,
          0.408182424198848,
          -0.4402301420762824,
          0.6842267494964466,
          -0.6622453208822038,
          0.5810889637042475,
          1.9147818661373415,
          0.4516539777254524,
          1.3709926943774824,
          0.9281354908429335,
          0.020204498068766168,
          -0.9561170722569972,
          -0.5179923255194684,
          0.47545633040082713,
          -1.017902345044926,
          0.6898993582818461,
          -0.12915471787438948,
          -0.3835149194244746,
          0.5612838956527909,
          0.54850587615578,
          2.0261455642496786,
          -0.027886581173396575,
          0.5548739587380417,
          1.924949773021305,
          -0.15397819153408687,
          -0.9759536918595715,
          -0.4600445383349833,
          1.5313101024682811,
          0.6015086060815795,
          0.49704216723255523,
          2.3589012264613722,
          -1.9031159441549437,
          0.3380015510445511,
          1.7556826732171869,
          0.8529256832086678,
          0.20633060655570418,
          -0.006909374509238595,
          0.6296199138820421,
          0.551666873902677,
          -0.006526424574607722,
          1.54746310955499,
          -1.5505731511062761,
          -1.076355721825828,
          0.24578050070296467,
          0.1633771476926186,
          1.281234682815011,
          -0.5813099626740817,
          -0.5518020320284768,
          0.14517427814953116,
          0.6983537069770014,
          0.9668480592497467,
          -2.3412922624431345,
          -0.49306061459438527,
          -0.701546685677908,
          0.07657938731609544,
          0.935369411346959,
          0.4734696027899289,
          -0.26402742260355355,
          2.3391538612873934,
          0.3893064307437836,
          -0.8043557448996405
         ],
         "xaxis": "x7",
         "y": [
          0.15034521125234812,
          -0.5987186933728933,
          -0.6454634726357826,
          -0.6154832554047287,
          -0.769946615156794,
          -0.46191050231649566,
          0.05418022249124648,
          0.24197012189315253,
          1.3704318070389399,
          -1.115033967499207,
          -1.2561117558758135,
          -0.5752846426550058,
          -0.9310407812666132,
          -2.1313187338220825,
          -0.5258905353326198,
          -0.16921425212822583,
          -1.3402012277342281,
          0.8022221150923157,
          0.049028277142209815,
          2.0690285587876134,
          0.5901836499759278,
          0.5396360288585632,
          -0.9593170791098355,
          0.4703911795691247,
          -0.4088123868488733,
          -1.326522270762869,
          -0.4084516440752073,
          -0.21319177515630341,
          2.307192586560415,
          1.0279567709067112,
          1.3338803194915425,
          0.16950998713838028,
          0.4858789788510932,
          0.24110923216718624,
          1.9734967149972131,
          0.6219676407877484,
          0.07216010818714264,
          0.34036775803353736,
          0.3567623257427925,
          1.804130564330238,
          -0.4737804697504568,
          0.8695343627683411,
          -0.006651033966893561,
          -0.11901735621976775,
          -0.7789256367705151,
          1.0165590301846146,
          0.9673266086320613,
          1.3137958888935721,
          0.36431032413354375,
          1.0861186090802795,
          -0.5726383103479533,
          -0.1849084907144906,
          -0.44175252280494004,
          0.9311539502453478,
          0.019643606477361283,
          -0.7791451371204415,
          -1.2443704323676485,
          1.105468883927629,
          0.6262128820712691,
          0.5687334826194494,
          -0.9707670383730175,
          -1.1585829210383136,
          -1.9045091938104632,
          -0.16042897577663945,
          0.6024331394633871,
          -1.6103613623712325,
          -0.8494704182172462,
          -0.9019684366085758,
          -1.8460626219175116,
          0.9263616990924344,
          -0.08112674148248719,
          0.9925241445851437,
          -1.850684056918012,
          1.2555877550144339,
          1.0695245173103791,
          -0.09686194616054787,
          -0.9948039975413361,
          1.4853596684487107,
          -0.42393031979417733,
          -0.32579590265781827,
          -0.38559679609455516,
          -0.811761939096358,
          -0.15304642689703257,
          -1.0276461159200796,
          1.0986671255402287,
          0.5756542873871213,
          -0.5089669029678521,
          0.6667525593133969,
          0.4005815962155018,
          -1.2073886458765648,
          -0.42237563008840584,
          -0.5497516070594975,
          0.44406995134671673,
          -0.1946653293506403,
          0.3843043086821584,
          -0.8135642169019233,
          0.25627669360680666,
          -0.09427557436239774,
          0.35951103527697625,
          0.27612998716883735
         ],
         "yaxis": "y7"
        },
        {
         "line": {
          "color": "rgba(128, 128, 128, 1.0)",
          "dash": "solid",
          "shape": "linear",
          "width": 1.3
         },
         "marker": {
          "size": 2,
          "symbol": "circle"
         },
         "mode": "markers",
         "name": "B",
         "text": "",
         "type": "scatter",
         "x": [
          1.3553549360142652,
          -1.1240629400486926,
          -0.5396325265939028,
          -0.8922731485912241,
          1.9740825797260029,
          1.4335969468595193,
          0.8378377603067806,
          -1.3755932827022783,
          1.5807523225249667,
          -1.3660631719105356,
          0.24790658011434308,
          0.72437974484164,
          -1.2301547485526418,
          1.4353900554789392,
          0.9647790417481343,
          -1.5124768271563436,
          -1.1744931171213997,
          -2.0005167156998023,
          -1.2853003556657685,
          -0.7242855341362265,
          1.0717369190304742,
          1.403436298657791,
          0.34718712336454977,
          -0.7382611909665026,
          1.287880377123517,
          0.45288293740440927,
          1.856253152669832,
          0.06044462654630291,
          -0.35899502155411894,
          0.6229255957407726,
          -1.0193120035718861,
          2.088829859563428,
          -0.2694806539381207,
          -1.1089107610511553,
          -1.554626500748827,
          0.13415464697007337,
          -0.9514024414600591,
          -1.703723398682606,
          0.5041395184642052,
          0.9182165009161256,
          -0.16175008699604418,
          0.7298086959702409,
          -1.7307711250064093,
          0.40133463732840047,
          -0.8315507359619237,
          0.22298205696938378,
          1.6027609055014562,
          0.630966863989992,
          1.3850867427226057,
          0.7488458383350989,
          0.5084258928294056,
          -0.17680915051756851,
          1.0922068913444805,
          1.1327299453261297,
          0.4196930971235217,
          -1.4601343934416078,
          -0.24832971144271526,
          0.0687004743713472,
          -0.2540444755751119,
          -1.6773241014528344,
          -0.35990393608504223,
          -0.6596716005978259,
          3.152981796335251,
          1.2345979144558863,
          0.426875789986511,
          -0.6108533270888533,
          -0.2440924861901595,
          -1.2337060019712072,
          0.2323690666974735,
          0.5313598624883571,
          -0.06812014249606121,
          1.544918719379879,
          0.5730618501766528,
          -0.64535258341819,
          -0.30685957172527745,
          0.7369314973583256,
          0.354542752701916,
          -0.26174334657150145,
          -0.30638465671797666,
          0.5783975067642048,
          0.7890785878016994,
          0.9571204412458787,
          -0.6299453993479587,
          -1.3449081494177275,
          1.5843173761593803,
          0.44991751120347606,
          -0.11496213960656726,
          -0.6452187231854206,
          1.3834847920554316,
          0.5081137776847046,
          1.1232685815029115,
          -0.9840267395496939,
          0.25851966301842133,
          0.6173146759605749,
          -0.7328735241100314,
          0.6961936363738751,
          -2.1436809279718636,
          1.7285813499972267,
          -0.5187557435286976,
          -0.39462456759511333
         ],
         "xaxis": "x8",
         "y": [
          0.15034521125234812,
          -0.5987186933728933,
          -0.6454634726357826,
          -0.6154832554047287,
          -0.769946615156794,
          -0.46191050231649566,
          0.05418022249124648,
          0.24197012189315253,
          1.3704318070389399,
          -1.115033967499207,
          -1.2561117558758135,
          -0.5752846426550058,
          -0.9310407812666132,
          -2.1313187338220825,
          -0.5258905353326198,
          -0.16921425212822583,
          -1.3402012277342281,
          0.8022221150923157,
          0.049028277142209815,
          2.0690285587876134,
          0.5901836499759278,
          0.5396360288585632,
          -0.9593170791098355,
          0.4703911795691247,
          -0.4088123868488733,
          -1.326522270762869,
          -0.4084516440752073,
          -0.21319177515630341,
          2.307192586560415,
          1.0279567709067112,
          1.3338803194915425,
          0.16950998713838028,
          0.4858789788510932,
          0.24110923216718624,
          1.9734967149972131,
          0.6219676407877484,
          0.07216010818714264,
          0.34036775803353736,
          0.3567623257427925,
          1.804130564330238,
          -0.4737804697504568,
          0.8695343627683411,
          -0.006651033966893561,
          -0.11901735621976775,
          -0.7789256367705151,
          1.0165590301846146,
          0.9673266086320613,
          1.3137958888935721,
          0.36431032413354375,
          1.0861186090802795,
          -0.5726383103479533,
          -0.1849084907144906,
          -0.44175252280494004,
          0.9311539502453478,
          0.019643606477361283,
          -0.7791451371204415,
          -1.2443704323676485,
          1.105468883927629,
          0.6262128820712691,
          0.5687334826194494,
          -0.9707670383730175,
          -1.1585829210383136,
          -1.9045091938104632,
          -0.16042897577663945,
          0.6024331394633871,
          -1.6103613623712325,
          -0.8494704182172462,
          -0.9019684366085758,
          -1.8460626219175116,
          0.9263616990924344,
          -0.08112674148248719,
          0.9925241445851437,
          -1.850684056918012,
          1.2555877550144339,
          1.0695245173103791,
          -0.09686194616054787,
          -0.9948039975413361,
          1.4853596684487107,
          -0.42393031979417733,
          -0.32579590265781827,
          -0.38559679609455516,
          -0.811761939096358,
          -0.15304642689703257,
          -1.0276461159200796,
          1.0986671255402287,
          0.5756542873871213,
          -0.5089669029678521,
          0.6667525593133969,
          0.4005815962155018,
          -1.2073886458765648,
          -0.42237563008840584,
          -0.5497516070594975,
          0.44406995134671673,
          -0.1946653293506403,
          0.3843043086821584,
          -0.8135642169019233,
          0.25627669360680666,
          -0.09427557436239774,
          0.35951103527697625,
          0.27612998716883735
         ],
         "yaxis": "y8"
        },
        {
         "line": {
          "color": "rgba(128, 128, 128, 1.0)",
          "dash": "solid",
          "shape": "linear",
          "width": 1.3
         },
         "marker": {
          "size": 2,
          "symbol": "circle"
         },
         "mode": "markers",
         "name": "C",
         "text": "",
         "type": "scatter",
         "x": [
          -0.21379038518686702,
          -0.2881234631694882,
          1.687031818981887,
          -1.0596805811366479,
          0.7056676453490747,
          -0.4928626434402184,
          0.33850678897844294,
          -1.1365532012393156,
          2.22191453283817,
          -1.3620857175620513,
          0.36896946879329245,
          0.4221536206989755,
          0.7281899107947287,
          -1.2377215311367844,
          -0.183857315020409,
          1.3878751024535392,
          -2.080665743096919,
          -1.644286250149681,
          0.6294408878087343,
          0.05543719194135943,
          0.38834850232706086,
          1.2385439904392541,
          0.7616814777089003,
          0.8100604469178284,
          -1.7357899124307927,
          0.5857940744331279,
          1.0852758495254575,
          -0.11451233355760886,
          -0.24564066981188823,
          0.5006503012279303,
          0.5497048414245632,
          2.7014575844254614,
          -0.28998640157069633,
          -0.13092688042405312,
          -1.0299743551366851,
          1.54532700344482,
          0.34570948137873997,
          0.03885334864587458,
          1.1495393347403176,
          1.2978444015505215,
          -0.15445587968137264,
          -0.9263861080879959,
          0.5069877878414278,
          -0.769378432702959,
          0.7899966811807752,
          -0.08734253876202357,
          -1.1407746455308567,
          -0.6168329084831372,
          0.20420394854844057,
          0.49021555757100205,
          -0.8019838933435394,
          -0.32006526913236216,
          -0.6739698696991888,
          -1.3362987248492733,
          -2.164522947216624,
          0.4584620676832864,
          0.6388705433591992,
          -0.48759310113111154,
          -0.4719391278616287,
          -1.4620591867932493,
          -0.18449217672530127,
          0.9439585270731953,
          0.4083408634321457,
          -0.988046557778806,
          0.16985453583959337,
          -1.438367478015253,
          -1.4100586880513233,
          -3.283065964351943,
          -1.8373487018263062,
          0.6488219286367138,
          0.28681820553897286,
          -0.7388386037590581,
          -0.5556428204242388,
          0.10030613571566298,
          1.5958673135642134,
          -0.1966594175392532,
          -0.9481083918396167,
          -1.5561738064875823,
          -0.6626995687127948,
          1.45914060730763,
          0.16378886187091027,
          1.0029633116313403,
          -0.58101803188326,
          0.09260704461129005,
          0.06351215987658128,
          -0.4144809318389637,
          0.8353564916883307,
          3.041369189044577,
          -0.8265909477797487,
          0.891030887375596,
          1.6581945064521428,
          -1.4545588655614945,
          0.9539117184819081,
          -0.15726287638775388,
          0.5002980790781194,
          -0.0004703239994698021,
          -1.133054159083484,
          -0.6238091479318407,
          -0.6549182319149431,
          -0.7418217369776801
         ],
         "xaxis": "x9",
         "y": [
          -0.10691782983046799,
          3.213836439897871,
          1.2978082789858894,
          -0.2132013525646534,
          -0.9040138874289834,
          0.2731855557952521,
          0.5069523872609897,
          0.670617736198417,
          -1.1743232586293297,
          0.8169069115658851,
          -0.9381661918713972,
          -0.11743599563896334,
          0.030574307381110662,
          0.9992368794011388,
          -1.1342817466024522,
          -1.4747415330443328,
          0.21566441103743766,
          0.5079266331393273,
          -0.5358732115778295,
          1.261339082566491,
          -2.1300452650189987,
          -0.995411213994776,
          1.9767921069853125,
          -0.3908938441178726,
          -0.25478638039418544,
          0.10390697649010927,
          -0.9503449147906309,
          0.9875722221567064,
          1.670549649547061,
          0.7035151206648657,
          0.9184323065189156,
          0.29770891586312104,
          0.6506557683455222,
          0.17053643176001723,
          0.6804438931044237,
          0.4932723214902657,
          1.2347891992445115,
          -0.3978565793074171,
          -1.5496430282812044,
          -1.8543687365114545,
          0.408182424198848,
          -0.4402301420762824,
          0.6842267494964466,
          -0.6622453208822038,
          0.5810889637042475,
          1.9147818661373415,
          0.4516539777254524,
          1.3709926943774824,
          0.9281354908429335,
          0.020204498068766168,
          -0.9561170722569972,
          -0.5179923255194684,
          0.47545633040082713,
          -1.017902345044926,
          0.6898993582818461,
          -0.12915471787438948,
          -0.3835149194244746,
          0.5612838956527909,
          0.54850587615578,
          2.0261455642496786,
          -0.027886581173396575,
          0.5548739587380417,
          1.924949773021305,
          -0.15397819153408687,
          -0.9759536918595715,
          -0.4600445383349833,
          1.5313101024682811,
          0.6015086060815795,
          0.49704216723255523,
          2.3589012264613722,
          -1.9031159441549437,
          0.3380015510445511,
          1.7556826732171869,
          0.8529256832086678,
          0.20633060655570418,
          -0.006909374509238595,
          0.6296199138820421,
          0.551666873902677,
          -0.006526424574607722,
          1.54746310955499,
          -1.5505731511062761,
          -1.076355721825828,
          0.24578050070296467,
          0.1633771476926186,
          1.281234682815011,
          -0.5813099626740817,
          -0.5518020320284768,
          0.14517427814953116,
          0.6983537069770014,
          0.9668480592497467,
          -2.3412922624431345,
          -0.49306061459438527,
          -0.701546685677908,
          0.07657938731609544,
          0.935369411346959,
          0.4734696027899289,
          -0.26402742260355355,
          2.3391538612873934,
          0.3893064307437836,
          -0.8043557448996405
         ],
         "yaxis": "y9"
        },
        {
         "line": {
          "color": "rgba(128, 128, 128, 1.0)",
          "dash": "solid",
          "shape": "linear",
          "width": 1.3
         },
         "marker": {
          "size": 2,
          "symbol": "circle"
         },
         "mode": "markers",
         "name": "C",
         "text": "",
         "type": "scatter",
         "x": [
          0.15034521125234812,
          -0.5987186933728933,
          -0.6454634726357826,
          -0.6154832554047287,
          -0.769946615156794,
          -0.46191050231649566,
          0.05418022249124648,
          0.24197012189315253,
          1.3704318070389399,
          -1.115033967499207,
          -1.2561117558758135,
          -0.5752846426550058,
          -0.9310407812666132,
          -2.1313187338220825,
          -0.5258905353326198,
          -0.16921425212822583,
          -1.3402012277342281,
          0.8022221150923157,
          0.049028277142209815,
          2.0690285587876134,
          0.5901836499759278,
          0.5396360288585632,
          -0.9593170791098355,
          0.4703911795691247,
          -0.4088123868488733,
          -1.326522270762869,
          -0.4084516440752073,
          -0.21319177515630341,
          2.307192586560415,
          1.0279567709067112,
          1.3338803194915425,
          0.16950998713838028,
          0.4858789788510932,
          0.24110923216718624,
          1.9734967149972131,
          0.6219676407877484,
          0.07216010818714264,
          0.34036775803353736,
          0.3567623257427925,
          1.804130564330238,
          -0.4737804697504568,
          0.8695343627683411,
          -0.006651033966893561,
          -0.11901735621976775,
          -0.7789256367705151,
          1.0165590301846146,
          0.9673266086320613,
          1.3137958888935721,
          0.36431032413354375,
          1.0861186090802795,
          -0.5726383103479533,
          -0.1849084907144906,
          -0.44175252280494004,
          0.9311539502453478,
          0.019643606477361283,
          -0.7791451371204415,
          -1.2443704323676485,
          1.105468883927629,
          0.6262128820712691,
          0.5687334826194494,
          -0.9707670383730175,
          -1.1585829210383136,
          -1.9045091938104632,
          -0.16042897577663945,
          0.6024331394633871,
          -1.6103613623712325,
          -0.8494704182172462,
          -0.9019684366085758,
          -1.8460626219175116,
          0.9263616990924344,
          -0.08112674148248719,
          0.9925241445851437,
          -1.850684056918012,
          1.2555877550144339,
          1.0695245173103791,
          -0.09686194616054787,
          -0.9948039975413361,
          1.4853596684487107,
          -0.42393031979417733,
          -0.32579590265781827,
          -0.38559679609455516,
          -0.811761939096358,
          -0.15304642689703257,
          -1.0276461159200796,
          1.0986671255402287,
          0.5756542873871213,
          -0.5089669029678521,
          0.6667525593133969,
          0.4005815962155018,
          -1.2073886458765648,
          -0.42237563008840584,
          -0.5497516070594975,
          0.44406995134671673,
          -0.1946653293506403,
          0.3843043086821584,
          -0.8135642169019233,
          0.25627669360680666,
          -0.09427557436239774,
          0.35951103527697625,
          0.27612998716883735
         ],
         "xaxis": "x10",
         "y": [
          -0.10691782983046799,
          3.213836439897871,
          1.2978082789858894,
          -0.2132013525646534,
          -0.9040138874289834,
          0.2731855557952521,
          0.5069523872609897,
          0.670617736198417,
          -1.1743232586293297,
          0.8169069115658851,
          -0.9381661918713972,
          -0.11743599563896334,
          0.030574307381110662,
          0.9992368794011388,
          -1.1342817466024522,
          -1.4747415330443328,
          0.21566441103743766,
          0.5079266331393273,
          -0.5358732115778295,
          1.261339082566491,
          -2.1300452650189987,
          -0.995411213994776,
          1.9767921069853125,
          -0.3908938441178726,
          -0.25478638039418544,
          0.10390697649010927,
          -0.9503449147906309,
          0.9875722221567064,
          1.670549649547061,
          0.7035151206648657,
          0.9184323065189156,
          0.29770891586312104,
          0.6506557683455222,
          0.17053643176001723,
          0.6804438931044237,
          0.4932723214902657,
          1.2347891992445115,
          -0.3978565793074171,
          -1.5496430282812044,
          -1.8543687365114545,
          0.408182424198848,
          -0.4402301420762824,
          0.6842267494964466,
          -0.6622453208822038,
          0.5810889637042475,
          1.9147818661373415,
          0.4516539777254524,
          1.3709926943774824,
          0.9281354908429335,
          0.020204498068766168,
          -0.9561170722569972,
          -0.5179923255194684,
          0.47545633040082713,
          -1.017902345044926,
          0.6898993582818461,
          -0.12915471787438948,
          -0.3835149194244746,
          0.5612838956527909,
          0.54850587615578,
          2.0261455642496786,
          -0.027886581173396575,
          0.5548739587380417,
          1.924949773021305,
          -0.15397819153408687,
          -0.9759536918595715,
          -0.4600445383349833,
          1.5313101024682811,
          0.6015086060815795,
          0.49704216723255523,
          2.3589012264613722,
          -1.9031159441549437,
          0.3380015510445511,
          1.7556826732171869,
          0.8529256832086678,
          0.20633060655570418,
          -0.006909374509238595,
          0.6296199138820421,
          0.551666873902677,
          -0.006526424574607722,
          1.54746310955499,
          -1.5505731511062761,
          -1.076355721825828,
          0.24578050070296467,
          0.1633771476926186,
          1.281234682815011,
          -0.5813099626740817,
          -0.5518020320284768,
          0.14517427814953116,
          0.6983537069770014,
          0.9668480592497467,
          -2.3412922624431345,
          -0.49306061459438527,
          -0.701546685677908,
          0.07657938731609544,
          0.935369411346959,
          0.4734696027899289,
          -0.26402742260355355,
          2.3391538612873934,
          0.3893064307437836,
          -0.8043557448996405
         ],
         "yaxis": "y10"
        },
        {
         "histfunc": "count",
         "histnorm": "",
         "marker": {
          "color": "rgba(50, 171, 96, 1.0)",
          "line": {
           "color": "#4D5663",
           "width": 1.3
          }
         },
         "name": "C",
         "nbinsx": 10,
         "opacity": 0.8,
         "orientation": "v",
         "type": "histogram",
         "x": [
          -0.10691782983046799,
          3.213836439897871,
          1.2978082789858894,
          -0.2132013525646534,
          -0.9040138874289834,
          0.2731855557952521,
          0.5069523872609897,
          0.670617736198417,
          -1.1743232586293297,
          0.8169069115658851,
          -0.9381661918713972,
          -0.11743599563896334,
          0.030574307381110662,
          0.9992368794011388,
          -1.1342817466024522,
          -1.4747415330443328,
          0.21566441103743766,
          0.5079266331393273,
          -0.5358732115778295,
          1.261339082566491,
          -2.1300452650189987,
          -0.995411213994776,
          1.9767921069853125,
          -0.3908938441178726,
          -0.25478638039418544,
          0.10390697649010927,
          -0.9503449147906309,
          0.9875722221567064,
          1.670549649547061,
          0.7035151206648657,
          0.9184323065189156,
          0.29770891586312104,
          0.6506557683455222,
          0.17053643176001723,
          0.6804438931044237,
          0.4932723214902657,
          1.2347891992445115,
          -0.3978565793074171,
          -1.5496430282812044,
          -1.8543687365114545,
          0.408182424198848,
          -0.4402301420762824,
          0.6842267494964466,
          -0.6622453208822038,
          0.5810889637042475,
          1.9147818661373415,
          0.4516539777254524,
          1.3709926943774824,
          0.9281354908429335,
          0.020204498068766168,
          -0.9561170722569972,
          -0.5179923255194684,
          0.47545633040082713,
          -1.017902345044926,
          0.6898993582818461,
          -0.12915471787438948,
          -0.3835149194244746,
          0.5612838956527909,
          0.54850587615578,
          2.0261455642496786,
          -0.027886581173396575,
          0.5548739587380417,
          1.924949773021305,
          -0.15397819153408687,
          -0.9759536918595715,
          -0.4600445383349833,
          1.5313101024682811,
          0.6015086060815795,
          0.49704216723255523,
          2.3589012264613722,
          -1.9031159441549437,
          0.3380015510445511,
          1.7556826732171869,
          0.8529256832086678,
          0.20633060655570418,
          -0.006909374509238595,
          0.6296199138820421,
          0.551666873902677,
          -0.006526424574607722,
          1.54746310955499,
          -1.5505731511062761,
          -1.076355721825828,
          0.24578050070296467,
          0.1633771476926186,
          1.281234682815011,
          -0.5813099626740817,
          -0.5518020320284768,
          0.14517427814953116,
          0.6983537069770014,
          0.9668480592497467,
          -2.3412922624431345,
          -0.49306061459438527,
          -0.701546685677908,
          0.07657938731609544,
          0.935369411346959,
          0.4734696027899289,
          -0.26402742260355355,
          2.3391538612873934,
          0.3893064307437836,
          -0.8043557448996405
         ],
         "xaxis": "x11",
         "yaxis": "y11"
        },
        {
         "line": {
          "color": "rgba(128, 128, 128, 1.0)",
          "dash": "solid",
          "shape": "linear",
          "width": 1.3
         },
         "marker": {
          "size": 2,
          "symbol": "circle"
         },
         "mode": "markers",
         "name": "C",
         "text": "",
         "type": "scatter",
         "x": [
          1.3553549360142652,
          -1.1240629400486926,
          -0.5396325265939028,
          -0.8922731485912241,
          1.9740825797260029,
          1.4335969468595193,
          0.8378377603067806,
          -1.3755932827022783,
          1.5807523225249667,
          -1.3660631719105356,
          0.24790658011434308,
          0.72437974484164,
          -1.2301547485526418,
          1.4353900554789392,
          0.9647790417481343,
          -1.5124768271563436,
          -1.1744931171213997,
          -2.0005167156998023,
          -1.2853003556657685,
          -0.7242855341362265,
          1.0717369190304742,
          1.403436298657791,
          0.34718712336454977,
          -0.7382611909665026,
          1.287880377123517,
          0.45288293740440927,
          1.856253152669832,
          0.06044462654630291,
          -0.35899502155411894,
          0.6229255957407726,
          -1.0193120035718861,
          2.088829859563428,
          -0.2694806539381207,
          -1.1089107610511553,
          -1.554626500748827,
          0.13415464697007337,
          -0.9514024414600591,
          -1.703723398682606,
          0.5041395184642052,
          0.9182165009161256,
          -0.16175008699604418,
          0.7298086959702409,
          -1.7307711250064093,
          0.40133463732840047,
          -0.8315507359619237,
          0.22298205696938378,
          1.6027609055014562,
          0.630966863989992,
          1.3850867427226057,
          0.7488458383350989,
          0.5084258928294056,
          -0.17680915051756851,
          1.0922068913444805,
          1.1327299453261297,
          0.4196930971235217,
          -1.4601343934416078,
          -0.24832971144271526,
          0.0687004743713472,
          -0.2540444755751119,
          -1.6773241014528344,
          -0.35990393608504223,
          -0.6596716005978259,
          3.152981796335251,
          1.2345979144558863,
          0.426875789986511,
          -0.6108533270888533,
          -0.2440924861901595,
          -1.2337060019712072,
          0.2323690666974735,
          0.5313598624883571,
          -0.06812014249606121,
          1.544918719379879,
          0.5730618501766528,
          -0.64535258341819,
          -0.30685957172527745,
          0.7369314973583256,
          0.354542752701916,
          -0.26174334657150145,
          -0.30638465671797666,
          0.5783975067642048,
          0.7890785878016994,
          0.9571204412458787,
          -0.6299453993479587,
          -1.3449081494177275,
          1.5843173761593803,
          0.44991751120347606,
          -0.11496213960656726,
          -0.6452187231854206,
          1.3834847920554316,
          0.5081137776847046,
          1.1232685815029115,
          -0.9840267395496939,
          0.25851966301842133,
          0.6173146759605749,
          -0.7328735241100314,
          0.6961936363738751,
          -2.1436809279718636,
          1.7285813499972267,
          -0.5187557435286976,
          -0.39462456759511333
         ],
         "xaxis": "x12",
         "y": [
          -0.10691782983046799,
          3.213836439897871,
          1.2978082789858894,
          -0.2132013525646534,
          -0.9040138874289834,
          0.2731855557952521,
          0.5069523872609897,
          0.670617736198417,
          -1.1743232586293297,
          0.8169069115658851,
          -0.9381661918713972,
          -0.11743599563896334,
          0.030574307381110662,
          0.9992368794011388,
          -1.1342817466024522,
          -1.4747415330443328,
          0.21566441103743766,
          0.5079266331393273,
          -0.5358732115778295,
          1.261339082566491,
          -2.1300452650189987,
          -0.995411213994776,
          1.9767921069853125,
          -0.3908938441178726,
          -0.25478638039418544,
          0.10390697649010927,
          -0.9503449147906309,
          0.9875722221567064,
          1.670549649547061,
          0.7035151206648657,
          0.9184323065189156,
          0.29770891586312104,
          0.6506557683455222,
          0.17053643176001723,
          0.6804438931044237,
          0.4932723214902657,
          1.2347891992445115,
          -0.3978565793074171,
          -1.5496430282812044,
          -1.8543687365114545,
          0.408182424198848,
          -0.4402301420762824,
          0.6842267494964466,
          -0.6622453208822038,
          0.5810889637042475,
          1.9147818661373415,
          0.4516539777254524,
          1.3709926943774824,
          0.9281354908429335,
          0.020204498068766168,
          -0.9561170722569972,
          -0.5179923255194684,
          0.47545633040082713,
          -1.017902345044926,
          0.6898993582818461,
          -0.12915471787438948,
          -0.3835149194244746,
          0.5612838956527909,
          0.54850587615578,
          2.0261455642496786,
          -0.027886581173396575,
          0.5548739587380417,
          1.924949773021305,
          -0.15397819153408687,
          -0.9759536918595715,
          -0.4600445383349833,
          1.5313101024682811,
          0.6015086060815795,
          0.49704216723255523,
          2.3589012264613722,
          -1.9031159441549437,
          0.3380015510445511,
          1.7556826732171869,
          0.8529256832086678,
          0.20633060655570418,
          -0.006909374509238595,
          0.6296199138820421,
          0.551666873902677,
          -0.006526424574607722,
          1.54746310955499,
          -1.5505731511062761,
          -1.076355721825828,
          0.24578050070296467,
          0.1633771476926186,
          1.281234682815011,
          -0.5813099626740817,
          -0.5518020320284768,
          0.14517427814953116,
          0.6983537069770014,
          0.9668480592497467,
          -2.3412922624431345,
          -0.49306061459438527,
          -0.701546685677908,
          0.07657938731609544,
          0.935369411346959,
          0.4734696027899289,
          -0.26402742260355355,
          2.3391538612873934,
          0.3893064307437836,
          -0.8043557448996405
         ],
         "yaxis": "y12"
        },
        {
         "line": {
          "color": "rgba(128, 128, 128, 1.0)",
          "dash": "solid",
          "shape": "linear",
          "width": 1.3
         },
         "marker": {
          "size": 2,
          "symbol": "circle"
         },
         "mode": "markers",
         "name": "D",
         "text": "",
         "type": "scatter",
         "x": [
          -0.21379038518686702,
          -0.2881234631694882,
          1.687031818981887,
          -1.0596805811366479,
          0.7056676453490747,
          -0.4928626434402184,
          0.33850678897844294,
          -1.1365532012393156,
          2.22191453283817,
          -1.3620857175620513,
          0.36896946879329245,
          0.4221536206989755,
          0.7281899107947287,
          -1.2377215311367844,
          -0.183857315020409,
          1.3878751024535392,
          -2.080665743096919,
          -1.644286250149681,
          0.6294408878087343,
          0.05543719194135943,
          0.38834850232706086,
          1.2385439904392541,
          0.7616814777089003,
          0.8100604469178284,
          -1.7357899124307927,
          0.5857940744331279,
          1.0852758495254575,
          -0.11451233355760886,
          -0.24564066981188823,
          0.5006503012279303,
          0.5497048414245632,
          2.7014575844254614,
          -0.28998640157069633,
          -0.13092688042405312,
          -1.0299743551366851,
          1.54532700344482,
          0.34570948137873997,
          0.03885334864587458,
          1.1495393347403176,
          1.2978444015505215,
          -0.15445587968137264,
          -0.9263861080879959,
          0.5069877878414278,
          -0.769378432702959,
          0.7899966811807752,
          -0.08734253876202357,
          -1.1407746455308567,
          -0.6168329084831372,
          0.20420394854844057,
          0.49021555757100205,
          -0.8019838933435394,
          -0.32006526913236216,
          -0.6739698696991888,
          -1.3362987248492733,
          -2.164522947216624,
          0.4584620676832864,
          0.6388705433591992,
          -0.48759310113111154,
          -0.4719391278616287,
          -1.4620591867932493,
          -0.18449217672530127,
          0.9439585270731953,
          0.4083408634321457,
          -0.988046557778806,
          0.16985453583959337,
          -1.438367478015253,
          -1.4100586880513233,
          -3.283065964351943,
          -1.8373487018263062,
          0.6488219286367138,
          0.28681820553897286,
          -0.7388386037590581,
          -0.5556428204242388,
          0.10030613571566298,
          1.5958673135642134,
          -0.1966594175392532,
          -0.9481083918396167,
          -1.5561738064875823,
          -0.6626995687127948,
          1.45914060730763,
          0.16378886187091027,
          1.0029633116313403,
          -0.58101803188326,
          0.09260704461129005,
          0.06351215987658128,
          -0.4144809318389637,
          0.8353564916883307,
          3.041369189044577,
          -0.8265909477797487,
          0.891030887375596,
          1.6581945064521428,
          -1.4545588655614945,
          0.9539117184819081,
          -0.15726287638775388,
          0.5002980790781194,
          -0.0004703239994698021,
          -1.133054159083484,
          -0.6238091479318407,
          -0.6549182319149431,
          -0.7418217369776801
         ],
         "xaxis": "x13",
         "y": [
          1.3553549360142652,
          -1.1240629400486926,
          -0.5396325265939028,
          -0.8922731485912241,
          1.9740825797260029,
          1.4335969468595193,
          0.8378377603067806,
          -1.3755932827022783,
          1.5807523225249667,
          -1.3660631719105356,
          0.24790658011434308,
          0.72437974484164,
          -1.2301547485526418,
          1.4353900554789392,
          0.9647790417481343,
          -1.5124768271563436,
          -1.1744931171213997,
          -2.0005167156998023,
          -1.2853003556657685,
          -0.7242855341362265,
          1.0717369190304742,
          1.403436298657791,
          0.34718712336454977,
          -0.7382611909665026,
          1.287880377123517,
          0.45288293740440927,
          1.856253152669832,
          0.06044462654630291,
          -0.35899502155411894,
          0.6229255957407726,
          -1.0193120035718861,
          2.088829859563428,
          -0.2694806539381207,
          -1.1089107610511553,
          -1.554626500748827,
          0.13415464697007337,
          -0.9514024414600591,
          -1.703723398682606,
          0.5041395184642052,
          0.9182165009161256,
          -0.16175008699604418,
          0.7298086959702409,
          -1.7307711250064093,
          0.40133463732840047,
          -0.8315507359619237,
          0.22298205696938378,
          1.6027609055014562,
          0.630966863989992,
          1.3850867427226057,
          0.7488458383350989,
          0.5084258928294056,
          -0.17680915051756851,
          1.0922068913444805,
          1.1327299453261297,
          0.4196930971235217,
          -1.4601343934416078,
          -0.24832971144271526,
          0.0687004743713472,
          -0.2540444755751119,
          -1.6773241014528344,
          -0.35990393608504223,
          -0.6596716005978259,
          3.152981796335251,
          1.2345979144558863,
          0.426875789986511,
          -0.6108533270888533,
          -0.2440924861901595,
          -1.2337060019712072,
          0.2323690666974735,
          0.5313598624883571,
          -0.06812014249606121,
          1.544918719379879,
          0.5730618501766528,
          -0.64535258341819,
          -0.30685957172527745,
          0.7369314973583256,
          0.354542752701916,
          -0.26174334657150145,
          -0.30638465671797666,
          0.5783975067642048,
          0.7890785878016994,
          0.9571204412458787,
          -0.6299453993479587,
          -1.3449081494177275,
          1.5843173761593803,
          0.44991751120347606,
          -0.11496213960656726,
          -0.6452187231854206,
          1.3834847920554316,
          0.5081137776847046,
          1.1232685815029115,
          -0.9840267395496939,
          0.25851966301842133,
          0.6173146759605749,
          -0.7328735241100314,
          0.6961936363738751,
          -2.1436809279718636,
          1.7285813499972267,
          -0.5187557435286976,
          -0.39462456759511333
         ],
         "yaxis": "y13"
        },
        {
         "line": {
          "color": "rgba(128, 128, 128, 1.0)",
          "dash": "solid",
          "shape": "linear",
          "width": 1.3
         },
         "marker": {
          "size": 2,
          "symbol": "circle"
         },
         "mode": "markers",
         "name": "D",
         "text": "",
         "type": "scatter",
         "x": [
          0.15034521125234812,
          -0.5987186933728933,
          -0.6454634726357826,
          -0.6154832554047287,
          -0.769946615156794,
          -0.46191050231649566,
          0.05418022249124648,
          0.24197012189315253,
          1.3704318070389399,
          -1.115033967499207,
          -1.2561117558758135,
          -0.5752846426550058,
          -0.9310407812666132,
          -2.1313187338220825,
          -0.5258905353326198,
          -0.16921425212822583,
          -1.3402012277342281,
          0.8022221150923157,
          0.049028277142209815,
          2.0690285587876134,
          0.5901836499759278,
          0.5396360288585632,
          -0.9593170791098355,
          0.4703911795691247,
          -0.4088123868488733,
          -1.326522270762869,
          -0.4084516440752073,
          -0.21319177515630341,
          2.307192586560415,
          1.0279567709067112,
          1.3338803194915425,
          0.16950998713838028,
          0.4858789788510932,
          0.24110923216718624,
          1.9734967149972131,
          0.6219676407877484,
          0.07216010818714264,
          0.34036775803353736,
          0.3567623257427925,
          1.804130564330238,
          -0.4737804697504568,
          0.8695343627683411,
          -0.006651033966893561,
          -0.11901735621976775,
          -0.7789256367705151,
          1.0165590301846146,
          0.9673266086320613,
          1.3137958888935721,
          0.36431032413354375,
          1.0861186090802795,
          -0.5726383103479533,
          -0.1849084907144906,
          -0.44175252280494004,
          0.9311539502453478,
          0.019643606477361283,
          -0.7791451371204415,
          -1.2443704323676485,
          1.105468883927629,
          0.6262128820712691,
          0.5687334826194494,
          -0.9707670383730175,
          -1.1585829210383136,
          -1.9045091938104632,
          -0.16042897577663945,
          0.6024331394633871,
          -1.6103613623712325,
          -0.8494704182172462,
          -0.9019684366085758,
          -1.8460626219175116,
          0.9263616990924344,
          -0.08112674148248719,
          0.9925241445851437,
          -1.850684056918012,
          1.2555877550144339,
          1.0695245173103791,
          -0.09686194616054787,
          -0.9948039975413361,
          1.4853596684487107,
          -0.42393031979417733,
          -0.32579590265781827,
          -0.38559679609455516,
          -0.811761939096358,
          -0.15304642689703257,
          -1.0276461159200796,
          1.0986671255402287,
          0.5756542873871213,
          -0.5089669029678521,
          0.6667525593133969,
          0.4005815962155018,
          -1.2073886458765648,
          -0.42237563008840584,
          -0.5497516070594975,
          0.44406995134671673,
          -0.1946653293506403,
          0.3843043086821584,
          -0.8135642169019233,
          0.25627669360680666,
          -0.09427557436239774,
          0.35951103527697625,
          0.27612998716883735
         ],
         "xaxis": "x14",
         "y": [
          1.3553549360142652,
          -1.1240629400486926,
          -0.5396325265939028,
          -0.8922731485912241,
          1.9740825797260029,
          1.4335969468595193,
          0.8378377603067806,
          -1.3755932827022783,
          1.5807523225249667,
          -1.3660631719105356,
          0.24790658011434308,
          0.72437974484164,
          -1.2301547485526418,
          1.4353900554789392,
          0.9647790417481343,
          -1.5124768271563436,
          -1.1744931171213997,
          -2.0005167156998023,
          -1.2853003556657685,
          -0.7242855341362265,
          1.0717369190304742,
          1.403436298657791,
          0.34718712336454977,
          -0.7382611909665026,
          1.287880377123517,
          0.45288293740440927,
          1.856253152669832,
          0.06044462654630291,
          -0.35899502155411894,
          0.6229255957407726,
          -1.0193120035718861,
          2.088829859563428,
          -0.2694806539381207,
          -1.1089107610511553,
          -1.554626500748827,
          0.13415464697007337,
          -0.9514024414600591,
          -1.703723398682606,
          0.5041395184642052,
          0.9182165009161256,
          -0.16175008699604418,
          0.7298086959702409,
          -1.7307711250064093,
          0.40133463732840047,
          -0.8315507359619237,
          0.22298205696938378,
          1.6027609055014562,
          0.630966863989992,
          1.3850867427226057,
          0.7488458383350989,
          0.5084258928294056,
          -0.17680915051756851,
          1.0922068913444805,
          1.1327299453261297,
          0.4196930971235217,
          -1.4601343934416078,
          -0.24832971144271526,
          0.0687004743713472,
          -0.2540444755751119,
          -1.6773241014528344,
          -0.35990393608504223,
          -0.6596716005978259,
          3.152981796335251,
          1.2345979144558863,
          0.426875789986511,
          -0.6108533270888533,
          -0.2440924861901595,
          -1.2337060019712072,
          0.2323690666974735,
          0.5313598624883571,
          -0.06812014249606121,
          1.544918719379879,
          0.5730618501766528,
          -0.64535258341819,
          -0.30685957172527745,
          0.7369314973583256,
          0.354542752701916,
          -0.26174334657150145,
          -0.30638465671797666,
          0.5783975067642048,
          0.7890785878016994,
          0.9571204412458787,
          -0.6299453993479587,
          -1.3449081494177275,
          1.5843173761593803,
          0.44991751120347606,
          -0.11496213960656726,
          -0.6452187231854206,
          1.3834847920554316,
          0.5081137776847046,
          1.1232685815029115,
          -0.9840267395496939,
          0.25851966301842133,
          0.6173146759605749,
          -0.7328735241100314,
          0.6961936363738751,
          -2.1436809279718636,
          1.7285813499972267,
          -0.5187557435286976,
          -0.39462456759511333
         ],
         "yaxis": "y14"
        },
        {
         "line": {
          "color": "rgba(128, 128, 128, 1.0)",
          "dash": "solid",
          "shape": "linear",
          "width": 1.3
         },
         "marker": {
          "size": 2,
          "symbol": "circle"
         },
         "mode": "markers",
         "name": "D",
         "text": "",
         "type": "scatter",
         "x": [
          -0.10691782983046799,
          3.213836439897871,
          1.2978082789858894,
          -0.2132013525646534,
          -0.9040138874289834,
          0.2731855557952521,
          0.5069523872609897,
          0.670617736198417,
          -1.1743232586293297,
          0.8169069115658851,
          -0.9381661918713972,
          -0.11743599563896334,
          0.030574307381110662,
          0.9992368794011388,
          -1.1342817466024522,
          -1.4747415330443328,
          0.21566441103743766,
          0.5079266331393273,
          -0.5358732115778295,
          1.261339082566491,
          -2.1300452650189987,
          -0.995411213994776,
          1.9767921069853125,
          -0.3908938441178726,
          -0.25478638039418544,
          0.10390697649010927,
          -0.9503449147906309,
          0.9875722221567064,
          1.670549649547061,
          0.7035151206648657,
          0.9184323065189156,
          0.29770891586312104,
          0.6506557683455222,
          0.17053643176001723,
          0.6804438931044237,
          0.4932723214902657,
          1.2347891992445115,
          -0.3978565793074171,
          -1.5496430282812044,
          -1.8543687365114545,
          0.408182424198848,
          -0.4402301420762824,
          0.6842267494964466,
          -0.6622453208822038,
          0.5810889637042475,
          1.9147818661373415,
          0.4516539777254524,
          1.3709926943774824,
          0.9281354908429335,
          0.020204498068766168,
          -0.9561170722569972,
          -0.5179923255194684,
          0.47545633040082713,
          -1.017902345044926,
          0.6898993582818461,
          -0.12915471787438948,
          -0.3835149194244746,
          0.5612838956527909,
          0.54850587615578,
          2.0261455642496786,
          -0.027886581173396575,
          0.5548739587380417,
          1.924949773021305,
          -0.15397819153408687,
          -0.9759536918595715,
          -0.4600445383349833,
          1.5313101024682811,
          0.6015086060815795,
          0.49704216723255523,
          2.3589012264613722,
          -1.9031159441549437,
          0.3380015510445511,
          1.7556826732171869,
          0.8529256832086678,
          0.20633060655570418,
          -0.006909374509238595,
          0.6296199138820421,
          0.551666873902677,
          -0.006526424574607722,
          1.54746310955499,
          -1.5505731511062761,
          -1.076355721825828,
          0.24578050070296467,
          0.1633771476926186,
          1.281234682815011,
          -0.5813099626740817,
          -0.5518020320284768,
          0.14517427814953116,
          0.6983537069770014,
          0.9668480592497467,
          -2.3412922624431345,
          -0.49306061459438527,
          -0.701546685677908,
          0.07657938731609544,
          0.935369411346959,
          0.4734696027899289,
          -0.26402742260355355,
          2.3391538612873934,
          0.3893064307437836,
          -0.8043557448996405
         ],
         "xaxis": "x15",
         "y": [
          1.3553549360142652,
          -1.1240629400486926,
          -0.5396325265939028,
          -0.8922731485912241,
          1.9740825797260029,
          1.4335969468595193,
          0.8378377603067806,
          -1.3755932827022783,
          1.5807523225249667,
          -1.3660631719105356,
          0.24790658011434308,
          0.72437974484164,
          -1.2301547485526418,
          1.4353900554789392,
          0.9647790417481343,
          -1.5124768271563436,
          -1.1744931171213997,
          -2.0005167156998023,
          -1.2853003556657685,
          -0.7242855341362265,
          1.0717369190304742,
          1.403436298657791,
          0.34718712336454977,
          -0.7382611909665026,
          1.287880377123517,
          0.45288293740440927,
          1.856253152669832,
          0.06044462654630291,
          -0.35899502155411894,
          0.6229255957407726,
          -1.0193120035718861,
          2.088829859563428,
          -0.2694806539381207,
          -1.1089107610511553,
          -1.554626500748827,
          0.13415464697007337,
          -0.9514024414600591,
          -1.703723398682606,
          0.5041395184642052,
          0.9182165009161256,
          -0.16175008699604418,
          0.7298086959702409,
          -1.7307711250064093,
          0.40133463732840047,
          -0.8315507359619237,
          0.22298205696938378,
          1.6027609055014562,
          0.630966863989992,
          1.3850867427226057,
          0.7488458383350989,
          0.5084258928294056,
          -0.17680915051756851,
          1.0922068913444805,
          1.1327299453261297,
          0.4196930971235217,
          -1.4601343934416078,
          -0.24832971144271526,
          0.0687004743713472,
          -0.2540444755751119,
          -1.6773241014528344,
          -0.35990393608504223,
          -0.6596716005978259,
          3.152981796335251,
          1.2345979144558863,
          0.426875789986511,
          -0.6108533270888533,
          -0.2440924861901595,
          -1.2337060019712072,
          0.2323690666974735,
          0.5313598624883571,
          -0.06812014249606121,
          1.544918719379879,
          0.5730618501766528,
          -0.64535258341819,
          -0.30685957172527745,
          0.7369314973583256,
          0.354542752701916,
          -0.26174334657150145,
          -0.30638465671797666,
          0.5783975067642048,
          0.7890785878016994,
          0.9571204412458787,
          -0.6299453993479587,
          -1.3449081494177275,
          1.5843173761593803,
          0.44991751120347606,
          -0.11496213960656726,
          -0.6452187231854206,
          1.3834847920554316,
          0.5081137776847046,
          1.1232685815029115,
          -0.9840267395496939,
          0.25851966301842133,
          0.6173146759605749,
          -0.7328735241100314,
          0.6961936363738751,
          -2.1436809279718636,
          1.7285813499972267,
          -0.5187557435286976,
          -0.39462456759511333
         ],
         "yaxis": "y15"
        },
        {
         "histfunc": "count",
         "histnorm": "",
         "marker": {
          "color": "rgba(128, 0, 128, 1.0)",
          "line": {
           "color": "#4D5663",
           "width": 1.3
          }
         },
         "name": "D",
         "nbinsx": 10,
         "opacity": 0.8,
         "orientation": "v",
         "type": "histogram",
         "x": [
          1.3553549360142652,
          -1.1240629400486926,
          -0.5396325265939028,
          -0.8922731485912241,
          1.9740825797260029,
          1.4335969468595193,
          0.8378377603067806,
          -1.3755932827022783,
          1.5807523225249667,
          -1.3660631719105356,
          0.24790658011434308,
          0.72437974484164,
          -1.2301547485526418,
          1.4353900554789392,
          0.9647790417481343,
          -1.5124768271563436,
          -1.1744931171213997,
          -2.0005167156998023,
          -1.2853003556657685,
          -0.7242855341362265,
          1.0717369190304742,
          1.403436298657791,
          0.34718712336454977,
          -0.7382611909665026,
          1.287880377123517,
          0.45288293740440927,
          1.856253152669832,
          0.06044462654630291,
          -0.35899502155411894,
          0.6229255957407726,
          -1.0193120035718861,
          2.088829859563428,
          -0.2694806539381207,
          -1.1089107610511553,
          -1.554626500748827,
          0.13415464697007337,
          -0.9514024414600591,
          -1.703723398682606,
          0.5041395184642052,
          0.9182165009161256,
          -0.16175008699604418,
          0.7298086959702409,
          -1.7307711250064093,
          0.40133463732840047,
          -0.8315507359619237,
          0.22298205696938378,
          1.6027609055014562,
          0.630966863989992,
          1.3850867427226057,
          0.7488458383350989,
          0.5084258928294056,
          -0.17680915051756851,
          1.0922068913444805,
          1.1327299453261297,
          0.4196930971235217,
          -1.4601343934416078,
          -0.24832971144271526,
          0.0687004743713472,
          -0.2540444755751119,
          -1.6773241014528344,
          -0.35990393608504223,
          -0.6596716005978259,
          3.152981796335251,
          1.2345979144558863,
          0.426875789986511,
          -0.6108533270888533,
          -0.2440924861901595,
          -1.2337060019712072,
          0.2323690666974735,
          0.5313598624883571,
          -0.06812014249606121,
          1.544918719379879,
          0.5730618501766528,
          -0.64535258341819,
          -0.30685957172527745,
          0.7369314973583256,
          0.354542752701916,
          -0.26174334657150145,
          -0.30638465671797666,
          0.5783975067642048,
          0.7890785878016994,
          0.9571204412458787,
          -0.6299453993479587,
          -1.3449081494177275,
          1.5843173761593803,
          0.44991751120347606,
          -0.11496213960656726,
          -0.6452187231854206,
          1.3834847920554316,
          0.5081137776847046,
          1.1232685815029115,
          -0.9840267395496939,
          0.25851966301842133,
          0.6173146759605749,
          -0.7328735241100314,
          0.6961936363738751,
          -2.1436809279718636,
          1.7285813499972267,
          -0.5187557435286976,
          -0.39462456759511333
         ],
         "xaxis": "x16",
         "yaxis": "y16"
        }
       ],
       "layout": {
        "bargap": 0.02,
        "legend": {
         "bgcolor": "#F5F6F9",
         "font": {
          "color": "#4D5663"
         }
        },
        "paper_bgcolor": "#F5F6F9",
        "plot_bgcolor": "#F5F6F9",
        "showlegend": false,
        "template": {
         "data": {
          "bar": [
           {
            "error_x": {
             "color": "#2a3f5f"
            },
            "error_y": {
             "color": "#2a3f5f"
            },
            "marker": {
             "line": {
              "color": "#E5ECF6",
              "width": 0.5
             },
             "pattern": {
              "fillmode": "overlay",
              "size": 10,
              "solidity": 0.2
             }
            },
            "type": "bar"
           }
          ],
          "barpolar": [
           {
            "marker": {
             "line": {
              "color": "#E5ECF6",
              "width": 0.5
             },
             "pattern": {
              "fillmode": "overlay",
              "size": 10,
              "solidity": 0.2
             }
            },
            "type": "barpolar"
           }
          ],
          "carpet": [
           {
            "aaxis": {
             "endlinecolor": "#2a3f5f",
             "gridcolor": "white",
             "linecolor": "white",
             "minorgridcolor": "white",
             "startlinecolor": "#2a3f5f"
            },
            "baxis": {
             "endlinecolor": "#2a3f5f",
             "gridcolor": "white",
             "linecolor": "white",
             "minorgridcolor": "white",
             "startlinecolor": "#2a3f5f"
            },
            "type": "carpet"
           }
          ],
          "choropleth": [
           {
            "colorbar": {
             "outlinewidth": 0,
             "ticks": ""
            },
            "type": "choropleth"
           }
          ],
          "contour": [
           {
            "colorbar": {
             "outlinewidth": 0,
             "ticks": ""
            },
            "colorscale": [
             [
              0,
              "#0d0887"
             ],
             [
              0.1111111111111111,
              "#46039f"
             ],
             [
              0.2222222222222222,
              "#7201a8"
             ],
             [
              0.3333333333333333,
              "#9c179e"
             ],
             [
              0.4444444444444444,
              "#bd3786"
             ],
             [
              0.5555555555555556,
              "#d8576b"
             ],
             [
              0.6666666666666666,
              "#ed7953"
             ],
             [
              0.7777777777777778,
              "#fb9f3a"
             ],
             [
              0.8888888888888888,
              "#fdca26"
             ],
             [
              1,
              "#f0f921"
             ]
            ],
            "type": "contour"
           }
          ],
          "contourcarpet": [
           {
            "colorbar": {
             "outlinewidth": 0,
             "ticks": ""
            },
            "type": "contourcarpet"
           }
          ],
          "heatmap": [
           {
            "colorbar": {
             "outlinewidth": 0,
             "ticks": ""
            },
            "colorscale": [
             [
              0,
              "#0d0887"
             ],
             [
              0.1111111111111111,
              "#46039f"
             ],
             [
              0.2222222222222222,
              "#7201a8"
             ],
             [
              0.3333333333333333,
              "#9c179e"
             ],
             [
              0.4444444444444444,
              "#bd3786"
             ],
             [
              0.5555555555555556,
              "#d8576b"
             ],
             [
              0.6666666666666666,
              "#ed7953"
             ],
             [
              0.7777777777777778,
              "#fb9f3a"
             ],
             [
              0.8888888888888888,
              "#fdca26"
             ],
             [
              1,
              "#f0f921"
             ]
            ],
            "type": "heatmap"
           }
          ],
          "heatmapgl": [
           {
            "colorbar": {
             "outlinewidth": 0,
             "ticks": ""
            },
            "colorscale": [
             [
              0,
              "#0d0887"
             ],
             [
              0.1111111111111111,
              "#46039f"
             ],
             [
              0.2222222222222222,
              "#7201a8"
             ],
             [
              0.3333333333333333,
              "#9c179e"
             ],
             [
              0.4444444444444444,
              "#bd3786"
             ],
             [
              0.5555555555555556,
              "#d8576b"
             ],
             [
              0.6666666666666666,
              "#ed7953"
             ],
             [
              0.7777777777777778,
              "#fb9f3a"
             ],
             [
              0.8888888888888888,
              "#fdca26"
             ],
             [
              1,
              "#f0f921"
             ]
            ],
            "type": "heatmapgl"
           }
          ],
          "histogram": [
           {
            "marker": {
             "pattern": {
              "fillmode": "overlay",
              "size": 10,
              "solidity": 0.2
             }
            },
            "type": "histogram"
           }
          ],
          "histogram2d": [
           {
            "colorbar": {
             "outlinewidth": 0,
             "ticks": ""
            },
            "colorscale": [
             [
              0,
              "#0d0887"
             ],
             [
              0.1111111111111111,
              "#46039f"
             ],
             [
              0.2222222222222222,
              "#7201a8"
             ],
             [
              0.3333333333333333,
              "#9c179e"
             ],
             [
              0.4444444444444444,
              "#bd3786"
             ],
             [
              0.5555555555555556,
              "#d8576b"
             ],
             [
              0.6666666666666666,
              "#ed7953"
             ],
             [
              0.7777777777777778,
              "#fb9f3a"
             ],
             [
              0.8888888888888888,
              "#fdca26"
             ],
             [
              1,
              "#f0f921"
             ]
            ],
            "type": "histogram2d"
           }
          ],
          "histogram2dcontour": [
           {
            "colorbar": {
             "outlinewidth": 0,
             "ticks": ""
            },
            "colorscale": [
             [
              0,
              "#0d0887"
             ],
             [
              0.1111111111111111,
              "#46039f"
             ],
             [
              0.2222222222222222,
              "#7201a8"
             ],
             [
              0.3333333333333333,
              "#9c179e"
             ],
             [
              0.4444444444444444,
              "#bd3786"
             ],
             [
              0.5555555555555556,
              "#d8576b"
             ],
             [
              0.6666666666666666,
              "#ed7953"
             ],
             [
              0.7777777777777778,
              "#fb9f3a"
             ],
             [
              0.8888888888888888,
              "#fdca26"
             ],
             [
              1,
              "#f0f921"
             ]
            ],
            "type": "histogram2dcontour"
           }
          ],
          "mesh3d": [
           {
            "colorbar": {
             "outlinewidth": 0,
             "ticks": ""
            },
            "type": "mesh3d"
           }
          ],
          "parcoords": [
           {
            "line": {
             "colorbar": {
              "outlinewidth": 0,
              "ticks": ""
             }
            },
            "type": "parcoords"
           }
          ],
          "pie": [
           {
            "automargin": true,
            "type": "pie"
           }
          ],
          "scatter": [
           {
            "fillpattern": {
             "fillmode": "overlay",
             "size": 10,
             "solidity": 0.2
            },
            "type": "scatter"
           }
          ],
          "scatter3d": [
           {
            "line": {
             "colorbar": {
              "outlinewidth": 0,
              "ticks": ""
             }
            },
            "marker": {
             "colorbar": {
              "outlinewidth": 0,
              "ticks": ""
             }
            },
            "type": "scatter3d"
           }
          ],
          "scattercarpet": [
           {
            "marker": {
             "colorbar": {
              "outlinewidth": 0,
              "ticks": ""
             }
            },
            "type": "scattercarpet"
           }
          ],
          "scattergeo": [
           {
            "marker": {
             "colorbar": {
              "outlinewidth": 0,
              "ticks": ""
             }
            },
            "type": "scattergeo"
           }
          ],
          "scattergl": [
           {
            "marker": {
             "colorbar": {
              "outlinewidth": 0,
              "ticks": ""
             }
            },
            "type": "scattergl"
           }
          ],
          "scattermapbox": [
           {
            "marker": {
             "colorbar": {
              "outlinewidth": 0,
              "ticks": ""
             }
            },
            "type": "scattermapbox"
           }
          ],
          "scatterpolar": [
           {
            "marker": {
             "colorbar": {
              "outlinewidth": 0,
              "ticks": ""
             }
            },
            "type": "scatterpolar"
           }
          ],
          "scatterpolargl": [
           {
            "marker": {
             "colorbar": {
              "outlinewidth": 0,
              "ticks": ""
             }
            },
            "type": "scatterpolargl"
           }
          ],
          "scatterternary": [
           {
            "marker": {
             "colorbar": {
              "outlinewidth": 0,
              "ticks": ""
             }
            },
            "type": "scatterternary"
           }
          ],
          "surface": [
           {
            "colorbar": {
             "outlinewidth": 0,
             "ticks": ""
            },
            "colorscale": [
             [
              0,
              "#0d0887"
             ],
             [
              0.1111111111111111,
              "#46039f"
             ],
             [
              0.2222222222222222,
              "#7201a8"
             ],
             [
              0.3333333333333333,
              "#9c179e"
             ],
             [
              0.4444444444444444,
              "#bd3786"
             ],
             [
              0.5555555555555556,
              "#d8576b"
             ],
             [
              0.6666666666666666,
              "#ed7953"
             ],
             [
              0.7777777777777778,
              "#fb9f3a"
             ],
             [
              0.8888888888888888,
              "#fdca26"
             ],
             [
              1,
              "#f0f921"
             ]
            ],
            "type": "surface"
           }
          ],
          "table": [
           {
            "cells": {
             "fill": {
              "color": "#EBF0F8"
             },
             "line": {
              "color": "white"
             }
            },
            "header": {
             "fill": {
              "color": "#C8D4E3"
             },
             "line": {
              "color": "white"
             }
            },
            "type": "table"
           }
          ]
         },
         "layout": {
          "annotationdefaults": {
           "arrowcolor": "#2a3f5f",
           "arrowhead": 0,
           "arrowwidth": 1
          },
          "autotypenumbers": "strict",
          "coloraxis": {
           "colorbar": {
            "outlinewidth": 0,
            "ticks": ""
           }
          },
          "colorscale": {
           "diverging": [
            [
             0,
             "#8e0152"
            ],
            [
             0.1,
             "#c51b7d"
            ],
            [
             0.2,
             "#de77ae"
            ],
            [
             0.3,
             "#f1b6da"
            ],
            [
             0.4,
             "#fde0ef"
            ],
            [
             0.5,
             "#f7f7f7"
            ],
            [
             0.6,
             "#e6f5d0"
            ],
            [
             0.7,
             "#b8e186"
            ],
            [
             0.8,
             "#7fbc41"
            ],
            [
             0.9,
             "#4d9221"
            ],
            [
             1,
             "#276419"
            ]
           ],
           "sequential": [
            [
             0,
             "#0d0887"
            ],
            [
             0.1111111111111111,
             "#46039f"
            ],
            [
             0.2222222222222222,
             "#7201a8"
            ],
            [
             0.3333333333333333,
             "#9c179e"
            ],
            [
             0.4444444444444444,
             "#bd3786"
            ],
            [
             0.5555555555555556,
             "#d8576b"
            ],
            [
             0.6666666666666666,
             "#ed7953"
            ],
            [
             0.7777777777777778,
             "#fb9f3a"
            ],
            [
             0.8888888888888888,
             "#fdca26"
            ],
            [
             1,
             "#f0f921"
            ]
           ],
           "sequentialminus": [
            [
             0,
             "#0d0887"
            ],
            [
             0.1111111111111111,
             "#46039f"
            ],
            [
             0.2222222222222222,
             "#7201a8"
            ],
            [
             0.3333333333333333,
             "#9c179e"
            ],
            [
             0.4444444444444444,
             "#bd3786"
            ],
            [
             0.5555555555555556,
             "#d8576b"
            ],
            [
             0.6666666666666666,
             "#ed7953"
            ],
            [
             0.7777777777777778,
             "#fb9f3a"
            ],
            [
             0.8888888888888888,
             "#fdca26"
            ],
            [
             1,
             "#f0f921"
            ]
           ]
          },
          "colorway": [
           "#636efa",
           "#EF553B",
           "#00cc96",
           "#ab63fa",
           "#FFA15A",
           "#19d3f3",
           "#FF6692",
           "#B6E880",
           "#FF97FF",
           "#FECB52"
          ],
          "font": {
           "color": "#2a3f5f"
          },
          "geo": {
           "bgcolor": "white",
           "lakecolor": "white",
           "landcolor": "#E5ECF6",
           "showlakes": true,
           "showland": true,
           "subunitcolor": "white"
          },
          "hoverlabel": {
           "align": "left"
          },
          "hovermode": "closest",
          "mapbox": {
           "style": "light"
          },
          "paper_bgcolor": "white",
          "plot_bgcolor": "#E5ECF6",
          "polar": {
           "angularaxis": {
            "gridcolor": "white",
            "linecolor": "white",
            "ticks": ""
           },
           "bgcolor": "#E5ECF6",
           "radialaxis": {
            "gridcolor": "white",
            "linecolor": "white",
            "ticks": ""
           }
          },
          "scene": {
           "xaxis": {
            "backgroundcolor": "#E5ECF6",
            "gridcolor": "white",
            "gridwidth": 2,
            "linecolor": "white",
            "showbackground": true,
            "ticks": "",
            "zerolinecolor": "white"
           },
           "yaxis": {
            "backgroundcolor": "#E5ECF6",
            "gridcolor": "white",
            "gridwidth": 2,
            "linecolor": "white",
            "showbackground": true,
            "ticks": "",
            "zerolinecolor": "white"
           },
           "zaxis": {
            "backgroundcolor": "#E5ECF6",
            "gridcolor": "white",
            "gridwidth": 2,
            "linecolor": "white",
            "showbackground": true,
            "ticks": "",
            "zerolinecolor": "white"
           }
          },
          "shapedefaults": {
           "line": {
            "color": "#2a3f5f"
           }
          },
          "ternary": {
           "aaxis": {
            "gridcolor": "white",
            "linecolor": "white",
            "ticks": ""
           },
           "baxis": {
            "gridcolor": "white",
            "linecolor": "white",
            "ticks": ""
           },
           "bgcolor": "#E5ECF6",
           "caxis": {
            "gridcolor": "white",
            "linecolor": "white",
            "ticks": ""
           }
          },
          "title": {
           "x": 0.05
          },
          "xaxis": {
           "automargin": true,
           "gridcolor": "white",
           "linecolor": "white",
           "ticks": "",
           "title": {
            "standoff": 15
           },
           "zerolinecolor": "white",
           "zerolinewidth": 2
          },
          "yaxis": {
           "automargin": true,
           "gridcolor": "white",
           "linecolor": "white",
           "ticks": "",
           "title": {
            "standoff": 15
           },
           "zerolinecolor": "white",
           "zerolinewidth": 2
          }
         }
        },
        "title": {
         "font": {
          "color": "#4D5663"
         }
        },
        "xaxis": {
         "anchor": "y",
         "domain": [
          0,
          0.2125
         ],
         "gridcolor": "#E1E5ED",
         "showgrid": false,
         "tickfont": {
          "color": "#4D5663"
         },
         "title": {
          "font": {
           "color": "#4D5663"
          },
          "text": ""
         },
         "zerolinecolor": "#E1E5ED"
        },
        "xaxis10": {
         "anchor": "y10",
         "domain": [
          0.2625,
          0.475
         ],
         "gridcolor": "#E1E5ED",
         "showgrid": false,
         "tickfont": {
          "color": "#4D5663"
         },
         "title": {
          "font": {
           "color": "#4D5663"
          },
          "text": ""
         },
         "zerolinecolor": "#E1E5ED"
        },
        "xaxis11": {
         "anchor": "y11",
         "domain": [
          0.525,
          0.7375
         ],
         "gridcolor": "#E1E5ED",
         "showgrid": false,
         "tickfont": {
          "color": "#4D5663"
         },
         "title": {
          "font": {
           "color": "#4D5663"
          },
          "text": ""
         },
         "zerolinecolor": "#E1E5ED"
        },
        "xaxis12": {
         "anchor": "y12",
         "domain": [
          0.7875,
          1
         ],
         "gridcolor": "#E1E5ED",
         "showgrid": false,
         "tickfont": {
          "color": "#4D5663"
         },
         "title": {
          "font": {
           "color": "#4D5663"
          },
          "text": ""
         },
         "zerolinecolor": "#E1E5ED"
        },
        "xaxis13": {
         "anchor": "y13",
         "domain": [
          0,
          0.2125
         ],
         "gridcolor": "#E1E5ED",
         "showgrid": false,
         "tickfont": {
          "color": "#4D5663"
         },
         "title": {
          "font": {
           "color": "#4D5663"
          },
          "text": ""
         },
         "zerolinecolor": "#E1E5ED"
        },
        "xaxis14": {
         "anchor": "y14",
         "domain": [
          0.2625,
          0.475
         ],
         "gridcolor": "#E1E5ED",
         "showgrid": false,
         "tickfont": {
          "color": "#4D5663"
         },
         "title": {
          "font": {
           "color": "#4D5663"
          },
          "text": ""
         },
         "zerolinecolor": "#E1E5ED"
        },
        "xaxis15": {
         "anchor": "y15",
         "domain": [
          0.525,
          0.7375
         ],
         "gridcolor": "#E1E5ED",
         "showgrid": false,
         "tickfont": {
          "color": "#4D5663"
         },
         "title": {
          "font": {
           "color": "#4D5663"
          },
          "text": ""
         },
         "zerolinecolor": "#E1E5ED"
        },
        "xaxis16": {
         "anchor": "y16",
         "domain": [
          0.7875,
          1
         ],
         "gridcolor": "#E1E5ED",
         "showgrid": false,
         "tickfont": {
          "color": "#4D5663"
         },
         "title": {
          "font": {
           "color": "#4D5663"
          },
          "text": ""
         },
         "zerolinecolor": "#E1E5ED"
        },
        "xaxis2": {
         "anchor": "y2",
         "domain": [
          0.2625,
          0.475
         ],
         "gridcolor": "#E1E5ED",
         "showgrid": false,
         "tickfont": {
          "color": "#4D5663"
         },
         "title": {
          "font": {
           "color": "#4D5663"
          },
          "text": ""
         },
         "zerolinecolor": "#E1E5ED"
        },
        "xaxis3": {
         "anchor": "y3",
         "domain": [
          0.525,
          0.7375
         ],
         "gridcolor": "#E1E5ED",
         "showgrid": false,
         "tickfont": {
          "color": "#4D5663"
         },
         "title": {
          "font": {
           "color": "#4D5663"
          },
          "text": ""
         },
         "zerolinecolor": "#E1E5ED"
        },
        "xaxis4": {
         "anchor": "y4",
         "domain": [
          0.7875,
          1
         ],
         "gridcolor": "#E1E5ED",
         "showgrid": false,
         "tickfont": {
          "color": "#4D5663"
         },
         "title": {
          "font": {
           "color": "#4D5663"
          },
          "text": ""
         },
         "zerolinecolor": "#E1E5ED"
        },
        "xaxis5": {
         "anchor": "y5",
         "domain": [
          0,
          0.2125
         ],
         "gridcolor": "#E1E5ED",
         "showgrid": false,
         "tickfont": {
          "color": "#4D5663"
         },
         "title": {
          "font": {
           "color": "#4D5663"
          },
          "text": ""
         },
         "zerolinecolor": "#E1E5ED"
        },
        "xaxis6": {
         "anchor": "y6",
         "domain": [
          0.2625,
          0.475
         ],
         "gridcolor": "#E1E5ED",
         "showgrid": false,
         "tickfont": {
          "color": "#4D5663"
         },
         "title": {
          "font": {
           "color": "#4D5663"
          },
          "text": ""
         },
         "zerolinecolor": "#E1E5ED"
        },
        "xaxis7": {
         "anchor": "y7",
         "domain": [
          0.525,
          0.7375
         ],
         "gridcolor": "#E1E5ED",
         "showgrid": false,
         "tickfont": {
          "color": "#4D5663"
         },
         "title": {
          "font": {
           "color": "#4D5663"
          },
          "text": ""
         },
         "zerolinecolor": "#E1E5ED"
        },
        "xaxis8": {
         "anchor": "y8",
         "domain": [
          0.7875,
          1
         ],
         "gridcolor": "#E1E5ED",
         "showgrid": false,
         "tickfont": {
          "color": "#4D5663"
         },
         "title": {
          "font": {
           "color": "#4D5663"
          },
          "text": ""
         },
         "zerolinecolor": "#E1E5ED"
        },
        "xaxis9": {
         "anchor": "y9",
         "domain": [
          0,
          0.2125
         ],
         "gridcolor": "#E1E5ED",
         "showgrid": false,
         "tickfont": {
          "color": "#4D5663"
         },
         "title": {
          "font": {
           "color": "#4D5663"
          },
          "text": ""
         },
         "zerolinecolor": "#E1E5ED"
        },
        "yaxis": {
         "anchor": "x",
         "domain": [
          0.8025,
          1
         ],
         "gridcolor": "#E1E5ED",
         "showgrid": false,
         "tickfont": {
          "color": "#4D5663"
         },
         "title": {
          "font": {
           "color": "#4D5663"
          },
          "text": ""
         },
         "zerolinecolor": "#E1E5ED"
        },
        "yaxis10": {
         "anchor": "x10",
         "domain": [
          0.2675,
          0.465
         ],
         "gridcolor": "#E1E5ED",
         "showgrid": false,
         "tickfont": {
          "color": "#4D5663"
         },
         "title": {
          "font": {
           "color": "#4D5663"
          },
          "text": ""
         },
         "zerolinecolor": "#E1E5ED"
        },
        "yaxis11": {
         "anchor": "x11",
         "domain": [
          0.2675,
          0.465
         ],
         "gridcolor": "#E1E5ED",
         "showgrid": false,
         "tickfont": {
          "color": "#4D5663"
         },
         "title": {
          "font": {
           "color": "#4D5663"
          },
          "text": ""
         },
         "zerolinecolor": "#E1E5ED"
        },
        "yaxis12": {
         "anchor": "x12",
         "domain": [
          0.2675,
          0.465
         ],
         "gridcolor": "#E1E5ED",
         "showgrid": false,
         "tickfont": {
          "color": "#4D5663"
         },
         "title": {
          "font": {
           "color": "#4D5663"
          },
          "text": ""
         },
         "zerolinecolor": "#E1E5ED"
        },
        "yaxis13": {
         "anchor": "x13",
         "domain": [
          0,
          0.1975
         ],
         "gridcolor": "#E1E5ED",
         "showgrid": false,
         "tickfont": {
          "color": "#4D5663"
         },
         "title": {
          "font": {
           "color": "#4D5663"
          },
          "text": ""
         },
         "zerolinecolor": "#E1E5ED"
        },
        "yaxis14": {
         "anchor": "x14",
         "domain": [
          0,
          0.1975
         ],
         "gridcolor": "#E1E5ED",
         "showgrid": false,
         "tickfont": {
          "color": "#4D5663"
         },
         "title": {
          "font": {
           "color": "#4D5663"
          },
          "text": ""
         },
         "zerolinecolor": "#E1E5ED"
        },
        "yaxis15": {
         "anchor": "x15",
         "domain": [
          0,
          0.1975
         ],
         "gridcolor": "#E1E5ED",
         "showgrid": false,
         "tickfont": {
          "color": "#4D5663"
         },
         "title": {
          "font": {
           "color": "#4D5663"
          },
          "text": ""
         },
         "zerolinecolor": "#E1E5ED"
        },
        "yaxis16": {
         "anchor": "x16",
         "domain": [
          0,
          0.1975
         ],
         "gridcolor": "#E1E5ED",
         "showgrid": false,
         "tickfont": {
          "color": "#4D5663"
         },
         "title": {
          "font": {
           "color": "#4D5663"
          },
          "text": ""
         },
         "zerolinecolor": "#E1E5ED"
        },
        "yaxis2": {
         "anchor": "x2",
         "domain": [
          0.8025,
          1
         ],
         "gridcolor": "#E1E5ED",
         "showgrid": false,
         "tickfont": {
          "color": "#4D5663"
         },
         "title": {
          "font": {
           "color": "#4D5663"
          },
          "text": ""
         },
         "zerolinecolor": "#E1E5ED"
        },
        "yaxis3": {
         "anchor": "x3",
         "domain": [
          0.8025,
          1
         ],
         "gridcolor": "#E1E5ED",
         "showgrid": false,
         "tickfont": {
          "color": "#4D5663"
         },
         "title": {
          "font": {
           "color": "#4D5663"
          },
          "text": ""
         },
         "zerolinecolor": "#E1E5ED"
        },
        "yaxis4": {
         "anchor": "x4",
         "domain": [
          0.8025,
          1
         ],
         "gridcolor": "#E1E5ED",
         "showgrid": false,
         "tickfont": {
          "color": "#4D5663"
         },
         "title": {
          "font": {
           "color": "#4D5663"
          },
          "text": ""
         },
         "zerolinecolor": "#E1E5ED"
        },
        "yaxis5": {
         "anchor": "x5",
         "domain": [
          0.535,
          0.7325
         ],
         "gridcolor": "#E1E5ED",
         "showgrid": false,
         "tickfont": {
          "color": "#4D5663"
         },
         "title": {
          "font": {
           "color": "#4D5663"
          },
          "text": ""
         },
         "zerolinecolor": "#E1E5ED"
        },
        "yaxis6": {
         "anchor": "x6",
         "domain": [
          0.535,
          0.7325
         ],
         "gridcolor": "#E1E5ED",
         "showgrid": false,
         "tickfont": {
          "color": "#4D5663"
         },
         "title": {
          "font": {
           "color": "#4D5663"
          },
          "text": ""
         },
         "zerolinecolor": "#E1E5ED"
        },
        "yaxis7": {
         "anchor": "x7",
         "domain": [
          0.535,
          0.7325
         ],
         "gridcolor": "#E1E5ED",
         "showgrid": false,
         "tickfont": {
          "color": "#4D5663"
         },
         "title": {
          "font": {
           "color": "#4D5663"
          },
          "text": ""
         },
         "zerolinecolor": "#E1E5ED"
        },
        "yaxis8": {
         "anchor": "x8",
         "domain": [
          0.535,
          0.7325
         ],
         "gridcolor": "#E1E5ED",
         "showgrid": false,
         "tickfont": {
          "color": "#4D5663"
         },
         "title": {
          "font": {
           "color": "#4D5663"
          },
          "text": ""
         },
         "zerolinecolor": "#E1E5ED"
        },
        "yaxis9": {
         "anchor": "x9",
         "domain": [
          0.2675,
          0.465
         ],
         "gridcolor": "#E1E5ED",
         "showgrid": false,
         "tickfont": {
          "color": "#4D5663"
         },
         "title": {
          "font": {
           "color": "#4D5663"
          },
          "text": ""
         },
         "zerolinecolor": "#E1E5ED"
        }
       }
      },
      "text/html": [
       "<div>                            <div id=\"2f5343d2-6751-4dc9-b71c-ac12a56c2173\" class=\"plotly-graph-div\" style=\"height:525px; width:100%;\"></div>            <script type=\"text/javascript\">                require([\"plotly\"], function(Plotly) {                    window.PLOTLYENV=window.PLOTLYENV || {};\n",
       "                    window.PLOTLYENV.BASE_URL='https://plot.ly';                                    if (document.getElementById(\"2f5343d2-6751-4dc9-b71c-ac12a56c2173\")) {                    Plotly.newPlot(                        \"2f5343d2-6751-4dc9-b71c-ac12a56c2173\",                        [{\"histfunc\":\"count\",\"histnorm\":\"\",\"marker\":{\"color\":\"rgba(255, 153, 51, 1.0)\",\"line\":{\"color\":\"#4D5663\",\"width\":1.3}},\"name\":\"A\",\"nbinsx\":10,\"opacity\":0.8,\"orientation\":\"v\",\"x\":[-0.21379038518686702,-0.2881234631694882,1.687031818981887,-1.0596805811366479,0.7056676453490747,-0.4928626434402184,0.33850678897844294,-1.1365532012393156,2.22191453283817,-1.3620857175620513,0.36896946879329245,0.4221536206989755,0.7281899107947287,-1.2377215311367844,-0.183857315020409,1.3878751024535392,-2.080665743096919,-1.644286250149681,0.6294408878087343,0.05543719194135943,0.38834850232706086,1.2385439904392541,0.7616814777089003,0.8100604469178284,-1.7357899124307927,0.5857940744331279,1.0852758495254575,-0.11451233355760886,-0.24564066981188823,0.5006503012279303,0.5497048414245632,2.7014575844254614,-0.28998640157069633,-0.13092688042405312,-1.0299743551366851,1.54532700344482,0.34570948137873997,0.03885334864587458,1.1495393347403176,1.2978444015505215,-0.15445587968137264,-0.9263861080879959,0.5069877878414278,-0.769378432702959,0.7899966811807752,-0.08734253876202357,-1.1407746455308567,-0.6168329084831372,0.20420394854844057,0.49021555757100205,-0.8019838933435394,-0.32006526913236216,-0.6739698696991888,-1.3362987248492733,-2.164522947216624,0.4584620676832864,0.6388705433591992,-0.48759310113111154,-0.4719391278616287,-1.4620591867932493,-0.18449217672530127,0.9439585270731953,0.4083408634321457,-0.988046557778806,0.16985453583959337,-1.438367478015253,-1.4100586880513233,-3.283065964351943,-1.8373487018263062,0.6488219286367138,0.28681820553897286,-0.7388386037590581,-0.5556428204242388,0.10030613571566298,1.5958673135642134,-0.1966594175392532,-0.9481083918396167,-1.5561738064875823,-0.6626995687127948,1.45914060730763,0.16378886187091027,1.0029633116313403,-0.58101803188326,0.09260704461129005,0.06351215987658128,-0.4144809318389637,0.8353564916883307,3.041369189044577,-0.8265909477797487,0.891030887375596,1.6581945064521428,-1.4545588655614945,0.9539117184819081,-0.15726287638775388,0.5002980790781194,-0.0004703239994698021,-1.133054159083484,-0.6238091479318407,-0.6549182319149431,-0.7418217369776801],\"xaxis\":\"x\",\"yaxis\":\"y\",\"type\":\"histogram\"},{\"line\":{\"color\":\"rgba(128, 128, 128, 1.0)\",\"dash\":\"solid\",\"shape\":\"linear\",\"width\":1.3},\"marker\":{\"size\":2,\"symbol\":\"circle\"},\"mode\":\"markers\",\"name\":\"A\",\"text\":\"\",\"x\":[0.15034521125234812,-0.5987186933728933,-0.6454634726357826,-0.6154832554047287,-0.769946615156794,-0.46191050231649566,0.05418022249124648,0.24197012189315253,1.3704318070389399,-1.115033967499207,-1.2561117558758135,-0.5752846426550058,-0.9310407812666132,-2.1313187338220825,-0.5258905353326198,-0.16921425212822583,-1.3402012277342281,0.8022221150923157,0.049028277142209815,2.0690285587876134,0.5901836499759278,0.5396360288585632,-0.9593170791098355,0.4703911795691247,-0.4088123868488733,-1.326522270762869,-0.4084516440752073,-0.21319177515630341,2.307192586560415,1.0279567709067112,1.3338803194915425,0.16950998713838028,0.4858789788510932,0.24110923216718624,1.9734967149972131,0.6219676407877484,0.07216010818714264,0.34036775803353736,0.3567623257427925,1.804130564330238,-0.4737804697504568,0.8695343627683411,-0.006651033966893561,-0.11901735621976775,-0.7789256367705151,1.0165590301846146,0.9673266086320613,1.3137958888935721,0.36431032413354375,1.0861186090802795,-0.5726383103479533,-0.1849084907144906,-0.44175252280494004,0.9311539502453478,0.019643606477361283,-0.7791451371204415,-1.2443704323676485,1.105468883927629,0.6262128820712691,0.5687334826194494,-0.9707670383730175,-1.1585829210383136,-1.9045091938104632,-0.16042897577663945,0.6024331394633871,-1.6103613623712325,-0.8494704182172462,-0.9019684366085758,-1.8460626219175116,0.9263616990924344,-0.08112674148248719,0.9925241445851437,-1.850684056918012,1.2555877550144339,1.0695245173103791,-0.09686194616054787,-0.9948039975413361,1.4853596684487107,-0.42393031979417733,-0.32579590265781827,-0.38559679609455516,-0.811761939096358,-0.15304642689703257,-1.0276461159200796,1.0986671255402287,0.5756542873871213,-0.5089669029678521,0.6667525593133969,0.4005815962155018,-1.2073886458765648,-0.42237563008840584,-0.5497516070594975,0.44406995134671673,-0.1946653293506403,0.3843043086821584,-0.8135642169019233,0.25627669360680666,-0.09427557436239774,0.35951103527697625,0.27612998716883735],\"xaxis\":\"x2\",\"y\":[-0.21379038518686702,-0.2881234631694882,1.687031818981887,-1.0596805811366479,0.7056676453490747,-0.4928626434402184,0.33850678897844294,-1.1365532012393156,2.22191453283817,-1.3620857175620513,0.36896946879329245,0.4221536206989755,0.7281899107947287,-1.2377215311367844,-0.183857315020409,1.3878751024535392,-2.080665743096919,-1.644286250149681,0.6294408878087343,0.05543719194135943,0.38834850232706086,1.2385439904392541,0.7616814777089003,0.8100604469178284,-1.7357899124307927,0.5857940744331279,1.0852758495254575,-0.11451233355760886,-0.24564066981188823,0.5006503012279303,0.5497048414245632,2.7014575844254614,-0.28998640157069633,-0.13092688042405312,-1.0299743551366851,1.54532700344482,0.34570948137873997,0.03885334864587458,1.1495393347403176,1.2978444015505215,-0.15445587968137264,-0.9263861080879959,0.5069877878414278,-0.769378432702959,0.7899966811807752,-0.08734253876202357,-1.1407746455308567,-0.6168329084831372,0.20420394854844057,0.49021555757100205,-0.8019838933435394,-0.32006526913236216,-0.6739698696991888,-1.3362987248492733,-2.164522947216624,0.4584620676832864,0.6388705433591992,-0.48759310113111154,-0.4719391278616287,-1.4620591867932493,-0.18449217672530127,0.9439585270731953,0.4083408634321457,-0.988046557778806,0.16985453583959337,-1.438367478015253,-1.4100586880513233,-3.283065964351943,-1.8373487018263062,0.6488219286367138,0.28681820553897286,-0.7388386037590581,-0.5556428204242388,0.10030613571566298,1.5958673135642134,-0.1966594175392532,-0.9481083918396167,-1.5561738064875823,-0.6626995687127948,1.45914060730763,0.16378886187091027,1.0029633116313403,-0.58101803188326,0.09260704461129005,0.06351215987658128,-0.4144809318389637,0.8353564916883307,3.041369189044577,-0.8265909477797487,0.891030887375596,1.6581945064521428,-1.4545588655614945,0.9539117184819081,-0.15726287638775388,0.5002980790781194,-0.0004703239994698021,-1.133054159083484,-0.6238091479318407,-0.6549182319149431,-0.7418217369776801],\"yaxis\":\"y2\",\"type\":\"scatter\"},{\"line\":{\"color\":\"rgba(128, 128, 128, 1.0)\",\"dash\":\"solid\",\"shape\":\"linear\",\"width\":1.3},\"marker\":{\"size\":2,\"symbol\":\"circle\"},\"mode\":\"markers\",\"name\":\"A\",\"text\":\"\",\"x\":[-0.10691782983046799,3.213836439897871,1.2978082789858894,-0.2132013525646534,-0.9040138874289834,0.2731855557952521,0.5069523872609897,0.670617736198417,-1.1743232586293297,0.8169069115658851,-0.9381661918713972,-0.11743599563896334,0.030574307381110662,0.9992368794011388,-1.1342817466024522,-1.4747415330443328,0.21566441103743766,0.5079266331393273,-0.5358732115778295,1.261339082566491,-2.1300452650189987,-0.995411213994776,1.9767921069853125,-0.3908938441178726,-0.25478638039418544,0.10390697649010927,-0.9503449147906309,0.9875722221567064,1.670549649547061,0.7035151206648657,0.9184323065189156,0.29770891586312104,0.6506557683455222,0.17053643176001723,0.6804438931044237,0.4932723214902657,1.2347891992445115,-0.3978565793074171,-1.5496430282812044,-1.8543687365114545,0.408182424198848,-0.4402301420762824,0.6842267494964466,-0.6622453208822038,0.5810889637042475,1.9147818661373415,0.4516539777254524,1.3709926943774824,0.9281354908429335,0.020204498068766168,-0.9561170722569972,-0.5179923255194684,0.47545633040082713,-1.017902345044926,0.6898993582818461,-0.12915471787438948,-0.3835149194244746,0.5612838956527909,0.54850587615578,2.0261455642496786,-0.027886581173396575,0.5548739587380417,1.924949773021305,-0.15397819153408687,-0.9759536918595715,-0.4600445383349833,1.5313101024682811,0.6015086060815795,0.49704216723255523,2.3589012264613722,-1.9031159441549437,0.3380015510445511,1.7556826732171869,0.8529256832086678,0.20633060655570418,-0.006909374509238595,0.6296199138820421,0.551666873902677,-0.006526424574607722,1.54746310955499,-1.5505731511062761,-1.076355721825828,0.24578050070296467,0.1633771476926186,1.281234682815011,-0.5813099626740817,-0.5518020320284768,0.14517427814953116,0.6983537069770014,0.9668480592497467,-2.3412922624431345,-0.49306061459438527,-0.701546685677908,0.07657938731609544,0.935369411346959,0.4734696027899289,-0.26402742260355355,2.3391538612873934,0.3893064307437836,-0.8043557448996405],\"xaxis\":\"x3\",\"y\":[-0.21379038518686702,-0.2881234631694882,1.687031818981887,-1.0596805811366479,0.7056676453490747,-0.4928626434402184,0.33850678897844294,-1.1365532012393156,2.22191453283817,-1.3620857175620513,0.36896946879329245,0.4221536206989755,0.7281899107947287,-1.2377215311367844,-0.183857315020409,1.3878751024535392,-2.080665743096919,-1.644286250149681,0.6294408878087343,0.05543719194135943,0.38834850232706086,1.2385439904392541,0.7616814777089003,0.8100604469178284,-1.7357899124307927,0.5857940744331279,1.0852758495254575,-0.11451233355760886,-0.24564066981188823,0.5006503012279303,0.5497048414245632,2.7014575844254614,-0.28998640157069633,-0.13092688042405312,-1.0299743551366851,1.54532700344482,0.34570948137873997,0.03885334864587458,1.1495393347403176,1.2978444015505215,-0.15445587968137264,-0.9263861080879959,0.5069877878414278,-0.769378432702959,0.7899966811807752,-0.08734253876202357,-1.1407746455308567,-0.6168329084831372,0.20420394854844057,0.49021555757100205,-0.8019838933435394,-0.32006526913236216,-0.6739698696991888,-1.3362987248492733,-2.164522947216624,0.4584620676832864,0.6388705433591992,-0.48759310113111154,-0.4719391278616287,-1.4620591867932493,-0.18449217672530127,0.9439585270731953,0.4083408634321457,-0.988046557778806,0.16985453583959337,-1.438367478015253,-1.4100586880513233,-3.283065964351943,-1.8373487018263062,0.6488219286367138,0.28681820553897286,-0.7388386037590581,-0.5556428204242388,0.10030613571566298,1.5958673135642134,-0.1966594175392532,-0.9481083918396167,-1.5561738064875823,-0.6626995687127948,1.45914060730763,0.16378886187091027,1.0029633116313403,-0.58101803188326,0.09260704461129005,0.06351215987658128,-0.4144809318389637,0.8353564916883307,3.041369189044577,-0.8265909477797487,0.891030887375596,1.6581945064521428,-1.4545588655614945,0.9539117184819081,-0.15726287638775388,0.5002980790781194,-0.0004703239994698021,-1.133054159083484,-0.6238091479318407,-0.6549182319149431,-0.7418217369776801],\"yaxis\":\"y3\",\"type\":\"scatter\"},{\"line\":{\"color\":\"rgba(128, 128, 128, 1.0)\",\"dash\":\"solid\",\"shape\":\"linear\",\"width\":1.3},\"marker\":{\"size\":2,\"symbol\":\"circle\"},\"mode\":\"markers\",\"name\":\"A\",\"text\":\"\",\"x\":[1.3553549360142652,-1.1240629400486926,-0.5396325265939028,-0.8922731485912241,1.9740825797260029,1.4335969468595193,0.8378377603067806,-1.3755932827022783,1.5807523225249667,-1.3660631719105356,0.24790658011434308,0.72437974484164,-1.2301547485526418,1.4353900554789392,0.9647790417481343,-1.5124768271563436,-1.1744931171213997,-2.0005167156998023,-1.2853003556657685,-0.7242855341362265,1.0717369190304742,1.403436298657791,0.34718712336454977,-0.7382611909665026,1.287880377123517,0.45288293740440927,1.856253152669832,0.06044462654630291,-0.35899502155411894,0.6229255957407726,-1.0193120035718861,2.088829859563428,-0.2694806539381207,-1.1089107610511553,-1.554626500748827,0.13415464697007337,-0.9514024414600591,-1.703723398682606,0.5041395184642052,0.9182165009161256,-0.16175008699604418,0.7298086959702409,-1.7307711250064093,0.40133463732840047,-0.8315507359619237,0.22298205696938378,1.6027609055014562,0.630966863989992,1.3850867427226057,0.7488458383350989,0.5084258928294056,-0.17680915051756851,1.0922068913444805,1.1327299453261297,0.4196930971235217,-1.4601343934416078,-0.24832971144271526,0.0687004743713472,-0.2540444755751119,-1.6773241014528344,-0.35990393608504223,-0.6596716005978259,3.152981796335251,1.2345979144558863,0.426875789986511,-0.6108533270888533,-0.2440924861901595,-1.2337060019712072,0.2323690666974735,0.5313598624883571,-0.06812014249606121,1.544918719379879,0.5730618501766528,-0.64535258341819,-0.30685957172527745,0.7369314973583256,0.354542752701916,-0.26174334657150145,-0.30638465671797666,0.5783975067642048,0.7890785878016994,0.9571204412458787,-0.6299453993479587,-1.3449081494177275,1.5843173761593803,0.44991751120347606,-0.11496213960656726,-0.6452187231854206,1.3834847920554316,0.5081137776847046,1.1232685815029115,-0.9840267395496939,0.25851966301842133,0.6173146759605749,-0.7328735241100314,0.6961936363738751,-2.1436809279718636,1.7285813499972267,-0.5187557435286976,-0.39462456759511333],\"xaxis\":\"x4\",\"y\":[-0.21379038518686702,-0.2881234631694882,1.687031818981887,-1.0596805811366479,0.7056676453490747,-0.4928626434402184,0.33850678897844294,-1.1365532012393156,2.22191453283817,-1.3620857175620513,0.36896946879329245,0.4221536206989755,0.7281899107947287,-1.2377215311367844,-0.183857315020409,1.3878751024535392,-2.080665743096919,-1.644286250149681,0.6294408878087343,0.05543719194135943,0.38834850232706086,1.2385439904392541,0.7616814777089003,0.8100604469178284,-1.7357899124307927,0.5857940744331279,1.0852758495254575,-0.11451233355760886,-0.24564066981188823,0.5006503012279303,0.5497048414245632,2.7014575844254614,-0.28998640157069633,-0.13092688042405312,-1.0299743551366851,1.54532700344482,0.34570948137873997,0.03885334864587458,1.1495393347403176,1.2978444015505215,-0.15445587968137264,-0.9263861080879959,0.5069877878414278,-0.769378432702959,0.7899966811807752,-0.08734253876202357,-1.1407746455308567,-0.6168329084831372,0.20420394854844057,0.49021555757100205,-0.8019838933435394,-0.32006526913236216,-0.6739698696991888,-1.3362987248492733,-2.164522947216624,0.4584620676832864,0.6388705433591992,-0.48759310113111154,-0.4719391278616287,-1.4620591867932493,-0.18449217672530127,0.9439585270731953,0.4083408634321457,-0.988046557778806,0.16985453583959337,-1.438367478015253,-1.4100586880513233,-3.283065964351943,-1.8373487018263062,0.6488219286367138,0.28681820553897286,-0.7388386037590581,-0.5556428204242388,0.10030613571566298,1.5958673135642134,-0.1966594175392532,-0.9481083918396167,-1.5561738064875823,-0.6626995687127948,1.45914060730763,0.16378886187091027,1.0029633116313403,-0.58101803188326,0.09260704461129005,0.06351215987658128,-0.4144809318389637,0.8353564916883307,3.041369189044577,-0.8265909477797487,0.891030887375596,1.6581945064521428,-1.4545588655614945,0.9539117184819081,-0.15726287638775388,0.5002980790781194,-0.0004703239994698021,-1.133054159083484,-0.6238091479318407,-0.6549182319149431,-0.7418217369776801],\"yaxis\":\"y4\",\"type\":\"scatter\"},{\"line\":{\"color\":\"rgba(128, 128, 128, 1.0)\",\"dash\":\"solid\",\"shape\":\"linear\",\"width\":1.3},\"marker\":{\"size\":2,\"symbol\":\"circle\"},\"mode\":\"markers\",\"name\":\"B\",\"text\":\"\",\"x\":[-0.21379038518686702,-0.2881234631694882,1.687031818981887,-1.0596805811366479,0.7056676453490747,-0.4928626434402184,0.33850678897844294,-1.1365532012393156,2.22191453283817,-1.3620857175620513,0.36896946879329245,0.4221536206989755,0.7281899107947287,-1.2377215311367844,-0.183857315020409,1.3878751024535392,-2.080665743096919,-1.644286250149681,0.6294408878087343,0.05543719194135943,0.38834850232706086,1.2385439904392541,0.7616814777089003,0.8100604469178284,-1.7357899124307927,0.5857940744331279,1.0852758495254575,-0.11451233355760886,-0.24564066981188823,0.5006503012279303,0.5497048414245632,2.7014575844254614,-0.28998640157069633,-0.13092688042405312,-1.0299743551366851,1.54532700344482,0.34570948137873997,0.03885334864587458,1.1495393347403176,1.2978444015505215,-0.15445587968137264,-0.9263861080879959,0.5069877878414278,-0.769378432702959,0.7899966811807752,-0.08734253876202357,-1.1407746455308567,-0.6168329084831372,0.20420394854844057,0.49021555757100205,-0.8019838933435394,-0.32006526913236216,-0.6739698696991888,-1.3362987248492733,-2.164522947216624,0.4584620676832864,0.6388705433591992,-0.48759310113111154,-0.4719391278616287,-1.4620591867932493,-0.18449217672530127,0.9439585270731953,0.4083408634321457,-0.988046557778806,0.16985453583959337,-1.438367478015253,-1.4100586880513233,-3.283065964351943,-1.8373487018263062,0.6488219286367138,0.28681820553897286,-0.7388386037590581,-0.5556428204242388,0.10030613571566298,1.5958673135642134,-0.1966594175392532,-0.9481083918396167,-1.5561738064875823,-0.6626995687127948,1.45914060730763,0.16378886187091027,1.0029633116313403,-0.58101803188326,0.09260704461129005,0.06351215987658128,-0.4144809318389637,0.8353564916883307,3.041369189044577,-0.8265909477797487,0.891030887375596,1.6581945064521428,-1.4545588655614945,0.9539117184819081,-0.15726287638775388,0.5002980790781194,-0.0004703239994698021,-1.133054159083484,-0.6238091479318407,-0.6549182319149431,-0.7418217369776801],\"xaxis\":\"x5\",\"y\":[0.15034521125234812,-0.5987186933728933,-0.6454634726357826,-0.6154832554047287,-0.769946615156794,-0.46191050231649566,0.05418022249124648,0.24197012189315253,1.3704318070389399,-1.115033967499207,-1.2561117558758135,-0.5752846426550058,-0.9310407812666132,-2.1313187338220825,-0.5258905353326198,-0.16921425212822583,-1.3402012277342281,0.8022221150923157,0.049028277142209815,2.0690285587876134,0.5901836499759278,0.5396360288585632,-0.9593170791098355,0.4703911795691247,-0.4088123868488733,-1.326522270762869,-0.4084516440752073,-0.21319177515630341,2.307192586560415,1.0279567709067112,1.3338803194915425,0.16950998713838028,0.4858789788510932,0.24110923216718624,1.9734967149972131,0.6219676407877484,0.07216010818714264,0.34036775803353736,0.3567623257427925,1.804130564330238,-0.4737804697504568,0.8695343627683411,-0.006651033966893561,-0.11901735621976775,-0.7789256367705151,1.0165590301846146,0.9673266086320613,1.3137958888935721,0.36431032413354375,1.0861186090802795,-0.5726383103479533,-0.1849084907144906,-0.44175252280494004,0.9311539502453478,0.019643606477361283,-0.7791451371204415,-1.2443704323676485,1.105468883927629,0.6262128820712691,0.5687334826194494,-0.9707670383730175,-1.1585829210383136,-1.9045091938104632,-0.16042897577663945,0.6024331394633871,-1.6103613623712325,-0.8494704182172462,-0.9019684366085758,-1.8460626219175116,0.9263616990924344,-0.08112674148248719,0.9925241445851437,-1.850684056918012,1.2555877550144339,1.0695245173103791,-0.09686194616054787,-0.9948039975413361,1.4853596684487107,-0.42393031979417733,-0.32579590265781827,-0.38559679609455516,-0.811761939096358,-0.15304642689703257,-1.0276461159200796,1.0986671255402287,0.5756542873871213,-0.5089669029678521,0.6667525593133969,0.4005815962155018,-1.2073886458765648,-0.42237563008840584,-0.5497516070594975,0.44406995134671673,-0.1946653293506403,0.3843043086821584,-0.8135642169019233,0.25627669360680666,-0.09427557436239774,0.35951103527697625,0.27612998716883735],\"yaxis\":\"y5\",\"type\":\"scatter\"},{\"histfunc\":\"count\",\"histnorm\":\"\",\"marker\":{\"color\":\"rgba(55, 128, 191, 1.0)\",\"line\":{\"color\":\"#4D5663\",\"width\":1.3}},\"name\":\"B\",\"nbinsx\":10,\"opacity\":0.8,\"orientation\":\"v\",\"x\":[0.15034521125234812,-0.5987186933728933,-0.6454634726357826,-0.6154832554047287,-0.769946615156794,-0.46191050231649566,0.05418022249124648,0.24197012189315253,1.3704318070389399,-1.115033967499207,-1.2561117558758135,-0.5752846426550058,-0.9310407812666132,-2.1313187338220825,-0.5258905353326198,-0.16921425212822583,-1.3402012277342281,0.8022221150923157,0.049028277142209815,2.0690285587876134,0.5901836499759278,0.5396360288585632,-0.9593170791098355,0.4703911795691247,-0.4088123868488733,-1.326522270762869,-0.4084516440752073,-0.21319177515630341,2.307192586560415,1.0279567709067112,1.3338803194915425,0.16950998713838028,0.4858789788510932,0.24110923216718624,1.9734967149972131,0.6219676407877484,0.07216010818714264,0.34036775803353736,0.3567623257427925,1.804130564330238,-0.4737804697504568,0.8695343627683411,-0.006651033966893561,-0.11901735621976775,-0.7789256367705151,1.0165590301846146,0.9673266086320613,1.3137958888935721,0.36431032413354375,1.0861186090802795,-0.5726383103479533,-0.1849084907144906,-0.44175252280494004,0.9311539502453478,0.019643606477361283,-0.7791451371204415,-1.2443704323676485,1.105468883927629,0.6262128820712691,0.5687334826194494,-0.9707670383730175,-1.1585829210383136,-1.9045091938104632,-0.16042897577663945,0.6024331394633871,-1.6103613623712325,-0.8494704182172462,-0.9019684366085758,-1.8460626219175116,0.9263616990924344,-0.08112674148248719,0.9925241445851437,-1.850684056918012,1.2555877550144339,1.0695245173103791,-0.09686194616054787,-0.9948039975413361,1.4853596684487107,-0.42393031979417733,-0.32579590265781827,-0.38559679609455516,-0.811761939096358,-0.15304642689703257,-1.0276461159200796,1.0986671255402287,0.5756542873871213,-0.5089669029678521,0.6667525593133969,0.4005815962155018,-1.2073886458765648,-0.42237563008840584,-0.5497516070594975,0.44406995134671673,-0.1946653293506403,0.3843043086821584,-0.8135642169019233,0.25627669360680666,-0.09427557436239774,0.35951103527697625,0.27612998716883735],\"xaxis\":\"x6\",\"yaxis\":\"y6\",\"type\":\"histogram\"},{\"line\":{\"color\":\"rgba(128, 128, 128, 1.0)\",\"dash\":\"solid\",\"shape\":\"linear\",\"width\":1.3},\"marker\":{\"size\":2,\"symbol\":\"circle\"},\"mode\":\"markers\",\"name\":\"B\",\"text\":\"\",\"x\":[-0.10691782983046799,3.213836439897871,1.2978082789858894,-0.2132013525646534,-0.9040138874289834,0.2731855557952521,0.5069523872609897,0.670617736198417,-1.1743232586293297,0.8169069115658851,-0.9381661918713972,-0.11743599563896334,0.030574307381110662,0.9992368794011388,-1.1342817466024522,-1.4747415330443328,0.21566441103743766,0.5079266331393273,-0.5358732115778295,1.261339082566491,-2.1300452650189987,-0.995411213994776,1.9767921069853125,-0.3908938441178726,-0.25478638039418544,0.10390697649010927,-0.9503449147906309,0.9875722221567064,1.670549649547061,0.7035151206648657,0.9184323065189156,0.29770891586312104,0.6506557683455222,0.17053643176001723,0.6804438931044237,0.4932723214902657,1.2347891992445115,-0.3978565793074171,-1.5496430282812044,-1.8543687365114545,0.408182424198848,-0.4402301420762824,0.6842267494964466,-0.6622453208822038,0.5810889637042475,1.9147818661373415,0.4516539777254524,1.3709926943774824,0.9281354908429335,0.020204498068766168,-0.9561170722569972,-0.5179923255194684,0.47545633040082713,-1.017902345044926,0.6898993582818461,-0.12915471787438948,-0.3835149194244746,0.5612838956527909,0.54850587615578,2.0261455642496786,-0.027886581173396575,0.5548739587380417,1.924949773021305,-0.15397819153408687,-0.9759536918595715,-0.4600445383349833,1.5313101024682811,0.6015086060815795,0.49704216723255523,2.3589012264613722,-1.9031159441549437,0.3380015510445511,1.7556826732171869,0.8529256832086678,0.20633060655570418,-0.006909374509238595,0.6296199138820421,0.551666873902677,-0.006526424574607722,1.54746310955499,-1.5505731511062761,-1.076355721825828,0.24578050070296467,0.1633771476926186,1.281234682815011,-0.5813099626740817,-0.5518020320284768,0.14517427814953116,0.6983537069770014,0.9668480592497467,-2.3412922624431345,-0.49306061459438527,-0.701546685677908,0.07657938731609544,0.935369411346959,0.4734696027899289,-0.26402742260355355,2.3391538612873934,0.3893064307437836,-0.8043557448996405],\"xaxis\":\"x7\",\"y\":[0.15034521125234812,-0.5987186933728933,-0.6454634726357826,-0.6154832554047287,-0.769946615156794,-0.46191050231649566,0.05418022249124648,0.24197012189315253,1.3704318070389399,-1.115033967499207,-1.2561117558758135,-0.5752846426550058,-0.9310407812666132,-2.1313187338220825,-0.5258905353326198,-0.16921425212822583,-1.3402012277342281,0.8022221150923157,0.049028277142209815,2.0690285587876134,0.5901836499759278,0.5396360288585632,-0.9593170791098355,0.4703911795691247,-0.4088123868488733,-1.326522270762869,-0.4084516440752073,-0.21319177515630341,2.307192586560415,1.0279567709067112,1.3338803194915425,0.16950998713838028,0.4858789788510932,0.24110923216718624,1.9734967149972131,0.6219676407877484,0.07216010818714264,0.34036775803353736,0.3567623257427925,1.804130564330238,-0.4737804697504568,0.8695343627683411,-0.006651033966893561,-0.11901735621976775,-0.7789256367705151,1.0165590301846146,0.9673266086320613,1.3137958888935721,0.36431032413354375,1.0861186090802795,-0.5726383103479533,-0.1849084907144906,-0.44175252280494004,0.9311539502453478,0.019643606477361283,-0.7791451371204415,-1.2443704323676485,1.105468883927629,0.6262128820712691,0.5687334826194494,-0.9707670383730175,-1.1585829210383136,-1.9045091938104632,-0.16042897577663945,0.6024331394633871,-1.6103613623712325,-0.8494704182172462,-0.9019684366085758,-1.8460626219175116,0.9263616990924344,-0.08112674148248719,0.9925241445851437,-1.850684056918012,1.2555877550144339,1.0695245173103791,-0.09686194616054787,-0.9948039975413361,1.4853596684487107,-0.42393031979417733,-0.32579590265781827,-0.38559679609455516,-0.811761939096358,-0.15304642689703257,-1.0276461159200796,1.0986671255402287,0.5756542873871213,-0.5089669029678521,0.6667525593133969,0.4005815962155018,-1.2073886458765648,-0.42237563008840584,-0.5497516070594975,0.44406995134671673,-0.1946653293506403,0.3843043086821584,-0.8135642169019233,0.25627669360680666,-0.09427557436239774,0.35951103527697625,0.27612998716883735],\"yaxis\":\"y7\",\"type\":\"scatter\"},{\"line\":{\"color\":\"rgba(128, 128, 128, 1.0)\",\"dash\":\"solid\",\"shape\":\"linear\",\"width\":1.3},\"marker\":{\"size\":2,\"symbol\":\"circle\"},\"mode\":\"markers\",\"name\":\"B\",\"text\":\"\",\"x\":[1.3553549360142652,-1.1240629400486926,-0.5396325265939028,-0.8922731485912241,1.9740825797260029,1.4335969468595193,0.8378377603067806,-1.3755932827022783,1.5807523225249667,-1.3660631719105356,0.24790658011434308,0.72437974484164,-1.2301547485526418,1.4353900554789392,0.9647790417481343,-1.5124768271563436,-1.1744931171213997,-2.0005167156998023,-1.2853003556657685,-0.7242855341362265,1.0717369190304742,1.403436298657791,0.34718712336454977,-0.7382611909665026,1.287880377123517,0.45288293740440927,1.856253152669832,0.06044462654630291,-0.35899502155411894,0.6229255957407726,-1.0193120035718861,2.088829859563428,-0.2694806539381207,-1.1089107610511553,-1.554626500748827,0.13415464697007337,-0.9514024414600591,-1.703723398682606,0.5041395184642052,0.9182165009161256,-0.16175008699604418,0.7298086959702409,-1.7307711250064093,0.40133463732840047,-0.8315507359619237,0.22298205696938378,1.6027609055014562,0.630966863989992,1.3850867427226057,0.7488458383350989,0.5084258928294056,-0.17680915051756851,1.0922068913444805,1.1327299453261297,0.4196930971235217,-1.4601343934416078,-0.24832971144271526,0.0687004743713472,-0.2540444755751119,-1.6773241014528344,-0.35990393608504223,-0.6596716005978259,3.152981796335251,1.2345979144558863,0.426875789986511,-0.6108533270888533,-0.2440924861901595,-1.2337060019712072,0.2323690666974735,0.5313598624883571,-0.06812014249606121,1.544918719379879,0.5730618501766528,-0.64535258341819,-0.30685957172527745,0.7369314973583256,0.354542752701916,-0.26174334657150145,-0.30638465671797666,0.5783975067642048,0.7890785878016994,0.9571204412458787,-0.6299453993479587,-1.3449081494177275,1.5843173761593803,0.44991751120347606,-0.11496213960656726,-0.6452187231854206,1.3834847920554316,0.5081137776847046,1.1232685815029115,-0.9840267395496939,0.25851966301842133,0.6173146759605749,-0.7328735241100314,0.6961936363738751,-2.1436809279718636,1.7285813499972267,-0.5187557435286976,-0.39462456759511333],\"xaxis\":\"x8\",\"y\":[0.15034521125234812,-0.5987186933728933,-0.6454634726357826,-0.6154832554047287,-0.769946615156794,-0.46191050231649566,0.05418022249124648,0.24197012189315253,1.3704318070389399,-1.115033967499207,-1.2561117558758135,-0.5752846426550058,-0.9310407812666132,-2.1313187338220825,-0.5258905353326198,-0.16921425212822583,-1.3402012277342281,0.8022221150923157,0.049028277142209815,2.0690285587876134,0.5901836499759278,0.5396360288585632,-0.9593170791098355,0.4703911795691247,-0.4088123868488733,-1.326522270762869,-0.4084516440752073,-0.21319177515630341,2.307192586560415,1.0279567709067112,1.3338803194915425,0.16950998713838028,0.4858789788510932,0.24110923216718624,1.9734967149972131,0.6219676407877484,0.07216010818714264,0.34036775803353736,0.3567623257427925,1.804130564330238,-0.4737804697504568,0.8695343627683411,-0.006651033966893561,-0.11901735621976775,-0.7789256367705151,1.0165590301846146,0.9673266086320613,1.3137958888935721,0.36431032413354375,1.0861186090802795,-0.5726383103479533,-0.1849084907144906,-0.44175252280494004,0.9311539502453478,0.019643606477361283,-0.7791451371204415,-1.2443704323676485,1.105468883927629,0.6262128820712691,0.5687334826194494,-0.9707670383730175,-1.1585829210383136,-1.9045091938104632,-0.16042897577663945,0.6024331394633871,-1.6103613623712325,-0.8494704182172462,-0.9019684366085758,-1.8460626219175116,0.9263616990924344,-0.08112674148248719,0.9925241445851437,-1.850684056918012,1.2555877550144339,1.0695245173103791,-0.09686194616054787,-0.9948039975413361,1.4853596684487107,-0.42393031979417733,-0.32579590265781827,-0.38559679609455516,-0.811761939096358,-0.15304642689703257,-1.0276461159200796,1.0986671255402287,0.5756542873871213,-0.5089669029678521,0.6667525593133969,0.4005815962155018,-1.2073886458765648,-0.42237563008840584,-0.5497516070594975,0.44406995134671673,-0.1946653293506403,0.3843043086821584,-0.8135642169019233,0.25627669360680666,-0.09427557436239774,0.35951103527697625,0.27612998716883735],\"yaxis\":\"y8\",\"type\":\"scatter\"},{\"line\":{\"color\":\"rgba(128, 128, 128, 1.0)\",\"dash\":\"solid\",\"shape\":\"linear\",\"width\":1.3},\"marker\":{\"size\":2,\"symbol\":\"circle\"},\"mode\":\"markers\",\"name\":\"C\",\"text\":\"\",\"x\":[-0.21379038518686702,-0.2881234631694882,1.687031818981887,-1.0596805811366479,0.7056676453490747,-0.4928626434402184,0.33850678897844294,-1.1365532012393156,2.22191453283817,-1.3620857175620513,0.36896946879329245,0.4221536206989755,0.7281899107947287,-1.2377215311367844,-0.183857315020409,1.3878751024535392,-2.080665743096919,-1.644286250149681,0.6294408878087343,0.05543719194135943,0.38834850232706086,1.2385439904392541,0.7616814777089003,0.8100604469178284,-1.7357899124307927,0.5857940744331279,1.0852758495254575,-0.11451233355760886,-0.24564066981188823,0.5006503012279303,0.5497048414245632,2.7014575844254614,-0.28998640157069633,-0.13092688042405312,-1.0299743551366851,1.54532700344482,0.34570948137873997,0.03885334864587458,1.1495393347403176,1.2978444015505215,-0.15445587968137264,-0.9263861080879959,0.5069877878414278,-0.769378432702959,0.7899966811807752,-0.08734253876202357,-1.1407746455308567,-0.6168329084831372,0.20420394854844057,0.49021555757100205,-0.8019838933435394,-0.32006526913236216,-0.6739698696991888,-1.3362987248492733,-2.164522947216624,0.4584620676832864,0.6388705433591992,-0.48759310113111154,-0.4719391278616287,-1.4620591867932493,-0.18449217672530127,0.9439585270731953,0.4083408634321457,-0.988046557778806,0.16985453583959337,-1.438367478015253,-1.4100586880513233,-3.283065964351943,-1.8373487018263062,0.6488219286367138,0.28681820553897286,-0.7388386037590581,-0.5556428204242388,0.10030613571566298,1.5958673135642134,-0.1966594175392532,-0.9481083918396167,-1.5561738064875823,-0.6626995687127948,1.45914060730763,0.16378886187091027,1.0029633116313403,-0.58101803188326,0.09260704461129005,0.06351215987658128,-0.4144809318389637,0.8353564916883307,3.041369189044577,-0.8265909477797487,0.891030887375596,1.6581945064521428,-1.4545588655614945,0.9539117184819081,-0.15726287638775388,0.5002980790781194,-0.0004703239994698021,-1.133054159083484,-0.6238091479318407,-0.6549182319149431,-0.7418217369776801],\"xaxis\":\"x9\",\"y\":[-0.10691782983046799,3.213836439897871,1.2978082789858894,-0.2132013525646534,-0.9040138874289834,0.2731855557952521,0.5069523872609897,0.670617736198417,-1.1743232586293297,0.8169069115658851,-0.9381661918713972,-0.11743599563896334,0.030574307381110662,0.9992368794011388,-1.1342817466024522,-1.4747415330443328,0.21566441103743766,0.5079266331393273,-0.5358732115778295,1.261339082566491,-2.1300452650189987,-0.995411213994776,1.9767921069853125,-0.3908938441178726,-0.25478638039418544,0.10390697649010927,-0.9503449147906309,0.9875722221567064,1.670549649547061,0.7035151206648657,0.9184323065189156,0.29770891586312104,0.6506557683455222,0.17053643176001723,0.6804438931044237,0.4932723214902657,1.2347891992445115,-0.3978565793074171,-1.5496430282812044,-1.8543687365114545,0.408182424198848,-0.4402301420762824,0.6842267494964466,-0.6622453208822038,0.5810889637042475,1.9147818661373415,0.4516539777254524,1.3709926943774824,0.9281354908429335,0.020204498068766168,-0.9561170722569972,-0.5179923255194684,0.47545633040082713,-1.017902345044926,0.6898993582818461,-0.12915471787438948,-0.3835149194244746,0.5612838956527909,0.54850587615578,2.0261455642496786,-0.027886581173396575,0.5548739587380417,1.924949773021305,-0.15397819153408687,-0.9759536918595715,-0.4600445383349833,1.5313101024682811,0.6015086060815795,0.49704216723255523,2.3589012264613722,-1.9031159441549437,0.3380015510445511,1.7556826732171869,0.8529256832086678,0.20633060655570418,-0.006909374509238595,0.6296199138820421,0.551666873902677,-0.006526424574607722,1.54746310955499,-1.5505731511062761,-1.076355721825828,0.24578050070296467,0.1633771476926186,1.281234682815011,-0.5813099626740817,-0.5518020320284768,0.14517427814953116,0.6983537069770014,0.9668480592497467,-2.3412922624431345,-0.49306061459438527,-0.701546685677908,0.07657938731609544,0.935369411346959,0.4734696027899289,-0.26402742260355355,2.3391538612873934,0.3893064307437836,-0.8043557448996405],\"yaxis\":\"y9\",\"type\":\"scatter\"},{\"line\":{\"color\":\"rgba(128, 128, 128, 1.0)\",\"dash\":\"solid\",\"shape\":\"linear\",\"width\":1.3},\"marker\":{\"size\":2,\"symbol\":\"circle\"},\"mode\":\"markers\",\"name\":\"C\",\"text\":\"\",\"x\":[0.15034521125234812,-0.5987186933728933,-0.6454634726357826,-0.6154832554047287,-0.769946615156794,-0.46191050231649566,0.05418022249124648,0.24197012189315253,1.3704318070389399,-1.115033967499207,-1.2561117558758135,-0.5752846426550058,-0.9310407812666132,-2.1313187338220825,-0.5258905353326198,-0.16921425212822583,-1.3402012277342281,0.8022221150923157,0.049028277142209815,2.0690285587876134,0.5901836499759278,0.5396360288585632,-0.9593170791098355,0.4703911795691247,-0.4088123868488733,-1.326522270762869,-0.4084516440752073,-0.21319177515630341,2.307192586560415,1.0279567709067112,1.3338803194915425,0.16950998713838028,0.4858789788510932,0.24110923216718624,1.9734967149972131,0.6219676407877484,0.07216010818714264,0.34036775803353736,0.3567623257427925,1.804130564330238,-0.4737804697504568,0.8695343627683411,-0.006651033966893561,-0.11901735621976775,-0.7789256367705151,1.0165590301846146,0.9673266086320613,1.3137958888935721,0.36431032413354375,1.0861186090802795,-0.5726383103479533,-0.1849084907144906,-0.44175252280494004,0.9311539502453478,0.019643606477361283,-0.7791451371204415,-1.2443704323676485,1.105468883927629,0.6262128820712691,0.5687334826194494,-0.9707670383730175,-1.1585829210383136,-1.9045091938104632,-0.16042897577663945,0.6024331394633871,-1.6103613623712325,-0.8494704182172462,-0.9019684366085758,-1.8460626219175116,0.9263616990924344,-0.08112674148248719,0.9925241445851437,-1.850684056918012,1.2555877550144339,1.0695245173103791,-0.09686194616054787,-0.9948039975413361,1.4853596684487107,-0.42393031979417733,-0.32579590265781827,-0.38559679609455516,-0.811761939096358,-0.15304642689703257,-1.0276461159200796,1.0986671255402287,0.5756542873871213,-0.5089669029678521,0.6667525593133969,0.4005815962155018,-1.2073886458765648,-0.42237563008840584,-0.5497516070594975,0.44406995134671673,-0.1946653293506403,0.3843043086821584,-0.8135642169019233,0.25627669360680666,-0.09427557436239774,0.35951103527697625,0.27612998716883735],\"xaxis\":\"x10\",\"y\":[-0.10691782983046799,3.213836439897871,1.2978082789858894,-0.2132013525646534,-0.9040138874289834,0.2731855557952521,0.5069523872609897,0.670617736198417,-1.1743232586293297,0.8169069115658851,-0.9381661918713972,-0.11743599563896334,0.030574307381110662,0.9992368794011388,-1.1342817466024522,-1.4747415330443328,0.21566441103743766,0.5079266331393273,-0.5358732115778295,1.261339082566491,-2.1300452650189987,-0.995411213994776,1.9767921069853125,-0.3908938441178726,-0.25478638039418544,0.10390697649010927,-0.9503449147906309,0.9875722221567064,1.670549649547061,0.7035151206648657,0.9184323065189156,0.29770891586312104,0.6506557683455222,0.17053643176001723,0.6804438931044237,0.4932723214902657,1.2347891992445115,-0.3978565793074171,-1.5496430282812044,-1.8543687365114545,0.408182424198848,-0.4402301420762824,0.6842267494964466,-0.6622453208822038,0.5810889637042475,1.9147818661373415,0.4516539777254524,1.3709926943774824,0.9281354908429335,0.020204498068766168,-0.9561170722569972,-0.5179923255194684,0.47545633040082713,-1.017902345044926,0.6898993582818461,-0.12915471787438948,-0.3835149194244746,0.5612838956527909,0.54850587615578,2.0261455642496786,-0.027886581173396575,0.5548739587380417,1.924949773021305,-0.15397819153408687,-0.9759536918595715,-0.4600445383349833,1.5313101024682811,0.6015086060815795,0.49704216723255523,2.3589012264613722,-1.9031159441549437,0.3380015510445511,1.7556826732171869,0.8529256832086678,0.20633060655570418,-0.006909374509238595,0.6296199138820421,0.551666873902677,-0.006526424574607722,1.54746310955499,-1.5505731511062761,-1.076355721825828,0.24578050070296467,0.1633771476926186,1.281234682815011,-0.5813099626740817,-0.5518020320284768,0.14517427814953116,0.6983537069770014,0.9668480592497467,-2.3412922624431345,-0.49306061459438527,-0.701546685677908,0.07657938731609544,0.935369411346959,0.4734696027899289,-0.26402742260355355,2.3391538612873934,0.3893064307437836,-0.8043557448996405],\"yaxis\":\"y10\",\"type\":\"scatter\"},{\"histfunc\":\"count\",\"histnorm\":\"\",\"marker\":{\"color\":\"rgba(50, 171, 96, 1.0)\",\"line\":{\"color\":\"#4D5663\",\"width\":1.3}},\"name\":\"C\",\"nbinsx\":10,\"opacity\":0.8,\"orientation\":\"v\",\"x\":[-0.10691782983046799,3.213836439897871,1.2978082789858894,-0.2132013525646534,-0.9040138874289834,0.2731855557952521,0.5069523872609897,0.670617736198417,-1.1743232586293297,0.8169069115658851,-0.9381661918713972,-0.11743599563896334,0.030574307381110662,0.9992368794011388,-1.1342817466024522,-1.4747415330443328,0.21566441103743766,0.5079266331393273,-0.5358732115778295,1.261339082566491,-2.1300452650189987,-0.995411213994776,1.9767921069853125,-0.3908938441178726,-0.25478638039418544,0.10390697649010927,-0.9503449147906309,0.9875722221567064,1.670549649547061,0.7035151206648657,0.9184323065189156,0.29770891586312104,0.6506557683455222,0.17053643176001723,0.6804438931044237,0.4932723214902657,1.2347891992445115,-0.3978565793074171,-1.5496430282812044,-1.8543687365114545,0.408182424198848,-0.4402301420762824,0.6842267494964466,-0.6622453208822038,0.5810889637042475,1.9147818661373415,0.4516539777254524,1.3709926943774824,0.9281354908429335,0.020204498068766168,-0.9561170722569972,-0.5179923255194684,0.47545633040082713,-1.017902345044926,0.6898993582818461,-0.12915471787438948,-0.3835149194244746,0.5612838956527909,0.54850587615578,2.0261455642496786,-0.027886581173396575,0.5548739587380417,1.924949773021305,-0.15397819153408687,-0.9759536918595715,-0.4600445383349833,1.5313101024682811,0.6015086060815795,0.49704216723255523,2.3589012264613722,-1.9031159441549437,0.3380015510445511,1.7556826732171869,0.8529256832086678,0.20633060655570418,-0.006909374509238595,0.6296199138820421,0.551666873902677,-0.006526424574607722,1.54746310955499,-1.5505731511062761,-1.076355721825828,0.24578050070296467,0.1633771476926186,1.281234682815011,-0.5813099626740817,-0.5518020320284768,0.14517427814953116,0.6983537069770014,0.9668480592497467,-2.3412922624431345,-0.49306061459438527,-0.701546685677908,0.07657938731609544,0.935369411346959,0.4734696027899289,-0.26402742260355355,2.3391538612873934,0.3893064307437836,-0.8043557448996405],\"xaxis\":\"x11\",\"yaxis\":\"y11\",\"type\":\"histogram\"},{\"line\":{\"color\":\"rgba(128, 128, 128, 1.0)\",\"dash\":\"solid\",\"shape\":\"linear\",\"width\":1.3},\"marker\":{\"size\":2,\"symbol\":\"circle\"},\"mode\":\"markers\",\"name\":\"C\",\"text\":\"\",\"x\":[1.3553549360142652,-1.1240629400486926,-0.5396325265939028,-0.8922731485912241,1.9740825797260029,1.4335969468595193,0.8378377603067806,-1.3755932827022783,1.5807523225249667,-1.3660631719105356,0.24790658011434308,0.72437974484164,-1.2301547485526418,1.4353900554789392,0.9647790417481343,-1.5124768271563436,-1.1744931171213997,-2.0005167156998023,-1.2853003556657685,-0.7242855341362265,1.0717369190304742,1.403436298657791,0.34718712336454977,-0.7382611909665026,1.287880377123517,0.45288293740440927,1.856253152669832,0.06044462654630291,-0.35899502155411894,0.6229255957407726,-1.0193120035718861,2.088829859563428,-0.2694806539381207,-1.1089107610511553,-1.554626500748827,0.13415464697007337,-0.9514024414600591,-1.703723398682606,0.5041395184642052,0.9182165009161256,-0.16175008699604418,0.7298086959702409,-1.7307711250064093,0.40133463732840047,-0.8315507359619237,0.22298205696938378,1.6027609055014562,0.630966863989992,1.3850867427226057,0.7488458383350989,0.5084258928294056,-0.17680915051756851,1.0922068913444805,1.1327299453261297,0.4196930971235217,-1.4601343934416078,-0.24832971144271526,0.0687004743713472,-0.2540444755751119,-1.6773241014528344,-0.35990393608504223,-0.6596716005978259,3.152981796335251,1.2345979144558863,0.426875789986511,-0.6108533270888533,-0.2440924861901595,-1.2337060019712072,0.2323690666974735,0.5313598624883571,-0.06812014249606121,1.544918719379879,0.5730618501766528,-0.64535258341819,-0.30685957172527745,0.7369314973583256,0.354542752701916,-0.26174334657150145,-0.30638465671797666,0.5783975067642048,0.7890785878016994,0.9571204412458787,-0.6299453993479587,-1.3449081494177275,1.5843173761593803,0.44991751120347606,-0.11496213960656726,-0.6452187231854206,1.3834847920554316,0.5081137776847046,1.1232685815029115,-0.9840267395496939,0.25851966301842133,0.6173146759605749,-0.7328735241100314,0.6961936363738751,-2.1436809279718636,1.7285813499972267,-0.5187557435286976,-0.39462456759511333],\"xaxis\":\"x12\",\"y\":[-0.10691782983046799,3.213836439897871,1.2978082789858894,-0.2132013525646534,-0.9040138874289834,0.2731855557952521,0.5069523872609897,0.670617736198417,-1.1743232586293297,0.8169069115658851,-0.9381661918713972,-0.11743599563896334,0.030574307381110662,0.9992368794011388,-1.1342817466024522,-1.4747415330443328,0.21566441103743766,0.5079266331393273,-0.5358732115778295,1.261339082566491,-2.1300452650189987,-0.995411213994776,1.9767921069853125,-0.3908938441178726,-0.25478638039418544,0.10390697649010927,-0.9503449147906309,0.9875722221567064,1.670549649547061,0.7035151206648657,0.9184323065189156,0.29770891586312104,0.6506557683455222,0.17053643176001723,0.6804438931044237,0.4932723214902657,1.2347891992445115,-0.3978565793074171,-1.5496430282812044,-1.8543687365114545,0.408182424198848,-0.4402301420762824,0.6842267494964466,-0.6622453208822038,0.5810889637042475,1.9147818661373415,0.4516539777254524,1.3709926943774824,0.9281354908429335,0.020204498068766168,-0.9561170722569972,-0.5179923255194684,0.47545633040082713,-1.017902345044926,0.6898993582818461,-0.12915471787438948,-0.3835149194244746,0.5612838956527909,0.54850587615578,2.0261455642496786,-0.027886581173396575,0.5548739587380417,1.924949773021305,-0.15397819153408687,-0.9759536918595715,-0.4600445383349833,1.5313101024682811,0.6015086060815795,0.49704216723255523,2.3589012264613722,-1.9031159441549437,0.3380015510445511,1.7556826732171869,0.8529256832086678,0.20633060655570418,-0.006909374509238595,0.6296199138820421,0.551666873902677,-0.006526424574607722,1.54746310955499,-1.5505731511062761,-1.076355721825828,0.24578050070296467,0.1633771476926186,1.281234682815011,-0.5813099626740817,-0.5518020320284768,0.14517427814953116,0.6983537069770014,0.9668480592497467,-2.3412922624431345,-0.49306061459438527,-0.701546685677908,0.07657938731609544,0.935369411346959,0.4734696027899289,-0.26402742260355355,2.3391538612873934,0.3893064307437836,-0.8043557448996405],\"yaxis\":\"y12\",\"type\":\"scatter\"},{\"line\":{\"color\":\"rgba(128, 128, 128, 1.0)\",\"dash\":\"solid\",\"shape\":\"linear\",\"width\":1.3},\"marker\":{\"size\":2,\"symbol\":\"circle\"},\"mode\":\"markers\",\"name\":\"D\",\"text\":\"\",\"x\":[-0.21379038518686702,-0.2881234631694882,1.687031818981887,-1.0596805811366479,0.7056676453490747,-0.4928626434402184,0.33850678897844294,-1.1365532012393156,2.22191453283817,-1.3620857175620513,0.36896946879329245,0.4221536206989755,0.7281899107947287,-1.2377215311367844,-0.183857315020409,1.3878751024535392,-2.080665743096919,-1.644286250149681,0.6294408878087343,0.05543719194135943,0.38834850232706086,1.2385439904392541,0.7616814777089003,0.8100604469178284,-1.7357899124307927,0.5857940744331279,1.0852758495254575,-0.11451233355760886,-0.24564066981188823,0.5006503012279303,0.5497048414245632,2.7014575844254614,-0.28998640157069633,-0.13092688042405312,-1.0299743551366851,1.54532700344482,0.34570948137873997,0.03885334864587458,1.1495393347403176,1.2978444015505215,-0.15445587968137264,-0.9263861080879959,0.5069877878414278,-0.769378432702959,0.7899966811807752,-0.08734253876202357,-1.1407746455308567,-0.6168329084831372,0.20420394854844057,0.49021555757100205,-0.8019838933435394,-0.32006526913236216,-0.6739698696991888,-1.3362987248492733,-2.164522947216624,0.4584620676832864,0.6388705433591992,-0.48759310113111154,-0.4719391278616287,-1.4620591867932493,-0.18449217672530127,0.9439585270731953,0.4083408634321457,-0.988046557778806,0.16985453583959337,-1.438367478015253,-1.4100586880513233,-3.283065964351943,-1.8373487018263062,0.6488219286367138,0.28681820553897286,-0.7388386037590581,-0.5556428204242388,0.10030613571566298,1.5958673135642134,-0.1966594175392532,-0.9481083918396167,-1.5561738064875823,-0.6626995687127948,1.45914060730763,0.16378886187091027,1.0029633116313403,-0.58101803188326,0.09260704461129005,0.06351215987658128,-0.4144809318389637,0.8353564916883307,3.041369189044577,-0.8265909477797487,0.891030887375596,1.6581945064521428,-1.4545588655614945,0.9539117184819081,-0.15726287638775388,0.5002980790781194,-0.0004703239994698021,-1.133054159083484,-0.6238091479318407,-0.6549182319149431,-0.7418217369776801],\"xaxis\":\"x13\",\"y\":[1.3553549360142652,-1.1240629400486926,-0.5396325265939028,-0.8922731485912241,1.9740825797260029,1.4335969468595193,0.8378377603067806,-1.3755932827022783,1.5807523225249667,-1.3660631719105356,0.24790658011434308,0.72437974484164,-1.2301547485526418,1.4353900554789392,0.9647790417481343,-1.5124768271563436,-1.1744931171213997,-2.0005167156998023,-1.2853003556657685,-0.7242855341362265,1.0717369190304742,1.403436298657791,0.34718712336454977,-0.7382611909665026,1.287880377123517,0.45288293740440927,1.856253152669832,0.06044462654630291,-0.35899502155411894,0.6229255957407726,-1.0193120035718861,2.088829859563428,-0.2694806539381207,-1.1089107610511553,-1.554626500748827,0.13415464697007337,-0.9514024414600591,-1.703723398682606,0.5041395184642052,0.9182165009161256,-0.16175008699604418,0.7298086959702409,-1.7307711250064093,0.40133463732840047,-0.8315507359619237,0.22298205696938378,1.6027609055014562,0.630966863989992,1.3850867427226057,0.7488458383350989,0.5084258928294056,-0.17680915051756851,1.0922068913444805,1.1327299453261297,0.4196930971235217,-1.4601343934416078,-0.24832971144271526,0.0687004743713472,-0.2540444755751119,-1.6773241014528344,-0.35990393608504223,-0.6596716005978259,3.152981796335251,1.2345979144558863,0.426875789986511,-0.6108533270888533,-0.2440924861901595,-1.2337060019712072,0.2323690666974735,0.5313598624883571,-0.06812014249606121,1.544918719379879,0.5730618501766528,-0.64535258341819,-0.30685957172527745,0.7369314973583256,0.354542752701916,-0.26174334657150145,-0.30638465671797666,0.5783975067642048,0.7890785878016994,0.9571204412458787,-0.6299453993479587,-1.3449081494177275,1.5843173761593803,0.44991751120347606,-0.11496213960656726,-0.6452187231854206,1.3834847920554316,0.5081137776847046,1.1232685815029115,-0.9840267395496939,0.25851966301842133,0.6173146759605749,-0.7328735241100314,0.6961936363738751,-2.1436809279718636,1.7285813499972267,-0.5187557435286976,-0.39462456759511333],\"yaxis\":\"y13\",\"type\":\"scatter\"},{\"line\":{\"color\":\"rgba(128, 128, 128, 1.0)\",\"dash\":\"solid\",\"shape\":\"linear\",\"width\":1.3},\"marker\":{\"size\":2,\"symbol\":\"circle\"},\"mode\":\"markers\",\"name\":\"D\",\"text\":\"\",\"x\":[0.15034521125234812,-0.5987186933728933,-0.6454634726357826,-0.6154832554047287,-0.769946615156794,-0.46191050231649566,0.05418022249124648,0.24197012189315253,1.3704318070389399,-1.115033967499207,-1.2561117558758135,-0.5752846426550058,-0.9310407812666132,-2.1313187338220825,-0.5258905353326198,-0.16921425212822583,-1.3402012277342281,0.8022221150923157,0.049028277142209815,2.0690285587876134,0.5901836499759278,0.5396360288585632,-0.9593170791098355,0.4703911795691247,-0.4088123868488733,-1.326522270762869,-0.4084516440752073,-0.21319177515630341,2.307192586560415,1.0279567709067112,1.3338803194915425,0.16950998713838028,0.4858789788510932,0.24110923216718624,1.9734967149972131,0.6219676407877484,0.07216010818714264,0.34036775803353736,0.3567623257427925,1.804130564330238,-0.4737804697504568,0.8695343627683411,-0.006651033966893561,-0.11901735621976775,-0.7789256367705151,1.0165590301846146,0.9673266086320613,1.3137958888935721,0.36431032413354375,1.0861186090802795,-0.5726383103479533,-0.1849084907144906,-0.44175252280494004,0.9311539502453478,0.019643606477361283,-0.7791451371204415,-1.2443704323676485,1.105468883927629,0.6262128820712691,0.5687334826194494,-0.9707670383730175,-1.1585829210383136,-1.9045091938104632,-0.16042897577663945,0.6024331394633871,-1.6103613623712325,-0.8494704182172462,-0.9019684366085758,-1.8460626219175116,0.9263616990924344,-0.08112674148248719,0.9925241445851437,-1.850684056918012,1.2555877550144339,1.0695245173103791,-0.09686194616054787,-0.9948039975413361,1.4853596684487107,-0.42393031979417733,-0.32579590265781827,-0.38559679609455516,-0.811761939096358,-0.15304642689703257,-1.0276461159200796,1.0986671255402287,0.5756542873871213,-0.5089669029678521,0.6667525593133969,0.4005815962155018,-1.2073886458765648,-0.42237563008840584,-0.5497516070594975,0.44406995134671673,-0.1946653293506403,0.3843043086821584,-0.8135642169019233,0.25627669360680666,-0.09427557436239774,0.35951103527697625,0.27612998716883735],\"xaxis\":\"x14\",\"y\":[1.3553549360142652,-1.1240629400486926,-0.5396325265939028,-0.8922731485912241,1.9740825797260029,1.4335969468595193,0.8378377603067806,-1.3755932827022783,1.5807523225249667,-1.3660631719105356,0.24790658011434308,0.72437974484164,-1.2301547485526418,1.4353900554789392,0.9647790417481343,-1.5124768271563436,-1.1744931171213997,-2.0005167156998023,-1.2853003556657685,-0.7242855341362265,1.0717369190304742,1.403436298657791,0.34718712336454977,-0.7382611909665026,1.287880377123517,0.45288293740440927,1.856253152669832,0.06044462654630291,-0.35899502155411894,0.6229255957407726,-1.0193120035718861,2.088829859563428,-0.2694806539381207,-1.1089107610511553,-1.554626500748827,0.13415464697007337,-0.9514024414600591,-1.703723398682606,0.5041395184642052,0.9182165009161256,-0.16175008699604418,0.7298086959702409,-1.7307711250064093,0.40133463732840047,-0.8315507359619237,0.22298205696938378,1.6027609055014562,0.630966863989992,1.3850867427226057,0.7488458383350989,0.5084258928294056,-0.17680915051756851,1.0922068913444805,1.1327299453261297,0.4196930971235217,-1.4601343934416078,-0.24832971144271526,0.0687004743713472,-0.2540444755751119,-1.6773241014528344,-0.35990393608504223,-0.6596716005978259,3.152981796335251,1.2345979144558863,0.426875789986511,-0.6108533270888533,-0.2440924861901595,-1.2337060019712072,0.2323690666974735,0.5313598624883571,-0.06812014249606121,1.544918719379879,0.5730618501766528,-0.64535258341819,-0.30685957172527745,0.7369314973583256,0.354542752701916,-0.26174334657150145,-0.30638465671797666,0.5783975067642048,0.7890785878016994,0.9571204412458787,-0.6299453993479587,-1.3449081494177275,1.5843173761593803,0.44991751120347606,-0.11496213960656726,-0.6452187231854206,1.3834847920554316,0.5081137776847046,1.1232685815029115,-0.9840267395496939,0.25851966301842133,0.6173146759605749,-0.7328735241100314,0.6961936363738751,-2.1436809279718636,1.7285813499972267,-0.5187557435286976,-0.39462456759511333],\"yaxis\":\"y14\",\"type\":\"scatter\"},{\"line\":{\"color\":\"rgba(128, 128, 128, 1.0)\",\"dash\":\"solid\",\"shape\":\"linear\",\"width\":1.3},\"marker\":{\"size\":2,\"symbol\":\"circle\"},\"mode\":\"markers\",\"name\":\"D\",\"text\":\"\",\"x\":[-0.10691782983046799,3.213836439897871,1.2978082789858894,-0.2132013525646534,-0.9040138874289834,0.2731855557952521,0.5069523872609897,0.670617736198417,-1.1743232586293297,0.8169069115658851,-0.9381661918713972,-0.11743599563896334,0.030574307381110662,0.9992368794011388,-1.1342817466024522,-1.4747415330443328,0.21566441103743766,0.5079266331393273,-0.5358732115778295,1.261339082566491,-2.1300452650189987,-0.995411213994776,1.9767921069853125,-0.3908938441178726,-0.25478638039418544,0.10390697649010927,-0.9503449147906309,0.9875722221567064,1.670549649547061,0.7035151206648657,0.9184323065189156,0.29770891586312104,0.6506557683455222,0.17053643176001723,0.6804438931044237,0.4932723214902657,1.2347891992445115,-0.3978565793074171,-1.5496430282812044,-1.8543687365114545,0.408182424198848,-0.4402301420762824,0.6842267494964466,-0.6622453208822038,0.5810889637042475,1.9147818661373415,0.4516539777254524,1.3709926943774824,0.9281354908429335,0.020204498068766168,-0.9561170722569972,-0.5179923255194684,0.47545633040082713,-1.017902345044926,0.6898993582818461,-0.12915471787438948,-0.3835149194244746,0.5612838956527909,0.54850587615578,2.0261455642496786,-0.027886581173396575,0.5548739587380417,1.924949773021305,-0.15397819153408687,-0.9759536918595715,-0.4600445383349833,1.5313101024682811,0.6015086060815795,0.49704216723255523,2.3589012264613722,-1.9031159441549437,0.3380015510445511,1.7556826732171869,0.8529256832086678,0.20633060655570418,-0.006909374509238595,0.6296199138820421,0.551666873902677,-0.006526424574607722,1.54746310955499,-1.5505731511062761,-1.076355721825828,0.24578050070296467,0.1633771476926186,1.281234682815011,-0.5813099626740817,-0.5518020320284768,0.14517427814953116,0.6983537069770014,0.9668480592497467,-2.3412922624431345,-0.49306061459438527,-0.701546685677908,0.07657938731609544,0.935369411346959,0.4734696027899289,-0.26402742260355355,2.3391538612873934,0.3893064307437836,-0.8043557448996405],\"xaxis\":\"x15\",\"y\":[1.3553549360142652,-1.1240629400486926,-0.5396325265939028,-0.8922731485912241,1.9740825797260029,1.4335969468595193,0.8378377603067806,-1.3755932827022783,1.5807523225249667,-1.3660631719105356,0.24790658011434308,0.72437974484164,-1.2301547485526418,1.4353900554789392,0.9647790417481343,-1.5124768271563436,-1.1744931171213997,-2.0005167156998023,-1.2853003556657685,-0.7242855341362265,1.0717369190304742,1.403436298657791,0.34718712336454977,-0.7382611909665026,1.287880377123517,0.45288293740440927,1.856253152669832,0.06044462654630291,-0.35899502155411894,0.6229255957407726,-1.0193120035718861,2.088829859563428,-0.2694806539381207,-1.1089107610511553,-1.554626500748827,0.13415464697007337,-0.9514024414600591,-1.703723398682606,0.5041395184642052,0.9182165009161256,-0.16175008699604418,0.7298086959702409,-1.7307711250064093,0.40133463732840047,-0.8315507359619237,0.22298205696938378,1.6027609055014562,0.630966863989992,1.3850867427226057,0.7488458383350989,0.5084258928294056,-0.17680915051756851,1.0922068913444805,1.1327299453261297,0.4196930971235217,-1.4601343934416078,-0.24832971144271526,0.0687004743713472,-0.2540444755751119,-1.6773241014528344,-0.35990393608504223,-0.6596716005978259,3.152981796335251,1.2345979144558863,0.426875789986511,-0.6108533270888533,-0.2440924861901595,-1.2337060019712072,0.2323690666974735,0.5313598624883571,-0.06812014249606121,1.544918719379879,0.5730618501766528,-0.64535258341819,-0.30685957172527745,0.7369314973583256,0.354542752701916,-0.26174334657150145,-0.30638465671797666,0.5783975067642048,0.7890785878016994,0.9571204412458787,-0.6299453993479587,-1.3449081494177275,1.5843173761593803,0.44991751120347606,-0.11496213960656726,-0.6452187231854206,1.3834847920554316,0.5081137776847046,1.1232685815029115,-0.9840267395496939,0.25851966301842133,0.6173146759605749,-0.7328735241100314,0.6961936363738751,-2.1436809279718636,1.7285813499972267,-0.5187557435286976,-0.39462456759511333],\"yaxis\":\"y15\",\"type\":\"scatter\"},{\"histfunc\":\"count\",\"histnorm\":\"\",\"marker\":{\"color\":\"rgba(128, 0, 128, 1.0)\",\"line\":{\"color\":\"#4D5663\",\"width\":1.3}},\"name\":\"D\",\"nbinsx\":10,\"opacity\":0.8,\"orientation\":\"v\",\"x\":[1.3553549360142652,-1.1240629400486926,-0.5396325265939028,-0.8922731485912241,1.9740825797260029,1.4335969468595193,0.8378377603067806,-1.3755932827022783,1.5807523225249667,-1.3660631719105356,0.24790658011434308,0.72437974484164,-1.2301547485526418,1.4353900554789392,0.9647790417481343,-1.5124768271563436,-1.1744931171213997,-2.0005167156998023,-1.2853003556657685,-0.7242855341362265,1.0717369190304742,1.403436298657791,0.34718712336454977,-0.7382611909665026,1.287880377123517,0.45288293740440927,1.856253152669832,0.06044462654630291,-0.35899502155411894,0.6229255957407726,-1.0193120035718861,2.088829859563428,-0.2694806539381207,-1.1089107610511553,-1.554626500748827,0.13415464697007337,-0.9514024414600591,-1.703723398682606,0.5041395184642052,0.9182165009161256,-0.16175008699604418,0.7298086959702409,-1.7307711250064093,0.40133463732840047,-0.8315507359619237,0.22298205696938378,1.6027609055014562,0.630966863989992,1.3850867427226057,0.7488458383350989,0.5084258928294056,-0.17680915051756851,1.0922068913444805,1.1327299453261297,0.4196930971235217,-1.4601343934416078,-0.24832971144271526,0.0687004743713472,-0.2540444755751119,-1.6773241014528344,-0.35990393608504223,-0.6596716005978259,3.152981796335251,1.2345979144558863,0.426875789986511,-0.6108533270888533,-0.2440924861901595,-1.2337060019712072,0.2323690666974735,0.5313598624883571,-0.06812014249606121,1.544918719379879,0.5730618501766528,-0.64535258341819,-0.30685957172527745,0.7369314973583256,0.354542752701916,-0.26174334657150145,-0.30638465671797666,0.5783975067642048,0.7890785878016994,0.9571204412458787,-0.6299453993479587,-1.3449081494177275,1.5843173761593803,0.44991751120347606,-0.11496213960656726,-0.6452187231854206,1.3834847920554316,0.5081137776847046,1.1232685815029115,-0.9840267395496939,0.25851966301842133,0.6173146759605749,-0.7328735241100314,0.6961936363738751,-2.1436809279718636,1.7285813499972267,-0.5187557435286976,-0.39462456759511333],\"xaxis\":\"x16\",\"yaxis\":\"y16\",\"type\":\"histogram\"}],                        {\"bargap\":0.02,\"legend\":{\"bgcolor\":\"#F5F6F9\",\"font\":{\"color\":\"#4D5663\"}},\"paper_bgcolor\":\"#F5F6F9\",\"plot_bgcolor\":\"#F5F6F9\",\"showlegend\":false,\"template\":{\"data\":{\"barpolar\":[{\"marker\":{\"line\":{\"color\":\"#E5ECF6\",\"width\":0.5},\"pattern\":{\"fillmode\":\"overlay\",\"size\":10,\"solidity\":0.2}},\"type\":\"barpolar\"}],\"bar\":[{\"error_x\":{\"color\":\"#2a3f5f\"},\"error_y\":{\"color\":\"#2a3f5f\"},\"marker\":{\"line\":{\"color\":\"#E5ECF6\",\"width\":0.5},\"pattern\":{\"fillmode\":\"overlay\",\"size\":10,\"solidity\":0.2}},\"type\":\"bar\"}],\"carpet\":[{\"aaxis\":{\"endlinecolor\":\"#2a3f5f\",\"gridcolor\":\"white\",\"linecolor\":\"white\",\"minorgridcolor\":\"white\",\"startlinecolor\":\"#2a3f5f\"},\"baxis\":{\"endlinecolor\":\"#2a3f5f\",\"gridcolor\":\"white\",\"linecolor\":\"white\",\"minorgridcolor\":\"white\",\"startlinecolor\":\"#2a3f5f\"},\"type\":\"carpet\"}],\"choropleth\":[{\"colorbar\":{\"outlinewidth\":0,\"ticks\":\"\"},\"type\":\"choropleth\"}],\"contourcarpet\":[{\"colorbar\":{\"outlinewidth\":0,\"ticks\":\"\"},\"type\":\"contourcarpet\"}],\"contour\":[{\"colorbar\":{\"outlinewidth\":0,\"ticks\":\"\"},\"colorscale\":[[0.0,\"#0d0887\"],[0.1111111111111111,\"#46039f\"],[0.2222222222222222,\"#7201a8\"],[0.3333333333333333,\"#9c179e\"],[0.4444444444444444,\"#bd3786\"],[0.5555555555555556,\"#d8576b\"],[0.6666666666666666,\"#ed7953\"],[0.7777777777777778,\"#fb9f3a\"],[0.8888888888888888,\"#fdca26\"],[1.0,\"#f0f921\"]],\"type\":\"contour\"}],\"heatmapgl\":[{\"colorbar\":{\"outlinewidth\":0,\"ticks\":\"\"},\"colorscale\":[[0.0,\"#0d0887\"],[0.1111111111111111,\"#46039f\"],[0.2222222222222222,\"#7201a8\"],[0.3333333333333333,\"#9c179e\"],[0.4444444444444444,\"#bd3786\"],[0.5555555555555556,\"#d8576b\"],[0.6666666666666666,\"#ed7953\"],[0.7777777777777778,\"#fb9f3a\"],[0.8888888888888888,\"#fdca26\"],[1.0,\"#f0f921\"]],\"type\":\"heatmapgl\"}],\"heatmap\":[{\"colorbar\":{\"outlinewidth\":0,\"ticks\":\"\"},\"colorscale\":[[0.0,\"#0d0887\"],[0.1111111111111111,\"#46039f\"],[0.2222222222222222,\"#7201a8\"],[0.3333333333333333,\"#9c179e\"],[0.4444444444444444,\"#bd3786\"],[0.5555555555555556,\"#d8576b\"],[0.6666666666666666,\"#ed7953\"],[0.7777777777777778,\"#fb9f3a\"],[0.8888888888888888,\"#fdca26\"],[1.0,\"#f0f921\"]],\"type\":\"heatmap\"}],\"histogram2dcontour\":[{\"colorbar\":{\"outlinewidth\":0,\"ticks\":\"\"},\"colorscale\":[[0.0,\"#0d0887\"],[0.1111111111111111,\"#46039f\"],[0.2222222222222222,\"#7201a8\"],[0.3333333333333333,\"#9c179e\"],[0.4444444444444444,\"#bd3786\"],[0.5555555555555556,\"#d8576b\"],[0.6666666666666666,\"#ed7953\"],[0.7777777777777778,\"#fb9f3a\"],[0.8888888888888888,\"#fdca26\"],[1.0,\"#f0f921\"]],\"type\":\"histogram2dcontour\"}],\"histogram2d\":[{\"colorbar\":{\"outlinewidth\":0,\"ticks\":\"\"},\"colorscale\":[[0.0,\"#0d0887\"],[0.1111111111111111,\"#46039f\"],[0.2222222222222222,\"#7201a8\"],[0.3333333333333333,\"#9c179e\"],[0.4444444444444444,\"#bd3786\"],[0.5555555555555556,\"#d8576b\"],[0.6666666666666666,\"#ed7953\"],[0.7777777777777778,\"#fb9f3a\"],[0.8888888888888888,\"#fdca26\"],[1.0,\"#f0f921\"]],\"type\":\"histogram2d\"}],\"histogram\":[{\"marker\":{\"pattern\":{\"fillmode\":\"overlay\",\"size\":10,\"solidity\":0.2}},\"type\":\"histogram\"}],\"mesh3d\":[{\"colorbar\":{\"outlinewidth\":0,\"ticks\":\"\"},\"type\":\"mesh3d\"}],\"parcoords\":[{\"line\":{\"colorbar\":{\"outlinewidth\":0,\"ticks\":\"\"}},\"type\":\"parcoords\"}],\"pie\":[{\"automargin\":true,\"type\":\"pie\"}],\"scatter3d\":[{\"line\":{\"colorbar\":{\"outlinewidth\":0,\"ticks\":\"\"}},\"marker\":{\"colorbar\":{\"outlinewidth\":0,\"ticks\":\"\"}},\"type\":\"scatter3d\"}],\"scattercarpet\":[{\"marker\":{\"colorbar\":{\"outlinewidth\":0,\"ticks\":\"\"}},\"type\":\"scattercarpet\"}],\"scattergeo\":[{\"marker\":{\"colorbar\":{\"outlinewidth\":0,\"ticks\":\"\"}},\"type\":\"scattergeo\"}],\"scattergl\":[{\"marker\":{\"colorbar\":{\"outlinewidth\":0,\"ticks\":\"\"}},\"type\":\"scattergl\"}],\"scattermapbox\":[{\"marker\":{\"colorbar\":{\"outlinewidth\":0,\"ticks\":\"\"}},\"type\":\"scattermapbox\"}],\"scatterpolargl\":[{\"marker\":{\"colorbar\":{\"outlinewidth\":0,\"ticks\":\"\"}},\"type\":\"scatterpolargl\"}],\"scatterpolar\":[{\"marker\":{\"colorbar\":{\"outlinewidth\":0,\"ticks\":\"\"}},\"type\":\"scatterpolar\"}],\"scatter\":[{\"fillpattern\":{\"fillmode\":\"overlay\",\"size\":10,\"solidity\":0.2},\"type\":\"scatter\"}],\"scatterternary\":[{\"marker\":{\"colorbar\":{\"outlinewidth\":0,\"ticks\":\"\"}},\"type\":\"scatterternary\"}],\"surface\":[{\"colorbar\":{\"outlinewidth\":0,\"ticks\":\"\"},\"colorscale\":[[0.0,\"#0d0887\"],[0.1111111111111111,\"#46039f\"],[0.2222222222222222,\"#7201a8\"],[0.3333333333333333,\"#9c179e\"],[0.4444444444444444,\"#bd3786\"],[0.5555555555555556,\"#d8576b\"],[0.6666666666666666,\"#ed7953\"],[0.7777777777777778,\"#fb9f3a\"],[0.8888888888888888,\"#fdca26\"],[1.0,\"#f0f921\"]],\"type\":\"surface\"}],\"table\":[{\"cells\":{\"fill\":{\"color\":\"#EBF0F8\"},\"line\":{\"color\":\"white\"}},\"header\":{\"fill\":{\"color\":\"#C8D4E3\"},\"line\":{\"color\":\"white\"}},\"type\":\"table\"}]},\"layout\":{\"annotationdefaults\":{\"arrowcolor\":\"#2a3f5f\",\"arrowhead\":0,\"arrowwidth\":1},\"autotypenumbers\":\"strict\",\"coloraxis\":{\"colorbar\":{\"outlinewidth\":0,\"ticks\":\"\"}},\"colorscale\":{\"diverging\":[[0,\"#8e0152\"],[0.1,\"#c51b7d\"],[0.2,\"#de77ae\"],[0.3,\"#f1b6da\"],[0.4,\"#fde0ef\"],[0.5,\"#f7f7f7\"],[0.6,\"#e6f5d0\"],[0.7,\"#b8e186\"],[0.8,\"#7fbc41\"],[0.9,\"#4d9221\"],[1,\"#276419\"]],\"sequential\":[[0.0,\"#0d0887\"],[0.1111111111111111,\"#46039f\"],[0.2222222222222222,\"#7201a8\"],[0.3333333333333333,\"#9c179e\"],[0.4444444444444444,\"#bd3786\"],[0.5555555555555556,\"#d8576b\"],[0.6666666666666666,\"#ed7953\"],[0.7777777777777778,\"#fb9f3a\"],[0.8888888888888888,\"#fdca26\"],[1.0,\"#f0f921\"]],\"sequentialminus\":[[0.0,\"#0d0887\"],[0.1111111111111111,\"#46039f\"],[0.2222222222222222,\"#7201a8\"],[0.3333333333333333,\"#9c179e\"],[0.4444444444444444,\"#bd3786\"],[0.5555555555555556,\"#d8576b\"],[0.6666666666666666,\"#ed7953\"],[0.7777777777777778,\"#fb9f3a\"],[0.8888888888888888,\"#fdca26\"],[1.0,\"#f0f921\"]]},\"colorway\":[\"#636efa\",\"#EF553B\",\"#00cc96\",\"#ab63fa\",\"#FFA15A\",\"#19d3f3\",\"#FF6692\",\"#B6E880\",\"#FF97FF\",\"#FECB52\"],\"font\":{\"color\":\"#2a3f5f\"},\"geo\":{\"bgcolor\":\"white\",\"lakecolor\":\"white\",\"landcolor\":\"#E5ECF6\",\"showlakes\":true,\"showland\":true,\"subunitcolor\":\"white\"},\"hoverlabel\":{\"align\":\"left\"},\"hovermode\":\"closest\",\"mapbox\":{\"style\":\"light\"},\"paper_bgcolor\":\"white\",\"plot_bgcolor\":\"#E5ECF6\",\"polar\":{\"angularaxis\":{\"gridcolor\":\"white\",\"linecolor\":\"white\",\"ticks\":\"\"},\"bgcolor\":\"#E5ECF6\",\"radialaxis\":{\"gridcolor\":\"white\",\"linecolor\":\"white\",\"ticks\":\"\"}},\"scene\":{\"xaxis\":{\"backgroundcolor\":\"#E5ECF6\",\"gridcolor\":\"white\",\"gridwidth\":2,\"linecolor\":\"white\",\"showbackground\":true,\"ticks\":\"\",\"zerolinecolor\":\"white\"},\"yaxis\":{\"backgroundcolor\":\"#E5ECF6\",\"gridcolor\":\"white\",\"gridwidth\":2,\"linecolor\":\"white\",\"showbackground\":true,\"ticks\":\"\",\"zerolinecolor\":\"white\"},\"zaxis\":{\"backgroundcolor\":\"#E5ECF6\",\"gridcolor\":\"white\",\"gridwidth\":2,\"linecolor\":\"white\",\"showbackground\":true,\"ticks\":\"\",\"zerolinecolor\":\"white\"}},\"shapedefaults\":{\"line\":{\"color\":\"#2a3f5f\"}},\"ternary\":{\"aaxis\":{\"gridcolor\":\"white\",\"linecolor\":\"white\",\"ticks\":\"\"},\"baxis\":{\"gridcolor\":\"white\",\"linecolor\":\"white\",\"ticks\":\"\"},\"bgcolor\":\"#E5ECF6\",\"caxis\":{\"gridcolor\":\"white\",\"linecolor\":\"white\",\"ticks\":\"\"}},\"title\":{\"x\":0.05},\"xaxis\":{\"automargin\":true,\"gridcolor\":\"white\",\"linecolor\":\"white\",\"ticks\":\"\",\"title\":{\"standoff\":15},\"zerolinecolor\":\"white\",\"zerolinewidth\":2},\"yaxis\":{\"automargin\":true,\"gridcolor\":\"white\",\"linecolor\":\"white\",\"ticks\":\"\",\"title\":{\"standoff\":15},\"zerolinecolor\":\"white\",\"zerolinewidth\":2}}},\"title\":{\"font\":{\"color\":\"#4D5663\"}},\"xaxis\":{\"anchor\":\"y\",\"domain\":[0.0,0.2125],\"gridcolor\":\"#E1E5ED\",\"showgrid\":false,\"tickfont\":{\"color\":\"#4D5663\"},\"title\":{\"font\":{\"color\":\"#4D5663\"},\"text\":\"\"},\"zerolinecolor\":\"#E1E5ED\"},\"yaxis\":{\"anchor\":\"x\",\"domain\":[0.8025,1.0],\"gridcolor\":\"#E1E5ED\",\"showgrid\":false,\"tickfont\":{\"color\":\"#4D5663\"},\"title\":{\"font\":{\"color\":\"#4D5663\"},\"text\":\"\"},\"zerolinecolor\":\"#E1E5ED\"},\"xaxis2\":{\"anchor\":\"y2\",\"domain\":[0.2625,0.475],\"gridcolor\":\"#E1E5ED\",\"showgrid\":false,\"tickfont\":{\"color\":\"#4D5663\"},\"title\":{\"font\":{\"color\":\"#4D5663\"},\"text\":\"\"},\"zerolinecolor\":\"#E1E5ED\"},\"yaxis2\":{\"anchor\":\"x2\",\"domain\":[0.8025,1.0],\"gridcolor\":\"#E1E5ED\",\"showgrid\":false,\"tickfont\":{\"color\":\"#4D5663\"},\"title\":{\"font\":{\"color\":\"#4D5663\"},\"text\":\"\"},\"zerolinecolor\":\"#E1E5ED\"},\"xaxis3\":{\"anchor\":\"y3\",\"domain\":[0.525,0.7375],\"gridcolor\":\"#E1E5ED\",\"showgrid\":false,\"tickfont\":{\"color\":\"#4D5663\"},\"title\":{\"font\":{\"color\":\"#4D5663\"},\"text\":\"\"},\"zerolinecolor\":\"#E1E5ED\"},\"yaxis3\":{\"anchor\":\"x3\",\"domain\":[0.8025,1.0],\"gridcolor\":\"#E1E5ED\",\"showgrid\":false,\"tickfont\":{\"color\":\"#4D5663\"},\"title\":{\"font\":{\"color\":\"#4D5663\"},\"text\":\"\"},\"zerolinecolor\":\"#E1E5ED\"},\"xaxis4\":{\"anchor\":\"y4\",\"domain\":[0.7875,1.0],\"gridcolor\":\"#E1E5ED\",\"showgrid\":false,\"tickfont\":{\"color\":\"#4D5663\"},\"title\":{\"font\":{\"color\":\"#4D5663\"},\"text\":\"\"},\"zerolinecolor\":\"#E1E5ED\"},\"yaxis4\":{\"anchor\":\"x4\",\"domain\":[0.8025,1.0],\"gridcolor\":\"#E1E5ED\",\"showgrid\":false,\"tickfont\":{\"color\":\"#4D5663\"},\"title\":{\"font\":{\"color\":\"#4D5663\"},\"text\":\"\"},\"zerolinecolor\":\"#E1E5ED\"},\"xaxis5\":{\"anchor\":\"y5\",\"domain\":[0.0,0.2125],\"gridcolor\":\"#E1E5ED\",\"showgrid\":false,\"tickfont\":{\"color\":\"#4D5663\"},\"title\":{\"font\":{\"color\":\"#4D5663\"},\"text\":\"\"},\"zerolinecolor\":\"#E1E5ED\"},\"yaxis5\":{\"anchor\":\"x5\",\"domain\":[0.535,0.7325],\"gridcolor\":\"#E1E5ED\",\"showgrid\":false,\"tickfont\":{\"color\":\"#4D5663\"},\"title\":{\"font\":{\"color\":\"#4D5663\"},\"text\":\"\"},\"zerolinecolor\":\"#E1E5ED\"},\"xaxis6\":{\"anchor\":\"y6\",\"domain\":[0.2625,0.475],\"gridcolor\":\"#E1E5ED\",\"showgrid\":false,\"tickfont\":{\"color\":\"#4D5663\"},\"title\":{\"font\":{\"color\":\"#4D5663\"},\"text\":\"\"},\"zerolinecolor\":\"#E1E5ED\"},\"yaxis6\":{\"anchor\":\"x6\",\"domain\":[0.535,0.7325],\"gridcolor\":\"#E1E5ED\",\"showgrid\":false,\"tickfont\":{\"color\":\"#4D5663\"},\"title\":{\"font\":{\"color\":\"#4D5663\"},\"text\":\"\"},\"zerolinecolor\":\"#E1E5ED\"},\"xaxis7\":{\"anchor\":\"y7\",\"domain\":[0.525,0.7375],\"gridcolor\":\"#E1E5ED\",\"showgrid\":false,\"tickfont\":{\"color\":\"#4D5663\"},\"title\":{\"font\":{\"color\":\"#4D5663\"},\"text\":\"\"},\"zerolinecolor\":\"#E1E5ED\"},\"yaxis7\":{\"anchor\":\"x7\",\"domain\":[0.535,0.7325],\"gridcolor\":\"#E1E5ED\",\"showgrid\":false,\"tickfont\":{\"color\":\"#4D5663\"},\"title\":{\"font\":{\"color\":\"#4D5663\"},\"text\":\"\"},\"zerolinecolor\":\"#E1E5ED\"},\"xaxis8\":{\"anchor\":\"y8\",\"domain\":[0.7875,1.0],\"gridcolor\":\"#E1E5ED\",\"showgrid\":false,\"tickfont\":{\"color\":\"#4D5663\"},\"title\":{\"font\":{\"color\":\"#4D5663\"},\"text\":\"\"},\"zerolinecolor\":\"#E1E5ED\"},\"yaxis8\":{\"anchor\":\"x8\",\"domain\":[0.535,0.7325],\"gridcolor\":\"#E1E5ED\",\"showgrid\":false,\"tickfont\":{\"color\":\"#4D5663\"},\"title\":{\"font\":{\"color\":\"#4D5663\"},\"text\":\"\"},\"zerolinecolor\":\"#E1E5ED\"},\"xaxis9\":{\"anchor\":\"y9\",\"domain\":[0.0,0.2125],\"gridcolor\":\"#E1E5ED\",\"showgrid\":false,\"tickfont\":{\"color\":\"#4D5663\"},\"title\":{\"font\":{\"color\":\"#4D5663\"},\"text\":\"\"},\"zerolinecolor\":\"#E1E5ED\"},\"yaxis9\":{\"anchor\":\"x9\",\"domain\":[0.2675,0.465],\"gridcolor\":\"#E1E5ED\",\"showgrid\":false,\"tickfont\":{\"color\":\"#4D5663\"},\"title\":{\"font\":{\"color\":\"#4D5663\"},\"text\":\"\"},\"zerolinecolor\":\"#E1E5ED\"},\"xaxis10\":{\"anchor\":\"y10\",\"domain\":[0.2625,0.475],\"gridcolor\":\"#E1E5ED\",\"showgrid\":false,\"tickfont\":{\"color\":\"#4D5663\"},\"title\":{\"font\":{\"color\":\"#4D5663\"},\"text\":\"\"},\"zerolinecolor\":\"#E1E5ED\"},\"yaxis10\":{\"anchor\":\"x10\",\"domain\":[0.2675,0.465],\"gridcolor\":\"#E1E5ED\",\"showgrid\":false,\"tickfont\":{\"color\":\"#4D5663\"},\"title\":{\"font\":{\"color\":\"#4D5663\"},\"text\":\"\"},\"zerolinecolor\":\"#E1E5ED\"},\"xaxis11\":{\"anchor\":\"y11\",\"domain\":[0.525,0.7375],\"gridcolor\":\"#E1E5ED\",\"showgrid\":false,\"tickfont\":{\"color\":\"#4D5663\"},\"title\":{\"font\":{\"color\":\"#4D5663\"},\"text\":\"\"},\"zerolinecolor\":\"#E1E5ED\"},\"yaxis11\":{\"anchor\":\"x11\",\"domain\":[0.2675,0.465],\"gridcolor\":\"#E1E5ED\",\"showgrid\":false,\"tickfont\":{\"color\":\"#4D5663\"},\"title\":{\"font\":{\"color\":\"#4D5663\"},\"text\":\"\"},\"zerolinecolor\":\"#E1E5ED\"},\"xaxis12\":{\"anchor\":\"y12\",\"domain\":[0.7875,1.0],\"gridcolor\":\"#E1E5ED\",\"showgrid\":false,\"tickfont\":{\"color\":\"#4D5663\"},\"title\":{\"font\":{\"color\":\"#4D5663\"},\"text\":\"\"},\"zerolinecolor\":\"#E1E5ED\"},\"yaxis12\":{\"anchor\":\"x12\",\"domain\":[0.2675,0.465],\"gridcolor\":\"#E1E5ED\",\"showgrid\":false,\"tickfont\":{\"color\":\"#4D5663\"},\"title\":{\"font\":{\"color\":\"#4D5663\"},\"text\":\"\"},\"zerolinecolor\":\"#E1E5ED\"},\"xaxis13\":{\"anchor\":\"y13\",\"domain\":[0.0,0.2125],\"gridcolor\":\"#E1E5ED\",\"showgrid\":false,\"tickfont\":{\"color\":\"#4D5663\"},\"title\":{\"font\":{\"color\":\"#4D5663\"},\"text\":\"\"},\"zerolinecolor\":\"#E1E5ED\"},\"yaxis13\":{\"anchor\":\"x13\",\"domain\":[0.0,0.1975],\"gridcolor\":\"#E1E5ED\",\"showgrid\":false,\"tickfont\":{\"color\":\"#4D5663\"},\"title\":{\"font\":{\"color\":\"#4D5663\"},\"text\":\"\"},\"zerolinecolor\":\"#E1E5ED\"},\"xaxis14\":{\"anchor\":\"y14\",\"domain\":[0.2625,0.475],\"gridcolor\":\"#E1E5ED\",\"showgrid\":false,\"tickfont\":{\"color\":\"#4D5663\"},\"title\":{\"font\":{\"color\":\"#4D5663\"},\"text\":\"\"},\"zerolinecolor\":\"#E1E5ED\"},\"yaxis14\":{\"anchor\":\"x14\",\"domain\":[0.0,0.1975],\"gridcolor\":\"#E1E5ED\",\"showgrid\":false,\"tickfont\":{\"color\":\"#4D5663\"},\"title\":{\"font\":{\"color\":\"#4D5663\"},\"text\":\"\"},\"zerolinecolor\":\"#E1E5ED\"},\"xaxis15\":{\"anchor\":\"y15\",\"domain\":[0.525,0.7375],\"gridcolor\":\"#E1E5ED\",\"showgrid\":false,\"tickfont\":{\"color\":\"#4D5663\"},\"title\":{\"font\":{\"color\":\"#4D5663\"},\"text\":\"\"},\"zerolinecolor\":\"#E1E5ED\"},\"yaxis15\":{\"anchor\":\"x15\",\"domain\":[0.0,0.1975],\"gridcolor\":\"#E1E5ED\",\"showgrid\":false,\"tickfont\":{\"color\":\"#4D5663\"},\"title\":{\"font\":{\"color\":\"#4D5663\"},\"text\":\"\"},\"zerolinecolor\":\"#E1E5ED\"},\"xaxis16\":{\"anchor\":\"y16\",\"domain\":[0.7875,1.0],\"gridcolor\":\"#E1E5ED\",\"showgrid\":false,\"tickfont\":{\"color\":\"#4D5663\"},\"title\":{\"font\":{\"color\":\"#4D5663\"},\"text\":\"\"},\"zerolinecolor\":\"#E1E5ED\"},\"yaxis16\":{\"anchor\":\"x16\",\"domain\":[0.0,0.1975],\"gridcolor\":\"#E1E5ED\",\"showgrid\":false,\"tickfont\":{\"color\":\"#4D5663\"},\"title\":{\"font\":{\"color\":\"#4D5663\"},\"text\":\"\"},\"zerolinecolor\":\"#E1E5ED\"}},                        {\"showLink\": true, \"linkText\": \"Export to plot.ly\", \"plotlyServerURL\": \"https://plot.ly\", \"responsive\": true}                    ).then(function(){\n",
       "                            \n",
       "var gd = document.getElementById('2f5343d2-6751-4dc9-b71c-ac12a56c2173');\n",
       "var x = new MutationObserver(function (mutations, observer) {{\n",
       "        var display = window.getComputedStyle(gd).display;\n",
       "        if (!display || display === 'none') {{\n",
       "            console.log([gd, 'removed!']);\n",
       "            Plotly.purge(gd);\n",
       "            observer.disconnect();\n",
       "        }}\n",
       "}});\n",
       "\n",
       "// Listen for the removal of the full notebook cells\n",
       "var notebookContainer = gd.closest('#notebook-container');\n",
       "if (notebookContainer) {{\n",
       "    x.observe(notebookContainer, {childList: true});\n",
       "}}\n",
       "\n",
       "// Listen for the clearing of the current output cell\n",
       "var outputEl = gd.closest('.output');\n",
       "if (outputEl) {{\n",
       "    x.observe(outputEl, {childList: true});\n",
       "}}\n",
       "\n",
       "                        })                };                });            </script>        </div>"
      ]
     },
     "metadata": {},
     "output_type": "display_data"
    }
   ],
   "source": [
    "df.scatter_matrix()"
   ]
  },
  {
   "cell_type": "code",
   "execution_count": null,
   "metadata": {},
   "outputs": [],
   "source": []
  }
 ],
 "metadata": {
  "kernelspec": {
   "display_name": "Python 3",
   "language": "python",
   "name": "python3"
  },
  "language_info": {
   "codemirror_mode": {
    "name": "ipython",
    "version": 3
   },
   "file_extension": ".py",
   "mimetype": "text/x-python",
   "name": "python",
   "nbconvert_exporter": "python",
   "pygments_lexer": "ipython3",
   "version": "3.11.2"
  },
  "orig_nbformat": 4
 },
 "nbformat": 4,
 "nbformat_minor": 2
}
